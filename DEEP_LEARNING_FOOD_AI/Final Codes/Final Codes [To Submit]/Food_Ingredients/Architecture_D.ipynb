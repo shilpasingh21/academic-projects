{
  "nbformat": 4,
  "nbformat_minor": 0,
  "metadata": {
    "colab": {
      "name": "Architecture_D.ipynb",
      "provenance": [],
      "collapsed_sections": [],
      "machine_shape": "hm"
    },
    "kernelspec": {
      "name": "python3",
      "display_name": "Python 3"
    },
    "accelerator": "GPU"
  },
  "cells": [
    {
      "cell_type": "code",
      "metadata": {
        "id": "izVt85AqWrrf",
        "colab_type": "code",
        "colab": {}
      },
      "source": [
        "from google.colab import drive,files"
      ],
      "execution_count": 0,
      "outputs": []
    },
    {
      "cell_type": "code",
      "metadata": {
        "id": "1VJciMi2XuNs",
        "colab_type": "code",
        "outputId": "e5773862-3991-48e7-b4e4-3bcbad8586a3",
        "colab": {
          "base_uri": "https://localhost:8080/",
          "height": 34
        }
      },
      "source": [
        "drive.mount('/content/gdrive')"
      ],
      "execution_count": 2,
      "outputs": [
        {
          "output_type": "stream",
          "text": [
            "Drive already mounted at /content/gdrive; to attempt to forcibly remount, call drive.mount(\"/content/gdrive\", force_remount=True).\n"
          ],
          "name": "stdout"
        }
      ]
    },
    {
      "cell_type": "code",
      "metadata": {
        "id": "yhJdnav-XxBl",
        "colab_type": "code",
        "outputId": "f2fdf911-ad1b-4789-e757-a669c9d0d346",
        "colab": {
          "base_uri": "https://localhost:8080/",
          "height": 80
        }
      },
      "source": [
        "# Imports go here\n",
        "\n",
        "import pickle\n",
        "import numpy as np\n",
        "from keras.utils import plot_model\n",
        "from keras.models import Sequential\n",
        "from keras.models import Model\n",
        "from keras.optimizers import Adam\n",
        "from keras.optimizers import Nadam\n",
        "import matplotlib.pyplot as plt\n",
        "import numpy as np\n",
        "import keras\n",
        "from keras.layers import Dense\n",
        "from keras.layers import Input\n",
        "from keras.layers import Dropout\n",
        "from keras.layers import Flatten\n",
        "from keras.layers import Dense, Activation,BatchNormalization\n",
        "import pandas as pd\n",
        "from keras.layers import Conv2D, MaxPooling2D\n",
        "from keras import backend as K\n",
        "from sklearn.model_selection import GridSearchCV\n",
        "from sklearn.metrics import classification_report\n",
        "import functools"
      ],
      "execution_count": 3,
      "outputs": [
        {
          "output_type": "stream",
          "text": [
            "Using TensorFlow backend.\n"
          ],
          "name": "stderr"
        },
        {
          "output_type": "display_data",
          "data": {
            "text/html": [
              "<p style=\"color: red;\">\n",
              "The default version of TensorFlow in Colab will soon switch to TensorFlow 2.x.<br>\n",
              "We recommend you <a href=\"https://www.tensorflow.org/guide/migrate\" target=\"_blank\">upgrade</a> now \n",
              "or ensure your notebook will continue to use TensorFlow 1.x via the <code>%tensorflow_version 1.x</code> magic:\n",
              "<a href=\"https://colab.research.google.com/notebooks/tensorflow_version.ipynb\" target=\"_blank\">more info</a>.</p>\n"
            ],
            "text/plain": [
              "<IPython.core.display.HTML object>"
            ]
          },
          "metadata": {
            "tags": []
          }
        }
      ]
    },
    {
      "cell_type": "code",
      "metadata": {
        "id": "JztEXs8AX4aq",
        "colab_type": "code",
        "colab": {}
      },
      "source": [
        "# Training,Validation and Test directory paths\n",
        "\n",
        "pickletraindata_X = 'gdrive/My Drive/DL Project/PickleFiles/vgg_features_train_full.pkl'\n",
        "picklevaldata_X = 'gdrive/My Drive/DL Project/PickleFiles/vgg_features_val_full.pkl'\n",
        "pickletestdata_X = 'gdrive/My Drive/DL Project/PickleFiles/vgg_features_test_full.pkl'\n",
        "\n",
        "pickletraindata_Y1 = 'gdrive/My Drive/DL Project/PickleFiles/pickleTrainFull_Y1.pkl'\n",
        "picklevaldata_Y1 = 'gdrive/My Drive/DL Project/PickleFiles/pickleValFull_Y1.pkl'\n",
        "pickletestdata_Y1 = 'gdrive/My Drive/DL Project/PickleFiles/pickleTestFull_Y1.pkl'\n",
        "\n",
        "pickletraindata_Y2 = 'gdrive/My Drive/DL Project/PickleFiles/pickleTrainFull_Y2.pkl'\n",
        "picklevaldata_Y2 = 'gdrive/My Drive/DL Project/PickleFiles/pickleValFull_Y2.pkl'\n",
        "pickletestdata_Y2 = 'gdrive/My Drive/DL Project/PickleFiles/pickleTestFull_Y2.pkl'\n"
      ],
      "execution_count": 0,
      "outputs": []
    },
    {
      "cell_type": "code",
      "metadata": {
        "id": "bDIXrsG0X9Ju",
        "colab_type": "code",
        "outputId": "e6d04058-715d-4faf-dc26-a978a90670ce",
        "colab": {
          "base_uri": "https://localhost:8080/",
          "height": 34
        }
      },
      "source": [
        "# Reading train_X into the session\n",
        "\n",
        "train_X_list = pickle.load(open(pickletraindata_X, 'rb' ))\n",
        "train_X = np.array(train_X_list)\n",
        "train_X=train_X.reshape(len(train_X_list),7,7,512)\n",
        "print(train_X.shape)"
      ],
      "execution_count": 5,
      "outputs": [
        {
          "output_type": "stream",
          "text": [
            "(66071, 7, 7, 512)\n"
          ],
          "name": "stdout"
        }
      ]
    },
    {
      "cell_type": "code",
      "metadata": {
        "id": "HZ3ByL8qYfy0",
        "colab_type": "code",
        "outputId": "98cf8512-5489-4c32-bcb4-9018f50b47e7",
        "colab": {
          "base_uri": "https://localhost:8080/",
          "height": 34
        }
      },
      "source": [
        "# Reading train_Y1 into the session\n",
        "\n",
        "train_Y1_list = pickle.load(open(pickletraindata_Y1, 'rb' ))\n",
        "train_Y1 = np.array(train_Y1_list)\n",
        "print(train_Y1.shape)"
      ],
      "execution_count": 6,
      "outputs": [
        {
          "output_type": "stream",
          "text": [
            "(66071, 172)\n"
          ],
          "name": "stdout"
        }
      ]
    },
    {
      "cell_type": "code",
      "metadata": {
        "id": "cND0UiTpYkKA",
        "colab_type": "code",
        "outputId": "a2136abf-a687-4292-858f-a46327eac4c5",
        "colab": {
          "base_uri": "https://localhost:8080/",
          "height": 34
        }
      },
      "source": [
        "# Reading train_Y2 into the session\n",
        "\n",
        "train_Y2_list = pickle.load(open(pickletraindata_Y2, 'rb' ))\n",
        "train_Y2 = np.array(train_Y2_list)\n",
        "\n",
        "for index in range(train_Y2.shape[0]):\n",
        "  templist = train_Y2[index]\n",
        "  templist_0 = [0 if x==-1 else x for x in templist]\n",
        "  train_Y2[index] = templist_0\n",
        "\n",
        "print(train_Y2.shape)"
      ],
      "execution_count": 7,
      "outputs": [
        {
          "output_type": "stream",
          "text": [
            "(66071, 353)\n"
          ],
          "name": "stdout"
        }
      ]
    },
    {
      "cell_type": "code",
      "metadata": {
        "id": "l1kVFyv4YoH7",
        "colab_type": "code",
        "outputId": "170a702a-0165-4d1f-db53-b50748fa46a7",
        "colab": {
          "base_uri": "https://localhost:8080/",
          "height": 34
        }
      },
      "source": [
        "# Reading validation X into the session\n",
        "\n",
        "val_X_list = pickle.load(open(picklevaldata_X, 'rb' ))\n",
        "val_X = np.array(val_X_list)\n",
        "val_X = val_X.reshape(len(val_X_list),7,7,512)\n",
        "print(val_X.shape)"
      ],
      "execution_count": 8,
      "outputs": [
        {
          "output_type": "stream",
          "text": [
            "(11016, 7, 7, 512)\n"
          ],
          "name": "stdout"
        }
      ]
    },
    {
      "cell_type": "code",
      "metadata": {
        "id": "SYgV0mXdYr4h",
        "colab_type": "code",
        "outputId": "a5ca06ee-c45a-4a62-b38c-5790939379eb",
        "colab": {
          "base_uri": "https://localhost:8080/",
          "height": 34
        }
      },
      "source": [
        "# Reading validation Y1 into the session\n",
        "\n",
        "val_Y1_list = pickle.load(open(picklevaldata_Y1, 'rb' ))\n",
        "val_Y1 = np.array(val_Y1_list)\n",
        "print(val_Y1.shape)"
      ],
      "execution_count": 9,
      "outputs": [
        {
          "output_type": "stream",
          "text": [
            "(11016, 172)\n"
          ],
          "name": "stdout"
        }
      ]
    },
    {
      "cell_type": "code",
      "metadata": {
        "id": "d6GhbEDrYv0U",
        "colab_type": "code",
        "outputId": "f491d03b-6bbc-4c4c-d72c-240b658afac9",
        "colab": {
          "base_uri": "https://localhost:8080/",
          "height": 34
        }
      },
      "source": [
        "# Reading validation Y2 into the session\n",
        "\n",
        "val_Y2_list = pickle.load(open(picklevaldata_Y2, 'rb' ))\n",
        "val_Y2 = np.array(val_Y2_list)\n",
        "\n",
        "for index in range(val_Y2.shape[0]):\n",
        "  templist = val_Y2[index]\n",
        "  templist_0 = [0 if x==-1 else x for x in templist]\n",
        "  val_Y2[index] = templist_0\n",
        "  \n",
        "print(val_Y2.shape)"
      ],
      "execution_count": 10,
      "outputs": [
        {
          "output_type": "stream",
          "text": [
            "(11016, 353)\n"
          ],
          "name": "stdout"
        }
      ]
    },
    {
      "cell_type": "code",
      "metadata": {
        "id": "6ew1hWToY255",
        "colab_type": "code",
        "colab": {
          "base_uri": "https://localhost:8080/",
          "height": 34
        },
        "outputId": "4b414000-f2a2-4a24-d98b-bb25ba5afc54"
      },
      "source": [
        "# Reading test X into the session\n",
        "\n",
        "test_X_list = pickle.load(open(pickletestdata_X, 'rb' ))\n",
        "test_X = np.array(test_X_list)\n",
        "test_X=test_X.reshape(len(test_X_list),7,7,512)\n",
        "print(test_X.shape)"
      ],
      "execution_count": 7,
      "outputs": [
        {
          "output_type": "stream",
          "text": [
            "(33154, 7, 7, 512)\n"
          ],
          "name": "stdout"
        }
      ]
    },
    {
      "cell_type": "code",
      "metadata": {
        "id": "rbaoi1YYZImJ",
        "colab_type": "code",
        "colab": {
          "base_uri": "https://localhost:8080/",
          "height": 34
        },
        "outputId": "f3ac0268-2e8f-49bf-8a4b-31186978f916"
      },
      "source": [
        "# Reading test Y1 into the session\n",
        "\n",
        "test_Y1_list = pickle.load(open(pickletestdata_Y1, 'rb' ))\n",
        "test_Y1 = np.array(test_Y1_list)\n",
        "print(test_Y1.shape)"
      ],
      "execution_count": 8,
      "outputs": [
        {
          "output_type": "stream",
          "text": [
            "(33154, 172)\n"
          ],
          "name": "stdout"
        }
      ]
    },
    {
      "cell_type": "code",
      "metadata": {
        "id": "dFTfxFkBZN7I",
        "colab_type": "code",
        "colab": {
          "base_uri": "https://localhost:8080/",
          "height": 34
        },
        "outputId": "cd6667dd-f8db-47f2-c87d-ecec15dd2217"
      },
      "source": [
        "# Reading test Y2 into the session\n",
        "\n",
        "test_Y2_list = pickle.load(open(pickletestdata_Y2, 'rb' ))\n",
        "test_Y2 = np.array(test_Y2_list)\n",
        "\n",
        "for index in range(test_Y2.shape[0]):\n",
        "  templist = test_Y2[index]\n",
        "  templist_0 = [0 if x==-1 else x for x in templist]\n",
        "  test_Y2[index] = templist_0\n",
        "\n",
        "print(test_Y2.shape)"
      ],
      "execution_count": 9,
      "outputs": [
        {
          "output_type": "stream",
          "text": [
            "(33154, 353)\n"
          ],
          "name": "stdout"
        }
      ]
    },
    {
      "cell_type": "code",
      "metadata": {
        "id": "YW3FBpReZN6Y",
        "colab_type": "code",
        "colab": {}
      },
      "source": [
        "# Defining validation metrics for the model\n",
        "\n",
        "def get_f1(y_true, y_pred):\n",
        "  true_positives = K.sum(K.round(K.clip(y_true * y_pred, 0, 1)))\n",
        "  possible_positives = K.sum(K.round(K.clip(y_true, 0, 1)))\n",
        "  predicted_positives = K.sum(K.round(K.clip(y_pred, 0, 1)))\n",
        "  precision = true_positives / (predicted_positives + K.epsilon())\n",
        "  recall = true_positives / (possible_positives + K.epsilon())\n",
        "  f1_val = 2*(precision*recall)/(precision+recall+K.epsilon())\n",
        "  return f1_val\n",
        "\n",
        "top5_acc = functools.partial(keras.metrics.top_k_categorical_accuracy, k=5)\n",
        "top5_acc.__name__ = 'top5_acc'"
      ],
      "execution_count": 0,
      "outputs": []
    },
    {
      "cell_type": "markdown",
      "metadata": {
        "id": "duccoju8aTBe",
        "colab_type": "text"
      },
      "source": [
        "#### Model Architecture D : This is an architecure for Multi-Task learning where the tasks Food Category Identification and Ingredient Recognition are sharing lower convolutional layers and have their seperate upper convolutional layers and dense layers and there are 2 outputs and loss function for the model to optimize."
      ]
    },
    {
      "cell_type": "code",
      "metadata": {
        "id": "8ILZC_hEaRaE",
        "colab_type": "code",
        "outputId": "e629d49a-d748-46f9-9c92-61368a68c918",
        "colab": {
          "base_uri": "https://localhost:8080/",
          "height": 1000
        }
      },
      "source": [
        "# Defining Architecture D\n",
        "\n",
        "inputs = Input(shape=(7,7,512))\n",
        " \n",
        "conv2D1 = Conv2D(2048, kernel_size=3, activation='relu',padding='same')(inputs)\n",
        "maxPool2D1 = MaxPooling2D(pool_size=(2,2),padding='same')(conv2D1)\n",
        "dropout1 = Dropout(0.5)(maxPool2D1)\n",
        "\n",
        "conv2D2 =  Conv2D(1024, kernel_size=3, activation='relu',padding='same')(dropout1)\n",
        "maxPool2D2 = MaxPooling2D(pool_size=(2,2),padding='same')(conv2D2)\n",
        "dropout2 = Dropout(0.5)(maxPool2D2)\n",
        "\n",
        "conv2D3 = Conv2D(1024, kernel_size=3, activation='relu',padding='same')(dropout2)\n",
        "maxPool2D3 = MaxPooling2D(pool_size=(2,2),padding='same')(conv2D3)\n",
        "dropout3 = Dropout(0.5)(maxPool2D3)\n",
        "\n",
        "conv2D4 = Conv2D(512, kernel_size=3, activation='relu',padding='same')(dropout3)\n",
        "maxPool2D4 = MaxPooling2D(pool_size=(2,2),padding='same')(conv2D4)\n",
        "dropout4 = Dropout(0.5)(maxPool2D4)\n",
        "\n",
        "conv2D5 = Conv2D(1024, kernel_size=3, activation='relu',padding='same')(dropout4)\n",
        "maxPool2D5 = MaxPooling2D(pool_size=(2,2),padding='same')(conv2D5)\n",
        "dropout5 = Dropout(0.7)(maxPool2D5)\n",
        "\n",
        "conv2D6 = Conv2D(512, kernel_size=3, activation='relu',padding='same')(dropout5)\n",
        "maxPool2D6 = MaxPooling2D(pool_size=(2,2),padding='same')(conv2D6)\n",
        "dropout6 = Dropout(0.5)(maxPool2D6)\n",
        "\n",
        "flattened4= Flatten()(dropout4)\n",
        "flattened6 = Flatten()(dropout6)\n",
        "\n",
        "output1 = Dense(353,activation='sigmoid',name='ingredient_output')(flattened6)  ##  Ingredient recognition\n",
        "output2 = Dense(172,activation='softmax',name='foodcategory_output')(flattened4) ##  Food categorization\n",
        "\n",
        "model_D = Model(inputs=inputs, outputs=[output1,output2]) # Defining model with Architecture A1\n",
        "print(model_D.summary()) # summarize layers\n",
        "plot_model(model_D, to_file='Multi-task Architecture d for food Categorization and Ingredient Recognition.png') # plot graph"
      ],
      "execution_count": 15,
      "outputs": [
        {
          "output_type": "stream",
          "text": [
            "WARNING:tensorflow:From /usr/local/lib/python3.6/dist-packages/keras/backend/tensorflow_backend.py:66: The name tf.get_default_graph is deprecated. Please use tf.compat.v1.get_default_graph instead.\n",
            "\n",
            "WARNING:tensorflow:From /usr/local/lib/python3.6/dist-packages/keras/backend/tensorflow_backend.py:541: The name tf.placeholder is deprecated. Please use tf.compat.v1.placeholder instead.\n",
            "\n",
            "WARNING:tensorflow:From /usr/local/lib/python3.6/dist-packages/keras/backend/tensorflow_backend.py:4432: The name tf.random_uniform is deprecated. Please use tf.random.uniform instead.\n",
            "\n",
            "WARNING:tensorflow:From /usr/local/lib/python3.6/dist-packages/keras/backend/tensorflow_backend.py:4267: The name tf.nn.max_pool is deprecated. Please use tf.nn.max_pool2d instead.\n",
            "\n",
            "WARNING:tensorflow:From /usr/local/lib/python3.6/dist-packages/keras/backend/tensorflow_backend.py:148: The name tf.placeholder_with_default is deprecated. Please use tf.compat.v1.placeholder_with_default instead.\n",
            "\n",
            "WARNING:tensorflow:From /usr/local/lib/python3.6/dist-packages/keras/backend/tensorflow_backend.py:3733: calling dropout (from tensorflow.python.ops.nn_ops) with keep_prob is deprecated and will be removed in a future version.\n",
            "Instructions for updating:\n",
            "Please use `rate` instead of `keep_prob`. Rate should be set to `rate = 1 - keep_prob`.\n",
            "WARNING:tensorflow:Large dropout rate: 0.7 (>0.5). In TensorFlow 2.x, dropout() uses dropout rate instead of keep_prob. Please ensure that this is intended.\n",
            "Model: \"model_1\"\n",
            "__________________________________________________________________________________________________\n",
            "Layer (type)                    Output Shape         Param #     Connected to                     \n",
            "==================================================================================================\n",
            "input_1 (InputLayer)            (None, 7, 7, 512)    0                                            \n",
            "__________________________________________________________________________________________________\n",
            "conv2d_1 (Conv2D)               (None, 7, 7, 2048)   9439232     input_1[0][0]                    \n",
            "__________________________________________________________________________________________________\n",
            "max_pooling2d_1 (MaxPooling2D)  (None, 4, 4, 2048)   0           conv2d_1[0][0]                   \n",
            "__________________________________________________________________________________________________\n",
            "dropout_1 (Dropout)             (None, 4, 4, 2048)   0           max_pooling2d_1[0][0]            \n",
            "__________________________________________________________________________________________________\n",
            "conv2d_2 (Conv2D)               (None, 4, 4, 1024)   18875392    dropout_1[0][0]                  \n",
            "__________________________________________________________________________________________________\n",
            "max_pooling2d_2 (MaxPooling2D)  (None, 2, 2, 1024)   0           conv2d_2[0][0]                   \n",
            "__________________________________________________________________________________________________\n",
            "dropout_2 (Dropout)             (None, 2, 2, 1024)   0           max_pooling2d_2[0][0]            \n",
            "__________________________________________________________________________________________________\n",
            "conv2d_3 (Conv2D)               (None, 2, 2, 1024)   9438208     dropout_2[0][0]                  \n",
            "__________________________________________________________________________________________________\n",
            "max_pooling2d_3 (MaxPooling2D)  (None, 1, 1, 1024)   0           conv2d_3[0][0]                   \n",
            "__________________________________________________________________________________________________\n",
            "dropout_3 (Dropout)             (None, 1, 1, 1024)   0           max_pooling2d_3[0][0]            \n",
            "__________________________________________________________________________________________________\n",
            "conv2d_4 (Conv2D)               (None, 1, 1, 512)    4719104     dropout_3[0][0]                  \n",
            "__________________________________________________________________________________________________\n",
            "max_pooling2d_4 (MaxPooling2D)  (None, 1, 1, 512)    0           conv2d_4[0][0]                   \n",
            "__________________________________________________________________________________________________\n",
            "dropout_4 (Dropout)             (None, 1, 1, 512)    0           max_pooling2d_4[0][0]            \n",
            "__________________________________________________________________________________________________\n",
            "conv2d_5 (Conv2D)               (None, 1, 1, 1024)   4719616     dropout_4[0][0]                  \n",
            "__________________________________________________________________________________________________\n",
            "max_pooling2d_5 (MaxPooling2D)  (None, 1, 1, 1024)   0           conv2d_5[0][0]                   \n",
            "__________________________________________________________________________________________________\n",
            "dropout_5 (Dropout)             (None, 1, 1, 1024)   0           max_pooling2d_5[0][0]            \n",
            "__________________________________________________________________________________________________\n",
            "conv2d_6 (Conv2D)               (None, 1, 1, 512)    4719104     dropout_5[0][0]                  \n",
            "__________________________________________________________________________________________________\n",
            "max_pooling2d_6 (MaxPooling2D)  (None, 1, 1, 512)    0           conv2d_6[0][0]                   \n",
            "__________________________________________________________________________________________________\n",
            "dropout_6 (Dropout)             (None, 1, 1, 512)    0           max_pooling2d_6[0][0]            \n",
            "__________________________________________________________________________________________________\n",
            "flatten_2 (Flatten)             (None, 512)          0           dropout_6[0][0]                  \n",
            "__________________________________________________________________________________________________\n",
            "flatten_1 (Flatten)             (None, 512)          0           dropout_4[0][0]                  \n",
            "__________________________________________________________________________________________________\n",
            "ingredient_output (Dense)       (None, 353)          181089      flatten_2[0][0]                  \n",
            "__________________________________________________________________________________________________\n",
            "foodcategory_output (Dense)     (None, 172)          88236       flatten_1[0][0]                  \n",
            "==================================================================================================\n",
            "Total params: 52,179,981\n",
            "Trainable params: 52,179,981\n",
            "Non-trainable params: 0\n",
            "__________________________________________________________________________________________________\n",
            "None\n"
          ],
          "name": "stdout"
        },
        {
          "output_type": "execute_result",
          "data": {
            "image/png": "[encoded data removed]",
            "text/plain": [
              "<IPython.core.display.Image object>"
            ]
          },
          "metadata": {
            "tags": []
          },
          "execution_count": 15
        }
      ]
    },
    {
      "cell_type": "code",
      "metadata": {
        "id": "7M3yEb9Wf0P9",
        "colab_type": "code",
        "outputId": "5efbb432-77c2-4e66-bb13-1caada5b924b",
        "colab": {
          "base_uri": "https://localhost:8080/",
          "height": 156
        }
      },
      "source": [
        "# Defining loss fuction and optimizer\n",
        "\n",
        "model_D.compile(optimizer=Adam(lr=0.0005),\n",
        "              loss={'ingredient_output': 'binary_crossentropy', 'foodcategory_output': 'categorical_crossentropy'},\n",
        "              #loss_weights={'ingredient_output': 0.8, 'foodcategory_output': 0.2},\n",
        "              metrics=[get_f1,top5_acc])"
      ],
      "execution_count": 16,
      "outputs": [
        {
          "output_type": "stream",
          "text": [
            "WARNING:tensorflow:From /usr/local/lib/python3.6/dist-packages/keras/optimizers.py:793: The name tf.train.Optimizer is deprecated. Please use tf.compat.v1.train.Optimizer instead.\n",
            "\n",
            "WARNING:tensorflow:From /usr/local/lib/python3.6/dist-packages/keras/backend/tensorflow_backend.py:3657: The name tf.log is deprecated. Please use tf.math.log instead.\n",
            "\n",
            "WARNING:tensorflow:From /usr/local/lib/python3.6/dist-packages/tensorflow_core/python/ops/nn_impl.py:183: where (from tensorflow.python.ops.array_ops) is deprecated and will be removed in a future version.\n",
            "Instructions for updating:\n",
            "Use tf.where in 2.0, which has the same broadcast rule as np.where\n"
          ],
          "name": "stdout"
        }
      ]
    },
    {
      "cell_type": "code",
      "metadata": {
        "id": "yqcj1PFff8rb",
        "colab_type": "code",
        "outputId": "d64a179e-9d48-4941-9b31-2b1fd37d2400",
        "colab": {
          "base_uri": "https://localhost:8080/",
          "height": 802
        }
      },
      "source": [
        "history = model_D.fit(train_X, [train_Y2,train_Y1], batch_size=256, epochs=50,validation_data = (val_X, [val_Y2, val_Y1]))"
      ],
      "execution_count": 0,
      "outputs": [
        {
          "output_type": "stream",
          "text": [
            "WARNING:tensorflow:From /usr/local/lib/python3.6/dist-packages/keras/backend/tensorflow_backend.py:1033: The name tf.assign_add is deprecated. Please use tf.compat.v1.assign_add instead.\n",
            "\n",
            "WARNING:tensorflow:From /usr/local/lib/python3.6/dist-packages/keras/backend/tensorflow_backend.py:1020: The name tf.assign is deprecated. Please use tf.compat.v1.assign instead.\n",
            "\n",
            "WARNING:tensorflow:From /usr/local/lib/python3.6/dist-packages/keras/backend/tensorflow_backend.py:3005: The name tf.Session is deprecated. Please use tf.compat.v1.Session instead.\n",
            "\n",
            "Train on 66071 samples, validate on 11016 samples\n",
            "Epoch 1/50\n",
            "WARNING:tensorflow:From /usr/local/lib/python3.6/dist-packages/keras/backend/tensorflow_backend.py:190: The name tf.get_default_session is deprecated. Please use tf.compat.v1.get_default_session instead.\n",
            "\n",
            "WARNING:tensorflow:From /usr/local/lib/python3.6/dist-packages/keras/backend/tensorflow_backend.py:197: The name tf.ConfigProto is deprecated. Please use tf.compat.v1.ConfigProto instead.\n",
            "\n",
            "WARNING:tensorflow:From /usr/local/lib/python3.6/dist-packages/keras/backend/tensorflow_backend.py:207: The name tf.global_variables is deprecated. Please use tf.compat.v1.global_variables instead.\n",
            "\n",
            "WARNING:tensorflow:From /usr/local/lib/python3.6/dist-packages/keras/backend/tensorflow_backend.py:216: The name tf.is_variable_initialized is deprecated. Please use tf.compat.v1.is_variable_initialized instead.\n",
            "\n",
            "WARNING:tensorflow:From /usr/local/lib/python3.6/dist-packages/keras/backend/tensorflow_backend.py:223: The name tf.variables_initializer is deprecated. Please use tf.compat.v1.variables_initializer instead.\n",
            "\n",
            "66071/66071 [==============================] - 51s 765us/step - loss: 16.0571 - ingredient_output_loss: 0.0817 - foodcategory_output_loss: 15.9754 - ingredient_output_get_f1: 0.0191 - ingredient_output_top5_acc: 0.2025 - foodcategory_output_get_f1: 0.0082 - foodcategory_output_top5_acc: 0.9201 - val_loss: 16.0391 - val_ingredient_output_loss: 0.0614 - val_foodcategory_output_loss: 15.9776 - val_ingredient_output_get_f1: 0.0000e+00 - val_ingredient_output_top5_acc: 0.3884 - val_foodcategory_output_get_f1: 0.0087 - val_foodcategory_output_top5_acc: 0.9561\n",
            "Epoch 2/50\n",
            "66071/66071 [==============================] - 35s 527us/step - loss: 8.9981 - ingredient_output_loss: 0.0524 - foodcategory_output_loss: 8.9457 - ingredient_output_get_f1: 5.6951e-04 - ingredient_output_top5_acc: 0.3460 - foodcategory_output_get_f1: 0.0063 - foodcategory_output_top5_acc: 0.2415 - val_loss: 4.4876 - val_ingredient_output_loss: 0.0411 - val_foodcategory_output_loss: 4.4465 - val_ingredient_output_get_f1: 0.0000e+00 - val_ingredient_output_top5_acc: 0.3794 - val_foodcategory_output_get_f1: 0.0165 - val_foodcategory_output_top5_acc: 0.2730\n",
            "Epoch 3/50\n",
            "66071/66071 [==============================] - 35s 527us/step - loss: 3.8345 - ingredient_output_loss: 0.0420 - foodcategory_output_loss: 3.7925 - ingredient_output_get_f1: 0.0107 - ingredient_output_top5_acc: 0.3895 - foodcategory_output_get_f1: 0.0981 - foodcategory_output_top5_acc: 0.3732 - val_loss: 3.0205 - val_ingredient_output_loss: 0.0367 - val_foodcategory_output_loss: 2.9837 - val_ingredient_output_get_f1: 0.0466 - val_ingredient_output_top5_acc: 0.4841 - val_foodcategory_output_get_f1: 0.1692 - val_foodcategory_output_top5_acc: 0.6246\n",
            "Epoch 4/50\n",
            "66071/66071 [==============================] - 35s 529us/step - loss: 3.0814 - ingredient_output_loss: 0.0375 - foodcategory_output_loss: 3.0439 - ingredient_output_get_f1: 0.0637 - ingredient_output_top5_acc: 0.4350 - foodcategory_output_get_f1: 0.2238 - foodcategory_output_top5_acc: 0.5625 - val_loss: 2.6408 - val_ingredient_output_loss: 0.0328 - val_foodcategory_output_loss: 2.6079 - val_ingredient_output_get_f1: 0.1077 - val_ingredient_output_top5_acc: 0.5487 - val_foodcategory_output_get_f1: 0.2422 - val_foodcategory_output_top5_acc: 0.7200\n",
            "Epoch 5/50\n",
            "66071/66071 [==============================] - 35s 527us/step - loss: 2.7309 - ingredient_output_loss: 0.0346 - foodcategory_output_loss: 2.6963 - ingredient_output_get_f1: 0.1141 - ingredient_output_top5_acc: 0.4698 - foodcategory_output_get_f1: 0.2991 - foodcategory_output_top5_acc: 0.6427 - val_loss: 2.3960 - val_ingredient_output_loss: 0.0302 - val_foodcategory_output_loss: 2.3658 - val_ingredient_output_get_f1: 0.1772 - val_ingredient_output_top5_acc: 0.5812 - val_foodcategory_output_get_f1: 0.2982 - val_foodcategory_output_top5_acc: 0.7577\n",
            "Epoch 6/50\n",
            "66071/66071 [==============================] - 35s 527us/step - loss: 2.5262 - ingredient_output_loss: 0.0327 - foodcategory_output_loss: 2.4935 - ingredient_output_get_f1: 0.1564 - ingredient_output_top5_acc: 0.4976 - foodcategory_output_get_f1: 0.3464 - foodcategory_output_top5_acc: 0.6850 - val_loss: 2.2755 - val_ingredient_output_loss: 0.0287 - val_foodcategory_output_loss: 2.2468 - val_ingredient_output_get_f1: 0.2137 - val_ingredient_output_top5_acc: 0.6030 - val_foodcategory_output_get_f1: 0.3259 - val_foodcategory_output_top5_acc: 0.7758\n",
            "Epoch 7/50\n",
            "66071/66071 [==============================] - 35s 527us/step - loss: 2.3650 - ingredient_output_loss: 0.0313 - foodcategory_output_loss: 2.3336 - ingredient_output_get_f1: 0.1906 - ingredient_output_top5_acc: 0.5162 - foodcategory_output_get_f1: 0.3856 - foodcategory_output_top5_acc: 0.7170 - val_loss: 2.1973 - val_ingredient_output_loss: 0.0278 - val_foodcategory_output_loss: 2.1695 - val_ingredient_output_get_f1: 0.2579 - val_ingredient_output_top5_acc: 0.6027 - val_foodcategory_output_get_f1: 0.3464 - val_foodcategory_output_top5_acc: 0.7789\n",
            "Epoch 8/50\n",
            "66071/66071 [==============================] - 35s 528us/step - loss: 2.2515 - ingredient_output_loss: 0.0303 - foodcategory_output_loss: 2.2212 - ingredient_output_get_f1: 0.2183 - ingredient_output_top5_acc: 0.5343 - foodcategory_output_get_f1: 0.4151 - foodcategory_output_top5_acc: 0.7407 - val_loss: 2.1196 - val_ingredient_output_loss: 0.0268 - val_foodcategory_output_loss: 2.0928 - val_ingredient_output_get_f1: 0.2760 - val_ingredient_output_top5_acc: 0.6286 - val_foodcategory_output_get_f1: 0.3674 - val_foodcategory_output_top5_acc: 0.7971\n",
            "Epoch 9/50\n",
            "66071/66071 [==============================] - 35s 527us/step - loss: 2.1701 - ingredient_output_loss: 0.0295 - foodcategory_output_loss: 2.1406 - ingredient_output_get_f1: 0.2423 - ingredient_output_top5_acc: 0.5478 - foodcategory_output_get_f1: 0.4386 - foodcategory_output_top5_acc: 0.7538 - val_loss: 2.0468 - val_ingredient_output_loss: 0.0260 - val_foodcategory_output_loss: 2.0209 - val_ingredient_output_get_f1: 0.3131 - val_ingredient_output_top5_acc: 0.6354 - val_foodcategory_output_get_f1: 0.3986 - val_foodcategory_output_top5_acc: 0.8027\n",
            "Epoch 10/50\n",
            "66071/66071 [==============================] - 35s 528us/step - loss: 2.0732 - ingredient_output_loss: 0.0288 - foodcategory_output_loss: 2.0444 - ingredient_output_get_f1: 0.2616 - ingredient_output_top5_acc: 0.5589 - foodcategory_output_get_f1: 0.4609 - foodcategory_output_top5_acc: 0.7702 - val_loss: 1.9626 - val_ingredient_output_loss: 0.0253 - val_foodcategory_output_loss: 1.9372 - val_ingredient_output_get_f1: 0.3377 - val_ingredient_output_top5_acc: 0.6405 - val_foodcategory_output_get_f1: 0.4282 - val_foodcategory_output_top5_acc: 0.8100\n",
            "Epoch 11/50\n",
            "66071/66071 [==============================] - 35s 528us/step - loss: 2.0186 - ingredient_output_loss: 0.0283 - foodcategory_output_loss: 1.9904 - ingredient_output_get_f1: 0.2762 - ingredient_output_top5_acc: 0.5691 - foodcategory_output_get_f1: 0.4778 - foodcategory_output_top5_acc: 0.7818 - val_loss: 1.9493 - val_ingredient_output_loss: 0.0250 - val_foodcategory_output_loss: 1.9243 - val_ingredient_output_get_f1: 0.3404 - val_ingredient_output_top5_acc: 0.6393 - val_foodcategory_output_get_f1: 0.4299 - val_foodcategory_output_top5_acc: 0.8115\n",
            "Epoch 12/50\n",
            "66071/66071 [==============================] - 35s 528us/step - loss: 1.9636 - ingredient_output_loss: 0.0278 - foodcategory_output_loss: 1.9358 - ingredient_output_get_f1: 0.2891 - ingredient_output_top5_acc: 0.5782 - foodcategory_output_get_f1: 0.4925 - foodcategory_output_top5_acc: 0.7877 - val_loss: 1.8878 - val_ingredient_output_loss: 0.0244 - val_foodcategory_output_loss: 1.8634 - val_ingredient_output_get_f1: 0.3600 - val_ingredient_output_top5_acc: 0.6537 - val_foodcategory_output_get_f1: 0.4625 - val_foodcategory_output_top5_acc: 0.8219\n",
            "Epoch 13/50\n",
            "66071/66071 [==============================] - 35s 529us/step - loss: 1.9184 - ingredient_output_loss: 0.0274 - foodcategory_output_loss: 1.8909 - ingredient_output_get_f1: 0.3015 - ingredient_output_top5_acc: 0.5847 - foodcategory_output_get_f1: 0.5051 - foodcategory_output_top5_acc: 0.7971 - val_loss: 1.8966 - val_ingredient_output_loss: 0.0242 - val_foodcategory_output_loss: 1.8724 - val_ingredient_output_get_f1: 0.3655 - val_ingredient_output_top5_acc: 0.6401 - val_foodcategory_output_get_f1: 0.4530 - val_foodcategory_output_top5_acc: 0.8215\n",
            "Epoch 14/50\n",
            "55552/66071 [========================>.....] - ETA: 5s - loss: 1.8501 - ingredient_output_loss: 0.0269 - foodcategory_output_loss: 1.8232 - ingredient_output_get_f1: 0.3163 - ingredient_output_top5_acc: 0.5912 - foodcategory_output_get_f1: 0.5212 - foodcategory_output_top5_acc: 0.8066"
          ],
          "name": "stdout"
        }
      ]
    },
    {
      "cell_type": "code",
      "metadata": {
        "id": "FMT_z8oqo44T",
        "colab_type": "code",
        "colab": {}
      },
      "source": [
        "# Serialize model to JSON and save\n",
        "model_json = model_D.to_json()\n",
        "with open('gdrive/My Drive/DL Project/models_latest/Architecture_D.json', \"w\") as json_file:\n",
        "    json_file.write(model_json)\n",
        "\n",
        "# Serialize weights to HDF5\n",
        "model_D.save_weights('gdrive/My Drive/DL Project/models_latest/Architecture_D.h5')\n",
        "print(\"Saved model to disk\")"
      ],
      "execution_count": 0,
      "outputs": []
    },
    {
      "cell_type": "code",
      "metadata": {
        "id": "jjcpq4gzo_wr",
        "colab_type": "code",
        "colab": {}
      },
      "source": [
        "# Plotting the train,validation accuracy and loss statistics for ingredient identification.\n",
        "\n",
        "fig = plt.figure(figsize=(12,6))\n",
        "\n",
        "plt.subplot(1, 3, 1)\n",
        "plt.plot(history.history['ingredient_output_get_f1'])\n",
        "plt.plot(history.history['val_ingredient_output_get_f1'])\n",
        "plt.title('Macro-f1 for Ingredient recognition')\n",
        "plt.ylabel('Macro-f1')\n",
        "plt.xlabel('epoch')\n",
        "plt.legend(['train', 'validation'], loc='upper left')\n",
        "\n",
        "plt.subplot(1, 3, 2)\n",
        "plt.plot(history.history['ingredient_output_top5_acc'])\n",
        "plt.plot(history.history['val_ingredient_output_top5_acc'])\n",
        "plt.title('Top-5 accuracy for Ingredient recognition')\n",
        "plt.ylabel('Top-5 accuracy')\n",
        "plt.xlabel('epoch')\n",
        "plt.legend(['train', 'validation'], loc='upper left')\n",
        "\n",
        "plt.subplot(1, 3, 3)\n",
        "plt.plot(history.history['foodcategory_output_top5_acc'])\n",
        "plt.plot(history.history['val_foodcategory_output_top5_acc'])\n",
        "plt.title('Top-5 accuracy for Food Category')\n",
        "plt.ylabel('Top-5 accuracy')\n",
        "plt.xlabel('epoch')\n",
        "plt.legend(['train', 'validation'], loc='upper left')"
      ],
      "execution_count": 0,
      "outputs": []
    },
    {
      "cell_type": "code",
      "metadata": {
        "id": "3--girxzpIwD",
        "colab_type": "code",
        "colab": {
          "base_uri": "https://localhost:8080/",
          "height": 496
        },
        "outputId": "88d59a9e-fc5d-47e6-dbe2-47a7cdb07071"
      },
      "source": [
        "# Import the saved model in a new session:\n",
        "\n",
        "from keras.models import model_from_json\n",
        "# load json and create model\n",
        "json_file = open('gdrive/My Drive/DL Project/models_latest/Architecture_D.json', 'r')\n",
        "loaded_model_json = json_file.read()\n",
        "json_file.close()\n",
        "loaded_model = model_from_json(loaded_model_json)\n",
        "\n",
        "# load weights into new model\n",
        "loaded_model.load_weights('gdrive/My Drive/DL Project/models_latest/Architecture_D.h5')\n",
        "print(\"Loaded model from disk\")"
      ],
      "execution_count": 10,
      "outputs": [
        {
          "output_type": "stream",
          "text": [
            "WARNING:tensorflow:From /usr/local/lib/python3.6/dist-packages/keras/backend/tensorflow_backend.py:541: The name tf.placeholder is deprecated. Please use tf.compat.v1.placeholder instead.\n",
            "\n",
            "WARNING:tensorflow:From /usr/local/lib/python3.6/dist-packages/keras/backend/tensorflow_backend.py:4432: The name tf.random_uniform is deprecated. Please use tf.random.uniform instead.\n",
            "\n",
            "WARNING:tensorflow:From /usr/local/lib/python3.6/dist-packages/keras/backend/tensorflow_backend.py:4267: The name tf.nn.max_pool is deprecated. Please use tf.nn.max_pool2d instead.\n",
            "\n",
            "WARNING:tensorflow:From /usr/local/lib/python3.6/dist-packages/keras/backend/tensorflow_backend.py:66: The name tf.get_default_graph is deprecated. Please use tf.compat.v1.get_default_graph instead.\n",
            "\n",
            "WARNING:tensorflow:From /usr/local/lib/python3.6/dist-packages/keras/backend/tensorflow_backend.py:148: The name tf.placeholder_with_default is deprecated. Please use tf.compat.v1.placeholder_with_default instead.\n",
            "\n",
            "WARNING:tensorflow:From /usr/local/lib/python3.6/dist-packages/keras/backend/tensorflow_backend.py:3733: calling dropout (from tensorflow.python.ops.nn_ops) with keep_prob is deprecated and will be removed in a future version.\n",
            "Instructions for updating:\n",
            "Please use `rate` instead of `keep_prob`. Rate should be set to `rate = 1 - keep_prob`.\n",
            "WARNING:tensorflow:Large dropout rate: 0.7 (>0.5). In TensorFlow 2.x, dropout() uses dropout rate instead of keep_prob. Please ensure that this is intended.\n",
            "WARNING:tensorflow:From /usr/local/lib/python3.6/dist-packages/keras/backend/tensorflow_backend.py:190: The name tf.get_default_session is deprecated. Please use tf.compat.v1.get_default_session instead.\n",
            "\n",
            "WARNING:tensorflow:From /usr/local/lib/python3.6/dist-packages/keras/backend/tensorflow_backend.py:197: The name tf.ConfigProto is deprecated. Please use tf.compat.v1.ConfigProto instead.\n",
            "\n",
            "WARNING:tensorflow:From /usr/local/lib/python3.6/dist-packages/keras/backend/tensorflow_backend.py:203: The name tf.Session is deprecated. Please use tf.compat.v1.Session instead.\n",
            "\n",
            "WARNING:tensorflow:From /usr/local/lib/python3.6/dist-packages/keras/backend/tensorflow_backend.py:207: The name tf.global_variables is deprecated. Please use tf.compat.v1.global_variables instead.\n",
            "\n",
            "WARNING:tensorflow:From /usr/local/lib/python3.6/dist-packages/keras/backend/tensorflow_backend.py:216: The name tf.is_variable_initialized is deprecated. Please use tf.compat.v1.is_variable_initialized instead.\n",
            "\n",
            "WARNING:tensorflow:From /usr/local/lib/python3.6/dist-packages/keras/backend/tensorflow_backend.py:223: The name tf.variables_initializer is deprecated. Please use tf.compat.v1.variables_initializer instead.\n",
            "\n",
            "Loaded model from disk\n"
          ],
          "name": "stdout"
        }
      ]
    },
    {
      "cell_type": "code",
      "metadata": {
        "id": "t4BPa0rWpT6Y",
        "colab_type": "code",
        "colab": {}
      },
      "source": [
        "loaded_model"
      ],
      "execution_count": 0,
      "outputs": []
    },
    {
      "cell_type": "code",
      "metadata": {
        "id": "yEkaI1T6pYm9",
        "colab_type": "code",
        "colab": {}
      },
      "source": [
        "loaded_model.compile(loss='binary_crossentropy', optimizer=Adam(lr=0.0005), metrics=[get_f1,top5_acc])"
      ],
      "execution_count": 0,
      "outputs": []
    },
    {
      "cell_type": "code",
      "metadata": {
        "id": "HRqvDpngSukw",
        "colab_type": "code",
        "colab": {
          "base_uri": "https://localhost:8080/",
          "height": 102
        },
        "outputId": "af95a7fc-f442-48b9-887a-9bf07266821d"
      },
      "source": [
        "results = loaded_model.evaluate(test_X, [test_Y2,test_Y1], batch_size=128)\n",
        "print('Ingredient F1:', results[3])\n",
        "print('Ingredient Top5:', results[4])\n",
        "print('Food F1:', results[5])\n",
        "print('Food Top5:', results[6])\n"
      ],
      "execution_count": 24,
      "outputs": [
        {
          "output_type": "stream",
          "text": [
            "33154/33154 [==============================] - 7s 210us/step\n",
            "Ingredient F1: 0.46880688174049784\n",
            "Ingredient Top5: 0.6663449357543585\n",
            "Food F1: 0.5822505667628587\n",
            "Food Top5: 0.8395970320323339\n"
          ],
          "name": "stdout"
        }
      ]
    },
    {
      "cell_type": "code",
      "metadata": {
        "id": "Dx7mjs3vpqP-",
        "colab_type": "code",
        "colab": {}
      },
      "source": [
        "# Making predictions on test data\n",
        "\n",
        "predictions = loaded_model.predict(test_X)\n",
        "predictions_ingredients=1*(predictions[0] >= 0.5)"
      ],
      "execution_count": 0,
      "outputs": []
    },
    {
      "cell_type": "code",
      "metadata": {
        "id": "a3GB_y3rp0_S",
        "colab_type": "code",
        "colab": {
          "base_uri": "https://localhost:8080/",
          "height": 1000
        },
        "outputId": "3d1fe415-b169-41b8-dd1b-487a41a2f685"
      },
      "source": [
        "# Generating classification report\n",
        "\n",
        "from sklearn.metrics import classification_report\n",
        "print(classification_report(test_Y2, predictions_ingredients))"
      ],
      "execution_count": 26,
      "outputs": [
        {
          "output_type": "stream",
          "text": [
            "              precision    recall  f1-score   support\n",
            "\n",
            "           0       0.75      0.14      0.24      6698\n",
            "           1       0.73      0.23      0.35       666\n",
            "           2       0.35      0.01      0.02       731\n",
            "           3       0.76      0.45      0.57       144\n",
            "           4       0.73      0.54      0.62       435\n",
            "           5       0.00      0.00      0.00        10\n",
            "           6       0.00      0.00      0.00        24\n",
            "           7       0.00      0.00      0.00        46\n",
            "           8       0.64      0.32      0.42       868\n",
            "           9       0.20      0.00      0.01       365\n",
            "          10       0.00      0.00      0.00        41\n",
            "          11       0.77      0.15      0.25       699\n",
            "          12       0.64      0.07      0.13       387\n",
            "          13       0.71      0.16      0.26      1639\n",
            "          14       0.00      0.00      0.00        76\n",
            "          15       0.82      0.16      0.27      4353\n",
            "          16       0.61      0.02      0.05      1138\n",
            "          17       0.74      0.21      0.33      1570\n",
            "          18       0.00      0.00      0.00        41\n",
            "          19       0.08      0.01      0.02        99\n",
            "          20       0.86      0.66      0.75       218\n",
            "          21       0.54      0.01      0.03      3886\n",
            "          22       0.73      0.56      0.63       187\n",
            "          23       0.00      0.00      0.00         7\n",
            "          24       0.95      0.40      0.56       493\n",
            "          25       0.00      0.00      0.00        78\n",
            "          26       0.00      0.00      0.00       213\n",
            "          27       0.68      0.01      0.02      1370\n",
            "          28       0.00      0.00      0.00        49\n",
            "          29       0.92      0.56      0.70       460\n",
            "          30       0.43      0.03      0.06       101\n",
            "          31       0.81      0.57      0.67       267\n",
            "          32       0.72      0.04      0.08       315\n",
            "          33       0.89      0.62      0.73       255\n",
            "          34       0.00      0.00      0.00        18\n",
            "          35       0.00      0.00      0.00         9\n",
            "          36       0.00      0.00      0.00         6\n",
            "          37       0.00      0.00      0.00        17\n",
            "          38       0.00      0.00      0.00        18\n",
            "          39       0.75      0.33      0.46       222\n",
            "          40       0.00      0.00      0.00        48\n",
            "          41       0.89      0.85      0.87       201\n",
            "          42       0.00      0.00      0.00        88\n",
            "          43       0.00      0.00      0.00       303\n",
            "          44       0.00      0.00      0.00        17\n",
            "          45       0.00      0.00      0.00        47\n",
            "          46       0.83      0.30      0.44       970\n",
            "          47       0.25      0.08      0.12        64\n",
            "          48       0.00      0.00      0.00        86\n",
            "          49       0.90      0.32      0.47       361\n",
            "          50       0.00      0.00      0.00        16\n",
            "          51       0.84      0.31      0.45       635\n",
            "          52       0.94      0.92      0.93       221\n",
            "          53       0.71      0.13      0.22       325\n",
            "          54       0.00      0.00      0.00        95\n",
            "          55       0.81      0.39      0.52       269\n",
            "          56       0.80      0.12      0.21       548\n",
            "          57       0.80      0.38      0.51       466\n",
            "          58       0.75      0.11      0.19      3241\n",
            "          59       0.72      0.13      0.21      1103\n",
            "          60       0.72      0.35      0.47       314\n",
            "          61       0.00      0.00      0.00        24\n",
            "          62       0.67      0.41      0.51       202\n",
            "          63       0.81      0.38      0.52      1003\n",
            "          64       0.00      0.00      0.00         5\n",
            "          65       0.00      0.00      0.00       154\n",
            "          66       0.06      0.01      0.01       171\n",
            "          67       0.00      0.00      0.00        39\n",
            "          68       0.79      0.72      0.75      1684\n",
            "          69       0.60      0.44      0.51       125\n",
            "          70       0.00      0.00      0.00        61\n",
            "          71       0.93      0.20      0.32       138\n",
            "          72       0.00      0.00      0.00         5\n",
            "          73       0.79      0.57      0.66       249\n",
            "          74       0.82      0.33      0.47       196\n",
            "          75       0.88      0.95      0.91       221\n",
            "          76       0.83      0.79      0.81       145\n",
            "          77       0.00      0.00      0.00        25\n",
            "          78       0.00      0.00      0.00         9\n",
            "          79       0.00      0.00      0.00        16\n",
            "          80       0.67      0.01      0.01       305\n",
            "          81       0.82      0.44      0.57      1415\n",
            "          82       0.83      0.51      0.63      1147\n",
            "          83       0.75      0.42      0.54      1669\n",
            "          84       0.68      0.16      0.25       795\n",
            "          85       0.84      0.23      0.36       337\n",
            "          86       0.93      0.10      0.18       132\n",
            "          87       0.00      0.00      0.00        36\n",
            "          88       0.00      0.00      0.00        22\n",
            "          89       0.99      0.54      0.70       179\n",
            "          90       0.79      0.15      0.25       680\n",
            "          91       0.00      0.00      0.00        40\n",
            "          92       0.87      0.39      0.54       317\n",
            "          93       0.00      0.00      0.00         5\n",
            "          94       0.36      0.01      0.03       554\n",
            "          95       0.81      0.12      0.22      1936\n",
            "          96       0.72      0.62      0.67        47\n",
            "          97       0.87      0.24      0.37       326\n",
            "          98       0.94      0.08      0.15       209\n",
            "          99       0.00      0.00      0.00        33\n",
            "         100       0.00      0.00      0.00         9\n",
            "         101       0.82      0.66      0.73       197\n",
            "         102       0.70      0.30      0.43       210\n",
            "         103       0.00      0.00      0.00         3\n",
            "         104       0.95      0.47      0.63       120\n",
            "         105       0.94      0.84      0.89        93\n",
            "         106       0.00      0.00      0.00         2\n",
            "         107       0.00      0.00      0.00        17\n",
            "         108       0.90      0.46      0.61       171\n",
            "         109       0.84      0.23      0.37       342\n",
            "         110       0.00      0.00      0.00        13\n",
            "         111       0.00      0.00      0.00         9\n",
            "         112       0.49      0.22      0.31       138\n",
            "         113       0.93      0.65      0.76      1817\n",
            "         114       0.85      0.61      0.71       135\n",
            "         115       0.00      0.00      0.00         4\n",
            "         116       0.00      0.00      0.00         4\n",
            "         117       0.00      0.00      0.00        43\n",
            "         118       0.94      0.84      0.89        93\n",
            "         119       0.00      0.00      0.00        14\n",
            "         120       0.23      0.08      0.11        66\n",
            "         121       0.82      0.61      0.70      1051\n",
            "         122       0.71      0.50      0.58      1130\n",
            "         123       0.95      0.31      0.46       309\n",
            "         124       0.80      0.67      0.73       174\n",
            "         125       0.79      0.43      0.56      1113\n",
            "         126       0.00      0.00      0.00        16\n",
            "         127       0.00      0.00      0.00        11\n",
            "         128       0.86      0.39      0.54       241\n",
            "         129       0.76      0.08      0.15       156\n",
            "         130       0.75      0.53      0.62      1009\n",
            "         131       0.00      0.00      0.00        43\n",
            "         132       0.90      0.88      0.89       281\n",
            "         133       0.86      0.16      0.27       257\n",
            "         134       0.00      0.00      0.00        46\n",
            "         135       0.75      0.48      0.58      2134\n",
            "         136       0.65      0.27      0.38       443\n",
            "         137       0.00      0.00      0.00        33\n",
            "         138       0.78      0.49      0.60       343\n",
            "         139       0.00      0.00      0.00        23\n",
            "         140       0.00      0.00      0.00       289\n",
            "         141       0.88      0.25      0.39       206\n",
            "         142       0.79      0.58      0.67       218\n",
            "         143       0.00      0.00      0.00        85\n",
            "         144       0.91      0.61      0.73       173\n",
            "         145       0.00      0.00      0.00        38\n",
            "         146       0.81      0.36      0.49       419\n",
            "         147       0.00      0.00      0.00         5\n",
            "         148       0.86      0.25      0.39       217\n",
            "         149       0.70      0.68      0.69       193\n",
            "         150       0.79      0.75      0.77       106\n",
            "         151       0.68      0.17      0.28       143\n",
            "         152       0.00      0.00      0.00        39\n",
            "         153       0.00      0.00      0.00         2\n",
            "         154       0.00      0.00      0.00        24\n",
            "         155       0.68      0.72      0.70       163\n",
            "         156       0.91      0.44      0.59       330\n",
            "         157       0.00      0.00      0.00        90\n",
            "         158       0.75      0.47      0.58       848\n",
            "         159       0.91      0.59      0.71       176\n",
            "         160       0.00      0.00      0.00        40\n",
            "         161       0.82      0.42      0.56       300\n",
            "         162       0.90      0.52      0.66       454\n",
            "         163       0.00      0.00      0.00        14\n",
            "         164       0.00      0.00      0.00        31\n",
            "         165       0.00      0.00      0.00         3\n",
            "         166       0.00      0.00      0.00        13\n",
            "         167       0.00      0.00      0.00         2\n",
            "         168       0.00      0.00      0.00        17\n",
            "         169       0.00      0.00      0.00         8\n",
            "         170       0.00      0.00      0.00        57\n",
            "         171       0.96      0.70      0.81       172\n",
            "         172       0.69      0.49      0.57       966\n",
            "         173       0.76      0.55      0.64       503\n",
            "         174       0.65      0.36      0.46       243\n",
            "         175       0.00      0.00      0.00        25\n",
            "         176       0.00      0.00      0.00        14\n",
            "         177       0.70      0.64      0.67       205\n",
            "         178       0.00      0.00      0.00       237\n",
            "         179       0.17      0.28      0.22        25\n",
            "         180       0.93      0.73      0.82       230\n",
            "         181       0.88      0.55      0.68       194\n",
            "         182       0.00      0.00      0.00        26\n",
            "         183       0.00      0.00      0.00        19\n",
            "         184       0.75      0.36      0.49       454\n",
            "         185       0.92      0.11      0.20       109\n",
            "         186       0.00      0.00      0.00         2\n",
            "         187       0.86      0.78      0.82       119\n",
            "         188       0.00      0.00      0.00        74\n",
            "         189       0.77      0.51      0.61       233\n",
            "         190       0.90      0.87      0.88       209\n",
            "         191       0.00      0.00      0.00         3\n",
            "         192       0.00      0.00      0.00       138\n",
            "         193       0.00      0.00      0.00        33\n",
            "         194       0.00      0.00      0.00        38\n",
            "         195       0.25      0.01      0.01       157\n",
            "         196       0.76      0.56      0.64       253\n",
            "         197       0.00      0.00      0.00        99\n",
            "         198       0.86      0.62      0.72       164\n",
            "         199       0.00      0.00      0.00         4\n",
            "         200       0.94      0.61      0.74       304\n",
            "         201       0.78      0.50      0.61       185\n",
            "         202       0.78      0.14      0.24       250\n",
            "         203       0.35      0.13      0.19       110\n",
            "         204       0.85      0.22      0.34       102\n",
            "         205       0.97      0.85      0.91       258\n",
            "         206       0.00      0.00      0.00        27\n",
            "         207       0.71      0.44      0.54       211\n",
            "         208       0.00      0.00      0.00       108\n",
            "         209       0.00      0.00      0.00        25\n",
            "         210       0.80      0.61      0.70       397\n",
            "         211       0.89      0.79      0.84       248\n",
            "         212       0.00      0.00      0.00        16\n",
            "         213       0.84      0.77      0.80       149\n",
            "         214       0.00      0.00      0.00         5\n",
            "         215       0.00      0.00      0.00        12\n",
            "         216       0.88      0.38      0.53       111\n",
            "         217       0.93      0.43      0.59       423\n",
            "         218       0.00      0.00      0.00         4\n",
            "         219       0.83      0.52      0.64       218\n",
            "         220       0.00      0.00      0.00        57\n",
            "         221       0.97      0.70      0.81       199\n",
            "         222       0.00      0.00      0.00        80\n",
            "         223       0.96      0.79      0.87       285\n",
            "         224       0.00      0.00      0.00        51\n",
            "         225       0.00      0.00      0.00         4\n",
            "         226       0.00      0.00      0.00        32\n",
            "         227       0.00      0.00      0.00        13\n",
            "         228       0.00      0.00      0.00         2\n",
            "         229       0.74      0.41      0.53       461\n",
            "         230       0.68      0.70      0.69       169\n",
            "         231       0.00      0.00      0.00        31\n",
            "         232       0.00      0.00      0.00         9\n",
            "         233       0.67      0.18      0.28       243\n",
            "         234       0.00      0.00      0.00         6\n",
            "         235       0.77      0.61      0.68       986\n",
            "         236       0.00      0.00      0.00        36\n",
            "         237       0.77      0.80      0.78       199\n",
            "         238       0.87      0.59      0.70       187\n",
            "         239       0.00      0.00      0.00        20\n",
            "         240       0.00      0.00      0.00        19\n",
            "         241       0.86      0.02      0.03       370\n",
            "         242       0.00      0.00      0.00        17\n",
            "         243       0.00      0.00      0.00         4\n",
            "         244       0.00      0.00      0.00         1\n",
            "         245       0.70      0.05      0.09       138\n",
            "         246       0.86      0.60      0.71       574\n",
            "         247       0.00      0.00      0.00        68\n",
            "         248       0.90      0.66      0.76       751\n",
            "         249       0.00      0.00      0.00        65\n",
            "         250       0.74      0.53      0.61       525\n",
            "         251       0.00      0.00      0.00         7\n",
            "         252       0.75      0.48      0.58       300\n",
            "         253       0.00      0.00      0.00        60\n",
            "         254       0.63      0.44      0.52       354\n",
            "         255       0.90      0.82      0.86       243\n",
            "         256       0.80      0.58      0.67       184\n",
            "         257       0.89      0.55      0.68       283\n",
            "         258       0.00      0.00      0.00       102\n",
            "         259       0.00      0.00      0.00         4\n",
            "         260       0.87      0.87      0.87       205\n",
            "         261       0.00      0.00      0.00        32\n",
            "         262       0.00      0.00      0.00        40\n",
            "         263       0.00      0.00      0.00         7\n",
            "         264       0.74      0.09      0.17       429\n",
            "         265       0.00      0.00      0.00       109\n",
            "         266       0.00      0.00      0.00       107\n",
            "         267       0.56      0.30      0.39       146\n",
            "         268       0.00      0.00      0.00        56\n",
            "         269       0.84      0.69      0.76       156\n",
            "         270       0.00      0.00      0.00        73\n",
            "         271       0.00      0.00      0.00       147\n",
            "         272       0.33      0.03      0.05        34\n",
            "         273       0.83      0.72      0.77       130\n",
            "         274       0.83      0.76      0.79      2078\n",
            "         275       0.35      0.18      0.24        73\n",
            "         276       0.00      0.00      0.00        12\n",
            "         277       0.00      0.00      0.00        68\n",
            "         278       0.61      0.02      0.04      1230\n",
            "         279       0.87      0.60      0.71       124\n",
            "         280       0.00      0.00      0.00         2\n",
            "         281       0.50      0.01      0.02        99\n",
            "         282       0.87      0.58      0.70       103\n",
            "         283       0.10      0.03      0.04        77\n",
            "         284       0.91      0.94      0.93       287\n",
            "         285       0.00      0.00      0.00        67\n",
            "         286       0.75      0.37      0.49       298\n",
            "         287       0.00      0.00      0.00         7\n",
            "         288       0.94      0.67      0.78       256\n",
            "         289       0.00      0.00      0.00        56\n",
            "         290       0.00      0.00      0.00         5\n",
            "         291       0.00      0.00      0.00        54\n",
            "         292       0.54      0.67      0.60        91\n",
            "         293       0.98      0.46      0.62        94\n",
            "         294       0.86      0.23      0.36       427\n",
            "         295       0.81      0.64      0.72       685\n",
            "         296       0.30      0.03      0.05       115\n",
            "         297       0.95      0.77      0.85       152\n",
            "         298       0.00      0.00      0.00         4\n",
            "         299       0.94      0.81      0.87       148\n",
            "         300       0.86      0.70      0.77       137\n",
            "         301       0.53      0.20      0.29       350\n",
            "         302       0.24      0.13      0.17        94\n",
            "         303       0.67      0.64      0.66       187\n",
            "         304       0.00      0.00      0.00        19\n",
            "         305       0.00      0.00      0.00        23\n",
            "         306       1.00      0.77      0.87        60\n",
            "         307       0.00      0.00      0.00         9\n",
            "         308       0.00      0.00      0.00         2\n",
            "         309       0.75      0.30      0.42       176\n",
            "         310       0.00      0.00      0.00         9\n",
            "         311       0.00      0.00      0.00        33\n",
            "         312       0.00      0.00      0.00         9\n",
            "         313       0.00      0.00      0.00         8\n",
            "         314       0.00      0.00      0.00         2\n",
            "         315       0.00      0.00      0.00        76\n",
            "         316       0.00      0.00      0.00         8\n",
            "         317       0.90      0.82      0.86       114\n",
            "         318       0.97      0.79      0.87       159\n",
            "         319       0.00      0.00      0.00         4\n",
            "         320       0.87      0.73      0.79       140\n",
            "         321       0.00      0.00      0.00        29\n",
            "         322       0.84      0.82      0.83       168\n",
            "         323       0.85      0.76      0.80       147\n",
            "         324       0.87      0.58      0.69       286\n",
            "         325       0.50      0.37      0.43       228\n",
            "         326       0.87      0.59      0.70       157\n",
            "         327       1.00      0.00      0.01       267\n",
            "         328       0.74      0.58      0.65       707\n",
            "         329       0.91      0.77      0.84       305\n",
            "         330       0.83      0.62      0.71       238\n",
            "         331       0.96      0.67      0.79       256\n",
            "         332       0.00      0.00      0.00         5\n",
            "         333       0.75      0.27      0.40       262\n",
            "         334       0.00      0.00      0.00        15\n",
            "         335       0.87      0.83      0.85       162\n",
            "         336       0.89      0.65      0.75       300\n",
            "         337       0.00      0.00      0.00        34\n",
            "         338       0.81      0.69      0.74       224\n",
            "         339       0.88      0.67      0.76       175\n",
            "         340       0.87      0.65      0.74       175\n",
            "         341       0.00      0.00      0.00        19\n",
            "         342       0.84      0.47      0.60        92\n",
            "         343       0.00      0.00      0.00        28\n",
            "         344       0.62      0.71      0.66        97\n",
            "         345       0.99      0.73      0.84       219\n",
            "         346       0.00      0.00      0.00        13\n",
            "         347       0.00      0.00      0.00        48\n",
            "         348       0.75      0.61      0.67       191\n",
            "         349       0.86      0.66      0.75       214\n",
            "         350       0.84      0.80      0.82       143\n",
            "         351       0.00      0.00      0.00        25\n",
            "         352       0.00      0.00      0.00         2\n",
            "\n",
            "   micro avg       0.80      0.34      0.48     99692\n",
            "   macro avg       0.44      0.26      0.30     99692\n",
            "weighted avg       0.72      0.34      0.42     99692\n",
            " samples avg       0.57      0.38      0.43     99692\n",
            "\n"
          ],
          "name": "stdout"
        },
        {
          "output_type": "stream",
          "text": [
            "/usr/local/lib/python3.6/dist-packages/sklearn/metrics/classification.py:1437: UndefinedMetricWarning: Precision and F-score are ill-defined and being set to 0.0 in labels with no predicted samples.\n",
            "  'precision', 'predicted', average, warn_for)\n",
            "/usr/local/lib/python3.6/dist-packages/sklearn/metrics/classification.py:1437: UndefinedMetricWarning: Precision and F-score are ill-defined and being set to 0.0 in samples with no predicted labels.\n",
            "  'precision', 'predicted', average, warn_for)\n"
          ],
          "name": "stderr"
        }
      ]
    }
  ]
}