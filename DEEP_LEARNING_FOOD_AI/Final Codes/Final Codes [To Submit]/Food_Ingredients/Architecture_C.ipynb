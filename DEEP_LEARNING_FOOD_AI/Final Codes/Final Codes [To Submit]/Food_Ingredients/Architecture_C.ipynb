{
  "nbformat": 4,
  "nbformat_minor": 0,
  "metadata": {
    "colab": {
      "name": "Architecture C.ipynb",
      "provenance": [],
      "collapsed_sections": [],
      "machine_shape": "hm"
    },
    "kernelspec": {
      "name": "python3",
      "display_name": "Python 3"
    },
    "accelerator": "TPU"
  },
  "cells": [
    {
      "cell_type": "code",
      "metadata": {
        "id": "MSL_1hddd-Fp",
        "colab_type": "code",
        "colab": {}
      },
      "source": [
        "from google.colab import drive,files"
      ],
      "execution_count": 0,
      "outputs": []
    },
    {
      "cell_type": "code",
      "metadata": {
        "id": "s03xL2HmfQwY",
        "colab_type": "code",
        "outputId": "6ecb8c49-7864-479b-afb0-fd429c953f9f",
        "colab": {
          "base_uri": "https://localhost:8080/",
          "height": 122
        }
      },
      "source": [
        "drive.mount('/content/gdrive')"
      ],
      "execution_count": 0,
      "outputs": [
        {
          "output_type": "stream",
          "text": [
            "Go to this URL in a browser: https://accounts.google.com/o/oauth2/auth?client_id=947318989803-6bn6qk8qdgf4n4g3pfee6491hc0brc4i.apps.googleusercontent.com&redirect_uri=urn%3aietf%3awg%3aoauth%3a2.0%3aoob&response_type=code&scope=email%20https%3a%2f%2fwww.googleapis.com%2fauth%2fdocs.test%20https%3a%2f%2fwww.googleapis.com%2fauth%2fdrive%20https%3a%2f%2fwww.googleapis.com%2fauth%2fdrive.photos.readonly%20https%3a%2f%2fwww.googleapis.com%2fauth%2fpeopleapi.readonly\n",
            "\n",
            "Enter your authorization code:\n",
            "··········\n",
            "Mounted at /content/gdrive\n"
          ],
          "name": "stdout"
        }
      ]
    },
    {
      "cell_type": "code",
      "metadata": {
        "id": "CaR7YECifYlg",
        "colab_type": "code",
        "outputId": "0ee9b894-3c2d-4a31-c23a-45ad380e338d",
        "colab": {
          "base_uri": "https://localhost:8080/",
          "height": 34
        }
      },
      "source": [
        "# Imports go here\n",
        "import pickle\n",
        "import numpy as np\n",
        "from keras.utils import plot_model\n",
        "from keras.models import Sequential\n",
        "from keras.models import Model\n",
        "from keras.optimizers import Adam\n",
        "from keras.optimizers import Nadam\n",
        "import matplotlib.pyplot as plt\n",
        "import numpy as np\n",
        "import keras\n",
        "from keras.layers import Dense\n",
        "from keras.layers import Input\n",
        "from keras.layers import Dropout\n",
        "from keras.layers import Flatten\n",
        "from keras.layers import Dense, Activation,BatchNormalization\n",
        "import pandas as pd\n",
        "from keras.layers import Conv2D, MaxPooling2D\n",
        "from keras import backend as K\n",
        "from sklearn.model_selection import GridSearchCV\n",
        "from sklearn.metrics import classification_report"
      ],
      "execution_count": 0,
      "outputs": [
        {
          "output_type": "stream",
          "text": [
            "Using TensorFlow backend.\n"
          ],
          "name": "stderr"
        }
      ]
    },
    {
      "cell_type": "code",
      "metadata": {
        "id": "PAF1C5Up6Lew",
        "colab_type": "code",
        "colab": {}
      },
      "source": [
        "## test::\n",
        "pickletestdata_X = 'gdrive/My Drive/DL Project/PickleFiles/vgg_features_test_full.pkl'\n",
        "pickletestdata_Y1 = 'gdrive/My Drive/DL Project/PickleFiles/pickleTestFull_Y1.pkl'\n",
        "pickletestdata_Y2 = 'gdrive/My Drive/DL Project/PickleFiles/pickleTestFull_Y2.pkl'\n",
        "pickletestdata_Y3 = 'gdrive/My Drive/DL Project/PickleFiles/pickleTestFull_Y3.pkl'\n",
        "pickleModelC_IngFood ='gdrive/My Drive/DL Project/PickleFiles/pickleModelC_IngFood.pkl' "
      ],
      "execution_count": 0,
      "outputs": []
    },
    {
      "cell_type": "code",
      "metadata": {
        "id": "3fxklw6lQvji",
        "colab_type": "code",
        "colab": {}
      },
      "source": [
        "pickletraindata_X = 'gdrive/My Drive/DL Project/PickleFiles/vgg_features_train_full.pkl'\n",
        "picklevaldata_X = 'gdrive/My Drive/DL Project/PickleFiles/vgg_features_val_full.pkl'\n",
        "#pickletestdata_X = 'gdrive/My Drive/DL Project/PickleFiles/vgg_features_test_full.pkl'\n",
        "\n",
        "pickletraindata_Y1 = 'gdrive/My Drive/DL Project/PickleFiles/pickleTrainFull_Y1.pkl'\n",
        "picklevaldata_Y1 = 'gdrive/My Drive/DL Project/PickleFiles/pickleValFull_Y1.pkl'\n",
        "#pickletestdata_Y1 = 'gdrive/My Drive/DL Project/PickleFiles/pickleTestFull_Y1.pkl'\n",
        "\n",
        "pickletraindata_Y2 = 'gdrive/My Drive/DL Project/PickleFiles/pickleTrainFull_Y2.pkl'\n",
        "picklevaldata_Y2 = 'gdrive/My Drive/DL Project/PickleFiles/pickleValFull_Y2.pkl'\n",
        "#pickletestdata_Y2 = 'gdrive/My Drive/DL Project/PickleFiles/pickleTestFull_Y2.pkl'\n",
        "\n",
        "\n",
        "pickletraindata_Y3 = 'gdrive/My Drive/DL Project/PickleFiles/pickleTrainFull_Y3.pkl'\n",
        "picklevaldata_Y3 = 'gdrive/My Drive/DL Project/PickleFiles/pickleValFull_Y3.pkl'\n",
        "#pickletestdata_Y3 = 'gdrive/My Drive/DL Project/PickleFiles/pickleTestFull_Y3.pkl'\n",
        "\n",
        "\n",
        "\n"
      ],
      "execution_count": 0,
      "outputs": []
    },
    {
      "cell_type": "code",
      "metadata": {
        "id": "RM_eCqAbQx8P",
        "colab_type": "code",
        "outputId": "6ec5dcdd-ecb9-4f06-ebd0-1f7fb01124e2",
        "colab": {
          "base_uri": "https://localhost:8080/",
          "height": 34
        }
      },
      "source": [
        "# Loading train_X\n",
        "\n",
        "train_X_list = pickle.load(open(pickletraindata_X, 'rb' ))\n",
        "train_X = np.array(train_X_list)\n",
        "print(train_X.shape)\n",
        "\n",
        "#X_shape = train_X.shape[2]*train_X.shape[3]*train_X.shape[4]\n",
        "#train_X=train_X.reshape(20000,X_shape)\n",
        "#print(train_X.shape)\n"
      ],
      "execution_count": 0,
      "outputs": [
        {
          "output_type": "stream",
          "text": [
            "(66071, 1, 7, 7, 512)\n"
          ],
          "name": "stdout"
        }
      ]
    },
    {
      "cell_type": "code",
      "metadata": {
        "id": "TYf9o8Tykikg",
        "colab_type": "code",
        "outputId": "01a40be9-0df7-44d0-c18e-e4ac54de75a6",
        "colab": {
          "base_uri": "https://localhost:8080/",
          "height": 34
        }
      },
      "source": [
        "train_X=train_X.reshape(len(train_X_list),7,7,512)\n",
        "print(train_X.shape)"
      ],
      "execution_count": 0,
      "outputs": [
        {
          "output_type": "stream",
          "text": [
            "(66071, 7, 7, 512)\n"
          ],
          "name": "stdout"
        }
      ]
    },
    {
      "cell_type": "code",
      "metadata": {
        "id": "BJhkgFrmQ4ri",
        "colab_type": "code",
        "outputId": "1c0ce95e-446a-4272-f43d-38c85b488ac6",
        "colab": {
          "base_uri": "https://localhost:8080/",
          "height": 34
        }
      },
      "source": [
        "# Loading train_Y1\n",
        "\n",
        "train_Y1_list = pickle.load(open(pickletraindata_Y1, 'rb' ))\n",
        "train_Y1 = np.array(train_Y1_list)\n",
        "print(train_Y1.shape)"
      ],
      "execution_count": 0,
      "outputs": [
        {
          "output_type": "stream",
          "text": [
            "(66071, 172)\n"
          ],
          "name": "stdout"
        }
      ]
    },
    {
      "cell_type": "code",
      "metadata": {
        "id": "u7QHo4X7RRnM",
        "colab_type": "code",
        "outputId": "c53eb034-f830-4b83-c277-c6a5954bf43c",
        "colab": {
          "base_uri": "https://localhost:8080/",
          "height": 34
        }
      },
      "source": [
        "# Loading train_Y2\n",
        "\n",
        "train_Y2_list = pickle.load(open(pickletraindata_Y2, 'rb' ))\n",
        "train_Y2 = np.array(train_Y2_list)\n",
        "\n",
        "for index in range(train_Y2.shape[0]):\n",
        "  templist = train_Y2[index]\n",
        "  templist_0 = [0 if x==-1 else x for x in templist]\n",
        "  train_Y2[index] = templist_0\n",
        "\n",
        "print(train_Y2.shape)"
      ],
      "execution_count": 0,
      "outputs": [
        {
          "output_type": "stream",
          "text": [
            "(66071, 353)\n"
          ],
          "name": "stdout"
        }
      ]
    },
    {
      "cell_type": "code",
      "metadata": {
        "id": "ixzFT6U4RWiB",
        "colab_type": "code",
        "outputId": "bccd935f-2296-450e-8aa8-e2bdc61ab27f",
        "colab": {
          "base_uri": "https://localhost:8080/",
          "height": 34
        }
      },
      "source": [
        "# Loading val_X\n",
        "\n",
        "val_X_list = pickle.load(open(picklevaldata_X, 'rb' ))\n",
        "val_X = np.array(val_X_list)\n",
        "#reshape_val = val_X.shape[2]*val_X.shape[3]*val_X.shape[4]\n",
        "#val_X=val_X.reshape(3000,7,7,512)\n",
        "print(val_X.shape)"
      ],
      "execution_count": 0,
      "outputs": [
        {
          "output_type": "stream",
          "text": [
            "(11016, 1, 7, 7, 512)\n"
          ],
          "name": "stdout"
        }
      ]
    },
    {
      "cell_type": "code",
      "metadata": {
        "id": "AotWJBwxJLOt",
        "colab_type": "code",
        "outputId": "ea4dbc9c-2421-4e35-971b-5c7b21068567",
        "colab": {
          "base_uri": "https://localhost:8080/",
          "height": 34
        }
      },
      "source": [
        "val_X=val_X.reshape(len(val_X_list),7,7,512)\n",
        "print(val_X.shape)"
      ],
      "execution_count": 0,
      "outputs": [
        {
          "output_type": "stream",
          "text": [
            "(11016, 7, 7, 512)\n"
          ],
          "name": "stdout"
        }
      ]
    },
    {
      "cell_type": "code",
      "metadata": {
        "id": "bk3orKueRbdx",
        "colab_type": "code",
        "outputId": "3834ff08-141b-4477-f2c3-7a39cad54170",
        "colab": {
          "base_uri": "https://localhost:8080/",
          "height": 34
        }
      },
      "source": [
        "# Loading val_Y1\n",
        "\n",
        "val_Y1_list = pickle.load(open(picklevaldata_Y1, 'rb' ))\n",
        "val_Y1 = np.array(val_Y1_list)\n",
        "print(val_Y1.shape)"
      ],
      "execution_count": 0,
      "outputs": [
        {
          "output_type": "stream",
          "text": [
            "(11016, 172)\n"
          ],
          "name": "stdout"
        }
      ]
    },
    {
      "cell_type": "code",
      "metadata": {
        "id": "keJhEX9BRgaZ",
        "colab_type": "code",
        "outputId": "8a456079-a7d7-488a-8bd5-f0ab21b0f3c8",
        "colab": {
          "base_uri": "https://localhost:8080/",
          "height": 34
        }
      },
      "source": [
        "# Loading val_Y2\n",
        "\n",
        "val_Y2_list = pickle.load(open(picklevaldata_Y2, 'rb' ))\n",
        "val_Y2 = np.array(val_Y2_list)\n",
        "\n",
        "for index in range(val_Y2.shape[0]):\n",
        "  templist = val_Y2[index]\n",
        "  templist_0 = [0 if x==-1 else x for x in templist]\n",
        "  val_Y2[index] = templist_0\n",
        "  \n",
        "print(val_Y2.shape)"
      ],
      "execution_count": 0,
      "outputs": [
        {
          "output_type": "stream",
          "text": [
            "(11016, 353)\n"
          ],
          "name": "stdout"
        }
      ]
    },
    {
      "cell_type": "code",
      "metadata": {
        "id": "-aE-Q8SH8xiF",
        "colab_type": "code",
        "outputId": "a6026c9d-b10d-413e-85a8-d3cfc3438579",
        "colab": {
          "base_uri": "https://localhost:8080/",
          "height": 102
        }
      },
      "source": [
        "# Loading test_X\n",
        "\n",
        "test_X_list = pickle.load(open(pickletestdata_X, 'rb' ))\n",
        "test_X = np.array(test_X_list)\n",
        "\n",
        "print(test_X.shape)\n",
        "test_X=test_X.reshape(len(test_X_list),7,7,512)\n",
        "print(test_X.shape)\n",
        "\n",
        "# Loading test_Y1\n",
        "\n",
        "test_Y1_list = pickle.load(open(pickletestdata_Y1, 'rb' ))\n",
        "test_Y1 = np.array(test_Y1_list)\n",
        "print(test_Y1.shape)\n",
        "\n",
        "\n",
        "# Loading test_Y2\n",
        "\n",
        "test_Y2_list = pickle.load(open(pickletestdata_Y2, 'rb' ))\n",
        "test_Y2 = np.array(test_Y2_list)\n",
        "\n",
        "for index in range(test_Y2.shape[0]):\n",
        "  templist = test_Y2[index]\n",
        "  templist_0 = [0 if x==-1 else x for x in templist]\n",
        "  test_Y2[index] = templist_0\n",
        "\n",
        "\n",
        "test_Y3_list = pickle.load(open(pickletestdata_Y3,\"rb\"))\n",
        "test_Y3 = np.array(test_Y3_list)\n",
        "print(test_Y3.shape)\n",
        "  \n",
        "print(test_Y2.shape)"
      ],
      "execution_count": 0,
      "outputs": [
        {
          "output_type": "stream",
          "text": [
            "(33154, 1, 7, 7, 512)\n",
            "(33154, 7, 7, 512)\n",
            "(33154, 172)\n",
            "(33154,)\n",
            "(33154, 353)\n"
          ],
          "name": "stdout"
        }
      ]
    },
    {
      "cell_type": "code",
      "metadata": {
        "id": "aX8GxKK9UhdY",
        "colab_type": "code",
        "outputId": "c5dd859b-fee1-43e3-be22-ccffd289592c",
        "colab": {
          "base_uri": "https://localhost:8080/",
          "height": 51
        }
      },
      "source": [
        "train_Y3_list = pickle.load(open(pickletraindata_Y3,\"rb\"))\n",
        "train_Y3 = np.array(train_Y3_list)\n",
        "print(train_Y3.shape)\n",
        "val_Y3_list = pickle.load(open(picklevaldata_Y3,\"rb\"))\n",
        "val_Y3 = np.array(val_Y3_list)\n",
        "print(val_Y3.shape)\n",
        "#test_Y3_list = pickle.load(open(pickletestdata_Y3,\"rb\"))\n",
        "#test_Y3 = np.array(test_Y3_list)\n",
        "#print(test_Y3.shape)"
      ],
      "execution_count": 0,
      "outputs": [
        {
          "output_type": "stream",
          "text": [
            "(66071,)\n",
            "(11016,)\n"
          ],
          "name": "stdout"
        }
      ]
    },
    {
      "cell_type": "markdown",
      "metadata": {
        "id": "MQJl4QnO4ynq",
        "colab_type": "text"
      },
      "source": [
        "**F1 CUSTOM FUNCTION**"
      ]
    },
    {
      "cell_type": "code",
      "metadata": {
        "id": "dP5o6Wxjo3LX",
        "colab_type": "code",
        "colab": {}
      },
      "source": [
        "def get_f1(y_true, y_pred): #https://mc.ai/how-to-add-user-defined-function-get-f1-score-in-keras-metrics/\n",
        "  true_positives = K.sum(K.round(K.clip(y_true * y_pred, 0, 1)))\n",
        "  possible_positives = K.sum(K.round(K.clip(y_true, 0, 1)))\n",
        "  predicted_positives = K.sum(K.round(K.clip(y_pred, 0, 1)))\n",
        "  precision = true_positives / (predicted_positives + K.epsilon())\n",
        "  recall = true_positives / (possible_positives + K.epsilon())\n",
        "  f1_val = 2*(precision*recall)/(precision+recall+K.epsilon())\n",
        "  return f1_val\n",
        "\n"
      ],
      "execution_count": 0,
      "outputs": []
    },
    {
      "cell_type": "markdown",
      "metadata": {
        "id": "Nz4D3oE3kDyG",
        "colab_type": "text"
      },
      "source": [
        "**MODEL C WITH CNN**"
      ]
    },
    {
      "cell_type": "code",
      "metadata": {
        "id": "0E1E6SO1kJXR",
        "colab_type": "code",
        "colab": {}
      },
      "source": [
        "def get_f1(y_true, y_pred): #https://mc.ai/how-to-add-user-defined-function-get-f1-score-in-keras-metrics/\n",
        "  true_positives = K.sum(K.round(K.clip(y_true * y_pred, 0, 1)))\n",
        "  possible_positives = K.sum(K.round(K.clip(y_true, 0, 1)))\n",
        "  predicted_positives = K.sum(K.round(K.clip(y_pred, 0, 1)))\n",
        "  precision = true_positives / (predicted_positives + K.epsilon())\n",
        "  recall = true_positives / (possible_positives + K.epsilon())\n",
        "  f1_val = 2*(precision*recall)/(precision+recall+K.epsilon())\n",
        "  return f1_val"
      ],
      "execution_count": 0,
      "outputs": []
    },
    {
      "cell_type": "code",
      "metadata": {
        "id": "zFLsnaErlDhF",
        "colab_type": "code",
        "outputId": "e9fd3ab9-3b3b-4c90-bde4-664537f2aac9",
        "colab": {
          "base_uri": "https://localhost:8080/",
          "height": 1000
        }
      },
      "source": [
        "import tensorflow as tf\n",
        "inputs = Input(shape=(7,7,512))\n",
        "inputs_1 = Flatten()(inputs)\n",
        " \n",
        "conv2D1 = Conv2D(2048, kernel_size=3, activation='relu',padding='same')(inputs)\n",
        "maxPool2D1 = MaxPooling2D(pool_size=(2,2),padding='same')(conv2D1)\n",
        "\n",
        "conv2D2 = Conv2D(1024, kernel_size=3, activation='relu',padding='same')(conv2D1)\n",
        "maxPool2D2 = MaxPooling2D(pool_size=(2,2),padding='same')(conv2D2)\n",
        "dropout2 = Dropout(0.5)(maxPool2D2)\n",
        "\n",
        "conv2D3 = Conv2D(1024, kernel_size=3, activation='relu',padding='same')(dropout2)\n",
        "maxPool2D3 = MaxPooling2D(pool_size=(2,2),padding='same')(conv2D3)\n",
        "dropout3 = Dropout(0.5)(maxPool2D3)\n",
        "\n",
        "flattened3 = Flatten()(dropout3)\n",
        "\n",
        "conv2D4 = Conv2D(2048, kernel_size=3, activation='relu',padding='same')(inputs)\n",
        "maxPool2D4 = MaxPooling2D(pool_size=(2,2),padding='same')(conv2D4)\n",
        "\n",
        "conv2D5 = Conv2D(1024, kernel_size=3, activation='relu',padding='same')(maxPool2D4)\n",
        "maxPool2D5 = MaxPooling2D(pool_size=(2,2),padding='same')(conv2D5)\n",
        "dropout5 = Dropout(0.5)(maxPool2D5)\n",
        "\n",
        "conv2D6 = Conv2D(1024, kernel_size=3, activation='relu',padding='same')(dropout5)\n",
        "maxPool2D6 = MaxPooling2D(pool_size=(2,2),padding='same')(conv2D6)\n",
        "dropout6 = Dropout(0.7)(maxPool2D6)\n",
        "\n",
        "\n",
        "flattened6 = Flatten()(dropout6)\n",
        "\n",
        "\n",
        "\n",
        "output1 = Dense(353,activation='sigmoid',name='ingredient_output')(flattened3)  ##  Ingredient recognition\n",
        "output2 = Dense(172,activation='softmax',name='foodcategory_output')(flattened6) ##  Food categorization\n",
        "print(output1.shape)\n",
        "\n",
        "\n",
        "model_C = Model(inputs=inputs, outputs=[output1,output2]) # Defining model with Architecture A3\n",
        "print(model_C.summary()) # summarize layers\n",
        "plot_model(model_C, to_file='Multi-task Architecture C.png') # plot graph"
      ],
      "execution_count": 0,
      "outputs": [
        {
          "output_type": "stream",
          "text": [
            "WARNING:tensorflow:Large dropout rate: 0.7 (>0.5). In TensorFlow 2.x, dropout() uses dropout rate instead of keep_prob. Please ensure that this is intended.\n",
            "(?, 353)\n",
            "Model: \"model_2\"\n",
            "__________________________________________________________________________________________________\n",
            "Layer (type)                    Output Shape         Param #     Connected to                     \n",
            "==================================================================================================\n",
            "input_2 (InputLayer)            (None, 7, 7, 512)    0                                            \n",
            "__________________________________________________________________________________________________\n",
            "conv2d_11 (Conv2D)              (None, 7, 7, 2048)   9439232     input_2[0][0]                    \n",
            "__________________________________________________________________________________________________\n",
            "conv2d_8 (Conv2D)               (None, 7, 7, 2048)   9439232     input_2[0][0]                    \n",
            "__________________________________________________________________________________________________\n",
            "max_pooling2d_11 (MaxPooling2D) (None, 4, 4, 2048)   0           conv2d_11[0][0]                  \n",
            "__________________________________________________________________________________________________\n",
            "conv2d_9 (Conv2D)               (None, 7, 7, 1024)   18875392    conv2d_8[0][0]                   \n",
            "__________________________________________________________________________________________________\n",
            "conv2d_12 (Conv2D)              (None, 4, 4, 1024)   18875392    max_pooling2d_11[0][0]           \n",
            "__________________________________________________________________________________________________\n",
            "max_pooling2d_9 (MaxPooling2D)  (None, 4, 4, 1024)   0           conv2d_9[0][0]                   \n",
            "__________________________________________________________________________________________________\n",
            "max_pooling2d_12 (MaxPooling2D) (None, 2, 2, 1024)   0           conv2d_12[0][0]                  \n",
            "__________________________________________________________________________________________________\n",
            "dropout_6 (Dropout)             (None, 4, 4, 1024)   0           max_pooling2d_9[0][0]            \n",
            "__________________________________________________________________________________________________\n",
            "dropout_8 (Dropout)             (None, 2, 2, 1024)   0           max_pooling2d_12[0][0]           \n",
            "__________________________________________________________________________________________________\n",
            "conv2d_10 (Conv2D)              (None, 4, 4, 1024)   9438208     dropout_6[0][0]                  \n",
            "__________________________________________________________________________________________________\n",
            "conv2d_13 (Conv2D)              (None, 2, 2, 1024)   9438208     dropout_8[0][0]                  \n",
            "__________________________________________________________________________________________________\n",
            "max_pooling2d_10 (MaxPooling2D) (None, 2, 2, 1024)   0           conv2d_10[0][0]                  \n",
            "__________________________________________________________________________________________________\n",
            "max_pooling2d_13 (MaxPooling2D) (None, 1, 1, 1024)   0           conv2d_13[0][0]                  \n",
            "__________________________________________________________________________________________________\n",
            "dropout_7 (Dropout)             (None, 2, 2, 1024)   0           max_pooling2d_10[0][0]           \n",
            "__________________________________________________________________________________________________\n",
            "dropout_9 (Dropout)             (None, 1, 1, 1024)   0           max_pooling2d_13[0][0]           \n",
            "__________________________________________________________________________________________________\n",
            "flatten_5 (Flatten)             (None, 4096)         0           dropout_7[0][0]                  \n",
            "__________________________________________________________________________________________________\n",
            "flatten_6 (Flatten)             (None, 1024)         0           dropout_9[0][0]                  \n",
            "__________________________________________________________________________________________________\n",
            "ingredient_output (Dense)       (None, 353)          1446241     flatten_5[0][0]                  \n",
            "__________________________________________________________________________________________________\n",
            "foodcategory_output (Dense)     (None, 172)          176300      flatten_6[0][0]                  \n",
            "==================================================================================================\n",
            "Total params: 77,128,205\n",
            "Trainable params: 77,128,205\n",
            "Non-trainable params: 0\n",
            "__________________________________________________________________________________________________\n",
            "None\n"
          ],
          "name": "stdout"
        },
        {
          "output_type": "execute_result",
          "data": {
            "image/png": "[encoded data removed]",
            "text/plain": [
              "<IPython.core.display.Image object>"
            ]
          },
          "metadata": {
            "tags": []
          },
          "execution_count": 19
        }
      ]
    },
    {
      "cell_type": "code",
      "metadata": {
        "id": "aJEQhzTklPVr",
        "colab_type": "code",
        "outputId": "b69d5410-dadd-4003-83b8-2d133819cf3f",
        "colab": {
          "base_uri": "https://localhost:8080/",
          "height": 122
        }
      },
      "source": [
        "import functools\n",
        "top5_acc = functools.partial(keras.metrics.top_k_categorical_accuracy, k=5)\n",
        "\n",
        "top5_acc.__name__ = 'top5_acc'\n",
        "\n",
        "model_C.compile(optimizer=Adam(lr=0.00005),\n",
        "              loss={'ingredient_output': 'binary_crossentropy', 'foodcategory_output': 'categorical_crossentropy'},\n",
        "              #loss_weights={'ingredient_output': 0.8, 'foodcategory_output': 0.2},\n",
        "              metrics=[get_f1,top5_acc])"
      ],
      "execution_count": 0,
      "outputs": [
        {
          "output_type": "stream",
          "text": [
            "WARNING:tensorflow:From /usr/local/lib/python3.6/dist-packages/keras/backend/tensorflow_backend.py:3657: The name tf.log is deprecated. Please use tf.math.log instead.\n",
            "\n",
            "WARNING:tensorflow:From /usr/local/lib/python3.6/dist-packages/tensorflow_core/python/ops/nn_impl.py:183: where (from tensorflow.python.ops.array_ops) is deprecated and will be removed in a future version.\n",
            "Instructions for updating:\n",
            "Use tf.where in 2.0, which has the same broadcast rule as np.where\n"
          ],
          "name": "stdout"
        }
      ]
    },
    {
      "cell_type": "code",
      "metadata": {
        "id": "3WHzearZlWT8",
        "colab_type": "code",
        "outputId": "0bf1bb41-06b8-49e8-fc12-ad4963ae42e4",
        "colab": {
          "base_uri": "https://localhost:8080/",
          "height": 1000
        }
      },
      "source": [
        "model_C.fit(train_X, [train_Y2,train_Y1], batch_size=256, epochs=40,validation_data = (val_X, [val_Y2, val_Y1]))"
      ],
      "execution_count": 0,
      "outputs": [
        {
          "output_type": "stream",
          "text": [
            "WARNING:tensorflow:From /usr/local/lib/python3.6/dist-packages/keras/backend/tensorflow_backend.py:1033: The name tf.assign_add is deprecated. Please use tf.compat.v1.assign_add instead.\n",
            "\n",
            "WARNING:tensorflow:From /usr/local/lib/python3.6/dist-packages/keras/backend/tensorflow_backend.py:1020: The name tf.assign is deprecated. Please use tf.compat.v1.assign instead.\n",
            "\n",
            "WARNING:tensorflow:From /usr/local/lib/python3.6/dist-packages/keras/backend/tensorflow_backend.py:3005: The name tf.Session is deprecated. Please use tf.compat.v1.Session instead.\n",
            "\n",
            "Train on 66071 samples, validate on 11016 samples\n",
            "Epoch 1/40\n",
            "WARNING:tensorflow:From /usr/local/lib/python3.6/dist-packages/keras/backend/tensorflow_backend.py:190: The name tf.get_default_session is deprecated. Please use tf.compat.v1.get_default_session instead.\n",
            "\n",
            "WARNING:tensorflow:From /usr/local/lib/python3.6/dist-packages/keras/backend/tensorflow_backend.py:197: The name tf.ConfigProto is deprecated. Please use tf.compat.v1.ConfigProto instead.\n",
            "\n",
            "WARNING:tensorflow:From /usr/local/lib/python3.6/dist-packages/keras/backend/tensorflow_backend.py:207: The name tf.global_variables is deprecated. Please use tf.compat.v1.global_variables instead.\n",
            "\n",
            "WARNING:tensorflow:From /usr/local/lib/python3.6/dist-packages/keras/backend/tensorflow_backend.py:216: The name tf.is_variable_initialized is deprecated. Please use tf.compat.v1.is_variable_initialized instead.\n",
            "\n",
            "WARNING:tensorflow:From /usr/local/lib/python3.6/dist-packages/keras/backend/tensorflow_backend.py:223: The name tf.variables_initializer is deprecated. Please use tf.compat.v1.variables_initializer instead.\n",
            "\n",
            "66071/66071 [==============================] - 75s 1ms/step - loss: 16.0401 - ingredient_output_loss: 0.1091 - foodcategory_output_loss: 15.9310 - ingredient_output_get_f1: 0.0455 - ingredient_output_top5_acc: 0.1543 - foodcategory_output_get_f1: 0.0087 - foodcategory_output_top5_acc: 0.3782 - val_loss: 15.8942 - val_ingredient_output_loss: 0.0401 - val_foodcategory_output_loss: 15.8541 - val_ingredient_output_get_f1: 0.0209 - val_ingredient_output_top5_acc: 0.4493 - val_foodcategory_output_get_f1: 0.0161 - val_foodcategory_output_top5_acc: 0.9986\n",
            "Epoch 2/40\n",
            "66071/66071 [==============================] - 61s 929us/step - loss: 15.9125 - ingredient_output_loss: 0.0452 - foodcategory_output_loss: 15.8672 - ingredient_output_get_f1: 0.0866 - ingredient_output_top5_acc: 0.2944 - foodcategory_output_get_f1: 0.0143 - foodcategory_output_top5_acc: 0.5942 - val_loss: 15.8003 - val_ingredient_output_loss: 0.0360 - val_foodcategory_output_loss: 15.7643 - val_ingredient_output_get_f1: 0.1092 - val_ingredient_output_top5_acc: 0.5181 - val_foodcategory_output_get_f1: 0.0202 - val_foodcategory_output_top5_acc: 0.9740\n",
            "Epoch 3/40\n",
            "66071/66071 [==============================] - 61s 929us/step - loss: 15.8228 - ingredient_output_loss: 0.0392 - foodcategory_output_loss: 15.7836 - ingredient_output_get_f1: 0.1437 - ingredient_output_top5_acc: 0.3838 - foodcategory_output_get_f1: 0.0197 - foodcategory_output_top5_acc: 0.6679 - val_loss: 15.7541 - val_ingredient_output_loss: 0.0335 - val_foodcategory_output_loss: 15.7206 - val_ingredient_output_get_f1: 0.1964 - val_ingredient_output_top5_acc: 0.5704 - val_foodcategory_output_get_f1: 0.0246 - val_foodcategory_output_top5_acc: 0.9844\n",
            "Epoch 4/40\n",
            "66071/66071 [==============================] - 61s 929us/step - loss: 15.6795 - ingredient_output_loss: 0.0351 - foodcategory_output_loss: 15.6445 - ingredient_output_get_f1: 0.2050 - ingredient_output_top5_acc: 0.4589 - foodcategory_output_get_f1: 0.0275 - foodcategory_output_top5_acc: 0.4502 - val_loss: 15.6276 - val_ingredient_output_loss: 0.0315 - val_foodcategory_output_loss: 15.5961 - val_ingredient_output_get_f1: 0.2847 - val_ingredient_output_top5_acc: 0.6147 - val_foodcategory_output_get_f1: 0.0320 - val_foodcategory_output_top5_acc: 0.7876\n",
            "Epoch 5/40\n",
            "66071/66071 [==============================] - 61s 929us/step - loss: 13.8611 - ingredient_output_loss: 0.0320 - foodcategory_output_loss: 13.8291 - ingredient_output_get_f1: 0.2630 - ingredient_output_top5_acc: 0.5129 - foodcategory_output_get_f1: 0.0333 - foodcategory_output_top5_acc: 0.1769 - val_loss: 5.0503 - val_ingredient_output_loss: 0.0303 - val_foodcategory_output_loss: 5.0199 - val_ingredient_output_get_f1: 0.3651 - val_ingredient_output_top5_acc: 0.6494 - val_foodcategory_output_get_f1: 0.0143 - val_foodcategory_output_top5_acc: 0.1078\n",
            "Epoch 6/40\n",
            "66071/66071 [==============================] - 61s 929us/step - loss: 4.6150 - ingredient_output_loss: 0.0295 - foodcategory_output_loss: 4.5855 - ingredient_output_get_f1: 0.3129 - ingredient_output_top5_acc: 0.5562 - foodcategory_output_get_f1: 0.0499 - foodcategory_output_top5_acc: 0.1995 - val_loss: 3.6125 - val_ingredient_output_loss: 0.0280 - val_foodcategory_output_loss: 3.5845 - val_ingredient_output_get_f1: 0.4087 - val_ingredient_output_top5_acc: 0.6580 - val_foodcategory_output_get_f1: 0.0797 - val_foodcategory_output_top5_acc: 0.5439\n",
            "Epoch 7/40\n",
            "66071/66071 [==============================] - 61s 930us/step - loss: 3.5440 - ingredient_output_loss: 0.0275 - foodcategory_output_loss: 3.5165 - ingredient_output_get_f1: 0.3587 - ingredient_output_top5_acc: 0.5942 - foodcategory_output_get_f1: 0.1522 - foodcategory_output_top5_acc: 0.4636 - val_loss: 2.7165 - val_ingredient_output_loss: 0.0279 - val_foodcategory_output_loss: 2.6886 - val_ingredient_output_get_f1: 0.4552 - val_ingredient_output_top5_acc: 0.6766 - val_foodcategory_output_get_f1: 0.2088 - val_foodcategory_output_top5_acc: 0.7164\n",
            "Epoch 8/40\n",
            "66071/66071 [==============================] - 61s 930us/step - loss: 2.8712 - ingredient_output_loss: 0.0257 - foodcategory_output_loss: 2.8455 - ingredient_output_get_f1: 0.3997 - ingredient_output_top5_acc: 0.6257 - foodcategory_output_get_f1: 0.2719 - foodcategory_output_top5_acc: 0.6185 - val_loss: 2.2385 - val_ingredient_output_loss: 0.0263 - val_foodcategory_output_loss: 2.2122 - val_ingredient_output_get_f1: 0.4800 - val_ingredient_output_top5_acc: 0.6788 - val_foodcategory_output_get_f1: 0.3459 - val_foodcategory_output_top5_acc: 0.7884\n",
            "Epoch 9/40\n",
            "66071/66071 [==============================] - 61s 929us/step - loss: 2.4425 - ingredient_output_loss: 0.0242 - foodcategory_output_loss: 2.4183 - ingredient_output_get_f1: 0.4344 - ingredient_output_top5_acc: 0.6534 - foodcategory_output_get_f1: 0.3668 - foodcategory_output_top5_acc: 0.7064 - val_loss: 1.9440 - val_ingredient_output_loss: 0.0258 - val_foodcategory_output_loss: 1.9182 - val_ingredient_output_get_f1: 0.5042 - val_ingredient_output_top5_acc: 0.6999 - val_foodcategory_output_get_f1: 0.4385 - val_foodcategory_output_top5_acc: 0.8223\n",
            "Epoch 10/40\n",
            "66071/66071 [==============================] - 61s 929us/step - loss: 2.1123 - ingredient_output_loss: 0.0228 - foodcategory_output_loss: 2.0895 - ingredient_output_get_f1: 0.4679 - ingredient_output_top5_acc: 0.6740 - foodcategory_output_get_f1: 0.4500 - foodcategory_output_top5_acc: 0.7663 - val_loss: 1.7723 - val_ingredient_output_loss: 0.0268 - val_foodcategory_output_loss: 1.7455 - val_ingredient_output_get_f1: 0.5287 - val_ingredient_output_top5_acc: 0.7021 - val_foodcategory_output_get_f1: 0.4918 - val_foodcategory_output_top5_acc: 0.8461\n",
            "Epoch 11/40\n",
            "66071/66071 [==============================] - 61s 929us/step - loss: 1.8506 - ingredient_output_loss: 0.0216 - foodcategory_output_loss: 1.8290 - ingredient_output_get_f1: 0.4969 - ingredient_output_top5_acc: 0.6991 - foodcategory_output_get_f1: 0.5164 - foodcategory_output_top5_acc: 0.8072 - val_loss: 1.6365 - val_ingredient_output_loss: 0.0246 - val_foodcategory_output_loss: 1.6119 - val_ingredient_output_get_f1: 0.5362 - val_ingredient_output_top5_acc: 0.7034 - val_foodcategory_output_get_f1: 0.5457 - val_foodcategory_output_top5_acc: 0.8575\n",
            "Epoch 12/40\n",
            "66071/66071 [==============================] - 61s 929us/step - loss: 1.6333 - ingredient_output_loss: 0.0204 - foodcategory_output_loss: 1.6130 - ingredient_output_get_f1: 0.5260 - ingredient_output_top5_acc: 0.7212 - foodcategory_output_get_f1: 0.5674 - foodcategory_output_top5_acc: 0.8431 - val_loss: 1.5277 - val_ingredient_output_loss: 0.0245 - val_foodcategory_output_loss: 1.5032 - val_ingredient_output_get_f1: 0.5575 - val_ingredient_output_top5_acc: 0.7264 - val_foodcategory_output_get_f1: 0.5784 - val_foodcategory_output_top5_acc: 0.8657\n",
            "Epoch 13/40\n",
            "66071/66071 [==============================] - 61s 930us/step - loss: 1.4257 - ingredient_output_loss: 0.0193 - foodcategory_output_loss: 1.4065 - ingredient_output_get_f1: 0.5542 - ingredient_output_top5_acc: 0.7412 - foodcategory_output_get_f1: 0.6186 - foodcategory_output_top5_acc: 0.8744 - val_loss: 1.4422 - val_ingredient_output_loss: 0.0241 - val_foodcategory_output_loss: 1.4181 - val_ingredient_output_get_f1: 0.5669 - val_ingredient_output_top5_acc: 0.7298 - val_foodcategory_output_get_f1: 0.6041 - val_foodcategory_output_top5_acc: 0.8763\n",
            "Epoch 14/40\n",
            "66071/66071 [==============================] - 61s 929us/step - loss: 1.2540 - ingredient_output_loss: 0.0182 - foodcategory_output_loss: 1.2358 - ingredient_output_get_f1: 0.5792 - ingredient_output_top5_acc: 0.7608 - foodcategory_output_get_f1: 0.6612 - foodcategory_output_top5_acc: 0.8969 - val_loss: 1.3988 - val_ingredient_output_loss: 0.0244 - val_foodcategory_output_loss: 1.3744 - val_ingredient_output_get_f1: 0.5784 - val_ingredient_output_top5_acc: 0.7310 - val_foodcategory_output_get_f1: 0.6214 - val_foodcategory_output_top5_acc: 0.8802\n",
            "Epoch 15/40\n",
            "66071/66071 [==============================] - 61s 929us/step - loss: 1.0856 - ingredient_output_loss: 0.0172 - foodcategory_output_loss: 1.0684 - ingredient_output_get_f1: 0.6042 - ingredient_output_top5_acc: 0.7763 - foodcategory_output_get_f1: 0.7048 - foodcategory_output_top5_acc: 0.9185 - val_loss: 1.3314 - val_ingredient_output_loss: 0.0234 - val_foodcategory_output_loss: 1.3079 - val_ingredient_output_get_f1: 0.5849 - val_ingredient_output_top5_acc: 0.7295 - val_foodcategory_output_get_f1: 0.6494 - val_foodcategory_output_top5_acc: 0.8854\n",
            "Epoch 16/40\n",
            "66071/66071 [==============================] - 61s 929us/step - loss: 0.9463 - ingredient_output_loss: 0.0163 - foodcategory_output_loss: 0.9300 - ingredient_output_get_f1: 0.6268 - ingredient_output_top5_acc: 0.7917 - foodcategory_output_get_f1: 0.7395 - foodcategory_output_top5_acc: 0.9354 - val_loss: 1.2926 - val_ingredient_output_loss: 0.0233 - val_foodcategory_output_loss: 1.2693 - val_ingredient_output_get_f1: 0.5921 - val_ingredient_output_top5_acc: 0.7322 - val_foodcategory_output_get_f1: 0.6663 - val_foodcategory_output_top5_acc: 0.8883\n",
            "Epoch 17/40\n",
            "66071/66071 [==============================] - 61s 929us/step - loss: 0.8065 - ingredient_output_loss: 0.0153 - foodcategory_output_loss: 0.7913 - ingredient_output_get_f1: 0.6520 - ingredient_output_top5_acc: 0.8106 - foodcategory_output_get_f1: 0.7763 - foodcategory_output_top5_acc: 0.9503 - val_loss: 1.2542 - val_ingredient_output_loss: 0.0219 - val_foodcategory_output_loss: 1.2324 - val_ingredient_output_get_f1: 0.5985 - val_ingredient_output_top5_acc: 0.7416 - val_foodcategory_output_get_f1: 0.6795 - val_foodcategory_output_top5_acc: 0.8930\n",
            "Epoch 18/40\n",
            "66071/66071 [==============================] - 61s 929us/step - loss: 0.6943 - ingredient_output_loss: 0.0144 - foodcategory_output_loss: 0.6799 - ingredient_output_get_f1: 0.6733 - ingredient_output_top5_acc: 0.8266 - foodcategory_output_get_f1: 0.8048 - foodcategory_output_top5_acc: 0.9611 - val_loss: 1.2467 - val_ingredient_output_loss: 0.0224 - val_foodcategory_output_loss: 1.2243 - val_ingredient_output_get_f1: 0.6016 - val_ingredient_output_top5_acc: 0.7404 - val_foodcategory_output_get_f1: 0.6827 - val_foodcategory_output_top5_acc: 0.8968\n",
            "Epoch 19/40\n",
            "66071/66071 [==============================] - 61s 929us/step - loss: 0.5913 - ingredient_output_loss: 0.0134 - foodcategory_output_loss: 0.5778 - ingredient_output_get_f1: 0.6973 - ingredient_output_top5_acc: 0.8429 - foodcategory_output_get_f1: 0.8340 - foodcategory_output_top5_acc: 0.9709 - val_loss: 1.2343 - val_ingredient_output_loss: 0.0215 - val_foodcategory_output_loss: 1.2128 - val_ingredient_output_get_f1: 0.6055 - val_ingredient_output_top5_acc: 0.7349 - val_foodcategory_output_get_f1: 0.6899 - val_foodcategory_output_top5_acc: 0.8975\n",
            "Epoch 20/40\n",
            "66071/66071 [==============================] - 61s 929us/step - loss: 0.5019 - ingredient_output_loss: 0.0126 - foodcategory_output_loss: 0.4893 - ingredient_output_get_f1: 0.7173 - ingredient_output_top5_acc: 0.8549 - foodcategory_output_get_f1: 0.8575 - foodcategory_output_top5_acc: 0.9788 - val_loss: 1.2348 - val_ingredient_output_loss: 0.0220 - val_foodcategory_output_loss: 1.2128 - val_ingredient_output_get_f1: 0.6119 - val_ingredient_output_top5_acc: 0.7410 - val_foodcategory_output_get_f1: 0.6989 - val_foodcategory_output_top5_acc: 0.8963\n",
            "Epoch 21/40\n",
            "66071/66071 [==============================] - 61s 929us/step - loss: 0.4277 - ingredient_output_loss: 0.0118 - foodcategory_output_loss: 0.4159 - ingredient_output_get_f1: 0.7363 - ingredient_output_top5_acc: 0.8694 - foodcategory_output_get_f1: 0.8770 - foodcategory_output_top5_acc: 0.9844 - val_loss: 1.2316 - val_ingredient_output_loss: 0.0214 - val_foodcategory_output_loss: 1.2102 - val_ingredient_output_get_f1: 0.6125 - val_ingredient_output_top5_acc: 0.7346 - val_foodcategory_output_get_f1: 0.7041 - val_foodcategory_output_top5_acc: 0.8968\n",
            "Epoch 22/40\n",
            "66071/66071 [==============================] - 61s 930us/step - loss: 0.3627 - ingredient_output_loss: 0.0110 - foodcategory_output_loss: 0.3517 - ingredient_output_get_f1: 0.7556 - ingredient_output_top5_acc: 0.8849 - foodcategory_output_get_f1: 0.8949 - foodcategory_output_top5_acc: 0.9885 - val_loss: 1.2278 - val_ingredient_output_loss: 0.0215 - val_foodcategory_output_loss: 1.2064 - val_ingredient_output_get_f1: 0.6196 - val_ingredient_output_top5_acc: 0.7448 - val_foodcategory_output_get_f1: 0.7092 - val_foodcategory_output_top5_acc: 0.8969\n",
            "Epoch 23/40\n",
            "66071/66071 [==============================] - 61s 930us/step - loss: 0.3120 - ingredient_output_loss: 0.0102 - foodcategory_output_loss: 0.3018 - ingredient_output_get_f1: 0.7735 - ingredient_output_top5_acc: 0.8953 - foodcategory_output_get_f1: 0.9102 - foodcategory_output_top5_acc: 0.9916 - val_loss: 1.2390 - val_ingredient_output_loss: 0.0214 - val_foodcategory_output_loss: 1.2177 - val_ingredient_output_get_f1: 0.6190 - val_ingredient_output_top5_acc: 0.7341 - val_foodcategory_output_get_f1: 0.7101 - val_foodcategory_output_top5_acc: 0.8971\n",
            "Epoch 24/40\n",
            "66071/66071 [==============================] - 61s 929us/step - loss: 0.2626 - ingredient_output_loss: 0.0095 - foodcategory_output_loss: 0.2531 - ingredient_output_get_f1: 0.7900 - ingredient_output_top5_acc: 0.9081 - foodcategory_output_get_f1: 0.9243 - foodcategory_output_top5_acc: 0.9941 - val_loss: 1.2397 - val_ingredient_output_loss: 0.0207 - val_foodcategory_output_loss: 1.2190 - val_ingredient_output_get_f1: 0.6221 - val_ingredient_output_top5_acc: 0.7435 - val_foodcategory_output_get_f1: 0.7146 - val_foodcategory_output_top5_acc: 0.8991\n",
            "Epoch 25/40\n",
            "66071/66071 [==============================] - 61s 930us/step - loss: 0.2297 - ingredient_output_loss: 0.0088 - foodcategory_output_loss: 0.2209 - ingredient_output_get_f1: 0.8061 - ingredient_output_top5_acc: 0.9186 - foodcategory_output_get_f1: 0.9337 - foodcategory_output_top5_acc: 0.9956 - val_loss: 1.2395 - val_ingredient_output_loss: 0.0206 - val_foodcategory_output_loss: 1.2189 - val_ingredient_output_get_f1: 0.6220 - val_ingredient_output_top5_acc: 0.7308 - val_foodcategory_output_get_f1: 0.7171 - val_foodcategory_output_top5_acc: 0.9002\n",
            "Epoch 26/40\n",
            "66071/66071 [==============================] - 61s 929us/step - loss: 0.1992 - ingredient_output_loss: 0.0083 - foodcategory_output_loss: 0.1909 - ingredient_output_get_f1: 0.8180 - ingredient_output_top5_acc: 0.9265 - foodcategory_output_get_f1: 0.9436 - foodcategory_output_top5_acc: 0.9967 - val_loss: 1.2476 - val_ingredient_output_loss: 0.0214 - val_foodcategory_output_loss: 1.2262 - val_ingredient_output_get_f1: 0.6254 - val_ingredient_output_top5_acc: 0.7409 - val_foodcategory_output_get_f1: 0.7200 - val_foodcategory_output_top5_acc: 0.8975\n",
            "Epoch 27/40\n",
            "66071/66071 [==============================] - 61s 930us/step - loss: 0.1723 - ingredient_output_loss: 0.0076 - foodcategory_output_loss: 0.1646 - ingredient_output_get_f1: 0.8329 - ingredient_output_top5_acc: 0.9345 - foodcategory_output_get_f1: 0.9511 - foodcategory_output_top5_acc: 0.9979 - val_loss: 1.2545 - val_ingredient_output_loss: 0.0207 - val_foodcategory_output_loss: 1.2338 - val_ingredient_output_get_f1: 0.6258 - val_ingredient_output_top5_acc: 0.7421 - val_foodcategory_output_get_f1: 0.7203 - val_foodcategory_output_top5_acc: 0.9000\n",
            "Epoch 28/40\n",
            "66071/66071 [==============================] - 61s 931us/step - loss: 0.1577 - ingredient_output_loss: 0.0071 - foodcategory_output_loss: 0.1506 - ingredient_output_get_f1: 0.8444 - ingredient_output_top5_acc: 0.9422 - foodcategory_output_get_f1: 0.9553 - foodcategory_output_top5_acc: 0.9979 - val_loss: 1.2990 - val_ingredient_output_loss: 0.0211 - val_foodcategory_output_loss: 1.2779 - val_ingredient_output_get_f1: 0.6223 - val_ingredient_output_top5_acc: 0.7220 - val_foodcategory_output_get_f1: 0.7194 - val_foodcategory_output_top5_acc: 0.8988\n",
            "Epoch 29/40\n",
            "66071/66071 [==============================] - 61s 930us/step - loss: 0.1387 - ingredient_output_loss: 0.0066 - foodcategory_output_loss: 0.1321 - ingredient_output_get_f1: 0.8571 - ingredient_output_top5_acc: 0.9484 - foodcategory_output_get_f1: 0.9611 - foodcategory_output_top5_acc: 0.9984 - val_loss: 1.2973 - val_ingredient_output_loss: 0.0205 - val_foodcategory_output_loss: 1.2767 - val_ingredient_output_get_f1: 0.6258 - val_ingredient_output_top5_acc: 0.7438 - val_foodcategory_output_get_f1: 0.7233 - val_foodcategory_output_top5_acc: 0.8995\n",
            "Epoch 30/40\n",
            "66071/66071 [==============================] - 61s 930us/step - loss: 0.1284 - ingredient_output_loss: 0.0061 - foodcategory_output_loss: 0.1223 - ingredient_output_get_f1: 0.8671 - ingredient_output_top5_acc: 0.9540 - foodcategory_output_get_f1: 0.9634 - foodcategory_output_top5_acc: 0.9989 - val_loss: 1.2966 - val_ingredient_output_loss: 0.0210 - val_foodcategory_output_loss: 1.2756 - val_ingredient_output_get_f1: 0.6278 - val_ingredient_output_top5_acc: 0.7503 - val_foodcategory_output_get_f1: 0.7234 - val_foodcategory_output_top5_acc: 0.9022\n",
            "Epoch 31/40\n",
            "66071/66071 [==============================] - 61s 930us/step - loss: 0.1118 - ingredient_output_loss: 0.0057 - foodcategory_output_loss: 0.1061 - ingredient_output_get_f1: 0.8758 - ingredient_output_top5_acc: 0.9601 - foodcategory_output_get_f1: 0.9690 - foodcategory_output_top5_acc: 0.9988 - val_loss: 1.3170 - val_ingredient_output_loss: 0.0209 - val_foodcategory_output_loss: 1.2961 - val_ingredient_output_get_f1: 0.6287 - val_ingredient_output_top5_acc: 0.7466 - val_foodcategory_output_get_f1: 0.7250 - val_foodcategory_output_top5_acc: 0.8983\n",
            "Epoch 32/40\n",
            "66071/66071 [==============================] - 61s 928us/step - loss: 0.1052 - ingredient_output_loss: 0.0053 - foodcategory_output_loss: 0.0999 - ingredient_output_get_f1: 0.8838 - ingredient_output_top5_acc: 0.9624 - foodcategory_output_get_f1: 0.9709 - foodcategory_output_top5_acc: 0.9991 - val_loss: 1.3159 - val_ingredient_output_loss: 0.0206 - val_foodcategory_output_loss: 1.2953 - val_ingredient_output_get_f1: 0.6309 - val_ingredient_output_top5_acc: 0.7433 - val_foodcategory_output_get_f1: 0.7223 - val_foodcategory_output_top5_acc: 0.8992\n",
            "Epoch 33/40\n",
            "66071/66071 [==============================] - 61s 929us/step - loss: 0.0951 - ingredient_output_loss: 0.0049 - foodcategory_output_loss: 0.0902 - ingredient_output_get_f1: 0.8928 - ingredient_output_top5_acc: 0.9675 - foodcategory_output_get_f1: 0.9738 - foodcategory_output_top5_acc: 0.9993 - val_loss: 1.3916 - val_ingredient_output_loss: 0.0213 - val_foodcategory_output_loss: 1.3703 - val_ingredient_output_get_f1: 0.6301 - val_ingredient_output_top5_acc: 0.7160 - val_foodcategory_output_get_f1: 0.7166 - val_foodcategory_output_top5_acc: 0.8958\n",
            "Epoch 34/40\n",
            "66071/66071 [==============================] - 61s 929us/step - loss: 0.0943 - ingredient_output_loss: 0.0046 - foodcategory_output_loss: 0.0896 - ingredient_output_get_f1: 0.9000 - ingredient_output_top5_acc: 0.9688 - foodcategory_output_get_f1: 0.9739 - foodcategory_output_top5_acc: 0.9993 - val_loss: 1.3375 - val_ingredient_output_loss: 0.0209 - val_foodcategory_output_loss: 1.3166 - val_ingredient_output_get_f1: 0.6320 - val_ingredient_output_top5_acc: 0.7359 - val_foodcategory_output_get_f1: 0.7232 - val_foodcategory_output_top5_acc: 0.8977\n",
            "Epoch 35/40\n",
            "66071/66071 [==============================] - 61s 929us/step - loss: 0.0852 - ingredient_output_loss: 0.0043 - foodcategory_output_loss: 0.0809 - ingredient_output_get_f1: 0.9069 - ingredient_output_top5_acc: 0.9728 - foodcategory_output_get_f1: 0.9767 - foodcategory_output_top5_acc: 0.9994 - val_loss: 1.3531 - val_ingredient_output_loss: 0.0212 - val_foodcategory_output_loss: 1.3319 - val_ingredient_output_get_f1: 0.6319 - val_ingredient_output_top5_acc: 0.7482 - val_foodcategory_output_get_f1: 0.7239 - val_foodcategory_output_top5_acc: 0.8963\n",
            "Epoch 36/40\n",
            "66071/66071 [==============================] - 61s 930us/step - loss: 0.0806 - ingredient_output_loss: 0.0041 - foodcategory_output_loss: 0.0766 - ingredient_output_get_f1: 0.9125 - ingredient_output_top5_acc: 0.9745 - foodcategory_output_get_f1: 0.9778 - foodcategory_output_top5_acc: 0.9993 - val_loss: 1.3574 - val_ingredient_output_loss: 0.0213 - val_foodcategory_output_loss: 1.3361 - val_ingredient_output_get_f1: 0.6308 - val_ingredient_output_top5_acc: 0.7322 - val_foodcategory_output_get_f1: 0.7192 - val_foodcategory_output_top5_acc: 0.8993\n",
            "Epoch 37/40\n",
            "66071/66071 [==============================] - 61s 930us/step - loss: 0.0751 - ingredient_output_loss: 0.0038 - foodcategory_output_loss: 0.0713 - ingredient_output_get_f1: 0.9179 - ingredient_output_top5_acc: 0.9770 - foodcategory_output_get_f1: 0.9793 - foodcategory_output_top5_acc: 0.9996 - val_loss: 1.3867 - val_ingredient_output_loss: 0.0214 - val_foodcategory_output_loss: 1.3654 - val_ingredient_output_get_f1: 0.6312 - val_ingredient_output_top5_acc: 0.7188 - val_foodcategory_output_get_f1: 0.7212 - val_foodcategory_output_top5_acc: 0.8970\n",
            "Epoch 38/40\n",
            "66071/66071 [==============================] - 61s 930us/step - loss: 0.0726 - ingredient_output_loss: 0.0036 - foodcategory_output_loss: 0.0689 - ingredient_output_get_f1: 0.9222 - ingredient_output_top5_acc: 0.9777 - foodcategory_output_get_f1: 0.9804 - foodcategory_output_top5_acc: 0.9995 - val_loss: 1.4045 - val_ingredient_output_loss: 0.0215 - val_foodcategory_output_loss: 1.3830 - val_ingredient_output_get_f1: 0.6349 - val_ingredient_output_top5_acc: 0.7378 - val_foodcategory_output_get_f1: 0.7246 - val_foodcategory_output_top5_acc: 0.8970\n",
            "Epoch 39/40\n",
            "66071/66071 [==============================] - 61s 930us/step - loss: 0.0715 - ingredient_output_loss: 0.0034 - foodcategory_output_loss: 0.0681 - ingredient_output_get_f1: 0.9266 - ingredient_output_top5_acc: 0.9786 - foodcategory_output_get_f1: 0.9804 - foodcategory_output_top5_acc: 0.9994 - val_loss: 1.4028 - val_ingredient_output_loss: 0.0215 - val_foodcategory_output_loss: 1.3813 - val_ingredient_output_get_f1: 0.6331 - val_ingredient_output_top5_acc: 0.7259 - val_foodcategory_output_get_f1: 0.7228 - val_foodcategory_output_top5_acc: 0.8971\n",
            "Epoch 40/40\n",
            "66071/66071 [==============================] - 61s 929us/step - loss: 0.0646 - ingredient_output_loss: 0.0032 - foodcategory_output_loss: 0.0614 - ingredient_output_get_f1: 0.9328 - ingredient_output_top5_acc: 0.9810 - foodcategory_output_get_f1: 0.9826 - foodcategory_output_top5_acc: 0.9996 - val_loss: 1.3947 - val_ingredient_output_loss: 0.0219 - val_foodcategory_output_loss: 1.3728 - val_ingredient_output_get_f1: 0.6304 - val_ingredient_output_top5_acc: 0.7251 - val_foodcategory_output_get_f1: 0.7239 - val_foodcategory_output_top5_acc: 0.8974\n"
          ],
          "name": "stdout"
        },
        {
          "output_type": "execute_result",
          "data": {
            "text/plain": [
              "<keras.callbacks.History at 0x7f5c30951fd0>"
            ]
          },
          "metadata": {
            "tags": []
          },
          "execution_count": 22
        }
      ]
    },
    {
      "cell_type": "code",
      "metadata": {
        "id": "aE2xxs7rlWcA",
        "colab_type": "code",
        "outputId": "ae54ac5a-ae39-47e3-f119-90bced15d46e",
        "colab": {
          "base_uri": "https://localhost:8080/",
          "height": 34
        }
      },
      "source": [
        "from keras.models import model_from_json\n",
        "# serialize model to JSON\n",
        "model_json = model_C.to_json()\n",
        "with open('gdrive/My Drive/DL Project/Models/ModelC_IngFood.json', \"w\") as json_file:\n",
        "    json_file.write(model_json)\n",
        "# serialize weights to HDF5\n",
        "model_C.save_weights('gdrive/My Drive/DL Project/Models/ModelC_IngFood.h5')\n",
        "print(\"Saved model to disk\")\n"
      ],
      "execution_count": 0,
      "outputs": [
        {
          "output_type": "stream",
          "text": [
            "Saved model to disk\n"
          ],
          "name": "stdout"
        }
      ]
    },
    {
      "cell_type": "code",
      "metadata": {
        "id": "HWChJmaQlWgE",
        "colab_type": "code",
        "outputId": "09077f43-7212-4900-9ad8-fb53e5b1620b",
        "colab": {
          "base_uri": "https://localhost:8080/",
          "height": 496
        }
      },
      "source": [
        "from keras.models import model_from_json\n",
        "# load json and create model\n",
        "json_file = open('gdrive/My Drive/DL Project/Models/ModelC_IngFood.json', 'r')\n",
        "loaded_model_json = json_file.read()\n",
        "json_file.close()\n",
        "loaded_model = model_from_json(loaded_model_json)\n",
        "# load weights into new model\n",
        "loaded_model.load_weights('gdrive/My Drive/DL Project/Models/ModelC_IngFood.h5')\n",
        "print(\"Loaded model from disk\")"
      ],
      "execution_count": 0,
      "outputs": [
        {
          "output_type": "stream",
          "text": [
            "WARNING:tensorflow:From /usr/local/lib/python3.6/dist-packages/keras/backend/tensorflow_backend.py:541: The name tf.placeholder is deprecated. Please use tf.compat.v1.placeholder instead.\n",
            "\n",
            "WARNING:tensorflow:From /usr/local/lib/python3.6/dist-packages/keras/backend/tensorflow_backend.py:4432: The name tf.random_uniform is deprecated. Please use tf.random.uniform instead.\n",
            "\n",
            "WARNING:tensorflow:From /usr/local/lib/python3.6/dist-packages/keras/backend/tensorflow_backend.py:4267: The name tf.nn.max_pool is deprecated. Please use tf.nn.max_pool2d instead.\n",
            "\n",
            "WARNING:tensorflow:From /usr/local/lib/python3.6/dist-packages/keras/backend/tensorflow_backend.py:66: The name tf.get_default_graph is deprecated. Please use tf.compat.v1.get_default_graph instead.\n",
            "\n",
            "WARNING:tensorflow:From /usr/local/lib/python3.6/dist-packages/keras/backend/tensorflow_backend.py:148: The name tf.placeholder_with_default is deprecated. Please use tf.compat.v1.placeholder_with_default instead.\n",
            "\n",
            "WARNING:tensorflow:From /usr/local/lib/python3.6/dist-packages/keras/backend/tensorflow_backend.py:3733: calling dropout (from tensorflow.python.ops.nn_ops) with keep_prob is deprecated and will be removed in a future version.\n",
            "Instructions for updating:\n",
            "Please use `rate` instead of `keep_prob`. Rate should be set to `rate = 1 - keep_prob`.\n",
            "WARNING:tensorflow:Large dropout rate: 0.7 (>0.5). In TensorFlow 2.x, dropout() uses dropout rate instead of keep_prob. Please ensure that this is intended.\n",
            "WARNING:tensorflow:From /usr/local/lib/python3.6/dist-packages/keras/backend/tensorflow_backend.py:190: The name tf.get_default_session is deprecated. Please use tf.compat.v1.get_default_session instead.\n",
            "\n",
            "WARNING:tensorflow:From /usr/local/lib/python3.6/dist-packages/keras/backend/tensorflow_backend.py:197: The name tf.ConfigProto is deprecated. Please use tf.compat.v1.ConfigProto instead.\n",
            "\n",
            "WARNING:tensorflow:From /usr/local/lib/python3.6/dist-packages/keras/backend/tensorflow_backend.py:203: The name tf.Session is deprecated. Please use tf.compat.v1.Session instead.\n",
            "\n",
            "WARNING:tensorflow:From /usr/local/lib/python3.6/dist-packages/keras/backend/tensorflow_backend.py:207: The name tf.global_variables is deprecated. Please use tf.compat.v1.global_variables instead.\n",
            "\n",
            "WARNING:tensorflow:From /usr/local/lib/python3.6/dist-packages/keras/backend/tensorflow_backend.py:216: The name tf.is_variable_initialized is deprecated. Please use tf.compat.v1.is_variable_initialized instead.\n",
            "\n",
            "WARNING:tensorflow:From /usr/local/lib/python3.6/dist-packages/keras/backend/tensorflow_backend.py:223: The name tf.variables_initializer is deprecated. Please use tf.compat.v1.variables_initializer instead.\n",
            "\n",
            "Loaded model from disk\n"
          ],
          "name": "stdout"
        }
      ]
    },
    {
      "cell_type": "code",
      "metadata": {
        "id": "ZlHEeVw8lWZv",
        "colab_type": "code",
        "outputId": "ea6c0747-78bc-4903-c512-fbf5ae8bbe5f",
        "colab": {
          "base_uri": "https://localhost:8080/",
          "height": 156
        }
      },
      "source": [
        "import functools\n",
        "top5_acc = functools.partial(keras.metrics.top_k_categorical_accuracy, k=5)\n",
        "\n",
        "top5_acc.__name__ = 'top5_acc'\n",
        "loaded_model.compile(optimizer=Adam(lr=0.0005),\n",
        "              loss={'ingredient_output': 'binary_crossentropy', 'foodcategory_output': 'categorical_crossentropy'},\n",
        "              #loss_weights={'ingredient_output': 0.8, 'foodcategory_output': 0.2},\n",
        "              metrics=[get_f1,top5_acc])\n"
      ],
      "execution_count": 0,
      "outputs": [
        {
          "output_type": "stream",
          "text": [
            "WARNING:tensorflow:From /usr/local/lib/python3.6/dist-packages/keras/optimizers.py:793: The name tf.train.Optimizer is deprecated. Please use tf.compat.v1.train.Optimizer instead.\n",
            "\n",
            "WARNING:tensorflow:From /usr/local/lib/python3.6/dist-packages/keras/backend/tensorflow_backend.py:3657: The name tf.log is deprecated. Please use tf.math.log instead.\n",
            "\n",
            "WARNING:tensorflow:From /usr/local/lib/python3.6/dist-packages/tensorflow_core/python/ops/nn_impl.py:183: where (from tensorflow.python.ops.array_ops) is deprecated and will be removed in a future version.\n",
            "Instructions for updating:\n",
            "Use tf.where in 2.0, which has the same broadcast rule as np.where\n"
          ],
          "name": "stdout"
        }
      ]
    },
    {
      "cell_type": "code",
      "metadata": {
        "id": "g63cx2fslWYG",
        "colab_type": "code",
        "outputId": "39f8ffb2-63c0-4287-aa64-335af3be80e6",
        "colab": {
          "base_uri": "https://localhost:8080/",
          "height": 51
        }
      },
      "source": [
        "results = loaded_model.evaluate(test_X, [test_Y2,test_Y1], batch_size=128)\n",
        "print(results)"
      ],
      "execution_count": 0,
      "outputs": [
        {
          "output_type": "stream",
          "text": [
            "33154/33154 [==============================] - 130s 4ms/step\n",
            "[1.4474599664184629, 0.02218371260983813, 1.425276251133481, 0.6258339426331521, 0.7186463171864632, 0.7149515375769123, 0.8934065271158834]\n"
          ],
          "name": "stdout"
        }
      ]
    },
    {
      "cell_type": "code",
      "metadata": {
        "id": "Us6s3xzbur3K",
        "colab_type": "code",
        "outputId": "6b1fedf2-268d-45fb-ea6a-0b4cd46e6090",
        "colab": {
          "base_uri": "https://localhost:8080/",
          "height": 85
        }
      },
      "source": [
        "## prediction on test\n",
        "\n",
        "print('Ingredient F1:', results[3])\n",
        "print('Ingredient Top5:', results[4])\n",
        "print('Food F1:', results[5])\n",
        "print('Food Top5:', results[6])\n"
      ],
      "execution_count": 0,
      "outputs": [
        {
          "output_type": "stream",
          "text": [
            "Ingredient F1: 0.6258339426331521\n",
            "Ingredient Top5: 0.7186463171864632\n",
            "Food F1: 0.7149515375769123\n",
            "Food Top5: 0.8934065271158834\n"
          ],
          "name": "stdout"
        }
      ]
    },
    {
      "cell_type": "code",
      "metadata": {
        "id": "x2jB3Ziguwzr",
        "colab_type": "code",
        "outputId": "e770763f-5781-4d86-ba24-c4c19515c103",
        "colab": {
          "base_uri": "https://localhost:8080/",
          "height": 34
        }
      },
      "source": [
        "print('Generate predictions for all samples')\n",
        "#loaded_model.compile(loss='binary_crossentropy', optimizer='rmsprop', metrics=['accuracy'])\n",
        "\n",
        "predictions = loaded_model.predict(test_X)"
      ],
      "execution_count": 0,
      "outputs": [
        {
          "output_type": "stream",
          "text": [
            "Generate predictions for all samples\n"
          ],
          "name": "stdout"
        }
      ]
    },
    {
      "cell_type": "code",
      "metadata": {
        "id": "27MckSvQuytm",
        "colab_type": "code",
        "outputId": "de2f783f-1aaf-43db-9834-0bbd1040b09e",
        "colab": {
          "base_uri": "https://localhost:8080/",
          "height": 1000
        }
      },
      "source": [
        "predictions_ingredients=1*(predictions[0] >= 0.5)\n",
        "\n",
        "from sklearn.metrics import classification_report\n",
        "print(classification_report(test_Y2, predictions_ingredients))"
      ],
      "execution_count": 0,
      "outputs": [
        {
          "output_type": "stream",
          "text": [
            "              precision    recall  f1-score   support\n",
            "\n",
            "           0       0.62      0.73      0.67      6698\n",
            "           1       0.65      0.55      0.59       666\n",
            "           2       0.43      0.26      0.32       731\n",
            "           3       0.64      0.73      0.68       144\n",
            "           4       0.72      0.67      0.70       435\n",
            "           5       0.43      0.30      0.35        10\n",
            "           6       1.00      0.08      0.15        24\n",
            "           7       0.17      0.02      0.04        46\n",
            "           8       0.63      0.68      0.65       868\n",
            "           9       0.57      0.30      0.39       365\n",
            "          10       0.31      0.10      0.15        41\n",
            "          11       0.67      0.48      0.56       699\n",
            "          12       0.59      0.40      0.48       387\n",
            "          13       0.59      0.44      0.51      1639\n",
            "          14       0.70      0.51      0.59        76\n",
            "          15       0.66      0.55      0.60      4353\n",
            "          16       0.47      0.52      0.49      1138\n",
            "          17       0.51      0.64      0.57      1570\n",
            "          18       0.25      0.02      0.04        41\n",
            "          19       0.46      0.19      0.27        99\n",
            "          20       0.74      0.73      0.74       218\n",
            "          21       0.66      0.57      0.61      3886\n",
            "          22       0.73      0.65      0.69       187\n",
            "          23       0.00      0.00      0.00         7\n",
            "          24       0.82      0.53      0.64       493\n",
            "          25       0.36      0.10      0.16        78\n",
            "          26       0.58      0.31      0.40       213\n",
            "          27       0.58      0.33      0.42      1370\n",
            "          28       0.67      0.12      0.21        49\n",
            "          29       0.72      0.77      0.74       460\n",
            "          30       0.77      0.43      0.55       101\n",
            "          31       0.63      0.79      0.70       267\n",
            "          32       0.63      0.50      0.55       315\n",
            "          33       0.86      0.75      0.80       255\n",
            "          34       0.67      0.11      0.19        18\n",
            "          35       0.00      0.00      0.00         9\n",
            "          36       0.00      0.00      0.00         6\n",
            "          37       0.00      0.00      0.00        17\n",
            "          38       0.00      0.00      0.00        18\n",
            "          39       0.72      0.52      0.60       222\n",
            "          40       0.41      0.62      0.50        48\n",
            "          41       0.90      0.85      0.87       201\n",
            "          42       0.50      0.11      0.19        88\n",
            "          43       0.46      0.10      0.16       303\n",
            "          44       0.50      0.06      0.11        17\n",
            "          45       0.64      0.38      0.48        47\n",
            "          46       0.62      0.55      0.59       970\n",
            "          47       0.60      0.14      0.23        64\n",
            "          48       0.55      0.13      0.21        86\n",
            "          49       0.62      0.50      0.55       361\n",
            "          50       0.67      0.12      0.21        16\n",
            "          51       0.69      0.54      0.60       635\n",
            "          52       0.94      0.90      0.92       221\n",
            "          53       0.65      0.39      0.48       325\n",
            "          54       0.73      0.23      0.35        95\n",
            "          55       0.67      0.64      0.65       269\n",
            "          56       0.53      0.36      0.43       548\n",
            "          57       0.60      0.70      0.64       466\n",
            "          58       0.51      0.58      0.54      3241\n",
            "          59       0.47      0.43      0.45      1103\n",
            "          60       0.71      0.63      0.67       314\n",
            "          61       1.00      0.12      0.22        24\n",
            "          62       0.62      0.68      0.65       202\n",
            "          63       0.76      0.56      0.64      1003\n",
            "          64       0.00      0.00      0.00         5\n",
            "          65       0.21      0.17      0.19       154\n",
            "          66       0.37      0.33      0.35       171\n",
            "          67       0.45      0.23      0.31        39\n",
            "          68       0.76      0.80      0.78      1684\n",
            "          69       0.59      0.59      0.59       125\n",
            "          70       0.55      0.48      0.51        61\n",
            "          71       0.68      0.47      0.56       138\n",
            "          72       1.00      0.20      0.33         5\n",
            "          73       0.60      0.75      0.66       249\n",
            "          74       0.67      0.47      0.56       196\n",
            "          75       0.81      0.95      0.87       221\n",
            "          76       0.85      0.81      0.83       145\n",
            "          77       0.33      0.04      0.07        25\n",
            "          78       0.00      0.00      0.00         9\n",
            "          79       0.75      0.19      0.30        16\n",
            "          80       0.66      0.58      0.62       305\n",
            "          81       0.66      0.61      0.63      1415\n",
            "          82       0.70      0.67      0.68      1147\n",
            "          83       0.66      0.61      0.63      1669\n",
            "          84       0.46      0.46      0.46       795\n",
            "          85       0.50      0.57      0.53       337\n",
            "          86       0.63      0.25      0.36       132\n",
            "          87       0.33      0.39      0.36        36\n",
            "          88       0.45      0.23      0.30        22\n",
            "          89       0.71      0.77      0.74       179\n",
            "          90       0.69      0.45      0.54       680\n",
            "          91       0.77      0.57      0.66        40\n",
            "          92       0.70      0.74      0.72       317\n",
            "          93       0.00      0.00      0.00         5\n",
            "          94       0.38      0.34      0.36       554\n",
            "          95       0.54      0.43      0.48      1936\n",
            "          96       0.67      0.72      0.69        47\n",
            "          97       0.57      0.54      0.56       326\n",
            "          98       0.66      0.43      0.52       209\n",
            "          99       0.30      0.09      0.14        33\n",
            "         100       0.50      0.22      0.31         9\n",
            "         101       0.62      0.80      0.70       197\n",
            "         102       0.40      0.70      0.51       210\n",
            "         103       0.00      0.00      0.00         3\n",
            "         104       0.71      0.75      0.73       120\n",
            "         105       0.92      0.83      0.87        93\n",
            "         106       1.00      1.00      1.00         2\n",
            "         107       0.00      0.00      0.00        17\n",
            "         108       0.71      0.71      0.71       171\n",
            "         109       0.60      0.72      0.65       342\n",
            "         110       1.00      0.15      0.27        13\n",
            "         111       0.00      0.00      0.00         9\n",
            "         112       0.46      0.55      0.50       138\n",
            "         113       0.88      0.76      0.82      1817\n",
            "         114       0.83      0.67      0.74       135\n",
            "         115       0.00      0.00      0.00         4\n",
            "         116       0.00      0.00      0.00         4\n",
            "         117       1.00      0.02      0.05        43\n",
            "         118       0.85      0.88      0.86        93\n",
            "         119       0.00      0.00      0.00        14\n",
            "         120       0.47      0.56      0.51        66\n",
            "         121       0.77      0.74      0.75      1051\n",
            "         122       0.75      0.55      0.63      1130\n",
            "         123       0.74      0.44      0.55       309\n",
            "         124       0.77      0.74      0.76       174\n",
            "         125       0.62      0.68      0.64      1113\n",
            "         126       0.50      0.06      0.11        16\n",
            "         127       1.00      0.09      0.17        11\n",
            "         128       0.71      0.52      0.60       241\n",
            "         129       0.60      0.38      0.46       156\n",
            "         130       0.66      0.67      0.67      1009\n",
            "         131       1.00      0.02      0.05        43\n",
            "         132       0.77      0.92      0.84       281\n",
            "         133       0.59      0.51      0.55       257\n",
            "         134       0.29      0.09      0.13        46\n",
            "         135       0.63      0.75      0.68      2134\n",
            "         136       0.59      0.45      0.51       443\n",
            "         137       0.06      0.06      0.06        33\n",
            "         138       0.72      0.59      0.65       343\n",
            "         139       0.00      0.00      0.00        23\n",
            "         140       0.47      0.26      0.34       289\n",
            "         141       0.64      0.63      0.63       206\n",
            "         142       0.75      0.69      0.72       218\n",
            "         143       0.65      0.15      0.25        85\n",
            "         144       0.81      0.79      0.80       173\n",
            "         145       1.00      0.16      0.27        38\n",
            "         146       0.64      0.65      0.64       419\n",
            "         147       0.00      0.00      0.00         5\n",
            "         148       0.64      0.65      0.64       217\n",
            "         149       0.69      0.79      0.73       193\n",
            "         150       0.70      0.77      0.74       106\n",
            "         151       0.55      0.43      0.48       143\n",
            "         152       0.36      0.21      0.26        39\n",
            "         153       0.00      0.00      0.00         2\n",
            "         154       0.50      0.21      0.29        24\n",
            "         155       0.76      0.73      0.74       163\n",
            "         156       0.68      0.73      0.70       330\n",
            "         157       0.60      0.37      0.46        90\n",
            "         158       0.55      0.70      0.61       848\n",
            "         159       0.87      0.70      0.78       176\n",
            "         160       0.39      0.38      0.38        40\n",
            "         161       0.60      0.73      0.66       300\n",
            "         162       0.82      0.74      0.78       454\n",
            "         163       1.00      0.07      0.13        14\n",
            "         164       0.44      0.13      0.20        31\n",
            "         165       0.00      0.00      0.00         3\n",
            "         166       0.33      0.15      0.21        13\n",
            "         167       0.00      0.00      0.00         2\n",
            "         168       0.00      0.00      0.00        17\n",
            "         169       0.67      0.25      0.36         8\n",
            "         170       0.63      0.33      0.44        57\n",
            "         171       0.60      0.87      0.71       172\n",
            "         172       0.40      0.77      0.53       966\n",
            "         173       0.61      0.72      0.66       503\n",
            "         174       0.69      0.57      0.62       243\n",
            "         175       1.00      0.16      0.28        25\n",
            "         176       0.50      0.07      0.12        14\n",
            "         177       0.64      0.76      0.70       205\n",
            "         178       0.56      0.49      0.52       237\n",
            "         179       0.85      0.44      0.58        25\n",
            "         180       0.84      0.85      0.84       230\n",
            "         181       0.75      0.69      0.72       194\n",
            "         182       1.00      0.19      0.32        26\n",
            "         183       0.50      0.11      0.17        19\n",
            "         184       0.65      0.58      0.61       454\n",
            "         185       0.53      0.39      0.45       109\n",
            "         186       0.00      0.00      0.00         2\n",
            "         187       0.76      0.84      0.80       119\n",
            "         188       0.47      0.30      0.36        74\n",
            "         189       0.72      0.69      0.70       233\n",
            "         190       0.86      0.84      0.85       209\n",
            "         191       0.00      0.00      0.00         3\n",
            "         192       0.51      0.51      0.51       138\n",
            "         193       0.00      0.00      0.00        33\n",
            "         194       0.53      0.26      0.35        38\n",
            "         195       0.49      0.35      0.41       157\n",
            "         196       0.63      0.73      0.67       253\n",
            "         197       0.78      0.21      0.33        99\n",
            "         198       0.89      0.72      0.79       164\n",
            "         199       0.00      0.00      0.00         4\n",
            "         200       0.84      0.69      0.76       304\n",
            "         201       0.78      0.68      0.72       185\n",
            "         202       0.69      0.31      0.43       250\n",
            "         203       0.43      0.30      0.35       110\n",
            "         204       0.86      0.49      0.62       102\n",
            "         205       0.98      0.86      0.92       258\n",
            "         206       0.60      0.11      0.19        27\n",
            "         207       0.60      0.63      0.62       211\n",
            "         208       0.54      0.56      0.55       108\n",
            "         209       0.80      0.32      0.46        25\n",
            "         210       0.60      0.78      0.68       397\n",
            "         211       0.85      0.83      0.84       248\n",
            "         212       0.60      0.19      0.29        16\n",
            "         213       0.85      0.80      0.82       149\n",
            "         214       0.00      0.00      0.00         5\n",
            "         215       0.67      0.17      0.27        12\n",
            "         216       0.80      0.64      0.71       111\n",
            "         217       0.77      0.68      0.72       423\n",
            "         218       0.00      0.00      0.00         4\n",
            "         219       0.74      0.62      0.67       218\n",
            "         220       0.57      0.56      0.57        57\n",
            "         221       0.75      0.83      0.79       199\n",
            "         222       0.48      0.86      0.62        80\n",
            "         223       0.90      0.83      0.87       285\n",
            "         224       0.39      0.49      0.43        51\n",
            "         225       0.50      0.25      0.33         4\n",
            "         226       0.56      0.16      0.24        32\n",
            "         227       0.67      0.15      0.25        13\n",
            "         228       0.00      0.00      0.00         2\n",
            "         229       0.61      0.60      0.61       461\n",
            "         230       0.79      0.69      0.74       169\n",
            "         231       0.32      0.29      0.31        31\n",
            "         232       0.00      0.00      0.00         9\n",
            "         233       0.66      0.35      0.45       243\n",
            "         234       0.00      0.00      0.00         6\n",
            "         235       0.75      0.68      0.71       986\n",
            "         236       0.60      0.42      0.49        36\n",
            "         237       0.70      0.85      0.77       199\n",
            "         238       0.80      0.68      0.74       187\n",
            "         239       0.50      0.10      0.17        20\n",
            "         240       1.00      0.05      0.10        19\n",
            "         241       0.49      0.35      0.41       370\n",
            "         242       0.86      0.35      0.50        17\n",
            "         243       0.67      0.50      0.57         4\n",
            "         244       1.00      1.00      1.00         1\n",
            "         245       0.63      0.59      0.61       138\n",
            "         246       0.68      0.84      0.75       574\n",
            "         247       0.62      0.22      0.33        68\n",
            "         248       0.69      0.82      0.75       751\n",
            "         249       0.41      0.63      0.49        65\n",
            "         250       0.73      0.69      0.71       525\n",
            "         251       0.75      0.43      0.55         7\n",
            "         252       0.70      0.64      0.67       300\n",
            "         253       0.45      0.25      0.32        60\n",
            "         254       0.57      0.69      0.62       354\n",
            "         255       0.87      0.88      0.88       243\n",
            "         256       0.77      0.70      0.73       184\n",
            "         257       0.82      0.66      0.73       283\n",
            "         258       0.40      0.31      0.35       102\n",
            "         259       0.00      0.00      0.00         4\n",
            "         260       0.78      0.93      0.85       205\n",
            "         261       0.50      0.38      0.43        32\n",
            "         262       0.45      0.35      0.39        40\n",
            "         263       0.00      0.00      0.00         7\n",
            "         264       0.46      0.44      0.45       429\n",
            "         265       0.66      0.21      0.32       109\n",
            "         266       0.81      0.20      0.32       107\n",
            "         267       0.74      0.44      0.55       146\n",
            "         268       0.58      0.20      0.29        56\n",
            "         269       0.75      0.77      0.76       156\n",
            "         270       0.53      0.11      0.18        73\n",
            "         271       0.72      0.16      0.26       147\n",
            "         272       0.47      0.26      0.34        34\n",
            "         273       0.96      0.67      0.79       130\n",
            "         274       0.78      0.83      0.81      2078\n",
            "         275       0.50      0.40      0.44        73\n",
            "         276       0.50      0.08      0.14        12\n",
            "         277       0.67      0.09      0.16        68\n",
            "         278       0.58      0.63      0.60      1230\n",
            "         279       0.52      0.77      0.62       124\n",
            "         280       0.00      0.00      0.00         2\n",
            "         281       0.29      0.10      0.15        99\n",
            "         282       0.69      0.82      0.75       103\n",
            "         283       0.45      0.29      0.35        77\n",
            "         284       0.80      0.96      0.87       287\n",
            "         285       0.40      0.39      0.39        67\n",
            "         286       0.53      0.59      0.56       298\n",
            "         287       0.00      0.00      0.00         7\n",
            "         288       0.75      0.86      0.80       256\n",
            "         289       0.68      0.84      0.75        56\n",
            "         290       0.00      0.00      0.00         5\n",
            "         291       0.62      0.30      0.40        54\n",
            "         292       0.59      0.69      0.64        91\n",
            "         293       0.66      0.65      0.65        94\n",
            "         294       0.54      0.62      0.58       427\n",
            "         295       0.84      0.65      0.73       685\n",
            "         296       0.53      0.25      0.34       115\n",
            "         297       0.89      0.86      0.88       152\n",
            "         298       0.00      0.00      0.00         4\n",
            "         299       0.82      0.95      0.88       148\n",
            "         300       0.83      0.82      0.82       137\n",
            "         301       0.57      0.67      0.62       350\n",
            "         302       0.35      0.45      0.39        94\n",
            "         303       0.73      0.68      0.71       187\n",
            "         304       0.70      0.37      0.48        19\n",
            "         305       0.90      0.39      0.55        23\n",
            "         306       0.85      0.87      0.86        60\n",
            "         307       0.00      0.00      0.00         9\n",
            "         308       0.00      0.00      0.00         2\n",
            "         309       0.66      0.55      0.60       176\n",
            "         310       0.00      0.00      0.00         9\n",
            "         311       0.31      0.42      0.36        33\n",
            "         312       0.50      0.33      0.40         9\n",
            "         313       0.00      0.00      0.00         8\n",
            "         314       0.67      1.00      0.80         2\n",
            "         315       0.65      0.22      0.33        76\n",
            "         316       0.00      0.00      0.00         8\n",
            "         317       0.82      0.83      0.83       114\n",
            "         318       0.84      0.90      0.87       159\n",
            "         319       0.00      0.00      0.00         4\n",
            "         320       0.85      0.79      0.81       140\n",
            "         321       0.34      0.34      0.34        29\n",
            "         322       0.88      0.83      0.85       168\n",
            "         323       0.77      0.76      0.77       147\n",
            "         324       0.76      0.78      0.77       286\n",
            "         325       0.42      0.69      0.52       228\n",
            "         326       0.65      0.68      0.66       157\n",
            "         327       0.46      0.37      0.41       267\n",
            "         328       0.54      0.74      0.62       707\n",
            "         329       0.89      0.77      0.82       305\n",
            "         330       0.77      0.74      0.76       238\n",
            "         331       0.89      0.76      0.82       256\n",
            "         332       1.00      0.40      0.57         5\n",
            "         333       0.50      0.55      0.52       262\n",
            "         334       0.50      0.80      0.62        15\n",
            "         335       0.78      0.85      0.81       162\n",
            "         336       0.76      0.69      0.72       300\n",
            "         337       0.52      0.38      0.44        34\n",
            "         338       0.78      0.81      0.80       224\n",
            "         339       0.76      0.78      0.77       175\n",
            "         340       0.72      0.79      0.76       175\n",
            "         341       0.50      0.05      0.10        19\n",
            "         342       0.76      0.68      0.72        92\n",
            "         343       0.85      0.39      0.54        28\n",
            "         344       0.68      0.54      0.60        97\n",
            "         345       0.86      0.88      0.87       219\n",
            "         346       0.50      0.15      0.24        13\n",
            "         347       0.19      0.17      0.18        48\n",
            "         348       0.71      0.76      0.74       191\n",
            "         349       0.69      0.77      0.73       214\n",
            "         350       0.77      0.85      0.81       143\n",
            "         351       0.70      0.28      0.40        25\n",
            "         352       1.00      0.50      0.67         2\n",
            "\n",
            "   micro avg       0.64      0.61      0.63     99692\n",
            "   macro avg       0.58      0.45      0.48     99692\n",
            "weighted avg       0.65      0.61      0.62     99692\n",
            " samples avg       0.63      0.63      0.61     99692\n",
            "\n"
          ],
          "name": "stdout"
        },
        {
          "output_type": "stream",
          "text": [
            "/usr/local/lib/python3.6/dist-packages/sklearn/metrics/classification.py:1437: UndefinedMetricWarning: Precision and F-score are ill-defined and being set to 0.0 in labels with no predicted samples.\n",
            "  'precision', 'predicted', average, warn_for)\n",
            "/usr/local/lib/python3.6/dist-packages/sklearn/metrics/classification.py:1437: UndefinedMetricWarning: Precision and F-score are ill-defined and being set to 0.0 in samples with no predicted labels.\n",
            "  'precision', 'predicted', average, warn_for)\n"
          ],
          "name": "stderr"
        }
      ]
    }
  ]
}