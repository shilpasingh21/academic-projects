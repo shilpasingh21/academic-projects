{
  "nbformat": 4,
  "nbformat_minor": 0,
  "metadata": {
    "colab": {
      "name": "SingleTaskLearning_Vegan_TP.ipynb",
      "provenance": [],
      "collapsed_sections": [],
      "machine_shape": "hm"
    },
    "kernelspec": {
      "name": "python3",
      "display_name": "Python 3"
    },
    "accelerator": "GPU"
  },
  "cells": [
    {
      "cell_type": "code",
      "metadata": {
        "id": "DhBGJvh9Er-e",
        "colab_type": "code",
        "colab": {}
      },
      "source": [
        "from google.colab import drive,files"
      ],
      "execution_count": 0,
      "outputs": []
    },
    {
      "cell_type": "code",
      "metadata": {
        "id": "ZP2WPvkuEvoY",
        "colab_type": "code",
        "outputId": "4b8fd975-e421-4291-e88b-6d63d765eb4c",
        "colab": {
          "base_uri": "https://localhost:8080/",
          "height": 121
        }
      },
      "source": [
        "drive.mount('/content/gdrive')"
      ],
      "execution_count": 2,
      "outputs": [
        {
          "output_type": "stream",
          "text": [
            "Go to this URL in a browser: https://accounts.google.com/o/oauth2/auth?client_id=947318989803-6bn6qk8qdgf4n4g3pfee6491hc0brc4i.apps.googleusercontent.com&redirect_uri=urn%3aietf%3awg%3aoauth%3a2.0%3aoob&response_type=code&scope=email%20https%3a%2f%2fwww.googleapis.com%2fauth%2fdocs.test%20https%3a%2f%2fwww.googleapis.com%2fauth%2fdrive%20https%3a%2f%2fwww.googleapis.com%2fauth%2fdrive.photos.readonly%20https%3a%2f%2fwww.googleapis.com%2fauth%2fpeopleapi.readonly\n",
            "\n",
            "Enter your authorization code:\n",
            "··········\n",
            "Mounted at /content/gdrive\n"
          ],
          "name": "stdout"
        }
      ]
    },
    {
      "cell_type": "code",
      "metadata": {
        "id": "poNAWIujkGbY",
        "colab_type": "code",
        "outputId": "1f7cdd80-af74-424c-e994-e2af8dcde365",
        "colab": {
          "base_uri": "https://localhost:8080/",
          "height": 79
        }
      },
      "source": [
        "# Imports go here\n",
        "import pickle\n",
        "import numpy as np\n",
        "from keras.utils import plot_model\n",
        "from keras.models import Sequential\n",
        "from keras.models import Model\n",
        "from keras.optimizers import Adam\n",
        "from keras.optimizers import Nadam\n",
        "import matplotlib.pyplot as plt\n",
        "import numpy as np\n",
        "import keras\n",
        "from keras.layers import Dense\n",
        "from keras.layers import Input\n",
        "from keras.layers import Dropout\n",
        "from keras.layers import Flatten\n",
        "from keras.layers import Dense, Activation,BatchNormalization\n",
        "import pandas as pd\n",
        "from keras.layers import Conv2D, MaxPooling2D\n",
        "from keras import backend as K\n",
        "from sklearn.model_selection import GridSearchCV\n",
        "from sklearn.metrics import classification_report"
      ],
      "execution_count": 3,
      "outputs": [
        {
          "output_type": "stream",
          "text": [
            "Using TensorFlow backend.\n"
          ],
          "name": "stderr"
        },
        {
          "output_type": "display_data",
          "data": {
            "text/html": [
              "<p style=\"color: red;\">\n",
              "The default version of TensorFlow in Colab will soon switch to TensorFlow 2.x.<br>\n",
              "We recommend you <a href=\"https://www.tensorflow.org/guide/migrate\" target=\"_blank\">upgrade</a> now \n",
              "or ensure your notebook will continue to use TensorFlow 1.x via the <code>%tensorflow_version 1.x</code> magic:\n",
              "<a href=\"https://colab.research.google.com/notebooks/tensorflow_version.ipynb\" target=\"_blank\">more info</a>.</p>\n"
            ],
            "text/plain": [
              "<IPython.core.display.HTML object>"
            ]
          },
          "metadata": {
            "tags": []
          }
        }
      ]
    },
    {
      "cell_type": "code",
      "metadata": {
        "id": "eh8jbiYSDWFn",
        "colab_type": "code",
        "colab": {}
      },
      "source": [
        "# dir path\n",
        "datadirpath = 'gdrive/My Drive/DL Project/Data/ready_chinese_food'\n",
        "labeldirpath = 'gdrive/My Drive/DL Project/Data/SplitAndIngreLabel/IngreLabel.txt'\n",
        "IngredientList = 'gdrive/My Drive/DL Project/Data/SplitAndIngreLabel/IngredientList.txt'\n",
        "IngredientTypeSheet = 'gdrive/My Drive/DL Project/Data/SplitAndIngreLabel/IngredientType.xlsx'\n",
        "\n",
        "trainlistpath = 'gdrive/My Drive/DL Project/Data/SplitAndIngreLabel/TR.txt'\n",
        "vallistpath = 'gdrive/My Drive/DL Project/Data/SplitAndIngreLabel/VAL.txt'\n",
        "testlistpath = 'gdrive/My Drive/DL Project/Data/SplitAndIngreLabel/TE.txt'\n",
        "\n",
        "pickletraindata_X = 'gdrive/My Drive/DL Project/PickleFiles/vgg_features_train_full.pkl'\n",
        "picklevaldata_X = 'gdrive/My Drive/DL Project/PickleFiles/vgg_features_val_full.pkl'\n",
        "pickletestdata_X = 'gdrive/My Drive/DL Project/PickleFiles/vgg_features_test_full.pkl'\n",
        "\n",
        "pickletraindata_Y1 = 'gdrive/My Drive/DL Project/PickleFiles/pickleTrainFull_Y1.pkl'\n",
        "picklevaldata_Y1 = 'gdrive/My Drive/DL Project/PickleFiles/pickleValFull_Y1.pkl'\n",
        "pickletestdata_Y1 = 'gdrive/My Drive/DL Project/PickleFiles/pickleTestFull_Y1.pkl'\n",
        "\n",
        "pickletraindata_Y2 = 'gdrive/My Drive/DL Project/PickleFiles/pickleTrainFull_Y2.pkl'\n",
        "picklevaldata_Y2 = 'gdrive/My Drive/DL Project/PickleFiles/pickleValFull_Y2.pkl'\n",
        "pickletestdata_Y2 = 'gdrive/My Drive/DL Project/PickleFiles/pickleTestFull_Y2.pkl'\n",
        "\n",
        "pickletraindata_Y3 = 'gdrive/My Drive/DL Project/PickleFiles/pickleTrainFull_Y3.pkl'\n",
        "picklevaldata_Y3 = 'gdrive/My Drive/DL Project/PickleFiles/pickleValFull_Y3.pkl'\n",
        "pickletestdata_Y3 = 'gdrive/My Drive/DL Project/PickleFiles/pickleTestFull_Y3.pkl'\n",
        "\n",
        "credentialFile = 'gdrive/My Drive/DL Project/Credentials/Food-Ingredient-cred.json'\n",
        "#pickleModelC_IngFood.pkl\n",
        "#Models Pickled\n",
        "pickleModelA1_IngFood = 'gdrive/My Drive/DL Project/PickleFiles/pickleModelA1_IngFood.pkl'\n",
        "\n",
        "pickletraindata_X_new= 'gdrive/My Drive/DL Project/PickleFiles/vgg_features_train_balancedfull.pkl'\n",
        "\n",
        "pickletraindata_Y1_new = 'gdrive/My Drive/DL Project/PickleFiles/pickleTrainBalanced_Y1full.pkl'\n",
        "\n",
        "pickletraindata_Y2_new = 'gdrive/My Drive/DL Project/PickleFiles/pickleTrainBalanced_Y2full.pkl'\n",
        "\n",
        "pickletraindata_Y3_new = 'gdrive/My Drive/DL Project/PickleFiles/pickleTrainBalanced_Y3full.pkl'\n",
        "\n"
      ],
      "execution_count": 0,
      "outputs": []
    },
    {
      "cell_type": "code",
      "metadata": {
        "id": "RM_eCqAbQx8P",
        "colab_type": "code",
        "outputId": "4f2f9c54-7125-4c10-9b96-ff0a024c987f",
        "colab": {
          "base_uri": "https://localhost:8080/",
          "height": 34
        }
      },
      "source": [
        "train_X = pickle.load(open(pickletraindata_X_new, 'rb' ))\n",
        "train_X = np.array(train_X)\n",
        "print(train_X.shape)"
      ],
      "execution_count": 5,
      "outputs": [
        {
          "output_type": "stream",
          "text": [
            "(80000, 1, 7, 7, 512)\n"
          ],
          "name": "stdout"
        }
      ]
    },
    {
      "cell_type": "code",
      "metadata": {
        "id": "TYf9o8Tykikg",
        "colab_type": "code",
        "outputId": "47e49658-2dd4-4867-eb4e-3153ed6b18bf",
        "colab": {
          "base_uri": "https://localhost:8080/",
          "height": 34
        }
      },
      "source": [
        "train_X=train_X.reshape(train_X.shape[0],7,7,512)\n",
        "print(train_X.shape)"
      ],
      "execution_count": 6,
      "outputs": [
        {
          "output_type": "stream",
          "text": [
            "(80000, 7, 7, 512)\n"
          ],
          "name": "stdout"
        }
      ]
    },
    {
      "cell_type": "code",
      "metadata": {
        "id": "BJhkgFrmQ4ri",
        "colab_type": "code",
        "outputId": "90cfa0f1-d67b-4cc1-ab2c-09a20f8283e8",
        "colab": {
          "base_uri": "https://localhost:8080/",
          "height": 34
        }
      },
      "source": [
        "train_Y1 = pickle.load(open(pickletraindata_Y1_new, 'rb' ))\n",
        "train_Y1 = np.array(train_Y1)\n",
        "print(train_Y1.shape)"
      ],
      "execution_count": 7,
      "outputs": [
        {
          "output_type": "stream",
          "text": [
            "(80000, 172)\n"
          ],
          "name": "stdout"
        }
      ]
    },
    {
      "cell_type": "code",
      "metadata": {
        "id": "u7QHo4X7RRnM",
        "colab_type": "code",
        "outputId": "f6878149-ad5b-4b4a-bbd6-1b88bac1c11f",
        "colab": {
          "base_uri": "https://localhost:8080/",
          "height": 34
        }
      },
      "source": [
        "train_Y2_list = pickle.load(open(pickletraindata_Y2_new, 'rb' ))\n",
        "train_Y2 = np.array(train_Y2_list)\n",
        "\n",
        "for index in range(train_Y2.shape[0]):\n",
        "  templist = train_Y2[index]\n",
        "  templist_0 = [0 if x==-1 else x for x in templist]\n",
        "  train_Y2[index] = templist_0\n",
        "\n",
        "print(train_Y2.shape)"
      ],
      "execution_count": 8,
      "outputs": [
        {
          "output_type": "stream",
          "text": [
            "(80000, 353)\n"
          ],
          "name": "stdout"
        }
      ]
    },
    {
      "cell_type": "code",
      "metadata": {
        "id": "ixzFT6U4RWiB",
        "colab_type": "code",
        "outputId": "32154f3b-fac8-48c8-a4e3-c14f867ffccb",
        "colab": {
          "base_uri": "https://localhost:8080/",
          "height": 34
        }
      },
      "source": [
        "val_X = pickle.load(open(picklevaldata_X, 'rb' ))\n",
        "val_X = np.array(val_X)\n",
        "print(val_X.shape)"
      ],
      "execution_count": 9,
      "outputs": [
        {
          "output_type": "stream",
          "text": [
            "(11016, 1, 7, 7, 512)\n"
          ],
          "name": "stdout"
        }
      ]
    },
    {
      "cell_type": "code",
      "metadata": {
        "id": "AotWJBwxJLOt",
        "colab_type": "code",
        "outputId": "b63415ea-2d2e-49ce-ba73-ebdd2d7d113f",
        "colab": {
          "base_uri": "https://localhost:8080/",
          "height": 34
        }
      },
      "source": [
        "val_X=val_X.reshape(val_X.shape[0],7,7,512)\n",
        "print(val_X.shape)"
      ],
      "execution_count": 10,
      "outputs": [
        {
          "output_type": "stream",
          "text": [
            "(11016, 7, 7, 512)\n"
          ],
          "name": "stdout"
        }
      ]
    },
    {
      "cell_type": "code",
      "metadata": {
        "id": "bk3orKueRbdx",
        "colab_type": "code",
        "outputId": "234a710c-218e-4f90-c80e-6a7e1a8dfec6",
        "colab": {
          "base_uri": "https://localhost:8080/",
          "height": 34
        }
      },
      "source": [
        "val_Y1 = pickle.load(open(picklevaldata_Y1, 'rb' ))\n",
        "val_Y1 = np.array(val_Y1)\n",
        "print(val_Y1.shape)"
      ],
      "execution_count": 11,
      "outputs": [
        {
          "output_type": "stream",
          "text": [
            "(11016, 172)\n"
          ],
          "name": "stdout"
        }
      ]
    },
    {
      "cell_type": "code",
      "metadata": {
        "id": "keJhEX9BRgaZ",
        "colab_type": "code",
        "outputId": "cb06891e-2a97-4257-975b-5d1eb5708de8",
        "colab": {
          "base_uri": "https://localhost:8080/",
          "height": 34
        }
      },
      "source": [
        "val_Y2_list = pickle.load(open(picklevaldata_Y2, 'rb' ))\n",
        "val_Y2 = np.array(val_Y2_list)\n",
        "\n",
        "for index in range(val_Y2.shape[0]):\n",
        "  templist = val_Y2[index]\n",
        "  templist_0 = [0 if x==-1 else x for x in templist]\n",
        "  val_Y2[index] = templist_0\n",
        "  \n",
        "print(val_Y2.shape)"
      ],
      "execution_count": 12,
      "outputs": [
        {
          "output_type": "stream",
          "text": [
            "(11016, 353)\n"
          ],
          "name": "stdout"
        }
      ]
    },
    {
      "cell_type": "code",
      "metadata": {
        "id": "-aE-Q8SH8xiF",
        "colab_type": "code",
        "outputId": "08ebab9b-bc6f-4099-95b1-f416f35fb599",
        "colab": {
          "base_uri": "https://localhost:8080/",
          "height": 84
        }
      },
      "source": [
        "# Loading test_X\n",
        "\n",
        "test_X = pickle.load(open(pickletestdata_X, 'rb' ))\n",
        "test_X = np.array(test_X)\n",
        "\n",
        "print(test_X.shape)\n",
        "test_X=test_X.reshape(test_X.shape[0],7,7,512)\n",
        "print(test_X.shape)\n",
        "\n",
        "# Loading test_Y1\n",
        "\n",
        "test_Y1_list = pickle.load(open(pickletestdata_Y1, 'rb' ))\n",
        "test_Y1 = np.array(test_Y1_list)\n",
        "print(test_Y1.shape)\n",
        "\n",
        "test_Y3 = pickle.load(open(pickletestdata_Y3,\"rb\"))\n",
        "# Loading test_Y2\n",
        "\n",
        "test_Y2_list = pickle.load(open(pickletestdata_Y2, 'rb' ))\n",
        "test_Y2 = np.array(test_Y2_list)\n",
        "\n",
        "for index in range(test_Y2.shape[0]):\n",
        "  templist = test_Y2[index]\n",
        "  templist_0 = [0 if x==-1 else x for x in templist]\n",
        "  test_Y2[index] = templist_0\n",
        "  \n",
        "print(test_Y2.shape)"
      ],
      "execution_count": 13,
      "outputs": [
        {
          "output_type": "stream",
          "text": [
            "(33154, 1, 7, 7, 512)\n",
            "(33154, 7, 7, 512)\n",
            "(33154, 172)\n",
            "(33154, 353)\n"
          ],
          "name": "stdout"
        }
      ]
    },
    {
      "cell_type": "code",
      "metadata": {
        "id": "Wai3yhIkNf88",
        "colab_type": "code",
        "colab": {}
      },
      "source": [
        "train_Y3 = np.array(pickle.load(open(pickletraindata_Y3_new,\"rb\")))\n",
        "val_Y3 = pickle.load(open(picklevaldata_Y3,\"rb\"))\n"
      ],
      "execution_count": 0,
      "outputs": []
    },
    {
      "cell_type": "code",
      "metadata": {
        "id": "vhW6Ai0JjE1w",
        "colab_type": "code",
        "colab": {}
      },
      "source": [
        "def get_f1(y_true, y_pred): #https://mc.ai/how-to-add-user-defined-function-get-f1-score-in-keras-metrics/\n",
        "  true_positives = K.sum(K.round(K.clip(y_true * y_pred, 0, 1)))\n",
        "  possible_positives = K.sum(K.round(K.clip(y_true, 0, 1)))\n",
        "  predicted_positives = K.sum(K.round(K.clip(y_pred, 0, 1)))\n",
        "  precision = true_positives / (predicted_positives + K.epsilon())\n",
        "  recall = true_positives / (possible_positives + K.epsilon())\n",
        "  f1_val = 2*(precision*recall)/(precision+recall+K.epsilon())\n",
        "  return f1_val\n",
        "\n"
      ],
      "execution_count": 0,
      "outputs": []
    },
    {
      "cell_type": "code",
      "metadata": {
        "colab_type": "code",
        "id": "3jNSp-JBi9n_",
        "colab": {
          "base_uri": "https://localhost:8080/",
          "height": 1000
        },
        "outputId": "d37f84e2-a8ca-47b4-a269-dbfef9b20f43"
      },
      "source": [
        "\n",
        "inputs = Input(shape=(7,7,512))\n",
        "inputs_1 = Flatten()(inputs)\n",
        " \n",
        "conv2D1 = Conv2D(2048, kernel_size=3, activation='relu',padding='same')(inputs)\n",
        "maxPool2D1 = MaxPooling2D(pool_size=(2,2),padding='same')(conv2D1)\n",
        "\n",
        "conv2D2 = Conv2D(1024, kernel_size=3, activation='relu',padding='same')(conv2D1)\n",
        "maxPool2D2 = MaxPooling2D(pool_size=(2,2),padding='same')(conv2D2)\n",
        "dropout2 = Dropout(0.5)(maxPool2D2)\n",
        "\n",
        "conv2D3 = Conv2D(1024, kernel_size=3, activation='relu',padding='same')(dropout2)\n",
        "maxPool2D3 = MaxPooling2D(pool_size=(2,2),padding='same')(conv2D3)\n",
        "dropout3 = Dropout(0.5)(maxPool2D3)\n",
        "\n",
        "conv2D4 = Conv2D(512, kernel_size=3, activation='relu',padding='same')(dropout3)\n",
        "maxPool2D4 = MaxPooling2D(pool_size=(2,2),padding='same')(conv2D4)\n",
        "dropout4 = Dropout(0.5)(maxPool2D4)\n",
        "\n",
        "conv2D5 = Conv2D(1024, kernel_size=3, activation='relu',padding='same')(dropout4)\n",
        "maxPool2D5 = MaxPooling2D(pool_size=(2,2),padding='same')(conv2D5)\n",
        "dropout5 = Dropout(0.5)(maxPool2D5)\n",
        "\n",
        "conv2D6 = Conv2D(512, kernel_size=3, activation='relu',padding='same')(dropout5)\n",
        "maxPool2D6 = MaxPooling2D(pool_size=(2,2),padding='same')(conv2D6)\n",
        "dropout6 = Dropout(0.3)(maxPool2D6)\n",
        "\n",
        "flattened4 = Flatten()(dropout4)\n",
        "\n",
        "flattened6 = Flatten()(dropout6)\n",
        "\n",
        "output3 = Dense(1,activation='sigmoid',name='vegan_output')(flattened6)  ##  Vegan recognition\n",
        "\n",
        "\n",
        "model_vegan = Model(inputs=inputs, outputs=[output3]) # Defining model with Architecture A1\n",
        "print(model_vegan.summary()) # summarize layers\n",
        "plot_model(model_vegan, to_file='Single task Vegan.png') # plot graph\n",
        "\n"
      ],
      "execution_count": 32,
      "outputs": [
        {
          "output_type": "stream",
          "text": [
            "Model: \"model_3\"\n",
            "_________________________________________________________________\n",
            "Layer (type)                 Output Shape              Param #   \n",
            "=================================================================\n",
            "input_3 (InputLayer)         (None, 7, 7, 512)         0         \n",
            "_________________________________________________________________\n",
            "conv2d_13 (Conv2D)           (None, 7, 7, 2048)        9439232   \n",
            "_________________________________________________________________\n",
            "conv2d_14 (Conv2D)           (None, 7, 7, 1024)        18875392  \n",
            "_________________________________________________________________\n",
            "max_pooling2d_14 (MaxPooling (None, 4, 4, 1024)        0         \n",
            "_________________________________________________________________\n",
            "dropout_11 (Dropout)         (None, 4, 4, 1024)        0         \n",
            "_________________________________________________________________\n",
            "conv2d_15 (Conv2D)           (None, 4, 4, 1024)        9438208   \n",
            "_________________________________________________________________\n",
            "max_pooling2d_15 (MaxPooling (None, 2, 2, 1024)        0         \n",
            "_________________________________________________________________\n",
            "dropout_12 (Dropout)         (None, 2, 2, 1024)        0         \n",
            "_________________________________________________________________\n",
            "conv2d_16 (Conv2D)           (None, 2, 2, 512)         4719104   \n",
            "_________________________________________________________________\n",
            "max_pooling2d_16 (MaxPooling (None, 1, 1, 512)         0         \n",
            "_________________________________________________________________\n",
            "dropout_13 (Dropout)         (None, 1, 1, 512)         0         \n",
            "_________________________________________________________________\n",
            "conv2d_17 (Conv2D)           (None, 1, 1, 1024)        4719616   \n",
            "_________________________________________________________________\n",
            "max_pooling2d_17 (MaxPooling (None, 1, 1, 1024)        0         \n",
            "_________________________________________________________________\n",
            "dropout_14 (Dropout)         (None, 1, 1, 1024)        0         \n",
            "_________________________________________________________________\n",
            "conv2d_18 (Conv2D)           (None, 1, 1, 512)         4719104   \n",
            "_________________________________________________________________\n",
            "max_pooling2d_18 (MaxPooling (None, 1, 1, 512)         0         \n",
            "_________________________________________________________________\n",
            "dropout_15 (Dropout)         (None, 1, 1, 512)         0         \n",
            "_________________________________________________________________\n",
            "flatten_9 (Flatten)          (None, 512)               0         \n",
            "_________________________________________________________________\n",
            "vegan_output (Dense)         (None, 1)                 513       \n",
            "=================================================================\n",
            "Total params: 51,911,169\n",
            "Trainable params: 51,911,169\n",
            "Non-trainable params: 0\n",
            "_________________________________________________________________\n",
            "None\n"
          ],
          "name": "stdout"
        },
        {
          "output_type": "execute_result",
          "data": {
            "image/png": "[encoded data removed]",
            "text/plain": [
              "<IPython.core.display.Image object>"
            ]
          },
          "metadata": {
            "tags": []
          },
          "execution_count": 32
        }
      ]
    },
    {
      "cell_type": "code",
      "metadata": {
        "colab_type": "code",
        "outputId": "e19a0fcc-2dc1-41ac-eb25-86c4b0f2f83b",
        "id": "pFXfOEyoi884",
        "colab": {
          "base_uri": "https://localhost:8080/",
          "height": 790
        }
      },
      "source": [
        "model_vegan.summary()"
      ],
      "execution_count": 33,
      "outputs": [
        {
          "output_type": "stream",
          "text": [
            "Model: \"model_3\"\n",
            "_________________________________________________________________\n",
            "Layer (type)                 Output Shape              Param #   \n",
            "=================================================================\n",
            "input_3 (InputLayer)         (None, 7, 7, 512)         0         \n",
            "_________________________________________________________________\n",
            "conv2d_13 (Conv2D)           (None, 7, 7, 2048)        9439232   \n",
            "_________________________________________________________________\n",
            "conv2d_14 (Conv2D)           (None, 7, 7, 1024)        18875392  \n",
            "_________________________________________________________________\n",
            "max_pooling2d_14 (MaxPooling (None, 4, 4, 1024)        0         \n",
            "_________________________________________________________________\n",
            "dropout_11 (Dropout)         (None, 4, 4, 1024)        0         \n",
            "_________________________________________________________________\n",
            "conv2d_15 (Conv2D)           (None, 4, 4, 1024)        9438208   \n",
            "_________________________________________________________________\n",
            "max_pooling2d_15 (MaxPooling (None, 2, 2, 1024)        0         \n",
            "_________________________________________________________________\n",
            "dropout_12 (Dropout)         (None, 2, 2, 1024)        0         \n",
            "_________________________________________________________________\n",
            "conv2d_16 (Conv2D)           (None, 2, 2, 512)         4719104   \n",
            "_________________________________________________________________\n",
            "max_pooling2d_16 (MaxPooling (None, 1, 1, 512)         0         \n",
            "_________________________________________________________________\n",
            "dropout_13 (Dropout)         (None, 1, 1, 512)         0         \n",
            "_________________________________________________________________\n",
            "conv2d_17 (Conv2D)           (None, 1, 1, 1024)        4719616   \n",
            "_________________________________________________________________\n",
            "max_pooling2d_17 (MaxPooling (None, 1, 1, 1024)        0         \n",
            "_________________________________________________________________\n",
            "dropout_14 (Dropout)         (None, 1, 1, 1024)        0         \n",
            "_________________________________________________________________\n",
            "conv2d_18 (Conv2D)           (None, 1, 1, 512)         4719104   \n",
            "_________________________________________________________________\n",
            "max_pooling2d_18 (MaxPooling (None, 1, 1, 512)         0         \n",
            "_________________________________________________________________\n",
            "dropout_15 (Dropout)         (None, 1, 1, 512)         0         \n",
            "_________________________________________________________________\n",
            "flatten_9 (Flatten)          (None, 512)               0         \n",
            "_________________________________________________________________\n",
            "vegan_output (Dense)         (None, 1)                 513       \n",
            "=================================================================\n",
            "Total params: 51,911,169\n",
            "Trainable params: 51,911,169\n",
            "Non-trainable params: 0\n",
            "_________________________________________________________________\n"
          ],
          "name": "stdout"
        }
      ]
    },
    {
      "cell_type": "code",
      "metadata": {
        "colab_type": "code",
        "outputId": "490ea7ba-f1c6-46c5-94d4-d4ead46d9794",
        "id": "a1zMrg0Ii8S5",
        "colab": {
          "base_uri": "https://localhost:8080/",
          "height": 1000
        }
      },
      "source": [
        "model_vegan.compile(loss='binary_crossentropy', optimizer=Adam(lr=0.0001), metrics=[get_f1,'accuracy'])\n",
        "history = model_vegan.fit(train_X, train_Y3, epochs=50, batch_size=256,validation_data=(val_X,val_Y3))"
      ],
      "execution_count": 34,
      "outputs": [
        {
          "output_type": "stream",
          "text": [
            "Train on 80000 samples, validate on 11016 samples\n",
            "Epoch 1/50\n",
            "80000/80000 [==============================] - 57s 719us/step - loss: 0.2536 - get_f1: 0.8619 - acc: 0.8761 - val_loss: 0.4449 - val_get_f1: 0.8640 - val_acc: 0.8043\n",
            "Epoch 2/50\n",
            "80000/80000 [==============================] - 54s 679us/step - loss: 0.0934 - get_f1: 0.9619 - acc: 0.9659 - val_loss: 0.5159 - val_get_f1: 0.8755 - val_acc: 0.8197\n",
            "Epoch 3/50\n",
            "80000/80000 [==============================] - 54s 679us/step - loss: 0.0560 - get_f1: 0.9780 - acc: 0.9804 - val_loss: 0.4925 - val_get_f1: 0.8772 - val_acc: 0.8264\n",
            "Epoch 4/50\n",
            "80000/80000 [==============================] - 54s 679us/step - loss: 0.0331 - get_f1: 0.9868 - acc: 0.9883 - val_loss: 0.6249 - val_get_f1: 0.8782 - val_acc: 0.8268\n",
            "Epoch 5/50\n",
            "80000/80000 [==============================] - 54s 679us/step - loss: 0.0207 - get_f1: 0.9921 - acc: 0.9929 - val_loss: 0.8718 - val_get_f1: 0.8794 - val_acc: 0.8272\n",
            "Epoch 6/50\n",
            "80000/80000 [==============================] - 54s 680us/step - loss: 0.0118 - get_f1: 0.9956 - acc: 0.9960 - val_loss: 1.2178 - val_get_f1: 0.8793 - val_acc: 0.8256\n",
            "Epoch 7/50\n",
            "80000/80000 [==============================] - 54s 679us/step - loss: 0.0087 - get_f1: 0.9967 - acc: 0.9971 - val_loss: 1.1396 - val_get_f1: 0.8829 - val_acc: 0.8357\n",
            "Epoch 8/50\n",
            "80000/80000 [==============================] - 54s 676us/step - loss: 0.0113 - get_f1: 0.9955 - acc: 0.9960 - val_loss: 1.1304 - val_get_f1: 0.8811 - val_acc: 0.8332\n",
            "Epoch 9/50\n",
            "80000/80000 [==============================] - 54s 676us/step - loss: 0.0056 - get_f1: 0.9980 - acc: 0.9982 - val_loss: 1.3381 - val_get_f1: 0.8821 - val_acc: 0.8349\n",
            "Epoch 10/50\n",
            "80000/80000 [==============================] - 54s 675us/step - loss: 0.0054 - get_f1: 0.9980 - acc: 0.9983 - val_loss: 1.6866 - val_get_f1: 0.8795 - val_acc: 0.8242\n",
            "Epoch 11/50\n",
            "80000/80000 [==============================] - 54s 675us/step - loss: 0.0063 - get_f1: 0.9980 - acc: 0.9982 - val_loss: 1.6348 - val_get_f1: 0.8809 - val_acc: 0.8292\n",
            "Epoch 12/50\n",
            "80000/80000 [==============================] - 54s 675us/step - loss: 0.0045 - get_f1: 0.9983 - acc: 0.9985 - val_loss: 1.4671 - val_get_f1: 0.8809 - val_acc: 0.8308\n",
            "Epoch 13/50\n",
            "80000/80000 [==============================] - 54s 674us/step - loss: 0.0045 - get_f1: 0.9984 - acc: 0.9985 - val_loss: 1.4423 - val_get_f1: 0.8809 - val_acc: 0.8320\n",
            "Epoch 14/50\n",
            "80000/80000 [==============================] - 54s 674us/step - loss: 0.0039 - get_f1: 0.9987 - acc: 0.9988 - val_loss: 1.5355 - val_get_f1: 0.8805 - val_acc: 0.8310\n",
            "Epoch 15/50\n",
            "80000/80000 [==============================] - 54s 676us/step - loss: 0.0054 - get_f1: 0.9980 - acc: 0.9982 - val_loss: 1.3836 - val_get_f1: 0.8791 - val_acc: 0.8254\n",
            "Epoch 16/50\n",
            "80000/80000 [==============================] - 54s 675us/step - loss: 0.0031 - get_f1: 0.9988 - acc: 0.9990 - val_loss: 1.7193 - val_get_f1: 0.8758 - val_acc: 0.8263\n",
            "Epoch 17/50\n",
            "80000/80000 [==============================] - 54s 674us/step - loss: 0.0051 - get_f1: 0.9983 - acc: 0.9986 - val_loss: 1.8212 - val_get_f1: 0.8789 - val_acc: 0.8266\n",
            "Epoch 18/50\n",
            "80000/80000 [==============================] - 54s 675us/step - loss: 0.0044 - get_f1: 0.9985 - acc: 0.9987 - val_loss: 1.5792 - val_get_f1: 0.8806 - val_acc: 0.8302\n",
            "Epoch 19/50\n",
            "80000/80000 [==============================] - 54s 674us/step - loss: 0.0034 - get_f1: 0.9989 - acc: 0.9990 - val_loss: 1.4207 - val_get_f1: 0.8749 - val_acc: 0.8220\n",
            "Epoch 20/50\n",
            "80000/80000 [==============================] - 54s 674us/step - loss: 0.0038 - get_f1: 0.9988 - acc: 0.9990 - val_loss: 1.8132 - val_get_f1: 0.8801 - val_acc: 0.8283\n",
            "Epoch 21/50\n",
            "80000/80000 [==============================] - 54s 675us/step - loss: 0.0034 - get_f1: 0.9989 - acc: 0.9990 - val_loss: 1.8918 - val_get_f1: 0.8792 - val_acc: 0.8246\n",
            "Epoch 22/50\n",
            "80000/80000 [==============================] - 54s 674us/step - loss: 0.0036 - get_f1: 0.9989 - acc: 0.9990 - val_loss: 1.6778 - val_get_f1: 0.8770 - val_acc: 0.8277\n",
            "Epoch 23/50\n",
            "80000/80000 [==============================] - 54s 673us/step - loss: 0.0032 - get_f1: 0.9988 - acc: 0.9989 - val_loss: 1.7238 - val_get_f1: 0.8818 - val_acc: 0.8314\n",
            "Epoch 24/50\n",
            "80000/80000 [==============================] - 54s 673us/step - loss: 0.0030 - get_f1: 0.9988 - acc: 0.9989 - val_loss: 1.4367 - val_get_f1: 0.8804 - val_acc: 0.8281\n",
            "Epoch 25/50\n",
            "80000/80000 [==============================] - 54s 673us/step - loss: 0.0033 - get_f1: 0.9989 - acc: 0.9990 - val_loss: 1.3098 - val_get_f1: 0.8722 - val_acc: 0.8260\n",
            "Epoch 26/50\n",
            "80000/80000 [==============================] - 54s 674us/step - loss: 0.0037 - get_f1: 0.9989 - acc: 0.9990 - val_loss: 1.9278 - val_get_f1: 0.8799 - val_acc: 0.8277\n",
            "Epoch 27/50\n",
            "80000/80000 [==============================] - 54s 674us/step - loss: 0.0028 - get_f1: 0.9990 - acc: 0.9991 - val_loss: 1.5746 - val_get_f1: 0.8775 - val_acc: 0.8263\n",
            "Epoch 28/50\n",
            "80000/80000 [==============================] - 54s 673us/step - loss: 0.0023 - get_f1: 0.9992 - acc: 0.9993 - val_loss: 1.8991 - val_get_f1: 0.8788 - val_acc: 0.8255\n",
            "Epoch 29/50\n",
            "80000/80000 [==============================] - 54s 674us/step - loss: 0.0034 - get_f1: 0.9988 - acc: 0.9989 - val_loss: 1.8286 - val_get_f1: 0.8763 - val_acc: 0.8230\n",
            "Epoch 30/50\n",
            "80000/80000 [==============================] - 54s 673us/step - loss: 0.0016 - get_f1: 0.9996 - acc: 0.9996 - val_loss: 1.5912 - val_get_f1: 0.8683 - val_acc: 0.8194\n",
            "Epoch 31/50\n",
            "80000/80000 [==============================] - 54s 673us/step - loss: 0.0035 - get_f1: 0.9988 - acc: 0.9989 - val_loss: 1.7161 - val_get_f1: 0.8806 - val_acc: 0.8293\n",
            "Epoch 32/50\n",
            "80000/80000 [==============================] - 54s 673us/step - loss: 0.0030 - get_f1: 0.9990 - acc: 0.9991 - val_loss: 2.1365 - val_get_f1: 0.8805 - val_acc: 0.8284\n",
            "Epoch 33/50\n",
            "80000/80000 [==============================] - 54s 673us/step - loss: 0.0023 - get_f1: 0.9992 - acc: 0.9992 - val_loss: 1.7644 - val_get_f1: 0.8810 - val_acc: 0.8328\n",
            "Epoch 34/50\n",
            "80000/80000 [==============================] - 54s 676us/step - loss: 0.0014 - get_f1: 0.9995 - acc: 0.9996 - val_loss: 1.7183 - val_get_f1: 0.8783 - val_acc: 0.8301\n",
            "Epoch 35/50\n",
            "80000/80000 [==============================] - 54s 677us/step - loss: 0.0023 - get_f1: 0.9993 - acc: 0.9994 - val_loss: 1.9336 - val_get_f1: 0.8812 - val_acc: 0.8300\n",
            "Epoch 36/50\n",
            "80000/80000 [==============================] - 54s 677us/step - loss: 0.0028 - get_f1: 0.9991 - acc: 0.9992 - val_loss: 1.9590 - val_get_f1: 0.8792 - val_acc: 0.8285\n",
            "Epoch 37/50\n",
            "80000/80000 [==============================] - 54s 677us/step - loss: 0.0032 - get_f1: 0.9990 - acc: 0.9991 - val_loss: 1.9699 - val_get_f1: 0.8817 - val_acc: 0.8323\n",
            "Epoch 38/50\n",
            "80000/80000 [==============================] - 54s 677us/step - loss: 0.0028 - get_f1: 0.9992 - acc: 0.9993 - val_loss: 1.6761 - val_get_f1: 0.8766 - val_acc: 0.8254\n",
            "Epoch 39/50\n",
            "80000/80000 [==============================] - 54s 676us/step - loss: 0.0030 - get_f1: 0.9992 - acc: 0.9992 - val_loss: 2.3851 - val_get_f1: 0.8763 - val_acc: 0.8170\n",
            "Epoch 40/50\n",
            "80000/80000 [==============================] - 54s 677us/step - loss: 0.0020 - get_f1: 0.9994 - acc: 0.9995 - val_loss: 1.9829 - val_get_f1: 0.8803 - val_acc: 0.8304\n",
            "Epoch 41/50\n",
            "80000/80000 [==============================] - 54s 677us/step - loss: 0.0026 - get_f1: 0.9992 - acc: 0.9993 - val_loss: 2.0882 - val_get_f1: 0.8791 - val_acc: 0.8249\n",
            "Epoch 42/50\n",
            "80000/80000 [==============================] - 54s 676us/step - loss: 0.0031 - get_f1: 0.9992 - acc: 0.9993 - val_loss: 1.8456 - val_get_f1: 0.8801 - val_acc: 0.8324\n",
            "Epoch 43/50\n",
            "80000/80000 [==============================] - 54s 677us/step - loss: 0.0017 - get_f1: 0.9994 - acc: 0.9995 - val_loss: 1.8213 - val_get_f1: 0.8757 - val_acc: 0.8301\n",
            "Epoch 44/50\n",
            "80000/80000 [==============================] - 54s 678us/step - loss: 0.0036 - get_f1: 0.9989 - acc: 0.9990 - val_loss: 1.7723 - val_get_f1: 0.8820 - val_acc: 0.8322\n",
            "Epoch 45/50\n",
            "80000/80000 [==============================] - 54s 678us/step - loss: 0.0019 - get_f1: 0.9993 - acc: 0.9994 - val_loss: 1.8879 - val_get_f1: 0.8795 - val_acc: 0.8301\n",
            "Epoch 46/50\n",
            "80000/80000 [==============================] - 54s 679us/step - loss: 0.0020 - get_f1: 0.9994 - acc: 0.9995 - val_loss: 2.2030 - val_get_f1: 0.8838 - val_acc: 0.8349\n",
            "Epoch 47/50\n",
            "80000/80000 [==============================] - 54s 677us/step - loss: 0.0025 - get_f1: 0.9993 - acc: 0.9994 - val_loss: 1.7829 - val_get_f1: 0.8807 - val_acc: 0.8324\n",
            "Epoch 48/50\n",
            "80000/80000 [==============================] - 54s 676us/step - loss: 0.0020 - get_f1: 0.9994 - acc: 0.9995 - val_loss: 1.9611 - val_get_f1: 0.8831 - val_acc: 0.8349\n",
            "Epoch 49/50\n",
            "80000/80000 [==============================] - 54s 677us/step - loss: 0.0021 - get_f1: 0.9994 - acc: 0.9994 - val_loss: 2.0984 - val_get_f1: 0.8821 - val_acc: 0.8310\n",
            "Epoch 50/50\n",
            "80000/80000 [==============================] - 54s 676us/step - loss: 0.0030 - get_f1: 0.9991 - acc: 0.9992 - val_loss: 2.0248 - val_get_f1: 0.8791 - val_acc: 0.8263\n"
          ],
          "name": "stdout"
        }
      ]
    },
    {
      "cell_type": "code",
      "metadata": {
        "colab_type": "code",
        "outputId": "1f800b8f-e58c-4b32-a9e1-b4dbe011adca",
        "id": "GPhYoXyInPA8",
        "colab": {
          "base_uri": "https://localhost:8080/",
          "height": 67
        }
      },
      "source": [
        "## prediction on test\n",
        "\n",
        "\n",
        "results = model_vegan.evaluate(test_X, [test_Y3], batch_size=128)\n",
        "print(results)\n",
        "#print('Ingredient F1:', results[4])\n",
        "#print('Food Top5:', results[7])\n",
        "#print('Vegan F1:', results[8])\n",
        "\n",
        "print('Generate predictions for all samples')\n",
        "predictions = model_vegan.predict(test_X)\n",
        "\n",
        "\n",
        "#predictions_ingredients=1*(predictions[0] >= 0.5)\n",
        "predictions_vegan=1*(predictions >= 0.5)\n",
        "#predictions_ingredients"
      ],
      "execution_count": 35,
      "outputs": [
        {
          "output_type": "stream",
          "text": [
            "33154/33154 [==============================] - 9s 262us/step\n",
            "[2.0750656814529744, 0.8325022435370951, 0.8250889787054353]\n",
            "Generate predictions for all samples\n"
          ],
          "name": "stdout"
        }
      ]
    },
    {
      "cell_type": "code",
      "metadata": {
        "id": "3eFQ6hnSSXPo",
        "colab_type": "code",
        "outputId": "67a118c0-537c-409b-91c9-759c91966a8f",
        "colab": {
          "base_uri": "https://localhost:8080/",
          "height": 168
        }
      },
      "source": [
        "print(classification_report(test_Y3, predictions_vegan))"
      ],
      "execution_count": 37,
      "outputs": [
        {
          "output_type": "stream",
          "text": [
            "              precision    recall  f1-score   support\n",
            "\n",
            "           0       0.73      0.21      0.32      6666\n",
            "           1       0.83      0.98      0.90     26488\n",
            "\n",
            "    accuracy                           0.83     33154\n",
            "   macro avg       0.78      0.59      0.61     33154\n",
            "weighted avg       0.81      0.83      0.78     33154\n",
            "\n"
          ],
          "name": "stdout"
        }
      ]
    },
    {
      "cell_type": "code",
      "metadata": {
        "id": "9EH7m7jk7HRZ",
        "colab_type": "code",
        "outputId": "e4c1a461-b277-49db-9f31-0253437ec888",
        "colab": {
          "base_uri": "https://localhost:8080/",
          "height": 350
        }
      },
      "source": [
        "# Plotting the train,validation accuracy and loss statistics for food category classification.\n",
        "\n",
        "fig = plt.figure(figsize=(10,5))\n",
        "\n",
        "plt.subplot(1, 2, 1)\n",
        "plt.plot(history.history['acc'])\n",
        "plt.plot(history.history['val_acc'])\n",
        "plt.title('model accuracy for food categorization')\n",
        "plt.ylabel('accuracy')\n",
        "plt.xlabel('epoch')\n",
        "plt.legend(['train', 'validation'], loc='upper left')\n",
        "\n",
        "plt.subplot(1, 2, 2)\n",
        "plt.plot(history.history['loss'])\n",
        "plt.plot(history.history['val_loss'])\n",
        "plt.title('model loss for food categorization')\n",
        "plt.ylabel('loss')\n",
        "plt.xlabel('epoch')\n",
        "plt.legend(['train', 'validation'], loc='upper right')\n",
        "plt.show()"
      ],
      "execution_count": 0,
      "outputs": [
        {
          "output_type": "display_data",
          "data": {
            "image/png": "[encoded data removed]",
            "text/plain": [
              "<Figure size 720x360 with 2 Axes>"
            ]
          },
          "metadata": {
            "tags": []
          }
        }
      ]
    }
  ]
}