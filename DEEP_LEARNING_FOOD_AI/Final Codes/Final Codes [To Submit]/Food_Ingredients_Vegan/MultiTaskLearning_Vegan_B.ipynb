{
  "nbformat": 4,
  "nbformat_minor": 0,
  "metadata": {
    "colab": {
      "name": "MultiTaskLearning_Vegan_B_TP.ipynb",
      "provenance": [],
      "collapsed_sections": [],
      "machine_shape": "hm"
    },
    "kernelspec": {
      "name": "python3",
      "display_name": "Python 3"
    },
    "accelerator": "GPU"
  },
  "cells": [
    {
      "cell_type": "code",
      "metadata": {
        "id": "MSL_1hddd-Fp",
        "colab_type": "code",
        "colab": {}
      },
      "source": [
        "from google.colab import drive,files"
      ],
      "execution_count": 0,
      "outputs": []
    },
    {
      "cell_type": "code",
      "metadata": {
        "id": "s03xL2HmfQwY",
        "colab_type": "code",
        "outputId": "7fdc7df7-fdef-4a65-9643-c645ab52bcfe",
        "colab": {
          "base_uri": "https://localhost:8080/",
          "height": 121
        }
      },
      "source": [
        "drive.mount('/content/gdrive')"
      ],
      "execution_count": 2,
      "outputs": [
        {
          "output_type": "stream",
          "text": [
            "Go to this URL in a browser: https://accounts.google.com/o/oauth2/auth?client_id=947318989803-6bn6qk8qdgf4n4g3pfee6491hc0brc4i.apps.googleusercontent.com&redirect_uri=urn%3aietf%3awg%3aoauth%3a2.0%3aoob&response_type=code&scope=email%20https%3a%2f%2fwww.googleapis.com%2fauth%2fdocs.test%20https%3a%2f%2fwww.googleapis.com%2fauth%2fdrive%20https%3a%2f%2fwww.googleapis.com%2fauth%2fdrive.photos.readonly%20https%3a%2f%2fwww.googleapis.com%2fauth%2fpeopleapi.readonly\n",
            "\n",
            "Enter your authorization code:\n",
            "··········\n",
            "Mounted at /content/gdrive\n"
          ],
          "name": "stdout"
        }
      ]
    },
    {
      "cell_type": "code",
      "metadata": {
        "id": "CaR7YECifYlg",
        "colab_type": "code",
        "outputId": "1879d103-91dc-40a7-cbca-f20451c61c97",
        "colab": {
          "base_uri": "https://localhost:8080/",
          "height": 79
        }
      },
      "source": [
        "# Imports go here\n",
        "import pickle\n",
        "import numpy as np\n",
        "from keras.utils import plot_model\n",
        "from keras.models import Sequential\n",
        "from keras.models import Model\n",
        "from keras.optimizers import Adam\n",
        "from keras.optimizers import Nadam\n",
        "import matplotlib.pyplot as plt\n",
        "import numpy as np\n",
        "import keras\n",
        "from keras.layers import Dense\n",
        "from keras.layers import Input\n",
        "from keras.layers import Dropout\n",
        "from keras.layers import Flatten\n",
        "from keras.layers import Dense, Activation,BatchNormalization\n",
        "import pandas as pd\n",
        "from keras.layers import Conv2D, MaxPooling2D\n",
        "from keras import backend as K\n",
        "from sklearn.model_selection import GridSearchCV\n",
        "from sklearn.metrics import classification_report"
      ],
      "execution_count": 3,
      "outputs": [
        {
          "output_type": "stream",
          "text": [
            "Using TensorFlow backend.\n"
          ],
          "name": "stderr"
        },
        {
          "output_type": "display_data",
          "data": {
            "text/html": [
              "<p style=\"color: red;\">\n",
              "The default version of TensorFlow in Colab will soon switch to TensorFlow 2.x.<br>\n",
              "We recommend you <a href=\"https://www.tensorflow.org/guide/migrate\" target=\"_blank\">upgrade</a> now \n",
              "or ensure your notebook will continue to use TensorFlow 1.x via the <code>%tensorflow_version 1.x</code> magic:\n",
              "<a href=\"https://colab.research.google.com/notebooks/tensorflow_version.ipynb\" target=\"_blank\">more info</a>.</p>\n"
            ],
            "text/plain": [
              "<IPython.core.display.HTML object>"
            ]
          },
          "metadata": {
            "tags": []
          }
        }
      ]
    },
    {
      "cell_type": "code",
      "metadata": {
        "id": "3fxklw6lQvji",
        "colab_type": "code",
        "colab": {}
      },
      "source": [
        "# dir path\n",
        "datadirpath = 'gdrive/My Drive/DL Project/Data/ready_chinese_food'\n",
        "labeldirpath = 'gdrive/My Drive/DL Project/Data/SplitAndIngreLabel/IngreLabel.txt'\n",
        "IngredientList = 'gdrive/My Drive/DL Project/Data/SplitAndIngreLabel/IngredientList.txt'\n",
        "IngredientTypeSheet = 'gdrive/My Drive/DL Project/Data/SplitAndIngreLabel/IngredientType.xlsx'\n",
        "\n",
        "trainlistpath = 'gdrive/My Drive/DL Project/Data/SplitAndIngreLabel/TR.txt'\n",
        "vallistpath = 'gdrive/My Drive/DL Project/Data/SplitAndIngreLabel/VAL.txt'\n",
        "testlistpath = 'gdrive/My Drive/DL Project/Data/SplitAndIngreLabel/TE.txt'\n",
        "\n",
        "pickletraindata_X = 'gdrive/My Drive/DL Project/PickleFiles/vgg_features_train_full.pkl'\n",
        "picklevaldata_X = 'gdrive/My Drive/DL Project/PickleFiles/vgg_features_val_full.pkl'\n",
        "pickletestdata_X = 'gdrive/My Drive/DL Project/PickleFiles/vgg_features_test_full.pkl'\n",
        "\n",
        "pickletraindata_Y1 = 'gdrive/My Drive/DL Project/PickleFiles/pickleTrainFull_Y1.pkl'\n",
        "picklevaldata_Y1 = 'gdrive/My Drive/DL Project/PickleFiles/pickleValFull_Y1.pkl'\n",
        "pickletestdata_Y1 = 'gdrive/My Drive/DL Project/PickleFiles/pickleTestFull_Y1.pkl'\n",
        "\n",
        "pickletraindata_Y2 = 'gdrive/My Drive/DL Project/PickleFiles/pickleTrainFull_Y2.pkl'\n",
        "picklevaldata_Y2 = 'gdrive/My Drive/DL Project/PickleFiles/pickleValFull_Y2.pkl'\n",
        "pickletestdata_Y2 = 'gdrive/My Drive/DL Project/PickleFiles/pickleTestFull_Y2.pkl'\n",
        "\n",
        "pickletraindata_Y3 = 'gdrive/My Drive/DL Project/PickleFiles/pickleTrainFull_Y3.pkl'\n",
        "picklevaldata_Y3 = 'gdrive/My Drive/DL Project/PickleFiles/pickleValFull_Y3.pkl'\n",
        "pickletestdata_Y3 = 'gdrive/My Drive/DL Project/PickleFiles/pickleTestFull_Y3.pkl'\n",
        "\n",
        "credentialFile = 'gdrive/My Drive/DL Project/Credentials/Food-Ingredient-cred.json'\n",
        "#pickleModelC_IngFood.pkl\n",
        "#Models Pickled\n",
        "pickleModelA1_IngFood = 'gdrive/My Drive/DL Project/PickleFiles/pickleModelA1_IngFood.pkl'\n",
        "\n",
        "pickletraindata_X_new= 'gdrive/My Drive/DL Project/PickleFiles/vgg_features_train_balancedfull.pkl'\n",
        "\n",
        "pickletraindata_Y1_new = 'gdrive/My Drive/DL Project/PickleFiles/pickleTrainBalanced_Y1full.pkl'\n",
        "\n",
        "pickletraindata_Y2_new = 'gdrive/My Drive/DL Project/PickleFiles/pickleTrainBalanced_Y2full.pkl'\n",
        "\n",
        "pickletraindata_Y3_new = 'gdrive/My Drive/DL Project/PickleFiles/pickleTrainBalanced_Y3full.pkl'\n",
        "\n"
      ],
      "execution_count": 0,
      "outputs": []
    },
    {
      "cell_type": "code",
      "metadata": {
        "id": "rGpQVnlxNDwZ",
        "colab_type": "code",
        "outputId": "620f188b-e901-458a-c1ce-594433b0f7cf",
        "colab": {
          "base_uri": "https://localhost:8080/",
          "height": 54
        }
      },
      "source": [
        "'''train_X = pickle.load(open(pickletraindata_X_new,'rb'))\n",
        "train_Y1 = pickle.load(open(pickletraindata_Y1_new,'rb'))\n",
        "train_Y2 = pickle.load(open(pickletraindata_Y2_new,'rb'))\n",
        "train_Y3 = pickle.load(open(pickletraindata_Y3_new,'rb'))'''"
      ],
      "execution_count": 5,
      "outputs": [
        {
          "output_type": "execute_result",
          "data": {
            "text/plain": [
              "\"train_X = pickle.load(open(pickletraindata_X_new,'rb'))\\ntrain_Y1 = pickle.load(open(pickletraindata_Y1_new,'rb'))\\ntrain_Y2 = pickle.load(open(pickletraindata_Y2_new,'rb'))\\ntrain_Y3 = pickle.load(open(pickletraindata_Y3_new,'rb'))\""
            ]
          },
          "metadata": {
            "tags": []
          },
          "execution_count": 5
        }
      ]
    },
    {
      "cell_type": "code",
      "metadata": {
        "id": "_ciOY68gNj0q",
        "colab_type": "code",
        "colab": {}
      },
      "source": [
        "#len(train_X),len(train_X[0]),len(train_X[0][0]),len(train_X[0][0][0]),len(train_X[0][0][0][0]),len(train_Y1),len(train_Y2),len(train_Y3)"
      ],
      "execution_count": 0,
      "outputs": []
    },
    {
      "cell_type": "markdown",
      "metadata": {
        "id": "7JJ1ntQqZ4fQ",
        "colab_type": "text"
      },
      "source": [
        "Loading train_X"
      ]
    },
    {
      "cell_type": "code",
      "metadata": {
        "id": "RM_eCqAbQx8P",
        "colab_type": "code",
        "outputId": "267e12b8-2c2c-43ea-9003-6c321b2f2ab6",
        "colab": {
          "base_uri": "https://localhost:8080/",
          "height": 34
        }
      },
      "source": [
        "train_X = pickle.load(open(pickletraindata_X_new, 'rb' ))\n",
        "train_X = np.array(train_X)\n",
        "print(train_X.shape)"
      ],
      "execution_count": 7,
      "outputs": [
        {
          "output_type": "stream",
          "text": [
            "(80000, 1, 7, 7, 512)\n"
          ],
          "name": "stdout"
        }
      ]
    },
    {
      "cell_type": "code",
      "metadata": {
        "id": "TYf9o8Tykikg",
        "colab_type": "code",
        "outputId": "19a73969-128e-4be2-a677-b3503beb916e",
        "colab": {
          "base_uri": "https://localhost:8080/",
          "height": 34
        }
      },
      "source": [
        "train_X=train_X.reshape(train_X.shape[0],7,7,512)\n",
        "print(train_X.shape)"
      ],
      "execution_count": 8,
      "outputs": [
        {
          "output_type": "stream",
          "text": [
            "(80000, 7, 7, 512)\n"
          ],
          "name": "stdout"
        }
      ]
    },
    {
      "cell_type": "markdown",
      "metadata": {
        "id": "_GhTSUa-Z8qQ",
        "colab_type": "text"
      },
      "source": [
        "Loading train_Y1"
      ]
    },
    {
      "cell_type": "code",
      "metadata": {
        "id": "BJhkgFrmQ4ri",
        "colab_type": "code",
        "outputId": "6d009f60-ab4c-4005-9a78-708806857537",
        "colab": {
          "base_uri": "https://localhost:8080/",
          "height": 34
        }
      },
      "source": [
        "train_Y1 = pickle.load(open(pickletraindata_Y1_new, 'rb' ))\n",
        "train_Y1 = np.array(train_Y1)\n",
        "print(train_Y1.shape)"
      ],
      "execution_count": 9,
      "outputs": [
        {
          "output_type": "stream",
          "text": [
            "(80000, 172)\n"
          ],
          "name": "stdout"
        }
      ]
    },
    {
      "cell_type": "markdown",
      "metadata": {
        "id": "kud_Sk7TZ_58",
        "colab_type": "text"
      },
      "source": [
        "Loading train_Y2"
      ]
    },
    {
      "cell_type": "code",
      "metadata": {
        "id": "u7QHo4X7RRnM",
        "colab_type": "code",
        "outputId": "7b770b75-395d-4c17-9388-86dc4d2a65a5",
        "colab": {
          "base_uri": "https://localhost:8080/",
          "height": 34
        }
      },
      "source": [
        "train_Y2_list = pickle.load(open(pickletraindata_Y2_new, 'rb' ))\n",
        "train_Y2 = np.array(train_Y2_list)\n",
        "\n",
        "for index in range(train_Y2.shape[0]):\n",
        "  templist = train_Y2[index]\n",
        "  templist_0 = [0 if x==-1 else x for x in templist]\n",
        "  train_Y2[index] = templist_0\n",
        "\n",
        "print(train_Y2.shape)"
      ],
      "execution_count": 10,
      "outputs": [
        {
          "output_type": "stream",
          "text": [
            "(80000, 353)\n"
          ],
          "name": "stdout"
        }
      ]
    },
    {
      "cell_type": "markdown",
      "metadata": {
        "id": "GfiIhMN6aFFP",
        "colab_type": "text"
      },
      "source": [
        "Loading val_X"
      ]
    },
    {
      "cell_type": "code",
      "metadata": {
        "id": "ixzFT6U4RWiB",
        "colab_type": "code",
        "outputId": "b03df2bf-ebf6-4cc5-ce96-50654ef2eb22",
        "colab": {
          "base_uri": "https://localhost:8080/",
          "height": 34
        }
      },
      "source": [
        "val_X = pickle.load(open(picklevaldata_X, 'rb' ))\n",
        "val_X = np.array(val_X)\n",
        "print(val_X.shape)"
      ],
      "execution_count": 11,
      "outputs": [
        {
          "output_type": "stream",
          "text": [
            "(11016, 1, 7, 7, 512)\n"
          ],
          "name": "stdout"
        }
      ]
    },
    {
      "cell_type": "code",
      "metadata": {
        "id": "AotWJBwxJLOt",
        "colab_type": "code",
        "outputId": "f304b96f-db4e-45d4-861d-aa0cd24d2ee8",
        "colab": {
          "base_uri": "https://localhost:8080/",
          "height": 34
        }
      },
      "source": [
        "val_X=val_X.reshape(val_X.shape[0],7,7,512)\n",
        "print(val_X.shape)"
      ],
      "execution_count": 12,
      "outputs": [
        {
          "output_type": "stream",
          "text": [
            "(11016, 7, 7, 512)\n"
          ],
          "name": "stdout"
        }
      ]
    },
    {
      "cell_type": "markdown",
      "metadata": {
        "id": "gVyc0KKUaI3H",
        "colab_type": "text"
      },
      "source": [
        "Loading val_Y1"
      ]
    },
    {
      "cell_type": "code",
      "metadata": {
        "id": "bk3orKueRbdx",
        "colab_type": "code",
        "outputId": "80bbae37-d9a9-412f-a9c4-890e2d4db918",
        "colab": {
          "base_uri": "https://localhost:8080/",
          "height": 34
        }
      },
      "source": [
        "val_Y1 = pickle.load(open(picklevaldata_Y1, 'rb' ))\n",
        "val_Y1 = np.array(val_Y1)\n",
        "print(val_Y1.shape)"
      ],
      "execution_count": 13,
      "outputs": [
        {
          "output_type": "stream",
          "text": [
            "(11016, 172)\n"
          ],
          "name": "stdout"
        }
      ]
    },
    {
      "cell_type": "markdown",
      "metadata": {
        "id": "yypiFiEfaLg2",
        "colab_type": "text"
      },
      "source": [
        "Loading val_Y2"
      ]
    },
    {
      "cell_type": "code",
      "metadata": {
        "id": "keJhEX9BRgaZ",
        "colab_type": "code",
        "outputId": "08c5ef22-420e-4d4d-b637-05099b8a9706",
        "colab": {
          "base_uri": "https://localhost:8080/",
          "height": 34
        }
      },
      "source": [
        "val_Y2_list = pickle.load(open(picklevaldata_Y2, 'rb' ))\n",
        "val_Y2 = np.array(val_Y2_list)\n",
        "\n",
        "for index in range(val_Y2.shape[0]):\n",
        "  templist = val_Y2[index]\n",
        "  templist_0 = [0 if x==-1 else x for x in templist]\n",
        "  val_Y2[index] = templist_0\n",
        "  \n",
        "print(val_Y2.shape)"
      ],
      "execution_count": 14,
      "outputs": [
        {
          "output_type": "stream",
          "text": [
            "(11016, 353)\n"
          ],
          "name": "stdout"
        }
      ]
    },
    {
      "cell_type": "code",
      "metadata": {
        "id": "-aE-Q8SH8xiF",
        "colab_type": "code",
        "outputId": "7999364d-6b7c-4045-fd73-355a4890e047",
        "colab": {
          "base_uri": "https://localhost:8080/",
          "height": 84
        }
      },
      "source": [
        "# Loading test_X\n",
        "\n",
        "test_X = pickle.load(open(pickletestdata_X, 'rb' ))\n",
        "test_X = np.array(test_X)\n",
        "\n",
        "print(test_X.shape)\n",
        "test_X=test_X.reshape(test_X.shape[0],7,7,512)\n",
        "print(test_X.shape)\n",
        "\n",
        "# Loading test_Y1\n",
        "\n",
        "test_Y1_list = pickle.load(open(pickletestdata_Y1, 'rb' ))\n",
        "test_Y1 = np.array(test_Y1_list)\n",
        "print(test_Y1.shape)\n",
        "\n",
        "test_Y3 = pickle.load(open(pickletestdata_Y3,\"rb\"))\n",
        "# Loading test_Y2\n",
        "\n",
        "test_Y2_list = pickle.load(open(pickletestdata_Y2, 'rb' ))\n",
        "test_Y2 = np.array(test_Y2_list)\n",
        "\n",
        "for index in range(test_Y2.shape[0]):\n",
        "  templist = test_Y2[index]\n",
        "  templist_0 = [0 if x==-1 else x for x in templist]\n",
        "  test_Y2[index] = templist_0\n",
        "  \n",
        "print(test_Y2.shape)"
      ],
      "execution_count": 15,
      "outputs": [
        {
          "output_type": "stream",
          "text": [
            "(33154, 1, 7, 7, 512)\n",
            "(33154, 7, 7, 512)\n",
            "(33154, 172)\n",
            "(33154, 353)\n"
          ],
          "name": "stdout"
        }
      ]
    },
    {
      "cell_type": "code",
      "metadata": {
        "id": "Wai3yhIkNf88",
        "colab_type": "code",
        "colab": {}
      },
      "source": [
        "train_Y3 = np.array(pickle.load(open(pickletraindata_Y3_new,\"rb\")))\n",
        "val_Y3 = pickle.load(open(picklevaldata_Y3,\"rb\"))\n"
      ],
      "execution_count": 0,
      "outputs": []
    },
    {
      "cell_type": "code",
      "metadata": {
        "id": "dP5o6Wxjo3LX",
        "colab_type": "code",
        "colab": {}
      },
      "source": [
        "def get_f1(y_true, y_pred): #https://mc.ai/how-to-add-user-defined-function-get-f1-score-in-keras-metrics/\n",
        "  true_positives = K.sum(K.round(K.clip(y_true * y_pred, 0, 1)))\n",
        "  possible_positives = K.sum(K.round(K.clip(y_true, 0, 1)))\n",
        "  predicted_positives = K.sum(K.round(K.clip(y_pred, 0, 1)))\n",
        "  precision = true_positives / (predicted_positives + K.epsilon())\n",
        "  recall = true_positives / (possible_positives + K.epsilon())\n",
        "  f1_val = 2*(precision*recall)/(precision+recall+K.epsilon())\n",
        "  return f1_val\n",
        "\n"
      ],
      "execution_count": 0,
      "outputs": []
    },
    {
      "cell_type": "markdown",
      "metadata": {
        "id": "ipL1JaxKiGpF",
        "colab_type": "text"
      },
      "source": [
        "Architecture B"
      ]
    },
    {
      "cell_type": "code",
      "metadata": {
        "colab_type": "code",
        "outputId": "cb5a440b-f176-4851-93dc-ccfb33853cce",
        "id": "htZkevP8iIq1",
        "colab": {
          "base_uri": "https://localhost:8080/",
          "height": 1000
        }
      },
      "source": [
        "\n",
        "inputs = Input(shape=(7,7,512))\n",
        "inputs_1 = Flatten()(inputs)\n",
        " \n",
        "conv2D1 = Conv2D(2048, kernel_size=3, activation='relu',padding='same')(inputs)\n",
        "maxPool2D1 = MaxPooling2D(pool_size=(2,2),padding='same')(conv2D1)\n",
        "\n",
        "conv2D2 = Conv2D(1024, kernel_size=3, activation='relu',padding='same')(conv2D1)\n",
        "maxPool2D2 = MaxPooling2D(pool_size=(2,2),padding='same')(conv2D2)\n",
        "dropout2 = Dropout(0.5)(maxPool2D2)\n",
        "\n",
        "conv2D3 = Conv2D(1024, kernel_size=3, activation='relu',padding='same')(dropout2)\n",
        "maxPool2D3 = MaxPooling2D(pool_size=(2,2),padding='same')(conv2D3)\n",
        "dropout3 = Dropout(0.5)(maxPool2D3)\n",
        "\n",
        "conv2D4 = Conv2D(512, kernel_size=3, activation='relu',padding='same')(dropout3)\n",
        "maxPool2D4 = MaxPooling2D(pool_size=(2,2),padding='same')(conv2D4)\n",
        "dropout4 = Dropout(0.5)(maxPool2D4)\n",
        "\n",
        "conv2D5 = Conv2D(1024, kernel_size=3, activation='relu',padding='same')(dropout4)\n",
        "maxPool2D5 = MaxPooling2D(pool_size=(2,2),padding='same')(conv2D5)\n",
        "dropout5 = Dropout(0.5)(maxPool2D5)\n",
        "\n",
        "conv2D6 = Conv2D(512, kernel_size=3, activation='relu',padding='same')(dropout5)\n",
        "maxPool2D6 = MaxPooling2D(pool_size=(2,2),padding='same')(conv2D6)\n",
        "dropout6 = Dropout(0.3)(maxPool2D6)\n",
        "\n",
        "flattened4 = Flatten()(dropout4)\n",
        "\n",
        "flattened6 = Flatten()(dropout6)\n",
        "\n",
        "output2 = Dense(172,activation='softmax',name='foodcategory_output')(flattened4) ##  Food categorization\n",
        "output1 = Dense(353,activation='sigmoid',name='ingredient_output')(flattened4)  ##  Ingredient recognition\n",
        "output3 = Dense(1,activation='sigmoid',name='vegan_output')(flattened4)  ##  Vegan recognition\n",
        "\n",
        "\n",
        "model_B = Model(inputs=inputs, outputs=[output1,output2,output3]) # Defining model with Architecture A1\n",
        "print(model_B.summary()) # summarize layers\n",
        "plot_model(model_B, to_file='Multi-task Architecture B.png') # plot graph\n",
        "\n"
      ],
      "execution_count": 42,
      "outputs": [
        {
          "output_type": "stream",
          "text": [
            "Model: \"model_3\"\n",
            "__________________________________________________________________________________________________\n",
            "Layer (type)                    Output Shape         Param #     Connected to                     \n",
            "==================================================================================================\n",
            "input_3 (InputLayer)            (None, 7, 7, 512)    0                                            \n",
            "__________________________________________________________________________________________________\n",
            "conv2d_13 (Conv2D)              (None, 7, 7, 2048)   9439232     input_3[0][0]                    \n",
            "__________________________________________________________________________________________________\n",
            "conv2d_14 (Conv2D)              (None, 7, 7, 1024)   18875392    conv2d_13[0][0]                  \n",
            "__________________________________________________________________________________________________\n",
            "max_pooling2d_14 (MaxPooling2D) (None, 4, 4, 1024)   0           conv2d_14[0][0]                  \n",
            "__________________________________________________________________________________________________\n",
            "dropout_11 (Dropout)            (None, 4, 4, 1024)   0           max_pooling2d_14[0][0]           \n",
            "__________________________________________________________________________________________________\n",
            "conv2d_15 (Conv2D)              (None, 4, 4, 1024)   9438208     dropout_11[0][0]                 \n",
            "__________________________________________________________________________________________________\n",
            "max_pooling2d_15 (MaxPooling2D) (None, 2, 2, 1024)   0           conv2d_15[0][0]                  \n",
            "__________________________________________________________________________________________________\n",
            "dropout_12 (Dropout)            (None, 2, 2, 1024)   0           max_pooling2d_15[0][0]           \n",
            "__________________________________________________________________________________________________\n",
            "conv2d_16 (Conv2D)              (None, 2, 2, 512)    4719104     dropout_12[0][0]                 \n",
            "__________________________________________________________________________________________________\n",
            "max_pooling2d_16 (MaxPooling2D) (None, 1, 1, 512)    0           conv2d_16[0][0]                  \n",
            "__________________________________________________________________________________________________\n",
            "dropout_13 (Dropout)            (None, 1, 1, 512)    0           max_pooling2d_16[0][0]           \n",
            "__________________________________________________________________________________________________\n",
            "flatten_8 (Flatten)             (None, 512)          0           dropout_13[0][0]                 \n",
            "__________________________________________________________________________________________________\n",
            "ingredient_output (Dense)       (None, 353)          181089      flatten_8[0][0]                  \n",
            "__________________________________________________________________________________________________\n",
            "foodcategory_output (Dense)     (None, 172)          88236       flatten_8[0][0]                  \n",
            "__________________________________________________________________________________________________\n",
            "vegan_output (Dense)            (None, 1)            513         flatten_8[0][0]                  \n",
            "==================================================================================================\n",
            "Total params: 42,741,774\n",
            "Trainable params: 42,741,774\n",
            "Non-trainable params: 0\n",
            "__________________________________________________________________________________________________\n",
            "None\n"
          ],
          "name": "stdout"
        },
        {
          "output_type": "execute_result",
          "data": {
            "image/png": "[encoded data removed]",
            "text/plain": [
              "<IPython.core.display.Image object>"
            ]
          },
          "metadata": {
            "tags": []
          },
          "execution_count": 42
        }
      ]
    },
    {
      "cell_type": "code",
      "metadata": {
        "colab_type": "code",
        "id": "7ZGOI6FZiIq9",
        "colab": {}
      },
      "source": [
        "import functools\n",
        "top5_acc = functools.partial(keras.metrics.top_k_categorical_accuracy, k=5)\n",
        "\n",
        "top5_acc.__name__ = 'top5_acc'\n",
        "\n",
        "model_B.compile(optimizer=Adam(lr=0.00005),\n",
        "              loss={'ingredient_output': 'binary_crossentropy', 'vegan_output': 'binary_crossentropy', 'foodcategory_output': 'categorical_crossentropy'},\n",
        "              #loss_weights={'ingredient_output': 0.8, 'foodcategory_output': 0.2},\n",
        "              metrics=[get_f1,top5_acc])"
      ],
      "execution_count": 0,
      "outputs": []
    },
    {
      "cell_type": "code",
      "metadata": {
        "colab_type": "code",
        "outputId": "c2d41a61-4832-4f76-dfb6-08ee4669bf74",
        "id": "evvIs4nUiIrC",
        "colab": {
          "base_uri": "https://localhost:8080/",
          "height": 1000
        }
      },
      "source": [
        "model_B.fit(train_X, [train_Y2,train_Y1,train_Y3], batch_size=256, epochs=50,validation_data = (val_X, [val_Y2, val_Y1, val_Y3]))"
      ],
      "execution_count": 44,
      "outputs": [
        {
          "output_type": "stream",
          "text": [
            "Train on 80000 samples, validate on 11016 samples\n",
            "Epoch 1/50\n",
            "80000/80000 [==============================] - 52s 651us/step - loss: 6.4105 - ingredient_output_loss: 0.5977 - foodcategory_output_loss: 5.2791 - vegan_output_loss: 0.5336 - ingredient_output_get_f1: 0.0188 - ingredient_output_top5_acc: 0.0210 - foodcategory_output_get_f1: 0.0153 - foodcategory_output_top5_acc: 0.1208 - vegan_output_get_f1: 0.7848 - vegan_output_top5_acc: 1.0000 - val_loss: 5.7381 - val_ingredient_output_loss: 0.4836 - val_foodcategory_output_loss: 4.8118 - val_vegan_output_loss: 0.4428 - val_ingredient_output_get_f1: 0.0252 - val_ingredient_output_top5_acc: 0.0211 - val_foodcategory_output_get_f1: 0.0241 - val_foodcategory_output_top5_acc: 0.1559 - val_vegan_output_get_f1: 0.8482 - val_vegan_output_top5_acc: 1.0000\n",
            "Epoch 2/50\n",
            "80000/80000 [==============================] - 50s 627us/step - loss: 4.2352 - ingredient_output_loss: 0.2283 - foodcategory_output_loss: 3.8363 - vegan_output_loss: 0.1706 - ingredient_output_get_f1: 0.0204 - ingredient_output_top5_acc: 0.0257 - foodcategory_output_get_f1: 0.1626 - foodcategory_output_top5_acc: 0.3808 - vegan_output_get_f1: 0.9270 - vegan_output_top5_acc: 1.0000 - val_loss: 4.8945 - val_ingredient_output_loss: 0.2937 - val_foodcategory_output_loss: 4.2158 - val_vegan_output_loss: 0.3850 - val_ingredient_output_get_f1: 7.0859e-04 - val_ingredient_output_top5_acc: 0.0497 - val_foodcategory_output_get_f1: 0.0674 - val_foodcategory_output_top5_acc: 0.3510 - val_vegan_output_get_f1: 0.8823 - val_vegan_output_top5_acc: 1.0000\n",
            "Epoch 3/50\n",
            "80000/80000 [==============================] - 50s 628us/step - loss: 3.3807 - ingredient_output_loss: 0.1175 - foodcategory_output_loss: 3.1234 - vegan_output_loss: 0.1399 - ingredient_output_get_f1: 0.0203 - ingredient_output_top5_acc: 0.0566 - foodcategory_output_get_f1: 0.2998 - foodcategory_output_top5_acc: 0.5386 - vegan_output_get_f1: 0.9409 - vegan_output_top5_acc: 1.0000 - val_loss: 4.2546 - val_ingredient_output_loss: 0.1991 - val_foodcategory_output_loss: 3.6788 - val_vegan_output_loss: 0.3768 - val_ingredient_output_get_f1: 6.0179e-04 - val_ingredient_output_top5_acc: 0.2014 - val_foodcategory_output_get_f1: 0.1109 - val_foodcategory_output_top5_acc: 0.4904 - val_vegan_output_get_f1: 0.8828 - val_vegan_output_top5_acc: 1.0000\n",
            "Epoch 4/50\n",
            "80000/80000 [==============================] - 50s 628us/step - loss: 2.8246 - ingredient_output_loss: 0.0802 - foodcategory_output_loss: 2.6278 - vegan_output_loss: 0.1166 - ingredient_output_get_f1: 0.0221 - ingredient_output_top5_acc: 0.1091 - foodcategory_output_get_f1: 0.4033 - foodcategory_output_top5_acc: 0.6329 - vegan_output_get_f1: 0.9507 - vegan_output_top5_acc: 1.0000 - val_loss: 3.7428 - val_ingredient_output_loss: 0.1290 - val_foodcategory_output_loss: 3.1821 - val_vegan_output_loss: 0.4316 - val_ingredient_output_get_f1: 0.0052 - val_ingredient_output_top5_acc: 0.2875 - val_foodcategory_output_get_f1: 0.1412 - val_foodcategory_output_top5_acc: 0.6033 - val_vegan_output_get_f1: 0.8875 - val_vegan_output_top5_acc: 1.0000\n",
            "Epoch 5/50\n",
            "80000/80000 [==============================] - 50s 628us/step - loss: 2.4223 - ingredient_output_loss: 0.0636 - foodcategory_output_loss: 2.2580 - vegan_output_loss: 0.1006 - ingredient_output_get_f1: 0.0335 - ingredient_output_top5_acc: 0.1859 - foodcategory_output_get_f1: 0.4747 - foodcategory_output_top5_acc: 0.7043 - vegan_output_get_f1: 0.9581 - vegan_output_top5_acc: 1.0000 - val_loss: 3.2454 - val_ingredient_output_loss: 0.1005 - val_foodcategory_output_loss: 2.7648 - val_vegan_output_loss: 0.3800 - val_ingredient_output_get_f1: 0.0136 - val_ingredient_output_top5_acc: 0.3499 - val_foodcategory_output_get_f1: 0.2167 - val_foodcategory_output_top5_acc: 0.6833 - val_vegan_output_get_f1: 0.8921 - val_vegan_output_top5_acc: 1.0000\n",
            "Epoch 6/50\n",
            "80000/80000 [==============================] - 51s 632us/step - loss: 2.1110 - ingredient_output_loss: 0.0539 - foodcategory_output_loss: 1.9750 - vegan_output_loss: 0.0821 - ingredient_output_get_f1: 0.0517 - ingredient_output_top5_acc: 0.2554 - foodcategory_output_get_f1: 0.5311 - foodcategory_output_top5_acc: 0.7537 - vegan_output_get_f1: 0.9665 - vegan_output_top5_acc: 1.0000 - val_loss: 3.1386 - val_ingredient_output_loss: 0.0860 - val_foodcategory_output_loss: 2.5947 - val_vegan_output_loss: 0.4579 - val_ingredient_output_get_f1: 0.0255 - val_ingredient_output_top5_acc: 0.4018 - val_foodcategory_output_get_f1: 0.2399 - val_foodcategory_output_top5_acc: 0.7166 - val_vegan_output_get_f1: 0.8893 - val_vegan_output_top5_acc: 1.0000\n",
            "Epoch 7/50\n",
            "80000/80000 [==============================] - 51s 633us/step - loss: 1.8595 - ingredient_output_loss: 0.0483 - foodcategory_output_loss: 1.7423 - vegan_output_loss: 0.0689 - ingredient_output_get_f1: 0.0757 - ingredient_output_top5_acc: 0.3176 - foodcategory_output_get_f1: 0.5818 - foodcategory_output_top5_acc: 0.7959 - vegan_output_get_f1: 0.9722 - vegan_output_top5_acc: 1.0000 - val_loss: 2.8217 - val_ingredient_output_loss: 0.0775 - val_foodcategory_output_loss: 2.3341 - val_vegan_output_loss: 0.4101 - val_ingredient_output_get_f1: 0.0353 - val_ingredient_output_top5_acc: 0.4351 - val_foodcategory_output_get_f1: 0.3090 - val_foodcategory_output_top5_acc: 0.7602 - val_vegan_output_get_f1: 0.8941 - val_vegan_output_top5_acc: 1.0000\n",
            "Epoch 8/50\n",
            "80000/80000 [==============================] - 50s 629us/step - loss: 1.6348 - ingredient_output_loss: 0.0441 - foodcategory_output_loss: 1.5322 - vegan_output_loss: 0.0585 - ingredient_output_get_f1: 0.1077 - ingredient_output_top5_acc: 0.3624 - foodcategory_output_get_f1: 0.6248 - foodcategory_output_top5_acc: 0.8314 - vegan_output_get_f1: 0.9770 - vegan_output_top5_acc: 1.0000 - val_loss: 2.5917 - val_ingredient_output_loss: 0.0665 - val_foodcategory_output_loss: 2.1385 - val_vegan_output_loss: 0.3868 - val_ingredient_output_get_f1: 0.0638 - val_ingredient_output_top5_acc: 0.4527 - val_foodcategory_output_get_f1: 0.3685 - val_foodcategory_output_top5_acc: 0.7818 - val_vegan_output_get_f1: 0.8976 - val_vegan_output_top5_acc: 1.0000\n",
            "Epoch 9/50\n",
            "80000/80000 [==============================] - 50s 629us/step - loss: 1.4626 - ingredient_output_loss: 0.0409 - foodcategory_output_loss: 1.3726 - vegan_output_loss: 0.0491 - ingredient_output_get_f1: 0.1435 - ingredient_output_top5_acc: 0.4067 - foodcategory_output_get_f1: 0.6593 - foodcategory_output_top5_acc: 0.8562 - vegan_output_get_f1: 0.9801 - vegan_output_top5_acc: 1.0000 - val_loss: 2.5125 - val_ingredient_output_loss: 0.0582 - val_foodcategory_output_loss: 2.0182 - val_vegan_output_loss: 0.4361 - val_ingredient_output_get_f1: 0.0762 - val_ingredient_output_top5_acc: 0.4815 - val_foodcategory_output_get_f1: 0.4074 - val_foodcategory_output_top5_acc: 0.7975 - val_vegan_output_get_f1: 0.8956 - val_vegan_output_top5_acc: 1.0000\n",
            "Epoch 10/50\n",
            "80000/80000 [==============================] - 50s 629us/step - loss: 1.3051 - ingredient_output_loss: 0.0384 - foodcategory_output_loss: 1.2228 - vegan_output_loss: 0.0439 - ingredient_output_get_f1: 0.1750 - ingredient_output_top5_acc: 0.4421 - foodcategory_output_get_f1: 0.6920 - foodcategory_output_top5_acc: 0.8798 - vegan_output_get_f1: 0.9825 - vegan_output_top5_acc: 1.0000 - val_loss: 2.3618 - val_ingredient_output_loss: 0.0539 - val_foodcategory_output_loss: 1.8939 - val_vegan_output_loss: 0.4139 - val_ingredient_output_get_f1: 0.0974 - val_ingredient_output_top5_acc: 0.4984 - val_foodcategory_output_get_f1: 0.4509 - val_foodcategory_output_top5_acc: 0.8116 - val_vegan_output_get_f1: 0.8987 - val_vegan_output_top5_acc: 1.0000\n",
            "Epoch 11/50\n",
            "80000/80000 [==============================] - 50s 628us/step - loss: 1.1667 - ingredient_output_loss: 0.0362 - foodcategory_output_loss: 1.0951 - vegan_output_loss: 0.0354 - ingredient_output_get_f1: 0.2095 - ingredient_output_top5_acc: 0.4728 - foodcategory_output_get_f1: 0.7212 - foodcategory_output_top5_acc: 0.8978 - vegan_output_get_f1: 0.9869 - vegan_output_top5_acc: 1.0000 - val_loss: 2.2652 - val_ingredient_output_loss: 0.0511 - val_foodcategory_output_loss: 1.8102 - val_vegan_output_loss: 0.4039 - val_ingredient_output_get_f1: 0.1308 - val_ingredient_output_top5_acc: 0.5138 - val_foodcategory_output_get_f1: 0.4800 - val_foodcategory_output_top5_acc: 0.8212 - val_vegan_output_get_f1: 0.8994 - val_vegan_output_top5_acc: 1.0000\n",
            "Epoch 12/50\n",
            "80000/80000 [==============================] - 50s 628us/step - loss: 1.0367 - ingredient_output_loss: 0.0343 - foodcategory_output_loss: 0.9695 - vegan_output_loss: 0.0329 - ingredient_output_get_f1: 0.2421 - ingredient_output_top5_acc: 0.4993 - foodcategory_output_get_f1: 0.7504 - foodcategory_output_top5_acc: 0.9134 - vegan_output_get_f1: 0.9871 - vegan_output_top5_acc: 1.0000 - val_loss: 2.2288 - val_ingredient_output_loss: 0.0458 - val_foodcategory_output_loss: 1.7383 - val_vegan_output_loss: 0.4446 - val_ingredient_output_get_f1: 0.1432 - val_ingredient_output_top5_acc: 0.5394 - val_foodcategory_output_get_f1: 0.5199 - val_foodcategory_output_top5_acc: 0.8266 - val_vegan_output_get_f1: 0.8979 - val_vegan_output_top5_acc: 1.0000\n",
            "Epoch 13/50\n",
            "80000/80000 [==============================] - 50s 629us/step - loss: 0.9234 - ingredient_output_loss: 0.0325 - foodcategory_output_loss: 0.8633 - vegan_output_loss: 0.0276 - ingredient_output_get_f1: 0.2780 - ingredient_output_top5_acc: 0.5220 - foodcategory_output_get_f1: 0.7746 - foodcategory_output_top5_acc: 0.9283 - vegan_output_get_f1: 0.9892 - vegan_output_top5_acc: 1.0000 - val_loss: 2.2734 - val_ingredient_output_loss: 0.0412 - val_foodcategory_output_loss: 1.6991 - val_vegan_output_loss: 0.5331 - val_ingredient_output_get_f1: 0.1595 - val_ingredient_output_top5_acc: 0.5527 - val_foodcategory_output_get_f1: 0.5408 - val_foodcategory_output_top5_acc: 0.8253 - val_vegan_output_get_f1: 0.8960 - val_vegan_output_top5_acc: 1.0000\n",
            "Epoch 14/50\n",
            "80000/80000 [==============================] - 50s 629us/step - loss: 0.8266 - ingredient_output_loss: 0.0310 - foodcategory_output_loss: 0.7688 - vegan_output_loss: 0.0268 - ingredient_output_get_f1: 0.3066 - ingredient_output_top5_acc: 0.5429 - foodcategory_output_get_f1: 0.7959 - foodcategory_output_top5_acc: 0.9409 - vegan_output_get_f1: 0.9898 - vegan_output_top5_acc: 1.0000 - val_loss: 2.1155 - val_ingredient_output_loss: 0.0400 - val_foodcategory_output_loss: 1.6189 - val_vegan_output_loss: 0.4566 - val_ingredient_output_get_f1: 0.1962 - val_ingredient_output_top5_acc: 0.5692 - val_foodcategory_output_get_f1: 0.5648 - val_foodcategory_output_top5_acc: 0.8356 - val_vegan_output_get_f1: 0.9012 - val_vegan_output_top5_acc: 1.0000\n",
            "Epoch 15/50\n",
            "80000/80000 [==============================] - 50s 628us/step - loss: 0.7423 - ingredient_output_loss: 0.0296 - foodcategory_output_loss: 0.6897 - vegan_output_loss: 0.0230 - ingredient_output_get_f1: 0.3331 - ingredient_output_top5_acc: 0.5611 - foodcategory_output_get_f1: 0.8140 - foodcategory_output_top5_acc: 0.9515 - vegan_output_get_f1: 0.9911 - vegan_output_top5_acc: 1.0000 - val_loss: 2.1653 - val_ingredient_output_loss: 0.0372 - val_foodcategory_output_loss: 1.6101 - val_vegan_output_loss: 0.5179 - val_ingredient_output_get_f1: 0.2124 - val_ingredient_output_top5_acc: 0.5830 - val_foodcategory_output_get_f1: 0.5809 - val_foodcategory_output_top5_acc: 0.8357 - val_vegan_output_get_f1: 0.8987 - val_vegan_output_top5_acc: 1.0000\n",
            "Epoch 16/50\n",
            "80000/80000 [==============================] - 50s 629us/step - loss: 0.6582 - ingredient_output_loss: 0.0283 - foodcategory_output_loss: 0.6079 - vegan_output_loss: 0.0220 - ingredient_output_get_f1: 0.3614 - ingredient_output_top5_acc: 0.5779 - foodcategory_output_get_f1: 0.8349 - foodcategory_output_top5_acc: 0.9598 - vegan_output_get_f1: 0.9915 - vegan_output_top5_acc: 1.0000 - val_loss: 2.1367 - val_ingredient_output_loss: 0.0366 - val_foodcategory_output_loss: 1.6067 - val_vegan_output_loss: 0.4934 - val_ingredient_output_get_f1: 0.2419 - val_ingredient_output_top5_acc: 0.6006 - val_foodcategory_output_get_f1: 0.5882 - val_foodcategory_output_top5_acc: 0.8382 - val_vegan_output_get_f1: 0.8999 - val_vegan_output_top5_acc: 1.0000\n",
            "Epoch 17/50\n",
            "80000/80000 [==============================] - 50s 629us/step - loss: 0.5818 - ingredient_output_loss: 0.0272 - foodcategory_output_loss: 0.5348 - vegan_output_loss: 0.0198 - ingredient_output_get_f1: 0.3857 - ingredient_output_top5_acc: 0.5949 - foodcategory_output_get_f1: 0.8517 - foodcategory_output_top5_acc: 0.9675 - vegan_output_get_f1: 0.9926 - vegan_output_top5_acc: 1.0000 - val_loss: 2.1364 - val_ingredient_output_loss: 0.0331 - val_foodcategory_output_loss: 1.5721 - val_vegan_output_loss: 0.5312 - val_ingredient_output_get_f1: 0.2724 - val_ingredient_output_top5_acc: 0.6133 - val_foodcategory_output_get_f1: 0.6082 - val_foodcategory_output_top5_acc: 0.8406 - val_vegan_output_get_f1: 0.9005 - val_vegan_output_top5_acc: 1.0000\n",
            "Epoch 18/50\n",
            "80000/80000 [==============================] - 50s 629us/step - loss: 0.5178 - ingredient_output_loss: 0.0260 - foodcategory_output_loss: 0.4722 - vegan_output_loss: 0.0196 - ingredient_output_get_f1: 0.4110 - ingredient_output_top5_acc: 0.6110 - foodcategory_output_get_f1: 0.8682 - foodcategory_output_top5_acc: 0.9732 - vegan_output_get_f1: 0.9926 - vegan_output_top5_acc: 1.0000 - val_loss: 2.1940 - val_ingredient_output_loss: 0.0328 - val_foodcategory_output_loss: 1.5732 - val_vegan_output_loss: 0.5880 - val_ingredient_output_get_f1: 0.2932 - val_ingredient_output_top5_acc: 0.6232 - val_foodcategory_output_get_f1: 0.6148 - val_foodcategory_output_top5_acc: 0.8417 - val_vegan_output_get_f1: 0.8983 - val_vegan_output_top5_acc: 1.0000\n",
            "Epoch 19/50\n",
            "80000/80000 [==============================] - 50s 630us/step - loss: 0.4599 - ingredient_output_loss: 0.0250 - foodcategory_output_loss: 0.4168 - vegan_output_loss: 0.0180 - ingredient_output_get_f1: 0.4308 - ingredient_output_top5_acc: 0.6258 - foodcategory_output_get_f1: 0.8821 - foodcategory_output_top5_acc: 0.9784 - vegan_output_get_f1: 0.9929 - vegan_output_top5_acc: 1.0000 - val_loss: 2.1171 - val_ingredient_output_loss: 0.0318 - val_foodcategory_output_loss: 1.5591 - val_vegan_output_loss: 0.5262 - val_ingredient_output_get_f1: 0.3255 - val_ingredient_output_top5_acc: 0.6339 - val_foodcategory_output_get_f1: 0.6233 - val_foodcategory_output_top5_acc: 0.8435 - val_vegan_output_get_f1: 0.8998 - val_vegan_output_top5_acc: 1.0000\n",
            "Epoch 20/50\n",
            "80000/80000 [==============================] - 51s 632us/step - loss: 0.4132 - ingredient_output_loss: 0.0242 - foodcategory_output_loss: 0.3720 - vegan_output_loss: 0.0170 - ingredient_output_get_f1: 0.4494 - ingredient_output_top5_acc: 0.6365 - foodcategory_output_get_f1: 0.8931 - foodcategory_output_top5_acc: 0.9830 - vegan_output_get_f1: 0.9939 - vegan_output_top5_acc: 1.0000 - val_loss: 2.0642 - val_ingredient_output_loss: 0.0297 - val_foodcategory_output_loss: 1.5295 - val_vegan_output_loss: 0.5050 - val_ingredient_output_get_f1: 0.3540 - val_ingredient_output_top5_acc: 0.6428 - val_foodcategory_output_get_f1: 0.6406 - val_foodcategory_output_top5_acc: 0.8508 - val_vegan_output_get_f1: 0.9022 - val_vegan_output_top5_acc: 1.0000\n",
            "Epoch 21/50\n",
            "80000/80000 [==============================] - 51s 632us/step - loss: 0.3648 - ingredient_output_loss: 0.0234 - foodcategory_output_loss: 0.3250 - vegan_output_loss: 0.0165 - ingredient_output_get_f1: 0.4676 - ingredient_output_top5_acc: 0.6499 - foodcategory_output_get_f1: 0.9059 - foodcategory_output_top5_acc: 0.9868 - vegan_output_get_f1: 0.9936 - vegan_output_top5_acc: 1.0000 - val_loss: 2.1947 - val_ingredient_output_loss: 0.0295 - val_foodcategory_output_loss: 1.5687 - val_vegan_output_loss: 0.5966 - val_ingredient_output_get_f1: 0.3733 - val_ingredient_output_top5_acc: 0.6432 - val_foodcategory_output_get_f1: 0.6347 - val_foodcategory_output_top5_acc: 0.8427 - val_vegan_output_get_f1: 0.8983 - val_vegan_output_top5_acc: 1.0000\n",
            "Epoch 22/50\n",
            "80000/80000 [==============================] - 51s 632us/step - loss: 0.3313 - ingredient_output_loss: 0.0227 - foodcategory_output_loss: 0.2938 - vegan_output_loss: 0.0148 - ingredient_output_get_f1: 0.4820 - ingredient_output_top5_acc: 0.6624 - foodcategory_output_get_f1: 0.9131 - foodcategory_output_top5_acc: 0.9894 - vegan_output_get_f1: 0.9942 - vegan_output_top5_acc: 1.0000 - val_loss: 2.2423 - val_ingredient_output_loss: 0.0291 - val_foodcategory_output_loss: 1.5885 - val_vegan_output_loss: 0.6246 - val_ingredient_output_get_f1: 0.3806 - val_ingredient_output_top5_acc: 0.6490 - val_foodcategory_output_get_f1: 0.6359 - val_foodcategory_output_top5_acc: 0.8469 - val_vegan_output_get_f1: 0.8987 - val_vegan_output_top5_acc: 1.0000\n",
            "Epoch 23/50\n",
            "80000/80000 [==============================] - 50s 629us/step - loss: 0.2940 - ingredient_output_loss: 0.0220 - foodcategory_output_loss: 0.2578 - vegan_output_loss: 0.0142 - ingredient_output_get_f1: 0.4994 - ingredient_output_top5_acc: 0.6678 - foodcategory_output_get_f1: 0.9237 - foodcategory_output_top5_acc: 0.9913 - vegan_output_get_f1: 0.9946 - vegan_output_top5_acc: 1.0000 - val_loss: 2.1659 - val_ingredient_output_loss: 0.0278 - val_foodcategory_output_loss: 1.5779 - val_vegan_output_loss: 0.5602 - val_ingredient_output_get_f1: 0.4163 - val_ingredient_output_top5_acc: 0.6581 - val_foodcategory_output_get_f1: 0.6501 - val_foodcategory_output_top5_acc: 0.8495 - val_vegan_output_get_f1: 0.8998 - val_vegan_output_top5_acc: 1.0000\n",
            "Epoch 24/50\n",
            "80000/80000 [==============================] - 50s 628us/step - loss: 0.2655 - ingredient_output_loss: 0.0214 - foodcategory_output_loss: 0.2308 - vegan_output_loss: 0.0133 - ingredient_output_get_f1: 0.5117 - ingredient_output_top5_acc: 0.6801 - foodcategory_output_get_f1: 0.9307 - foodcategory_output_top5_acc: 0.9931 - vegan_output_get_f1: 0.9948 - vegan_output_top5_acc: 1.0000 - val_loss: 2.3602 - val_ingredient_output_loss: 0.0274 - val_foodcategory_output_loss: 1.6594 - val_vegan_output_loss: 0.6734 - val_ingredient_output_get_f1: 0.4144 - val_ingredient_output_top5_acc: 0.6515 - val_foodcategory_output_get_f1: 0.6419 - val_foodcategory_output_top5_acc: 0.8410 - val_vegan_output_get_f1: 0.8976 - val_vegan_output_top5_acc: 1.0000\n",
            "Epoch 25/50\n",
            "80000/80000 [==============================] - 50s 629us/step - loss: 0.2430 - ingredient_output_loss: 0.0209 - foodcategory_output_loss: 0.2083 - vegan_output_loss: 0.0138 - ingredient_output_get_f1: 0.5247 - ingredient_output_top5_acc: 0.6846 - foodcategory_output_get_f1: 0.9377 - foodcategory_output_top5_acc: 0.9940 - vegan_output_get_f1: 0.9950 - vegan_output_top5_acc: 1.0000 - val_loss: 2.3060 - val_ingredient_output_loss: 0.0267 - val_foodcategory_output_loss: 1.6175 - val_vegan_output_loss: 0.6618 - val_ingredient_output_get_f1: 0.4259 - val_ingredient_output_top5_acc: 0.6589 - val_foodcategory_output_get_f1: 0.6483 - val_foodcategory_output_top5_acc: 0.8509 - val_vegan_output_get_f1: 0.8983 - val_vegan_output_top5_acc: 1.0000\n",
            "Epoch 26/50\n",
            "80000/80000 [==============================] - 50s 631us/step - loss: 0.2223 - ingredient_output_loss: 0.0203 - foodcategory_output_loss: 0.1909 - vegan_output_loss: 0.0111 - ingredient_output_get_f1: 0.5357 - ingredient_output_top5_acc: 0.6937 - foodcategory_output_get_f1: 0.9433 - foodcategory_output_top5_acc: 0.9953 - vegan_output_get_f1: 0.9956 - vegan_output_top5_acc: 1.0000 - val_loss: 2.1934 - val_ingredient_output_loss: 0.0267 - val_foodcategory_output_loss: 1.6296 - val_vegan_output_loss: 0.5370 - val_ingredient_output_get_f1: 0.4309 - val_ingredient_output_top5_acc: 0.6632 - val_foodcategory_output_get_f1: 0.6482 - val_foodcategory_output_top5_acc: 0.8465 - val_vegan_output_get_f1: 0.9025 - val_vegan_output_top5_acc: 1.0000\n",
            "Epoch 27/50\n",
            "80000/80000 [==============================] - 50s 628us/step - loss: 0.2049 - ingredient_output_loss: 0.0199 - foodcategory_output_loss: 0.1734 - vegan_output_loss: 0.0116 - ingredient_output_get_f1: 0.5463 - ingredient_output_top5_acc: 0.6993 - foodcategory_output_get_f1: 0.9479 - foodcategory_output_top5_acc: 0.9965 - vegan_output_get_f1: 0.9959 - vegan_output_top5_acc: 1.0000 - val_loss: 2.4735 - val_ingredient_output_loss: 0.0257 - val_foodcategory_output_loss: 1.7098 - val_vegan_output_loss: 0.7380 - val_ingredient_output_get_f1: 0.4420 - val_ingredient_output_top5_acc: 0.6631 - val_foodcategory_output_get_f1: 0.6449 - val_foodcategory_output_top5_acc: 0.8437 - val_vegan_output_get_f1: 0.8981 - val_vegan_output_top5_acc: 1.0000\n",
            "Epoch 28/50\n",
            "80000/80000 [==============================] - 50s 629us/step - loss: 0.1881 - ingredient_output_loss: 0.0195 - foodcategory_output_loss: 0.1577 - vegan_output_loss: 0.0109 - ingredient_output_get_f1: 0.5551 - ingredient_output_top5_acc: 0.7078 - foodcategory_output_get_f1: 0.9528 - foodcategory_output_top5_acc: 0.9964 - vegan_output_get_f1: 0.9958 - vegan_output_top5_acc: 1.0000 - val_loss: 2.3832 - val_ingredient_output_loss: 0.0257 - val_foodcategory_output_loss: 1.6622 - val_vegan_output_loss: 0.6953 - val_ingredient_output_get_f1: 0.4505 - val_ingredient_output_top5_acc: 0.6574 - val_foodcategory_output_get_f1: 0.6497 - val_foodcategory_output_top5_acc: 0.8490 - val_vegan_output_get_f1: 0.8983 - val_vegan_output_top5_acc: 1.0000\n",
            "Epoch 29/50\n",
            "80000/80000 [==============================] - 50s 627us/step - loss: 0.1726 - ingredient_output_loss: 0.0191 - foodcategory_output_loss: 0.1431 - vegan_output_loss: 0.0104 - ingredient_output_get_f1: 0.5651 - ingredient_output_top5_acc: 0.7138 - foodcategory_output_get_f1: 0.9564 - foodcategory_output_top5_acc: 0.9976 - vegan_output_get_f1: 0.9962 - vegan_output_top5_acc: 1.0000 - val_loss: 2.3392 - val_ingredient_output_loss: 0.0260 - val_foodcategory_output_loss: 1.6782 - val_vegan_output_loss: 0.6350 - val_ingredient_output_get_f1: 0.4574 - val_ingredient_output_top5_acc: 0.6664 - val_foodcategory_output_get_f1: 0.6484 - val_foodcategory_output_top5_acc: 0.8471 - val_vegan_output_get_f1: 0.9009 - val_vegan_output_top5_acc: 1.0000\n",
            "Epoch 30/50\n",
            "80000/80000 [==============================] - 50s 628us/step - loss: 0.1654 - ingredient_output_loss: 0.0187 - foodcategory_output_loss: 0.1373 - vegan_output_loss: 0.0094 - ingredient_output_get_f1: 0.5722 - ingredient_output_top5_acc: 0.7166 - foodcategory_output_get_f1: 0.9587 - foodcategory_output_top5_acc: 0.9974 - vegan_output_get_f1: 0.9965 - vegan_output_top5_acc: 1.0000 - val_loss: 2.4046 - val_ingredient_output_loss: 0.0252 - val_foodcategory_output_loss: 1.7159 - val_vegan_output_loss: 0.6635 - val_ingredient_output_get_f1: 0.4604 - val_ingredient_output_top5_acc: 0.6639 - val_foodcategory_output_get_f1: 0.6546 - val_foodcategory_output_top5_acc: 0.8513 - val_vegan_output_get_f1: 0.9027 - val_vegan_output_top5_acc: 1.0000\n",
            "Epoch 31/50\n",
            "80000/80000 [==============================] - 50s 628us/step - loss: 0.1550 - ingredient_output_loss: 0.0184 - foodcategory_output_loss: 0.1277 - vegan_output_loss: 0.0090 - ingredient_output_get_f1: 0.5788 - ingredient_output_top5_acc: 0.7204 - foodcategory_output_get_f1: 0.9613 - foodcategory_output_top5_acc: 0.9978 - vegan_output_get_f1: 0.9967 - vegan_output_top5_acc: 1.0000 - val_loss: 2.4604 - val_ingredient_output_loss: 0.0248 - val_foodcategory_output_loss: 1.7529 - val_vegan_output_loss: 0.6827 - val_ingredient_output_get_f1: 0.4661 - val_ingredient_output_top5_acc: 0.6722 - val_foodcategory_output_get_f1: 0.6559 - val_foodcategory_output_top5_acc: 0.8470 - val_vegan_output_get_f1: 0.9003 - val_vegan_output_top5_acc: 1.0000\n",
            "Epoch 32/50\n",
            "80000/80000 [==============================] - 50s 629us/step - loss: 0.1455 - ingredient_output_loss: 0.0182 - foodcategory_output_loss: 0.1173 - vegan_output_loss: 0.0099 - ingredient_output_get_f1: 0.5849 - ingredient_output_top5_acc: 0.7259 - foodcategory_output_get_f1: 0.9643 - foodcategory_output_top5_acc: 0.9982 - vegan_output_get_f1: 0.9967 - vegan_output_top5_acc: 1.0000 - val_loss: 2.4180 - val_ingredient_output_loss: 0.0256 - val_foodcategory_output_loss: 1.7056 - val_vegan_output_loss: 0.6868 - val_ingredient_output_get_f1: 0.4647 - val_ingredient_output_top5_acc: 0.6721 - val_foodcategory_output_get_f1: 0.6544 - val_foodcategory_output_top5_acc: 0.8483 - val_vegan_output_get_f1: 0.8990 - val_vegan_output_top5_acc: 1.0000\n",
            "Epoch 33/50\n",
            "80000/80000 [==============================] - 50s 628us/step - loss: 0.1364 - ingredient_output_loss: 0.0180 - foodcategory_output_loss: 0.1099 - vegan_output_loss: 0.0086 - ingredient_output_get_f1: 0.5906 - ingredient_output_top5_acc: 0.7292 - foodcategory_output_get_f1: 0.9657 - foodcategory_output_top5_acc: 0.9987 - vegan_output_get_f1: 0.9969 - vegan_output_top5_acc: 1.0000 - val_loss: 2.4134 - val_ingredient_output_loss: 0.0252 - val_foodcategory_output_loss: 1.7431 - val_vegan_output_loss: 0.6450 - val_ingredient_output_get_f1: 0.4676 - val_ingredient_output_top5_acc: 0.6767 - val_foodcategory_output_get_f1: 0.6525 - val_foodcategory_output_top5_acc: 0.8474 - val_vegan_output_get_f1: 0.9012 - val_vegan_output_top5_acc: 1.0000\n",
            "Epoch 34/50\n",
            "80000/80000 [==============================] - 50s 629us/step - loss: 0.1289 - ingredient_output_loss: 0.0177 - foodcategory_output_loss: 0.1021 - vegan_output_loss: 0.0091 - ingredient_output_get_f1: 0.5964 - ingredient_output_top5_acc: 0.7323 - foodcategory_output_get_f1: 0.9692 - foodcategory_output_top5_acc: 0.9985 - vegan_output_get_f1: 0.9964 - vegan_output_top5_acc: 1.0000 - val_loss: 2.4265 - val_ingredient_output_loss: 0.0249 - val_foodcategory_output_loss: 1.7482 - val_vegan_output_loss: 0.6533 - val_ingredient_output_get_f1: 0.4776 - val_ingredient_output_top5_acc: 0.6779 - val_foodcategory_output_get_f1: 0.6571 - val_foodcategory_output_top5_acc: 0.8535 - val_vegan_output_get_f1: 0.9037 - val_vegan_output_top5_acc: 1.0000\n",
            "Epoch 35/50\n",
            "80000/80000 [==============================] - 50s 628us/step - loss: 0.1196 - ingredient_output_loss: 0.0174 - foodcategory_output_loss: 0.0945 - vegan_output_loss: 0.0077 - ingredient_output_get_f1: 0.6031 - ingredient_output_top5_acc: 0.7376 - foodcategory_output_get_f1: 0.9718 - foodcategory_output_top5_acc: 0.9988 - vegan_output_get_f1: 0.9971 - vegan_output_top5_acc: 1.0000 - val_loss: 2.5236 - val_ingredient_output_loss: 0.0253 - val_foodcategory_output_loss: 1.7821 - val_vegan_output_loss: 0.7162 - val_ingredient_output_get_f1: 0.4644 - val_ingredient_output_top5_acc: 0.6757 - val_foodcategory_output_get_f1: 0.6506 - val_foodcategory_output_top5_acc: 0.8443 - val_vegan_output_get_f1: 0.9005 - val_vegan_output_top5_acc: 1.0000\n",
            "Epoch 36/50\n",
            "80000/80000 [==============================] - 50s 627us/step - loss: 0.1228 - ingredient_output_loss: 0.0173 - foodcategory_output_loss: 0.0975 - vegan_output_loss: 0.0081 - ingredient_output_get_f1: 0.6052 - ingredient_output_top5_acc: 0.7379 - foodcategory_output_get_f1: 0.9704 - foodcategory_output_top5_acc: 0.9987 - vegan_output_get_f1: 0.9970 - vegan_output_top5_acc: 1.0000 - val_loss: 2.7899 - val_ingredient_output_loss: 0.0245 - val_foodcategory_output_loss: 1.8775 - val_vegan_output_loss: 0.8880 - val_ingredient_output_get_f1: 0.4698 - val_ingredient_output_top5_acc: 0.6721 - val_foodcategory_output_get_f1: 0.6480 - val_foodcategory_output_top5_acc: 0.8443 - val_vegan_output_get_f1: 0.8977 - val_vegan_output_top5_acc: 1.0000\n",
            "Epoch 37/50\n",
            "80000/80000 [==============================] - 50s 628us/step - loss: 0.1102 - ingredient_output_loss: 0.0171 - foodcategory_output_loss: 0.0854 - vegan_output_loss: 0.0077 - ingredient_output_get_f1: 0.6100 - ingredient_output_top5_acc: 0.7429 - foodcategory_output_get_f1: 0.9743 - foodcategory_output_top5_acc: 0.9988 - vegan_output_get_f1: 0.9973 - vegan_output_top5_acc: 1.0000 - val_loss: 2.6544 - val_ingredient_output_loss: 0.0244 - val_foodcategory_output_loss: 1.8141 - val_vegan_output_loss: 0.8158 - val_ingredient_output_get_f1: 0.4765 - val_ingredient_output_top5_acc: 0.6770 - val_foodcategory_output_get_f1: 0.6581 - val_foodcategory_output_top5_acc: 0.8534 - val_vegan_output_get_f1: 0.8981 - val_vegan_output_top5_acc: 1.0000\n",
            "Epoch 38/50\n",
            "80000/80000 [==============================] - 50s 628us/step - loss: 0.1109 - ingredient_output_loss: 0.0169 - foodcategory_output_loss: 0.0874 - vegan_output_loss: 0.0066 - ingredient_output_get_f1: 0.6135 - ingredient_output_top5_acc: 0.7435 - foodcategory_output_get_f1: 0.9739 - foodcategory_output_top5_acc: 0.9988 - vegan_output_get_f1: 0.9976 - vegan_output_top5_acc: 1.0000 - val_loss: 2.7231 - val_ingredient_output_loss: 0.0243 - val_foodcategory_output_loss: 1.8832 - val_vegan_output_loss: 0.8156 - val_ingredient_output_get_f1: 0.4757 - val_ingredient_output_top5_acc: 0.6777 - val_foodcategory_output_get_f1: 0.6528 - val_foodcategory_output_top5_acc: 0.8498 - val_vegan_output_get_f1: 0.8995 - val_vegan_output_top5_acc: 1.0000\n",
            "Epoch 39/50\n",
            "80000/80000 [==============================] - 50s 628us/step - loss: 0.1000 - ingredient_output_loss: 0.0167 - foodcategory_output_loss: 0.0766 - vegan_output_loss: 0.0067 - ingredient_output_get_f1: 0.6171 - ingredient_output_top5_acc: 0.7476 - foodcategory_output_get_f1: 0.9771 - foodcategory_output_top5_acc: 0.9992 - vegan_output_get_f1: 0.9977 - vegan_output_top5_acc: 1.0000 - val_loss: 2.6163 - val_ingredient_output_loss: 0.0247 - val_foodcategory_output_loss: 1.8359 - val_vegan_output_loss: 0.7557 - val_ingredient_output_get_f1: 0.4872 - val_ingredient_output_top5_acc: 0.6736 - val_foodcategory_output_get_f1: 0.6526 - val_foodcategory_output_top5_acc: 0.8493 - val_vegan_output_get_f1: 0.9012 - val_vegan_output_top5_acc: 1.0000\n",
            "Epoch 40/50\n",
            "80000/80000 [==============================] - 50s 628us/step - loss: 0.0960 - ingredient_output_loss: 0.0165 - foodcategory_output_loss: 0.0730 - vegan_output_loss: 0.0065 - ingredient_output_get_f1: 0.6215 - ingredient_output_top5_acc: 0.7480 - foodcategory_output_get_f1: 0.9774 - foodcategory_output_top5_acc: 0.9992 - vegan_output_get_f1: 0.9977 - vegan_output_top5_acc: 1.0000 - val_loss: 2.7118 - val_ingredient_output_loss: 0.0249 - val_foodcategory_output_loss: 1.8990 - val_vegan_output_loss: 0.7879 - val_ingredient_output_get_f1: 0.4708 - val_ingredient_output_top5_acc: 0.6770 - val_foodcategory_output_get_f1: 0.6499 - val_foodcategory_output_top5_acc: 0.8437 - val_vegan_output_get_f1: 0.9000 - val_vegan_output_top5_acc: 1.0000\n",
            "Epoch 41/50\n",
            "80000/80000 [==============================] - 50s 629us/step - loss: 0.0990 - ingredient_output_loss: 0.0164 - foodcategory_output_loss: 0.0765 - vegan_output_loss: 0.0061 - ingredient_output_get_f1: 0.6236 - ingredient_output_top5_acc: 0.7513 - foodcategory_output_get_f1: 0.9769 - foodcategory_output_top5_acc: 0.9992 - vegan_output_get_f1: 0.9977 - vegan_output_top5_acc: 1.0000 - val_loss: 2.6272 - val_ingredient_output_loss: 0.0245 - val_foodcategory_output_loss: 1.8657 - val_vegan_output_loss: 0.7369 - val_ingredient_output_get_f1: 0.4843 - val_ingredient_output_top5_acc: 0.6769 - val_foodcategory_output_get_f1: 0.6575 - val_foodcategory_output_top5_acc: 0.8459 - val_vegan_output_get_f1: 0.9017 - val_vegan_output_top5_acc: 1.0000\n",
            "Epoch 42/50\n",
            "80000/80000 [==============================] - 50s 627us/step - loss: 0.0956 - ingredient_output_loss: 0.0163 - foodcategory_output_loss: 0.0725 - vegan_output_loss: 0.0068 - ingredient_output_get_f1: 0.6266 - ingredient_output_top5_acc: 0.7520 - foodcategory_output_get_f1: 0.9784 - foodcategory_output_top5_acc: 0.9992 - vegan_output_get_f1: 0.9976 - vegan_output_top5_acc: 1.0000 - val_loss: 2.7317 - val_ingredient_output_loss: 0.0246 - val_foodcategory_output_loss: 1.9082 - val_vegan_output_loss: 0.7989 - val_ingredient_output_get_f1: 0.4821 - val_ingredient_output_top5_acc: 0.6816 - val_foodcategory_output_get_f1: 0.6544 - val_foodcategory_output_top5_acc: 0.8469 - val_vegan_output_get_f1: 0.9010 - val_vegan_output_top5_acc: 1.0000\n",
            "Epoch 43/50\n",
            "80000/80000 [==============================] - 50s 629us/step - loss: 0.0897 - ingredient_output_loss: 0.0162 - foodcategory_output_loss: 0.0682 - vegan_output_loss: 0.0053 - ingredient_output_get_f1: 0.6286 - ingredient_output_top5_acc: 0.7539 - foodcategory_output_get_f1: 0.9796 - foodcategory_output_top5_acc: 0.9993 - vegan_output_get_f1: 0.9980 - vegan_output_top5_acc: 1.0000 - val_loss: 2.6791 - val_ingredient_output_loss: 0.0248 - val_foodcategory_output_loss: 1.9010 - val_vegan_output_loss: 0.7533 - val_ingredient_output_get_f1: 0.4797 - val_ingredient_output_top5_acc: 0.6812 - val_foodcategory_output_get_f1: 0.6571 - val_foodcategory_output_top5_acc: 0.8480 - val_vegan_output_get_f1: 0.9000 - val_vegan_output_top5_acc: 1.0000\n",
            "Epoch 44/50\n",
            "80000/80000 [==============================] - 51s 632us/step - loss: 0.0872 - ingredient_output_loss: 0.0161 - foodcategory_output_loss: 0.0650 - vegan_output_loss: 0.0061 - ingredient_output_get_f1: 0.6306 - ingredient_output_top5_acc: 0.7548 - foodcategory_output_get_f1: 0.9806 - foodcategory_output_top5_acc: 0.9994 - vegan_output_get_f1: 0.9978 - vegan_output_top5_acc: 1.0000 - val_loss: 2.5727 - val_ingredient_output_loss: 0.0249 - val_foodcategory_output_loss: 1.8711 - val_vegan_output_loss: 0.6767 - val_ingredient_output_get_f1: 0.4794 - val_ingredient_output_top5_acc: 0.6773 - val_foodcategory_output_get_f1: 0.6560 - val_foodcategory_output_top5_acc: 0.8463 - val_vegan_output_get_f1: 0.9025 - val_vegan_output_top5_acc: 1.0000\n",
            "Epoch 45/50\n",
            "80000/80000 [==============================] - 50s 629us/step - loss: 0.0854 - ingredient_output_loss: 0.0159 - foodcategory_output_loss: 0.0635 - vegan_output_loss: 0.0059 - ingredient_output_get_f1: 0.6332 - ingredient_output_top5_acc: 0.7576 - foodcategory_output_get_f1: 0.9812 - foodcategory_output_top5_acc: 0.9994 - vegan_output_get_f1: 0.9978 - vegan_output_top5_acc: 1.0000 - val_loss: 2.8785 - val_ingredient_output_loss: 0.0246 - val_foodcategory_output_loss: 1.9468 - val_vegan_output_loss: 0.9071 - val_ingredient_output_get_f1: 0.4787 - val_ingredient_output_top5_acc: 0.6774 - val_foodcategory_output_get_f1: 0.6498 - val_foodcategory_output_top5_acc: 0.8415 - val_vegan_output_get_f1: 0.8991 - val_vegan_output_top5_acc: 1.0000\n",
            "Epoch 46/50\n",
            "80000/80000 [==============================] - 50s 628us/step - loss: 0.0853 - ingredient_output_loss: 0.0158 - foodcategory_output_loss: 0.0633 - vegan_output_loss: 0.0062 - ingredient_output_get_f1: 0.6364 - ingredient_output_top5_acc: 0.7588 - foodcategory_output_get_f1: 0.9820 - foodcategory_output_top5_acc: 0.9993 - vegan_output_get_f1: 0.9979 - vegan_output_top5_acc: 1.0000 - val_loss: 2.7677 - val_ingredient_output_loss: 0.0244 - val_foodcategory_output_loss: 1.9105 - val_vegan_output_loss: 0.8328 - val_ingredient_output_get_f1: 0.4896 - val_ingredient_output_top5_acc: 0.6785 - val_foodcategory_output_get_f1: 0.6595 - val_foodcategory_output_top5_acc: 0.8487 - val_vegan_output_get_f1: 0.8998 - val_vegan_output_top5_acc: 1.0000\n",
            "Epoch 47/50\n",
            "80000/80000 [==============================] - 50s 629us/step - loss: 0.0807 - ingredient_output_loss: 0.0157 - foodcategory_output_loss: 0.0593 - vegan_output_loss: 0.0057 - ingredient_output_get_f1: 0.6383 - ingredient_output_top5_acc: 0.7601 - foodcategory_output_get_f1: 0.9824 - foodcategory_output_top5_acc: 0.9994 - vegan_output_get_f1: 0.9978 - vegan_output_top5_acc: 1.0000 - val_loss: 2.6667 - val_ingredient_output_loss: 0.0246 - val_foodcategory_output_loss: 1.8789 - val_vegan_output_loss: 0.7632 - val_ingredient_output_get_f1: 0.4865 - val_ingredient_output_top5_acc: 0.6844 - val_foodcategory_output_get_f1: 0.6604 - val_foodcategory_output_top5_acc: 0.8479 - val_vegan_output_get_f1: 0.9000 - val_vegan_output_top5_acc: 1.0000\n",
            "Epoch 48/50\n",
            "80000/80000 [==============================] - 50s 629us/step - loss: 0.0746 - ingredient_output_loss: 0.0156 - foodcategory_output_loss: 0.0544 - vegan_output_loss: 0.0047 - ingredient_output_get_f1: 0.6404 - ingredient_output_top5_acc: 0.7625 - foodcategory_output_get_f1: 0.9840 - foodcategory_output_top5_acc: 0.9995 - vegan_output_get_f1: 0.9985 - vegan_output_top5_acc: 1.0000 - val_loss: 2.7222 - val_ingredient_output_loss: 0.0245 - val_foodcategory_output_loss: 1.9365 - val_vegan_output_loss: 0.7612 - val_ingredient_output_get_f1: 0.4824 - val_ingredient_output_top5_acc: 0.6797 - val_foodcategory_output_get_f1: 0.6523 - val_foodcategory_output_top5_acc: 0.8457 - val_vegan_output_get_f1: 0.9012 - val_vegan_output_top5_acc: 1.0000\n",
            "Epoch 49/50\n",
            "80000/80000 [==============================] - 50s 629us/step - loss: 0.0709 - ingredient_output_loss: 0.0155 - foodcategory_output_loss: 0.0508 - vegan_output_loss: 0.0045 - ingredient_output_get_f1: 0.6435 - ingredient_output_top5_acc: 0.7642 - foodcategory_output_get_f1: 0.9846 - foodcategory_output_top5_acc: 0.9996 - vegan_output_get_f1: 0.9983 - vegan_output_top5_acc: 1.0000 - val_loss: 2.8319 - val_ingredient_output_loss: 0.0246 - val_foodcategory_output_loss: 1.9467 - val_vegan_output_loss: 0.8606 - val_ingredient_output_get_f1: 0.4814 - val_ingredient_output_top5_acc: 0.6828 - val_foodcategory_output_get_f1: 0.6542 - val_foodcategory_output_top5_acc: 0.8466 - val_vegan_output_get_f1: 0.8991 - val_vegan_output_top5_acc: 1.0000\n",
            "Epoch 50/50\n",
            "80000/80000 [==============================] - 50s 629us/step - loss: 0.0774 - ingredient_output_loss: 0.0155 - foodcategory_output_loss: 0.0574 - vegan_output_loss: 0.0045 - ingredient_output_get_f1: 0.6419 - ingredient_output_top5_acc: 0.7628 - foodcategory_output_get_f1: 0.9833 - foodcategory_output_top5_acc: 0.9995 - vegan_output_get_f1: 0.9985 - vegan_output_top5_acc: 1.0000 - val_loss: 2.8145 - val_ingredient_output_loss: 0.0243 - val_foodcategory_output_loss: 1.9558 - val_vegan_output_loss: 0.8344 - val_ingredient_output_get_f1: 0.4908 - val_ingredient_output_top5_acc: 0.6854 - val_foodcategory_output_get_f1: 0.6573 - val_foodcategory_output_top5_acc: 0.8495 - val_vegan_output_get_f1: 0.8984 - val_vegan_output_top5_acc: 1.0000\n"
          ],
          "name": "stdout"
        },
        {
          "output_type": "execute_result",
          "data": {
            "text/plain": [
              "<keras.callbacks.History at 0x7f23cfe341d0>"
            ]
          },
          "metadata": {
            "tags": []
          },
          "execution_count": 44
        }
      ]
    },
    {
      "cell_type": "code",
      "metadata": {
        "colab_type": "code",
        "id": "iFYD_VXpFRD2",
        "outputId": "fdf60559-d4c1-4f14-d9da-fd97add98695",
        "colab": {
          "base_uri": "https://localhost:8080/",
          "height": 101
        }
      },
      "source": [
        "## prediction on test\n",
        "\n",
        "results = model_B.evaluate(test_X, [test_Y2,test_Y1, test_Y3], batch_size=128)\n",
        "#print(results)\n",
        "print('Ingredient F1:', results[4])\n",
        "print('Food Top5:', results[7])\n",
        "print('Vegan F1:', results[8])\n",
        "\n",
        "print('Generate predictions for all samples')\n",
        "predictions = model_B.predict(test_X)\n",
        "\n",
        "\n",
        "predictions_ingredients=1*(predictions[0] >= 0.5)\n",
        "predictions_vegan=1*(predictions[2] >= 0.5)\n",
        "#predictions_ingredients"
      ],
      "execution_count": 45,
      "outputs": [
        {
          "output_type": "stream",
          "text": [
            "33154/33154 [==============================] - 9s 257us/step\n",
            "Ingredient F1: 0.4812966572286971\n",
            "Food Top5: 0.8489774989443204\n",
            "Vegan F1: 0.8434841825424593\n",
            "Generate predictions for all samples\n"
          ],
          "name": "stdout"
        }
      ]
    },
    {
      "cell_type": "code",
      "metadata": {
        "colab_type": "code",
        "id": "kXwk44FhFREK",
        "outputId": "52359067-34de-4793-a8a4-abf65782699e",
        "colab": {
          "base_uri": "https://localhost:8080/",
          "height": 1000
        }
      },
      "source": [
        "from sklearn.metrics import classification_report\n",
        "print(classification_report(test_Y2, predictions_ingredients))"
      ],
      "execution_count": 46,
      "outputs": [
        {
          "output_type": "stream",
          "text": [
            "              precision    recall  f1-score   support\n",
            "\n",
            "           0       0.69      0.27      0.39      6698\n",
            "           1       0.62      0.27      0.38       666\n",
            "           2       0.43      0.01      0.03       731\n",
            "           3       0.62      0.56      0.59       144\n",
            "           4       0.75      0.60      0.67       435\n",
            "           5       0.00      0.00      0.00        10\n",
            "           6       0.00      0.00      0.00        24\n",
            "           7       0.00      0.00      0.00        46\n",
            "           8       0.68      0.43      0.53       868\n",
            "           9       0.00      0.00      0.00       365\n",
            "          10       0.00      0.00      0.00        41\n",
            "          11       0.73      0.19      0.30       699\n",
            "          12       0.43      0.07      0.12       387\n",
            "          13       0.77      0.15      0.26      1639\n",
            "          14       0.50      0.05      0.10        76\n",
            "          15       0.80      0.13      0.22      4353\n",
            "          16       0.45      0.09      0.15      1138\n",
            "          17       0.77      0.24      0.36      1570\n",
            "          18       0.00      0.00      0.00        41\n",
            "          19       0.00      0.00      0.00        99\n",
            "          20       0.78      0.67      0.72       218\n",
            "          21       0.65      0.02      0.05      3886\n",
            "          22       0.72      0.57      0.63       187\n",
            "          23       0.00      0.00      0.00         7\n",
            "          24       0.88      0.49      0.63       493\n",
            "          25       0.00      0.00      0.00        78\n",
            "          26       0.00      0.00      0.00       213\n",
            "          27       0.44      0.00      0.01      1370\n",
            "          28       0.00      0.00      0.00        49\n",
            "          29       0.88      0.58      0.70       460\n",
            "          30       0.00      0.00      0.00       101\n",
            "          31       0.75      0.71      0.73       267\n",
            "          32       0.60      0.08      0.14       315\n",
            "          33       0.82      0.76      0.79       255\n",
            "          34       0.00      0.00      0.00        18\n",
            "          35       0.00      0.00      0.00         9\n",
            "          36       0.00      0.00      0.00         6\n",
            "          37       0.00      0.00      0.00        17\n",
            "          38       0.00      0.00      0.00        18\n",
            "          39       0.76      0.30      0.43       222\n",
            "          40       0.00      0.00      0.00        48\n",
            "          41       0.96      0.81      0.88       201\n",
            "          42       0.00      0.00      0.00        88\n",
            "          43       0.00      0.00      0.00       303\n",
            "          44       0.00      0.00      0.00        17\n",
            "          45       0.00      0.00      0.00        47\n",
            "          46       0.70      0.39      0.50       970\n",
            "          47       0.00      0.00      0.00        64\n",
            "          48       0.00      0.00      0.00        86\n",
            "          49       0.72      0.26      0.38       361\n",
            "          50       0.00      0.00      0.00        16\n",
            "          51       0.69      0.39      0.50       635\n",
            "          52       0.97      0.87      0.92       221\n",
            "          53       0.64      0.16      0.26       325\n",
            "          54       0.00      0.00      0.00        95\n",
            "          55       0.89      0.16      0.27       269\n",
            "          56       0.77      0.07      0.12       548\n",
            "          57       0.63      0.44      0.52       466\n",
            "          58       0.69      0.19      0.30      3241\n",
            "          59       0.69      0.18      0.28      1103\n",
            "          60       0.71      0.28      0.40       314\n",
            "          61       0.00      0.00      0.00        24\n",
            "          62       0.74      0.37      0.49       202\n",
            "          63       0.82      0.30      0.44      1003\n",
            "          64       0.00      0.00      0.00         5\n",
            "          65       0.00      0.00      0.00       154\n",
            "          66       0.33      0.01      0.02       171\n",
            "          67       0.00      0.00      0.00        39\n",
            "          68       0.79      0.62      0.70      1684\n",
            "          69       0.76      0.26      0.38       125\n",
            "          70       0.64      0.15      0.24        61\n",
            "          71       0.88      0.22      0.35       138\n",
            "          72       0.00      0.00      0.00         5\n",
            "          73       0.61      0.59      0.60       249\n",
            "          74       0.90      0.23      0.37       196\n",
            "          75       0.90      0.90      0.90       221\n",
            "          76       0.91      0.70      0.79       145\n",
            "          77       0.00      0.00      0.00        25\n",
            "          78       0.00      0.00      0.00         9\n",
            "          79       0.00      0.00      0.00        16\n",
            "          80       0.59      0.22      0.32       305\n",
            "          81       0.76      0.46      0.57      1415\n",
            "          82       0.73      0.58      0.65      1147\n",
            "          83       0.71      0.43      0.54      1669\n",
            "          84       0.62      0.18      0.28       795\n",
            "          85       0.77      0.31      0.45       337\n",
            "          86       0.76      0.12      0.21       132\n",
            "          87       0.22      0.06      0.09        36\n",
            "          88       0.00      0.00      0.00        22\n",
            "          89       0.85      0.64      0.73       179\n",
            "          90       0.80      0.10      0.18       680\n",
            "          91       0.00      0.00      0.00        40\n",
            "          92       0.73      0.54      0.62       317\n",
            "          93       0.00      0.00      0.00         5\n",
            "          94       0.22      0.00      0.01       554\n",
            "          95       0.78      0.10      0.18      1936\n",
            "          96       0.62      0.11      0.18        47\n",
            "          97       0.67      0.36      0.46       326\n",
            "          98       0.66      0.26      0.37       209\n",
            "          99       0.00      0.00      0.00        33\n",
            "         100       0.00      0.00      0.00         9\n",
            "         101       0.70      0.65      0.68       197\n",
            "         102       0.60      0.47      0.53       210\n",
            "         103       0.00      0.00      0.00         3\n",
            "         104       0.92      0.29      0.44       120\n",
            "         105       0.98      0.67      0.79        93\n",
            "         106       0.00      0.00      0.00         2\n",
            "         107       0.00      0.00      0.00        17\n",
            "         108       0.71      0.60      0.65       171\n",
            "         109       0.67      0.40      0.50       342\n",
            "         110       0.00      0.00      0.00        13\n",
            "         111       0.00      0.00      0.00         9\n",
            "         112       0.42      0.19      0.26       138\n",
            "         113       0.91      0.60      0.72      1817\n",
            "         114       0.90      0.55      0.68       135\n",
            "         115       0.00      0.00      0.00         4\n",
            "         116       0.00      0.00      0.00         4\n",
            "         117       0.00      0.00      0.00        43\n",
            "         118       0.98      0.69      0.81        93\n",
            "         119       0.00      0.00      0.00        14\n",
            "         120       0.33      0.06      0.10        66\n",
            "         121       0.79      0.65      0.71      1051\n",
            "         122       0.69      0.51      0.59      1130\n",
            "         123       0.89      0.32      0.47       309\n",
            "         124       0.75      0.66      0.70       174\n",
            "         125       0.82      0.43      0.56      1113\n",
            "         126       0.00      0.00      0.00        16\n",
            "         127       0.00      0.00      0.00        11\n",
            "         128       0.72      0.46      0.56       241\n",
            "         129       0.55      0.24      0.33       156\n",
            "         130       0.75      0.50      0.60      1009\n",
            "         131       0.00      0.00      0.00        43\n",
            "         132       0.84      0.88      0.86       281\n",
            "         133       0.69      0.16      0.26       257\n",
            "         134       0.00      0.00      0.00        46\n",
            "         135       0.67      0.60      0.63      2134\n",
            "         136       0.55      0.37      0.44       443\n",
            "         137       0.00      0.00      0.00        33\n",
            "         138       0.65      0.55      0.59       343\n",
            "         139       0.00      0.00      0.00        23\n",
            "         140       0.51      0.07      0.12       289\n",
            "         141       0.76      0.29      0.42       206\n",
            "         142       0.83      0.56      0.67       218\n",
            "         143       0.00      0.00      0.00        85\n",
            "         144       0.95      0.52      0.67       173\n",
            "         145       0.00      0.00      0.00        38\n",
            "         146       0.70      0.47      0.56       419\n",
            "         147       0.00      0.00      0.00         5\n",
            "         148       0.83      0.35      0.50       217\n",
            "         149       0.74      0.70      0.72       193\n",
            "         150       0.86      0.61      0.71       106\n",
            "         151       0.83      0.17      0.28       143\n",
            "         152       0.00      0.00      0.00        39\n",
            "         153       0.00      0.00      0.00         2\n",
            "         154       0.00      0.00      0.00        24\n",
            "         155       0.81      0.56      0.66       163\n",
            "         156       0.81      0.57      0.67       330\n",
            "         157       0.71      0.17      0.27        90\n",
            "         158       0.69      0.50      0.58       848\n",
            "         159       0.87      0.62      0.73       176\n",
            "         160       0.00      0.00      0.00        40\n",
            "         161       0.67      0.67      0.67       300\n",
            "         162       0.87      0.59      0.70       454\n",
            "         163       0.00      0.00      0.00        14\n",
            "         164       0.00      0.00      0.00        31\n",
            "         165       0.00      0.00      0.00         3\n",
            "         166       0.00      0.00      0.00        13\n",
            "         167       0.00      0.00      0.00         2\n",
            "         168       0.00      0.00      0.00        17\n",
            "         169       0.00      0.00      0.00         8\n",
            "         170       0.00      0.00      0.00        57\n",
            "         171       0.74      0.74      0.74       172\n",
            "         172       0.62      0.48      0.54       966\n",
            "         173       0.67      0.61      0.64       503\n",
            "         174       0.57      0.43      0.49       243\n",
            "         175       0.00      0.00      0.00        25\n",
            "         176       0.00      0.00      0.00        14\n",
            "         177       0.69      0.63      0.66       205\n",
            "         178       0.59      0.13      0.21       237\n",
            "         179       0.00      0.00      0.00        25\n",
            "         180       0.92      0.70      0.80       230\n",
            "         181       0.90      0.57      0.70       194\n",
            "         182       0.00      0.00      0.00        26\n",
            "         183       0.00      0.00      0.00        19\n",
            "         184       0.82      0.19      0.30       454\n",
            "         185       0.93      0.12      0.21       109\n",
            "         186       0.00      0.00      0.00         2\n",
            "         187       0.89      0.73      0.80       119\n",
            "         188       0.30      0.12      0.17        74\n",
            "         189       0.72      0.61      0.66       233\n",
            "         190       0.89      0.73      0.81       209\n",
            "         191       0.00      0.00      0.00         3\n",
            "         192       0.35      0.23      0.28       138\n",
            "         193       0.00      0.00      0.00        33\n",
            "         194       0.50      0.05      0.10        38\n",
            "         195       0.55      0.15      0.23       157\n",
            "         196       0.78      0.53      0.63       253\n",
            "         197       0.50      0.02      0.04        99\n",
            "         198       0.90      0.60      0.72       164\n",
            "         199       0.00      0.00      0.00         4\n",
            "         200       0.95      0.58      0.72       304\n",
            "         201       0.77      0.57      0.66       185\n",
            "         202       0.54      0.28      0.37       250\n",
            "         203       0.32      0.13      0.18       110\n",
            "         204       0.73      0.42      0.53       102\n",
            "         205       0.94      0.84      0.89       258\n",
            "         206       0.00      0.00      0.00        27\n",
            "         207       0.89      0.37      0.53       211\n",
            "         208       0.81      0.19      0.31       108\n",
            "         209       0.00      0.00      0.00        25\n",
            "         210       0.83      0.53      0.65       397\n",
            "         211       0.86      0.82      0.84       248\n",
            "         212       0.00      0.00      0.00        16\n",
            "         213       0.93      0.68      0.78       149\n",
            "         214       0.00      0.00      0.00         5\n",
            "         215       0.00      0.00      0.00        12\n",
            "         216       0.92      0.42      0.58       111\n",
            "         217       0.86      0.44      0.59       423\n",
            "         218       0.00      0.00      0.00         4\n",
            "         219       0.89      0.51      0.65       218\n",
            "         220       0.00      0.00      0.00        57\n",
            "         221       0.73      0.80      0.76       199\n",
            "         222       0.43      0.57      0.49        80\n",
            "         223       0.95      0.77      0.85       285\n",
            "         224       0.27      0.06      0.10        51\n",
            "         225       0.00      0.00      0.00         4\n",
            "         226       0.00      0.00      0.00        32\n",
            "         227       0.00      0.00      0.00        13\n",
            "         228       0.00      0.00      0.00         2\n",
            "         229       0.67      0.43      0.52       461\n",
            "         230       0.80      0.54      0.64       169\n",
            "         231       0.00      0.00      0.00        31\n",
            "         232       0.00      0.00      0.00         9\n",
            "         233       0.67      0.25      0.36       243\n",
            "         234       0.00      0.00      0.00         6\n",
            "         235       0.71      0.66      0.68       986\n",
            "         236       0.00      0.00      0.00        36\n",
            "         237       0.79      0.68      0.73       199\n",
            "         238       0.81      0.47      0.59       187\n",
            "         239       0.00      0.00      0.00        20\n",
            "         240       0.00      0.00      0.00        19\n",
            "         241       0.37      0.03      0.05       370\n",
            "         242       0.00      0.00      0.00        17\n",
            "         243       0.00      0.00      0.00         4\n",
            "         244       0.00      0.00      0.00         1\n",
            "         245       0.80      0.23      0.36       138\n",
            "         246       0.72      0.74      0.73       574\n",
            "         247       0.00      0.00      0.00        68\n",
            "         248       0.69      0.71      0.70       751\n",
            "         249       0.40      0.25      0.30        65\n",
            "         250       0.70      0.61      0.65       525\n",
            "         251       0.00      0.00      0.00         7\n",
            "         252       0.69      0.64      0.66       300\n",
            "         253       0.25      0.02      0.03        60\n",
            "         254       0.63      0.49      0.56       354\n",
            "         255       0.84      0.87      0.86       243\n",
            "         256       0.91      0.45      0.60       184\n",
            "         257       0.78      0.62      0.69       283\n",
            "         258       0.00      0.00      0.00       102\n",
            "         259       0.00      0.00      0.00         4\n",
            "         260       0.90      0.69      0.78       205\n",
            "         261       0.00      0.00      0.00        32\n",
            "         262       0.09      0.07      0.08        40\n",
            "         263       0.00      0.00      0.00         7\n",
            "         264       0.63      0.19      0.29       429\n",
            "         265       0.61      0.10      0.17       109\n",
            "         266       0.58      0.10      0.17       107\n",
            "         267       0.61      0.35      0.45       146\n",
            "         268       0.00      0.00      0.00        56\n",
            "         269       0.93      0.53      0.67       156\n",
            "         270       0.00      0.00      0.00        73\n",
            "         271       0.00      0.00      0.00       147\n",
            "         272       0.00      0.00      0.00        34\n",
            "         273       0.81      0.60      0.69       130\n",
            "         274       0.76      0.77      0.77      2078\n",
            "         275       0.00      0.00      0.00        73\n",
            "         276       0.00      0.00      0.00        12\n",
            "         277       0.00      0.00      0.00        68\n",
            "         278       1.00      0.00      0.00      1230\n",
            "         279       0.87      0.58      0.70       124\n",
            "         280       0.00      0.00      0.00         2\n",
            "         281       0.00      0.00      0.00        99\n",
            "         282       0.92      0.32      0.47       103\n",
            "         283       0.00      0.00      0.00        77\n",
            "         284       0.86      0.93      0.89       287\n",
            "         285       0.00      0.00      0.00        67\n",
            "         286       0.63      0.50      0.56       298\n",
            "         287       0.00      0.00      0.00         7\n",
            "         288       0.76      0.78      0.77       256\n",
            "         289       0.22      0.04      0.06        56\n",
            "         290       0.00      0.00      0.00         5\n",
            "         291       0.36      0.09      0.15        54\n",
            "         292       0.59      0.26      0.36        91\n",
            "         293       0.86      0.47      0.61        94\n",
            "         294       0.63      0.48      0.55       427\n",
            "         295       0.81      0.59      0.68       685\n",
            "         296       0.14      0.01      0.02       115\n",
            "         297       0.90      0.74      0.81       152\n",
            "         298       0.00      0.00      0.00         4\n",
            "         299       0.78      0.87      0.82       148\n",
            "         300       0.83      0.71      0.76       137\n",
            "         301       0.55      0.29      0.38       350\n",
            "         302       0.14      0.01      0.02        94\n",
            "         303       0.80      0.50      0.62       187\n",
            "         304       0.00      0.00      0.00        19\n",
            "         305       0.00      0.00      0.00        23\n",
            "         306       0.83      0.73      0.78        60\n",
            "         307       0.00      0.00      0.00         9\n",
            "         308       0.00      0.00      0.00         2\n",
            "         309       0.64      0.39      0.48       176\n",
            "         310       0.00      0.00      0.00         9\n",
            "         311       0.00      0.00      0.00        33\n",
            "         312       0.00      0.00      0.00         9\n",
            "         313       0.00      0.00      0.00         8\n",
            "         314       0.00      0.00      0.00         2\n",
            "         315       0.00      0.00      0.00        76\n",
            "         316       0.00      0.00      0.00         8\n",
            "         317       0.94      0.82      0.88       114\n",
            "         318       0.90      0.86      0.88       159\n",
            "         319       0.00      0.00      0.00         4\n",
            "         320       0.94      0.57      0.71       140\n",
            "         321       0.00      0.00      0.00        29\n",
            "         322       0.84      0.74      0.79       168\n",
            "         323       0.86      0.71      0.78       147\n",
            "         324       0.93      0.49      0.64       286\n",
            "         325       0.66      0.42      0.51       228\n",
            "         326       0.79      0.46      0.59       157\n",
            "         327       0.41      0.43      0.42       267\n",
            "         328       0.68      0.57      0.62       707\n",
            "         329       0.91      0.75      0.83       305\n",
            "         330       0.87      0.61      0.72       238\n",
            "         331       0.82      0.73      0.77       256\n",
            "         332       0.00      0.00      0.00         5\n",
            "         333       0.61      0.43      0.50       262\n",
            "         334       0.00      0.00      0.00        15\n",
            "         335       0.84      0.67      0.74       162\n",
            "         336       0.85      0.66      0.74       300\n",
            "         337       0.00      0.00      0.00        34\n",
            "         338       0.92      0.35      0.50       224\n",
            "         339       0.89      0.50      0.64       175\n",
            "         340       0.73      0.67      0.70       175\n",
            "         341       0.00      0.00      0.00        19\n",
            "         342       0.81      0.37      0.51        92\n",
            "         343       0.00      0.00      0.00        28\n",
            "         344       0.58      0.26      0.36        97\n",
            "         345       0.93      0.79      0.85       219\n",
            "         346       0.00      0.00      0.00        13\n",
            "         347       0.00      0.00      0.00        48\n",
            "         348       0.66      0.68      0.67       191\n",
            "         349       0.72      0.73      0.73       214\n",
            "         350       0.80      0.83      0.81       143\n",
            "         351       0.00      0.00      0.00        25\n",
            "         352       0.00      0.00      0.00         2\n",
            "\n",
            "   micro avg       0.74      0.36      0.49     99692\n",
            "   macro avg       0.43      0.26      0.31     99692\n",
            "weighted avg       0.69      0.36      0.44     99692\n",
            " samples avg       0.59      0.40      0.45     99692\n",
            "\n"
          ],
          "name": "stdout"
        },
        {
          "output_type": "stream",
          "text": [
            "/usr/local/lib/python3.6/dist-packages/sklearn/metrics/classification.py:1437: UndefinedMetricWarning: Precision and F-score are ill-defined and being set to 0.0 in labels with no predicted samples.\n",
            "  'precision', 'predicted', average, warn_for)\n",
            "/usr/local/lib/python3.6/dist-packages/sklearn/metrics/classification.py:1437: UndefinedMetricWarning: Precision and F-score are ill-defined and being set to 0.0 in samples with no predicted labels.\n",
            "  'precision', 'predicted', average, warn_for)\n"
          ],
          "name": "stderr"
        }
      ]
    },
    {
      "cell_type": "code",
      "metadata": {
        "id": "123gjUtUv7hy",
        "colab_type": "code",
        "colab": {
          "base_uri": "https://localhost:8080/",
          "height": 168
        },
        "outputId": "e56f33c3-d00e-4360-bc80-faf69fbeeeeb"
      },
      "source": [
        "print(classification_report(test_Y3, predictions_vegan))"
      ],
      "execution_count": 47,
      "outputs": [
        {
          "output_type": "stream",
          "text": [
            "              precision    recall  f1-score   support\n",
            "\n",
            "           0       0.85      0.37      0.52      6666\n",
            "           1       0.86      0.98      0.92     26488\n",
            "\n",
            "    accuracy                           0.86     33154\n",
            "   macro avg       0.85      0.68      0.72     33154\n",
            "weighted avg       0.86      0.86      0.84     33154\n",
            "\n"
          ],
          "name": "stdout"
        }
      ]
    },
    {
      "cell_type": "code",
      "metadata": {
        "id": "dp1CEsxl4wOs",
        "colab_type": "code",
        "colab": {}
      },
      "source": [
        ""
      ],
      "execution_count": 0,
      "outputs": []
    }
  ]
}