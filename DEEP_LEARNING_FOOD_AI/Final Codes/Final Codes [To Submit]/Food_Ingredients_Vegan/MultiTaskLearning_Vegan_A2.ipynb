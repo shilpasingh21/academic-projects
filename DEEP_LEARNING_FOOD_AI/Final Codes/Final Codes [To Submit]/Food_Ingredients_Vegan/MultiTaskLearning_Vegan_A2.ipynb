{
  "nbformat": 4,
  "nbformat_minor": 0,
  "metadata": {
    "colab": {
      "name": "MultiTaskLearning_Vegan_A2_TP.ipynb",
      "provenance": [],
      "collapsed_sections": [],
      "machine_shape": "hm"
    },
    "kernelspec": {
      "name": "python3",
      "display_name": "Python 3"
    },
    "accelerator": "GPU"
  },
  "cells": [
    {
      "cell_type": "code",
      "metadata": {
        "id": "MSL_1hddd-Fp",
        "colab_type": "code",
        "colab": {}
      },
      "source": [
        "from google.colab import drive,files"
      ],
      "execution_count": 0,
      "outputs": []
    },
    {
      "cell_type": "code",
      "metadata": {
        "id": "s03xL2HmfQwY",
        "colab_type": "code",
        "outputId": "40db823e-755d-464f-be5b-ea6cf8ee8d6e",
        "colab": {
          "base_uri": "https://localhost:8080/",
          "height": 121
        }
      },
      "source": [
        "drive.mount('/content/gdrive')"
      ],
      "execution_count": 4,
      "outputs": [
        {
          "output_type": "stream",
          "text": [
            "Go to this URL in a browser: https://accounts.google.com/o/oauth2/auth?client_id=947318989803-6bn6qk8qdgf4n4g3pfee6491hc0brc4i.apps.googleusercontent.com&redirect_uri=urn%3aietf%3awg%3aoauth%3a2.0%3aoob&response_type=code&scope=email%20https%3a%2f%2fwww.googleapis.com%2fauth%2fdocs.test%20https%3a%2f%2fwww.googleapis.com%2fauth%2fdrive%20https%3a%2f%2fwww.googleapis.com%2fauth%2fdrive.photos.readonly%20https%3a%2f%2fwww.googleapis.com%2fauth%2fpeopleapi.readonly\n",
            "\n",
            "Enter your authorization code:\n",
            "··········\n",
            "Mounted at /content/gdrive\n"
          ],
          "name": "stdout"
        }
      ]
    },
    {
      "cell_type": "code",
      "metadata": {
        "id": "CaR7YECifYlg",
        "colab_type": "code",
        "colab": {}
      },
      "source": [
        "# Imports go here\n",
        "import pickle\n",
        "import numpy as np\n",
        "from keras.utils import plot_model\n",
        "from keras.models import Sequential\n",
        "from keras.models import Model\n",
        "from keras.optimizers import Adam\n",
        "import matplotlib.pyplot as plt\n",
        "import numpy as np\n",
        "import keras\n",
        "from keras.layers import Dense\n",
        "from keras.layers import Input\n",
        "from keras.layers import Dropout\n",
        "from keras.layers import Flatten\n",
        "from keras.layers import Dense, Activation,BatchNormalization\n",
        "import pandas as pd\n",
        "from keras.layers import Conv2D, MaxPooling2D\n",
        "from keras import backend as K\n",
        "from sklearn.model_selection import GridSearchCV\n",
        "from sklearn.metrics import classification_report"
      ],
      "execution_count": 0,
      "outputs": []
    },
    {
      "cell_type": "code",
      "metadata": {
        "id": "3fxklw6lQvji",
        "colab_type": "code",
        "colab": {}
      },
      "source": [
        "# dir path\n",
        "datadirpath = 'gdrive/My Drive/DL Project/Data/ready_chinese_food'\n",
        "labeldirpath = 'gdrive/My Drive/DL Project/Data/SplitAndIngreLabel/IngreLabel.txt'\n",
        "IngredientList = 'gdrive/My Drive/DL Project/Data/SplitAndIngreLabel/IngredientList.txt'\n",
        "IngredientTypeSheet = 'gdrive/My Drive/DL Project/Data/SplitAndIngreLabel/IngredientType.xlsx'\n",
        "\n",
        "trainlistpath = 'gdrive/My Drive/DL Project/Data/SplitAndIngreLabel/TR.txt'\n",
        "vallistpath = 'gdrive/My Drive/DL Project/Data/SplitAndIngreLabel/VAL.txt'\n",
        "testlistpath = 'gdrive/My Drive/DL Project/Data/SplitAndIngreLabel/TE.txt'\n",
        "\n",
        "pickletraindata_X = 'gdrive/My Drive/DL Project/PickleFiles/vgg_features_train_full.pkl'\n",
        "picklevaldata_X = 'gdrive/My Drive/DL Project/PickleFiles/vgg_features_val_full.pkl'\n",
        "pickletestdata_X = 'gdrive/My Drive/DL Project/PickleFiles/vgg_features_test_full.pkl'\n",
        "\n",
        "pickletraindata_Y1 = 'gdrive/My Drive/DL Project/PickleFiles/pickleTrainFull_Y1.pkl'\n",
        "picklevaldata_Y1 = 'gdrive/My Drive/DL Project/PickleFiles/pickleValFull_Y1.pkl'\n",
        "pickletestdata_Y1 = 'gdrive/My Drive/DL Project/PickleFiles/pickleTestFull_Y1.pkl'\n",
        "\n",
        "pickletraindata_Y2 = 'gdrive/My Drive/DL Project/PickleFiles/pickleTrainFull_Y2.pkl'\n",
        "picklevaldata_Y2 = 'gdrive/My Drive/DL Project/PickleFiles/pickleValFull_Y2.pkl'\n",
        "pickletestdata_Y2 = 'gdrive/My Drive/DL Project/PickleFiles/pickleTestFull_Y2.pkl'\n",
        "\n",
        "pickletraindata_Y3 = 'gdrive/My Drive/DL Project/PickleFiles/pickleTrainFull_Y3.pkl'\n",
        "picklevaldata_Y3 = 'gdrive/My Drive/DL Project/PickleFiles/pickleValFull_Y3.pkl'\n",
        "pickletestdata_Y3 = 'gdrive/My Drive/DL Project/PickleFiles/pickleTestFull_Y3.pkl'\n",
        "\n",
        "credentialFile = 'gdrive/My Drive/DL Project/Credentials/Food-Ingredient-cred.json'\n",
        "#pickleModelC_IngFood.pkl\n",
        "#Models Pickled\n",
        "pickleModelA1_IngFood = 'gdrive/My Drive/DL Project/PickleFiles/pickleModelA1_IngFood.pkl'\n",
        "\n",
        "pickletraindata_X_new= 'gdrive/My Drive/DL Project/PickleFiles/vgg_features_train_balancedfull.pkl'\n",
        "\n",
        "pickletraindata_Y1_new = 'gdrive/My Drive/DL Project/PickleFiles/pickleTrainBalanced_Y1full.pkl'\n",
        "\n",
        "pickletraindata_Y2_new = 'gdrive/My Drive/DL Project/PickleFiles/pickleTrainBalanced_Y2full.pkl'\n",
        "\n",
        "pickletraindata_Y3_new = 'gdrive/My Drive/DL Project/PickleFiles/pickleTrainBalanced_Y3full.pkl'\n",
        "\n"
      ],
      "execution_count": 0,
      "outputs": []
    },
    {
      "cell_type": "code",
      "metadata": {
        "id": "rGpQVnlxNDwZ",
        "colab_type": "code",
        "outputId": "b00fd1c6-16aa-4918-8d6f-dfe259f3c824",
        "colab": {
          "base_uri": "https://localhost:8080/",
          "height": 54
        }
      },
      "source": [
        "'''train_X = pickle.load(open(pickletraindata_X_new,'rb'))\n",
        "train_Y1 = pickle.load(open(pickletraindata_Y1_new,'rb'))\n",
        "train_Y2 = pickle.load(open(pickletraindata_Y2_new,'rb'))\n",
        "train_Y3 = pickle.load(open(pickletraindata_Y3_new,'rb'))'''"
      ],
      "execution_count": 8,
      "outputs": [
        {
          "output_type": "execute_result",
          "data": {
            "text/plain": [
              "\"train_X = pickle.load(open(pickletraindata_X_new,'rb'))\\ntrain_Y1 = pickle.load(open(pickletraindata_Y1_new,'rb'))\\ntrain_Y2 = pickle.load(open(pickletraindata_Y2_new,'rb'))\\ntrain_Y3 = pickle.load(open(pickletraindata_Y3_new,'rb'))\""
            ]
          },
          "metadata": {
            "tags": []
          },
          "execution_count": 8
        }
      ]
    },
    {
      "cell_type": "code",
      "metadata": {
        "id": "_ciOY68gNj0q",
        "colab_type": "code",
        "colab": {}
      },
      "source": [
        "#len(train_X),len(train_X[0]),len(train_X[0][0]),len(train_X[0][0][0]),len(train_X[0][0][0][0]),len(train_Y1),len(train_Y2),len(train_Y3)"
      ],
      "execution_count": 0,
      "outputs": []
    },
    {
      "cell_type": "markdown",
      "metadata": {
        "id": "7JJ1ntQqZ4fQ",
        "colab_type": "text"
      },
      "source": [
        "Loading train_X"
      ]
    },
    {
      "cell_type": "code",
      "metadata": {
        "id": "RM_eCqAbQx8P",
        "colab_type": "code",
        "outputId": "08fdaa9f-220a-46ad-8a21-cec1f592289e",
        "colab": {
          "base_uri": "https://localhost:8080/",
          "height": 34
        }
      },
      "source": [
        "train_X = pickle.load(open(pickletraindata_X_new, 'rb' ))\n",
        "train_X = np.array(train_X)\n",
        "print(train_X.shape)"
      ],
      "execution_count": 10,
      "outputs": [
        {
          "output_type": "stream",
          "text": [
            "(80000, 1, 7, 7, 512)\n"
          ],
          "name": "stdout"
        }
      ]
    },
    {
      "cell_type": "code",
      "metadata": {
        "id": "TYf9o8Tykikg",
        "colab_type": "code",
        "outputId": "16f9bebd-06a0-415f-b7c0-80e9563dff5e",
        "colab": {
          "base_uri": "https://localhost:8080/",
          "height": 34
        }
      },
      "source": [
        "train_X=train_X.reshape(train_X.shape[0],7,7,512)\n",
        "print(train_X.shape)"
      ],
      "execution_count": 11,
      "outputs": [
        {
          "output_type": "stream",
          "text": [
            "(80000, 7, 7, 512)\n"
          ],
          "name": "stdout"
        }
      ]
    },
    {
      "cell_type": "markdown",
      "metadata": {
        "id": "_GhTSUa-Z8qQ",
        "colab_type": "text"
      },
      "source": [
        "Loading train_Y1"
      ]
    },
    {
      "cell_type": "code",
      "metadata": {
        "id": "BJhkgFrmQ4ri",
        "colab_type": "code",
        "outputId": "39f08600-1ae2-4eab-d1df-36ebaedffee7",
        "colab": {
          "base_uri": "https://localhost:8080/",
          "height": 34
        }
      },
      "source": [
        "train_Y1 = pickle.load(open(pickletraindata_Y1_new, 'rb' ))\n",
        "train_Y1 = np.array(train_Y1)\n",
        "print(train_Y1.shape)"
      ],
      "execution_count": 12,
      "outputs": [
        {
          "output_type": "stream",
          "text": [
            "(80000, 172)\n"
          ],
          "name": "stdout"
        }
      ]
    },
    {
      "cell_type": "markdown",
      "metadata": {
        "id": "kud_Sk7TZ_58",
        "colab_type": "text"
      },
      "source": [
        "Loading train_Y2"
      ]
    },
    {
      "cell_type": "code",
      "metadata": {
        "id": "u7QHo4X7RRnM",
        "colab_type": "code",
        "outputId": "425f5398-709c-4bad-f755-69fcf840ddb8",
        "colab": {
          "base_uri": "https://localhost:8080/",
          "height": 34
        }
      },
      "source": [
        "train_Y2_list = pickle.load(open(pickletraindata_Y2_new, 'rb' ))\n",
        "train_Y2 = np.array(train_Y2_list)\n",
        "\n",
        "for index in range(train_Y2.shape[0]):\n",
        "  templist = train_Y2[index]\n",
        "  templist_0 = [0 if x==-1 else x for x in templist]\n",
        "  train_Y2[index] = templist_0\n",
        "\n",
        "print(train_Y2.shape)"
      ],
      "execution_count": 13,
      "outputs": [
        {
          "output_type": "stream",
          "text": [
            "(80000, 353)\n"
          ],
          "name": "stdout"
        }
      ]
    },
    {
      "cell_type": "markdown",
      "metadata": {
        "id": "GfiIhMN6aFFP",
        "colab_type": "text"
      },
      "source": [
        "Loading val_X"
      ]
    },
    {
      "cell_type": "code",
      "metadata": {
        "id": "ixzFT6U4RWiB",
        "colab_type": "code",
        "outputId": "90af7357-a5b2-417d-c651-d943694bd883",
        "colab": {
          "base_uri": "https://localhost:8080/",
          "height": 34
        }
      },
      "source": [
        "val_X = pickle.load(open(picklevaldata_X, 'rb' ))\n",
        "val_X = np.array(val_X)\n",
        "print(val_X.shape)"
      ],
      "execution_count": 14,
      "outputs": [
        {
          "output_type": "stream",
          "text": [
            "(11016, 1, 7, 7, 512)\n"
          ],
          "name": "stdout"
        }
      ]
    },
    {
      "cell_type": "code",
      "metadata": {
        "id": "AotWJBwxJLOt",
        "colab_type": "code",
        "outputId": "6b97f573-17b4-4a1c-cf53-17462be9f7df",
        "colab": {
          "base_uri": "https://localhost:8080/",
          "height": 34
        }
      },
      "source": [
        "val_X=val_X.reshape(val_X.shape[0],7,7,512)\n",
        "print(val_X.shape)"
      ],
      "execution_count": 15,
      "outputs": [
        {
          "output_type": "stream",
          "text": [
            "(11016, 7, 7, 512)\n"
          ],
          "name": "stdout"
        }
      ]
    },
    {
      "cell_type": "markdown",
      "metadata": {
        "id": "gVyc0KKUaI3H",
        "colab_type": "text"
      },
      "source": [
        "Loading val_Y1"
      ]
    },
    {
      "cell_type": "code",
      "metadata": {
        "id": "bk3orKueRbdx",
        "colab_type": "code",
        "outputId": "d3216b7f-1200-4864-b5a2-1c2dfd764d9f",
        "colab": {
          "base_uri": "https://localhost:8080/",
          "height": 34
        }
      },
      "source": [
        "val_Y1 = pickle.load(open(picklevaldata_Y1, 'rb' ))\n",
        "val_Y1 = np.array(val_Y1)\n",
        "print(val_Y1.shape)"
      ],
      "execution_count": 16,
      "outputs": [
        {
          "output_type": "stream",
          "text": [
            "(11016, 172)\n"
          ],
          "name": "stdout"
        }
      ]
    },
    {
      "cell_type": "markdown",
      "metadata": {
        "id": "yypiFiEfaLg2",
        "colab_type": "text"
      },
      "source": [
        "Loading val_Y2"
      ]
    },
    {
      "cell_type": "code",
      "metadata": {
        "id": "keJhEX9BRgaZ",
        "colab_type": "code",
        "outputId": "d4ce7f17-80f0-445f-9e38-2b47d73b30ef",
        "colab": {
          "base_uri": "https://localhost:8080/",
          "height": 34
        }
      },
      "source": [
        "val_Y2_list = pickle.load(open(picklevaldata_Y2, 'rb' ))\n",
        "val_Y2 = np.array(val_Y2_list)\n",
        "\n",
        "for index in range(val_Y2.shape[0]):\n",
        "  templist = val_Y2[index]\n",
        "  templist_0 = [0 if x==-1 else x for x in templist]\n",
        "  val_Y2[index] = templist_0\n",
        "  \n",
        "print(val_Y2.shape)"
      ],
      "execution_count": 17,
      "outputs": [
        {
          "output_type": "stream",
          "text": [
            "(11016, 353)\n"
          ],
          "name": "stdout"
        }
      ]
    },
    {
      "cell_type": "code",
      "metadata": {
        "id": "-aE-Q8SH8xiF",
        "colab_type": "code",
        "outputId": "d4048353-5009-4430-e5ca-b5a54b5cfd23",
        "colab": {
          "base_uri": "https://localhost:8080/",
          "height": 84
        }
      },
      "source": [
        "# Loading test_X\n",
        "\n",
        "test_X = pickle.load(open(pickletestdata_X, 'rb' ))\n",
        "test_X = np.array(test_X)\n",
        "\n",
        "print(test_X.shape)\n",
        "test_X=test_X.reshape(test_X.shape[0],7,7,512)\n",
        "print(test_X.shape)\n",
        "\n",
        "# Loading test_Y1\n",
        "\n",
        "test_Y1_list = pickle.load(open(pickletestdata_Y1, 'rb' ))\n",
        "test_Y1 = np.array(test_Y1_list)\n",
        "print(test_Y1.shape)\n",
        "\n",
        "test_Y3 = pickle.load(open(pickletestdata_Y3,\"rb\"))\n",
        "# Loading test_Y2\n",
        "\n",
        "test_Y2_list = pickle.load(open(pickletestdata_Y2, 'rb' ))\n",
        "test_Y2 = np.array(test_Y2_list)\n",
        "\n",
        "for index in range(test_Y2.shape[0]):\n",
        "  templist = test_Y2[index]\n",
        "  templist_0 = [0 if x==-1 else x for x in templist]\n",
        "  test_Y2[index] = templist_0\n",
        "  \n",
        "print(test_Y2.shape)"
      ],
      "execution_count": 18,
      "outputs": [
        {
          "output_type": "stream",
          "text": [
            "(33154, 1, 7, 7, 512)\n",
            "(33154, 7, 7, 512)\n",
            "(33154, 172)\n",
            "(33154, 353)\n"
          ],
          "name": "stdout"
        }
      ]
    },
    {
      "cell_type": "code",
      "metadata": {
        "id": "Wai3yhIkNf88",
        "colab_type": "code",
        "colab": {}
      },
      "source": [
        "train_Y3 = np.array(pickle.load(open(pickletraindata_Y3_new,\"rb\")))\n",
        "val_Y3 = pickle.load(open(picklevaldata_Y3,\"rb\"))\n"
      ],
      "execution_count": 0,
      "outputs": []
    },
    {
      "cell_type": "code",
      "metadata": {
        "id": "dP5o6Wxjo3LX",
        "colab_type": "code",
        "colab": {}
      },
      "source": [
        "def get_f1(y_true, y_pred): #https://mc.ai/how-to-add-user-defined-function-get-f1-score-in-keras-metrics/\n",
        "  true_positives = K.sum(K.round(K.clip(y_true * y_pred, 0, 1)))\n",
        "  possible_positives = K.sum(K.round(K.clip(y_true, 0, 1)))\n",
        "  predicted_positives = K.sum(K.round(K.clip(y_pred, 0, 1)))\n",
        "  precision = true_positives / (predicted_positives + K.epsilon())\n",
        "  recall = true_positives / (possible_positives + K.epsilon())\n",
        "  f1_val = 2*(precision*recall)/(precision+recall+K.epsilon())\n",
        "  return f1_val\n",
        "\n"
      ],
      "execution_count": 0,
      "outputs": []
    },
    {
      "cell_type": "markdown",
      "metadata": {
        "id": "JUM9f4xvehC9",
        "colab_type": "text"
      },
      "source": [
        "DCNN for Arichitecture A"
      ]
    },
    {
      "cell_type": "code",
      "metadata": {
        "colab_type": "code",
        "outputId": "acf748f1-acc3-454a-974e-439c67d0ea22",
        "id": "yhmzSTLhemXI",
        "colab": {
          "base_uri": "https://localhost:8080/",
          "height": 1000
        }
      },
      "source": [
        "# Model_A1 stacking ingredient recognition on top of food categorization \n",
        "\n",
        "#model_A1 = Model(inputs=inputs, outputs=[output1,output2]) # Defining model with Architecture A1\n",
        "#print(model_A1.summary()) # summarize layers\n",
        "#plot_model(model_A1, to_file='Multi-task Architecture A1.png') # plot graph\n",
        "\n",
        "# Here we are segregating the outputs but combining 1 FC layers taking the weights of the losses\n",
        "\n",
        "inputs = Input(shape=(7,7,512))\n",
        "inputs_1 = Flatten()(inputs)\n",
        " \n",
        "conv2D1 = Conv2D(2048, kernel_size=3, activation='relu',padding='same')(inputs)\n",
        "maxPool2D1 = MaxPooling2D(pool_size=(2,2),padding='same')(conv2D1)\n",
        "\n",
        "conv2D2 = Conv2D(1024, kernel_size=3, activation='relu',padding='same')(conv2D1)\n",
        "maxPool2D2 = MaxPooling2D(pool_size=(2,2),padding='same')(conv2D2)\n",
        "dropout2 = Dropout(0.3)(maxPool2D2)\n",
        "\n",
        "conv2D3 = Conv2D(1024, kernel_size=3, activation='relu',padding='same')(dropout2)\n",
        "maxPool2D3 = MaxPooling2D(pool_size=(2,2),padding='same')(conv2D3)\n",
        "dropout3 = Dropout(0.2)(maxPool2D3)\n",
        "\n",
        "conv2D4 = Conv2D(512, kernel_size=3, activation='relu',padding='same')(dropout3)\n",
        "maxPool2D4 = MaxPooling2D(pool_size=(2,2),padding='same')(conv2D4)\n",
        "dropout4 = Dropout(0.3)(maxPool2D4)\n",
        "\n",
        "conv2D5 = Conv2D(1024, kernel_size=3, activation='relu',padding='same')(dropout4)\n",
        "maxPool2D5 = MaxPooling2D(pool_size=(2,2),padding='same')(conv2D5)\n",
        "dropout5 = Dropout(0.2)(maxPool2D5)\n",
        "\n",
        "conv2D6 = Conv2D(512, kernel_size=3, activation='relu',padding='same')(dropout5)\n",
        "maxPool2D6 = MaxPooling2D(pool_size=(2,2),padding='same')(conv2D6)\n",
        "dropout6 = Dropout(0.3)(maxPool2D6)\n",
        "\n",
        "flattened4 = Flatten()(dropout4)\n",
        "flattened6 = Flatten()(dropout6)\n",
        "\n",
        "output2_without_activation = Dense(172,activation=None,name='output2_without_activation')(flattened4) ##  Food categorization\n",
        "output2 = keras.layers.Activation(\"softmax\",name=\"foodcategory_output\")(output2_without_activation)\n",
        "\n",
        "intermediate1 = Dense(256,activation='relu',name='intermediate1')(output2_without_activation) \n",
        "dropout7 = Dropout(0.3)(intermediate1)\n",
        "\n",
        "intermediate2 = Dense(1024,activation='relu',name='intermediate2')(dropout7)\n",
        "dropout8 = Dropout(0.2)(intermediate2)\n",
        "\n",
        "intermediate3 = Dense(512,activation='relu',name='intermediate3')(dropout8)\n",
        "dropout9 = Dropout(0.3)(intermediate3)\n",
        "\n",
        "intermediate3 = Dense(512,activation='relu',name='intermediate4')(dropout9)\n",
        "dropout10 = Dropout(0.3)(intermediate3)\n",
        "\n",
        "output1_without_activation = Dense(353,activation=None,name='output1_without_activation')(dropout10)  ##  Ingredient recognition\n",
        "output1 = keras.layers.Activation(\"sigmoid\",name=\"ingredient_output\")(output1_without_activation)\n",
        "\n",
        "intermediate4 = Dense(512,activation='relu',name='intermediate5')(output1_without_activation) \n",
        "dropout10 = Dropout(0.3)(intermediate4)\n",
        "\n",
        "intermediate5 = Dense(256,activation='relu',name='intermediate6')(dropout10)\n",
        "dropout11 = Dropout(0.2)(intermediate5)\n",
        "\n",
        "intermediate6 = Dense(64,activation='relu',name='intermediate7')(dropout11)\n",
        "dropout12 = Dropout(0.3)(intermediate6)\n",
        "\n",
        "output3 = Dense(1,activation=\"sigmoid\",name='vegan_output')(dropout11) ##  Vegan categorization\n",
        "\n",
        "\n",
        "model_A1 = Model(inputs=inputs, outputs=[output1,output2,output3]) # Defining model with Architecture A1\n",
        "print(model_A1.summary()) # summarize layers\n",
        "plot_model(model_A1, to_file='Multi-task Architecture A1.png') # plot graph"
      ],
      "execution_count": 33,
      "outputs": [
        {
          "output_type": "stream",
          "text": [
            "Model: \"model_4\"\n",
            "__________________________________________________________________________________________________\n",
            "Layer (type)                    Output Shape         Param #     Connected to                     \n",
            "==================================================================================================\n",
            "input_4 (InputLayer)            (None, 7, 7, 512)    0                                            \n",
            "__________________________________________________________________________________________________\n",
            "conv2d_19 (Conv2D)              (None, 7, 7, 2048)   9439232     input_4[0][0]                    \n",
            "__________________________________________________________________________________________________\n",
            "conv2d_20 (Conv2D)              (None, 7, 7, 1024)   18875392    conv2d_19[0][0]                  \n",
            "__________________________________________________________________________________________________\n",
            "max_pooling2d_20 (MaxPooling2D) (None, 4, 4, 1024)   0           conv2d_20[0][0]                  \n",
            "__________________________________________________________________________________________________\n",
            "dropout_35 (Dropout)            (None, 4, 4, 1024)   0           max_pooling2d_20[0][0]           \n",
            "__________________________________________________________________________________________________\n",
            "conv2d_21 (Conv2D)              (None, 4, 4, 1024)   9438208     dropout_35[0][0]                 \n",
            "__________________________________________________________________________________________________\n",
            "max_pooling2d_21 (MaxPooling2D) (None, 2, 2, 1024)   0           conv2d_21[0][0]                  \n",
            "__________________________________________________________________________________________________\n",
            "dropout_36 (Dropout)            (None, 2, 2, 1024)   0           max_pooling2d_21[0][0]           \n",
            "__________________________________________________________________________________________________\n",
            "conv2d_22 (Conv2D)              (None, 2, 2, 512)    4719104     dropout_36[0][0]                 \n",
            "__________________________________________________________________________________________________\n",
            "max_pooling2d_22 (MaxPooling2D) (None, 1, 1, 512)    0           conv2d_22[0][0]                  \n",
            "__________________________________________________________________________________________________\n",
            "dropout_37 (Dropout)            (None, 1, 1, 512)    0           max_pooling2d_22[0][0]           \n",
            "__________________________________________________________________________________________________\n",
            "flatten_11 (Flatten)            (None, 512)          0           dropout_37[0][0]                 \n",
            "__________________________________________________________________________________________________\n",
            "output2_without_activation (Den (None, 172)          88236       flatten_11[0][0]                 \n",
            "__________________________________________________________________________________________________\n",
            "intermediate1 (Dense)           (None, 256)          44288       output2_without_activation[0][0] \n",
            "__________________________________________________________________________________________________\n",
            "dropout_40 (Dropout)            (None, 256)          0           intermediate1[0][0]              \n",
            "__________________________________________________________________________________________________\n",
            "intermediate2 (Dense)           (None, 1024)         263168      dropout_40[0][0]                 \n",
            "__________________________________________________________________________________________________\n",
            "dropout_41 (Dropout)            (None, 1024)         0           intermediate2[0][0]              \n",
            "__________________________________________________________________________________________________\n",
            "intermediate3 (Dense)           (None, 512)          524800      dropout_41[0][0]                 \n",
            "__________________________________________________________________________________________________\n",
            "dropout_42 (Dropout)            (None, 512)          0           intermediate3[0][0]              \n",
            "__________________________________________________________________________________________________\n",
            "intermediate4 (Dense)           (None, 512)          262656      dropout_42[0][0]                 \n",
            "__________________________________________________________________________________________________\n",
            "dropout_43 (Dropout)            (None, 512)          0           intermediate4[0][0]              \n",
            "__________________________________________________________________________________________________\n",
            "output1_without_activation (Den (None, 353)          181089      dropout_43[0][0]                 \n",
            "__________________________________________________________________________________________________\n",
            "intermediate5 (Dense)           (None, 512)          181248      output1_without_activation[0][0] \n",
            "__________________________________________________________________________________________________\n",
            "dropout_44 (Dropout)            (None, 512)          0           intermediate5[0][0]              \n",
            "__________________________________________________________________________________________________\n",
            "intermediate6 (Dense)           (None, 256)          131328      dropout_44[0][0]                 \n",
            "__________________________________________________________________________________________________\n",
            "dropout_45 (Dropout)            (None, 256)          0           intermediate6[0][0]              \n",
            "__________________________________________________________________________________________________\n",
            "ingredient_output (Activation)  (None, 353)          0           output1_without_activation[0][0] \n",
            "__________________________________________________________________________________________________\n",
            "foodcategory_output (Activation (None, 172)          0           output2_without_activation[0][0] \n",
            "__________________________________________________________________________________________________\n",
            "vegan_output (Dense)            (None, 1)            257         dropout_45[0][0]                 \n",
            "==================================================================================================\n",
            "Total params: 44,149,006\n",
            "Trainable params: 44,149,006\n",
            "Non-trainable params: 0\n",
            "__________________________________________________________________________________________________\n",
            "None\n"
          ],
          "name": "stdout"
        },
        {
          "output_type": "execute_result",
          "data": {
            "image/png": "[encoded data removed]",
            "text/plain": [
              "<IPython.core.display.Image object>"
            ]
          },
          "metadata": {
            "tags": []
          },
          "execution_count": 33
        }
      ]
    },
    {
      "cell_type": "code",
      "metadata": {
        "colab_type": "code",
        "id": "8lpIV5qinPAz",
        "colab": {}
      },
      "source": [
        "import functools\n",
        "top5_acc = functools.partial(keras.metrics.top_k_categorical_accuracy, k=5)\n",
        "\n",
        "top5_acc.__name__ = 'top5_acc'\n",
        "\n",
        "model_A1.compile(optimizer=Adam(lr=0.0005),\n",
        "              loss={'ingredient_output': 'binary_crossentropy', 'vegan_output': 'binary_crossentropy', 'foodcategory_output': 'categorical_crossentropy'},\n",
        "              #loss_weights={'ingredient_output': 0.8, 'foodcategory_output': 0.2},\n",
        "              metrics=[get_f1,top5_acc])"
      ],
      "execution_count": 0,
      "outputs": []
    },
    {
      "cell_type": "code",
      "metadata": {
        "colab_type": "code",
        "outputId": "bdce30db-cf4e-4d9b-f12e-39a5a13dfe2b",
        "id": "EBjweLfjnPA5",
        "colab": {
          "base_uri": "https://localhost:8080/",
          "height": 1000
        }
      },
      "source": [
        "model_A1.fit(train_X, [train_Y2,train_Y1, train_Y3], batch_size=256, epochs=50,validation_data = (val_X, [val_Y2, val_Y1, val_Y3]))"
      ],
      "execution_count": 35,
      "outputs": [
        {
          "output_type": "stream",
          "text": [
            "Train on 80000 samples, validate on 11016 samples\n",
            "Epoch 1/50\n",
            "80000/80000 [==============================] - 55s 691us/step - loss: 4.0001 - ingredient_output_loss: 0.2330 - foodcategory_output_loss: 3.4633 - vegan_output_loss: 0.3038 - ingredient_output_get_f1: 0.0224 - ingredient_output_top5_acc: 0.0905 - foodcategory_output_get_f1: 0.2650 - foodcategory_output_top5_acc: 0.4723 - vegan_output_get_f1: 0.7879 - vegan_output_top5_acc: 1.0000 - val_loss: 3.4662 - val_ingredient_output_loss: 0.0895 - val_foodcategory_output_loss: 2.9533 - val_vegan_output_loss: 0.4233 - val_ingredient_output_get_f1: 0.0000e+00 - val_ingredient_output_top5_acc: 0.3809 - val_foodcategory_output_get_f1: 0.2116 - val_foodcategory_output_top5_acc: 0.6248 - val_vegan_output_get_f1: 0.8780 - val_vegan_output_top5_acc: 1.0000\n",
            "Epoch 2/50\n",
            "80000/80000 [==============================] - 52s 656us/step - loss: 1.8733 - ingredient_output_loss: 0.0580 - foodcategory_output_loss: 1.7150 - vegan_output_loss: 0.1004 - ingredient_output_get_f1: 0.0302 - ingredient_output_top5_acc: 0.2039 - foodcategory_output_get_f1: 0.5833 - foodcategory_output_top5_acc: 0.8114 - vegan_output_get_f1: 0.9628 - vegan_output_top5_acc: 1.0000 - val_loss: 2.6529 - val_ingredient_output_loss: 0.0597 - val_foodcategory_output_loss: 2.1437 - val_vegan_output_loss: 0.4495 - val_ingredient_output_get_f1: 0.0000e+00 - val_ingredient_output_top5_acc: 0.4040 - val_foodcategory_output_get_f1: 0.4173 - val_foodcategory_output_top5_acc: 0.7595 - val_vegan_output_get_f1: 0.8926 - val_vegan_output_top5_acc: 1.0000\n",
            "Epoch 3/50\n",
            "80000/80000 [==============================] - 52s 654us/step - loss: 1.3558 - ingredient_output_loss: 0.0504 - foodcategory_output_loss: 1.2372 - vegan_output_loss: 0.0682 - ingredient_output_get_f1: 0.0420 - ingredient_output_top5_acc: 0.2694 - foodcategory_output_get_f1: 0.6936 - foodcategory_output_top5_acc: 0.8850 - vegan_output_get_f1: 0.9758 - vegan_output_top5_acc: 1.0000 - val_loss: 2.4585 - val_ingredient_output_loss: 0.0595 - val_foodcategory_output_loss: 1.9520 - val_vegan_output_loss: 0.4469 - val_ingredient_output_get_f1: 0.0120 - val_ingredient_output_top5_acc: 0.4252 - val_foodcategory_output_get_f1: 0.4914 - val_foodcategory_output_top5_acc: 0.7928 - val_vegan_output_get_f1: 0.8962 - val_vegan_output_top5_acc: 1.0000\n",
            "Epoch 4/50\n",
            "80000/80000 [==============================] - 52s 653us/step - loss: 1.0728 - ingredient_output_loss: 0.0453 - foodcategory_output_loss: 0.9779 - vegan_output_loss: 0.0495 - ingredient_output_get_f1: 0.0783 - ingredient_output_top5_acc: 0.3386 - foodcategory_output_get_f1: 0.7548 - foodcategory_output_top5_acc: 0.9175 - vegan_output_get_f1: 0.9822 - vegan_output_top5_acc: 1.0000 - val_loss: 2.2936 - val_ingredient_output_loss: 0.0534 - val_foodcategory_output_loss: 1.8419 - val_vegan_output_loss: 0.3983 - val_ingredient_output_get_f1: 0.0379 - val_ingredient_output_top5_acc: 0.4584 - val_foodcategory_output_get_f1: 0.5375 - val_foodcategory_output_top5_acc: 0.8086 - val_vegan_output_get_f1: 0.9061 - val_vegan_output_top5_acc: 1.0000\n",
            "Epoch 5/50\n",
            "80000/80000 [==============================] - 52s 654us/step - loss: 0.8835 - ingredient_output_loss: 0.0412 - foodcategory_output_loss: 0.8032 - vegan_output_loss: 0.0391 - ingredient_output_get_f1: 0.1310 - ingredient_output_top5_acc: 0.4029 - foodcategory_output_get_f1: 0.7952 - foodcategory_output_top5_acc: 0.9380 - vegan_output_get_f1: 0.9857 - vegan_output_top5_acc: 1.0000 - val_loss: 2.3059 - val_ingredient_output_loss: 0.0508 - val_foodcategory_output_loss: 1.7813 - val_vegan_output_loss: 0.4738 - val_ingredient_output_get_f1: 0.0540 - val_ingredient_output_top5_acc: 0.4751 - val_foodcategory_output_get_f1: 0.5693 - val_foodcategory_output_top5_acc: 0.8194 - val_vegan_output_get_f1: 0.9009 - val_vegan_output_top5_acc: 1.0000\n",
            "Epoch 6/50\n",
            "80000/80000 [==============================] - 52s 654us/step - loss: 0.7391 - ingredient_output_loss: 0.0381 - foodcategory_output_loss: 0.6681 - vegan_output_loss: 0.0329 - ingredient_output_get_f1: 0.1703 - ingredient_output_top5_acc: 0.4528 - foodcategory_output_get_f1: 0.8268 - foodcategory_output_top5_acc: 0.9527 - vegan_output_get_f1: 0.9885 - vegan_output_top5_acc: 1.0000 - val_loss: 2.3471 - val_ingredient_output_loss: 0.0493 - val_foodcategory_output_loss: 1.8419 - val_vegan_output_loss: 0.4559 - val_ingredient_output_get_f1: 0.0692 - val_ingredient_output_top5_acc: 0.5043 - val_foodcategory_output_get_f1: 0.5765 - val_foodcategory_output_top5_acc: 0.8213 - val_vegan_output_get_f1: 0.8998 - val_vegan_output_top5_acc: 1.0000\n",
            "Epoch 7/50\n",
            "80000/80000 [==============================] - 52s 653us/step - loss: 0.6280 - ingredient_output_loss: 0.0356 - foodcategory_output_loss: 0.5647 - vegan_output_loss: 0.0277 - ingredient_output_get_f1: 0.2088 - ingredient_output_top5_acc: 0.4886 - foodcategory_output_get_f1: 0.8513 - foodcategory_output_top5_acc: 0.9641 - vegan_output_get_f1: 0.9908 - vegan_output_top5_acc: 1.0000 - val_loss: 2.3650 - val_ingredient_output_loss: 0.0486 - val_foodcategory_output_loss: 1.8125 - val_vegan_output_loss: 0.5039 - val_ingredient_output_get_f1: 0.1393 - val_ingredient_output_top5_acc: 0.5152 - val_foodcategory_output_get_f1: 0.5899 - val_foodcategory_output_top5_acc: 0.8161 - val_vegan_output_get_f1: 0.9034 - val_vegan_output_top5_acc: 1.0000\n",
            "Epoch 8/50\n",
            "80000/80000 [==============================] - 53s 657us/step - loss: 0.5588 - ingredient_output_loss: 0.0333 - foodcategory_output_loss: 0.4987 - vegan_output_loss: 0.0267 - ingredient_output_get_f1: 0.2495 - ingredient_output_top5_acc: 0.5226 - foodcategory_output_get_f1: 0.8679 - foodcategory_output_top5_acc: 0.9704 - vegan_output_get_f1: 0.9905 - vegan_output_top5_acc: 1.0000 - val_loss: 2.6588 - val_ingredient_output_loss: 0.0408 - val_foodcategory_output_loss: 1.9537 - val_vegan_output_loss: 0.6643 - val_ingredient_output_get_f1: 0.1836 - val_ingredient_output_top5_acc: 0.5329 - val_foodcategory_output_get_f1: 0.6032 - val_foodcategory_output_top5_acc: 0.8107 - val_vegan_output_get_f1: 0.9055 - val_vegan_output_top5_acc: 1.0000\n",
            "Epoch 9/50\n",
            "80000/80000 [==============================] - 53s 657us/step - loss: 0.5025 - ingredient_output_loss: 0.0314 - foodcategory_output_loss: 0.4464 - vegan_output_loss: 0.0247 - ingredient_output_get_f1: 0.2830 - ingredient_output_top5_acc: 0.5469 - foodcategory_output_get_f1: 0.8800 - foodcategory_output_top5_acc: 0.9764 - vegan_output_get_f1: 0.9918 - vegan_output_top5_acc: 1.0000 - val_loss: 2.5555 - val_ingredient_output_loss: 0.0391 - val_foodcategory_output_loss: 1.9774 - val_vegan_output_loss: 0.5390 - val_ingredient_output_get_f1: 0.1982 - val_ingredient_output_top5_acc: 0.5454 - val_foodcategory_output_get_f1: 0.6010 - val_foodcategory_output_top5_acc: 0.8176 - val_vegan_output_get_f1: 0.9013 - val_vegan_output_top5_acc: 1.0000\n",
            "Epoch 10/50\n",
            "80000/80000 [==============================] - 52s 656us/step - loss: 0.4581 - ingredient_output_loss: 0.0300 - foodcategory_output_loss: 0.4043 - vegan_output_loss: 0.0237 - ingredient_output_get_f1: 0.3118 - ingredient_output_top5_acc: 0.5625 - foodcategory_output_get_f1: 0.8902 - foodcategory_output_top5_acc: 0.9799 - vegan_output_get_f1: 0.9920 - vegan_output_top5_acc: 1.0000 - val_loss: 2.4319 - val_ingredient_output_loss: 0.0377 - val_foodcategory_output_loss: 1.9244 - val_vegan_output_loss: 0.4698 - val_ingredient_output_get_f1: 0.2234 - val_ingredient_output_top5_acc: 0.5754 - val_foodcategory_output_get_f1: 0.6062 - val_foodcategory_output_top5_acc: 0.8209 - val_vegan_output_get_f1: 0.9050 - val_vegan_output_top5_acc: 1.0000\n",
            "Epoch 11/50\n",
            "80000/80000 [==============================] - 52s 654us/step - loss: 0.4269 - ingredient_output_loss: 0.0287 - foodcategory_output_loss: 0.3770 - vegan_output_loss: 0.0212 - ingredient_output_get_f1: 0.3359 - ingredient_output_top5_acc: 0.5863 - foodcategory_output_get_f1: 0.8991 - foodcategory_output_top5_acc: 0.9828 - vegan_output_get_f1: 0.9929 - vegan_output_top5_acc: 1.0000 - val_loss: 2.5868 - val_ingredient_output_loss: 0.0369 - val_foodcategory_output_loss: 2.0512 - val_vegan_output_loss: 0.4988 - val_ingredient_output_get_f1: 0.2584 - val_ingredient_output_top5_acc: 0.5658 - val_foodcategory_output_get_f1: 0.6027 - val_foodcategory_output_top5_acc: 0.8158 - val_vegan_output_get_f1: 0.9062 - val_vegan_output_top5_acc: 1.0000\n",
            "Epoch 12/50\n",
            "80000/80000 [==============================] - 52s 653us/step - loss: 0.3947 - ingredient_output_loss: 0.0277 - foodcategory_output_loss: 0.3463 - vegan_output_loss: 0.0208 - ingredient_output_get_f1: 0.3558 - ingredient_output_top5_acc: 0.5993 - foodcategory_output_get_f1: 0.9069 - foodcategory_output_top5_acc: 0.9858 - vegan_output_get_f1: 0.9927 - vegan_output_top5_acc: 1.0000 - val_loss: 2.5568 - val_ingredient_output_loss: 0.0372 - val_foodcategory_output_loss: 2.0897 - val_vegan_output_loss: 0.4300 - val_ingredient_output_get_f1: 0.2614 - val_ingredient_output_top5_acc: 0.5698 - val_foodcategory_output_get_f1: 0.6082 - val_foodcategory_output_top5_acc: 0.8171 - val_vegan_output_get_f1: 0.9003 - val_vegan_output_top5_acc: 1.0000\n",
            "Epoch 13/50\n",
            "80000/80000 [==============================] - 52s 653us/step - loss: 0.3777 - ingredient_output_loss: 0.0271 - foodcategory_output_loss: 0.3305 - vegan_output_loss: 0.0202 - ingredient_output_get_f1: 0.3737 - ingredient_output_top5_acc: 0.6087 - foodcategory_output_get_f1: 0.9113 - foodcategory_output_top5_acc: 0.9868 - vegan_output_get_f1: 0.9933 - vegan_output_top5_acc: 1.0000 - val_loss: 2.6803 - val_ingredient_output_loss: 0.0352 - val_foodcategory_output_loss: 2.1414 - val_vegan_output_loss: 0.5037 - val_ingredient_output_get_f1: 0.3093 - val_ingredient_output_top5_acc: 0.5875 - val_foodcategory_output_get_f1: 0.6059 - val_foodcategory_output_top5_acc: 0.8131 - val_vegan_output_get_f1: 0.9040 - val_vegan_output_top5_acc: 1.0000\n",
            "Epoch 14/50\n",
            "80000/80000 [==============================] - 52s 655us/step - loss: 0.3721 - ingredient_output_loss: 0.0260 - foodcategory_output_loss: 0.3269 - vegan_output_loss: 0.0191 - ingredient_output_get_f1: 0.3901 - ingredient_output_top5_acc: 0.6236 - foodcategory_output_get_f1: 0.9137 - foodcategory_output_top5_acc: 0.9880 - vegan_output_get_f1: 0.9935 - vegan_output_top5_acc: 1.0000 - val_loss: 2.7577 - val_ingredient_output_loss: 0.0339 - val_foodcategory_output_loss: 2.1932 - val_vegan_output_loss: 0.5306 - val_ingredient_output_get_f1: 0.3114 - val_ingredient_output_top5_acc: 0.5808 - val_foodcategory_output_get_f1: 0.6052 - val_foodcategory_output_top5_acc: 0.8120 - val_vegan_output_get_f1: 0.9028 - val_vegan_output_top5_acc: 1.0000\n",
            "Epoch 15/50\n",
            "80000/80000 [==============================] - 52s 654us/step - loss: 0.3450 - ingredient_output_loss: 0.0253 - foodcategory_output_loss: 0.3009 - vegan_output_loss: 0.0187 - ingredient_output_get_f1: 0.4075 - ingredient_output_top5_acc: 0.6332 - foodcategory_output_get_f1: 0.9212 - foodcategory_output_top5_acc: 0.9895 - vegan_output_get_f1: 0.9934 - vegan_output_top5_acc: 1.0000 - val_loss: 3.0009 - val_ingredient_output_loss: 0.0327 - val_foodcategory_output_loss: 2.2731 - val_vegan_output_loss: 0.6951 - val_ingredient_output_get_f1: 0.3407 - val_ingredient_output_top5_acc: 0.5782 - val_foodcategory_output_get_f1: 0.6090 - val_foodcategory_output_top5_acc: 0.8095 - val_vegan_output_get_f1: 0.9027 - val_vegan_output_top5_acc: 1.0000\n",
            "Epoch 16/50\n",
            "80000/80000 [==============================] - 52s 654us/step - loss: 0.3266 - ingredient_output_loss: 0.0248 - foodcategory_output_loss: 0.2843 - vegan_output_loss: 0.0176 - ingredient_output_get_f1: 0.4211 - ingredient_output_top5_acc: 0.6394 - foodcategory_output_get_f1: 0.9250 - foodcategory_output_top5_acc: 0.9911 - vegan_output_get_f1: 0.9940 - vegan_output_top5_acc: 1.0000 - val_loss: 2.9629 - val_ingredient_output_loss: 0.0341 - val_foodcategory_output_loss: 2.4205 - val_vegan_output_loss: 0.5083 - val_ingredient_output_get_f1: 0.3711 - val_ingredient_output_top5_acc: 0.5750 - val_foodcategory_output_get_f1: 0.6104 - val_foodcategory_output_top5_acc: 0.8055 - val_vegan_output_get_f1: 0.9042 - val_vegan_output_top5_acc: 1.0000\n",
            "Epoch 17/50\n",
            "80000/80000 [==============================] - 52s 654us/step - loss: 0.3253 - ingredient_output_loss: 0.0243 - foodcategory_output_loss: 0.2841 - vegan_output_loss: 0.0170 - ingredient_output_get_f1: 0.4321 - ingredient_output_top5_acc: 0.6498 - foodcategory_output_get_f1: 0.9255 - foodcategory_output_top5_acc: 0.9909 - vegan_output_get_f1: 0.9944 - vegan_output_top5_acc: 1.0000 - val_loss: 2.9537 - val_ingredient_output_loss: 0.0316 - val_foodcategory_output_loss: 2.4013 - val_vegan_output_loss: 0.5208 - val_ingredient_output_get_f1: 0.3683 - val_ingredient_output_top5_acc: 0.5914 - val_foodcategory_output_get_f1: 0.6159 - val_foodcategory_output_top5_acc: 0.8107 - val_vegan_output_get_f1: 0.9050 - val_vegan_output_top5_acc: 1.0000\n",
            "Epoch 18/50\n",
            "80000/80000 [==============================] - 52s 654us/step - loss: 0.3313 - ingredient_output_loss: 0.0240 - foodcategory_output_loss: 0.2887 - vegan_output_loss: 0.0186 - ingredient_output_get_f1: 0.4398 - ingredient_output_top5_acc: 0.6547 - foodcategory_output_get_f1: 0.9268 - foodcategory_output_top5_acc: 0.9911 - vegan_output_get_f1: 0.9937 - vegan_output_top5_acc: 1.0000 - val_loss: 2.9182 - val_ingredient_output_loss: 0.0316 - val_foodcategory_output_loss: 2.3664 - val_vegan_output_loss: 0.5202 - val_ingredient_output_get_f1: 0.3898 - val_ingredient_output_top5_acc: 0.5983 - val_foodcategory_output_get_f1: 0.6158 - val_foodcategory_output_top5_acc: 0.8131 - val_vegan_output_get_f1: 0.9066 - val_vegan_output_top5_acc: 1.0000\n",
            "Epoch 19/50\n",
            "80000/80000 [==============================] - 52s 652us/step - loss: 0.3146 - ingredient_output_loss: 0.0232 - foodcategory_output_loss: 0.2756 - vegan_output_loss: 0.0159 - ingredient_output_get_f1: 0.4553 - ingredient_output_top5_acc: 0.6622 - foodcategory_output_get_f1: 0.9292 - foodcategory_output_top5_acc: 0.9906 - vegan_output_get_f1: 0.9946 - vegan_output_top5_acc: 1.0000 - val_loss: 2.9908 - val_ingredient_output_loss: 0.0310 - val_foodcategory_output_loss: 2.4710 - val_vegan_output_loss: 0.4887 - val_ingredient_output_get_f1: 0.3832 - val_ingredient_output_top5_acc: 0.5901 - val_foodcategory_output_get_f1: 0.6114 - val_foodcategory_output_top5_acc: 0.8097 - val_vegan_output_get_f1: 0.9041 - val_vegan_output_top5_acc: 1.0000\n",
            "Epoch 20/50\n",
            "80000/80000 [==============================] - 52s 655us/step - loss: 0.3083 - ingredient_output_loss: 0.0229 - foodcategory_output_loss: 0.2684 - vegan_output_loss: 0.0169 - ingredient_output_get_f1: 0.4593 - ingredient_output_top5_acc: 0.6674 - foodcategory_output_get_f1: 0.9319 - foodcategory_output_top5_acc: 0.9918 - vegan_output_get_f1: 0.9947 - vegan_output_top5_acc: 1.0000 - val_loss: 3.1826 - val_ingredient_output_loss: 0.0301 - val_foodcategory_output_loss: 2.5535 - val_vegan_output_loss: 0.5990 - val_ingredient_output_get_f1: 0.3970 - val_ingredient_output_top5_acc: 0.5924 - val_foodcategory_output_get_f1: 0.6159 - val_foodcategory_output_top5_acc: 0.8099 - val_vegan_output_get_f1: 0.9066 - val_vegan_output_top5_acc: 1.0000\n",
            "Epoch 21/50\n",
            "80000/80000 [==============================] - 52s 655us/step - loss: 0.2899 - ingredient_output_loss: 0.0227 - foodcategory_output_loss: 0.2495 - vegan_output_loss: 0.0178 - ingredient_output_get_f1: 0.4669 - ingredient_output_top5_acc: 0.6695 - foodcategory_output_get_f1: 0.9369 - foodcategory_output_top5_acc: 0.9927 - vegan_output_get_f1: 0.9943 - vegan_output_top5_acc: 1.0000 - val_loss: 3.1138 - val_ingredient_output_loss: 0.0309 - val_foodcategory_output_loss: 2.6711 - val_vegan_output_loss: 0.4118 - val_ingredient_output_get_f1: 0.3862 - val_ingredient_output_top5_acc: 0.5842 - val_foodcategory_output_get_f1: 0.6083 - val_foodcategory_output_top5_acc: 0.8028 - val_vegan_output_get_f1: 0.9048 - val_vegan_output_top5_acc: 1.0000\n",
            "Epoch 22/50\n",
            "80000/80000 [==============================] - 52s 654us/step - loss: 0.3098 - ingredient_output_loss: 0.0227 - foodcategory_output_loss: 0.2695 - vegan_output_loss: 0.0176 - ingredient_output_get_f1: 0.4674 - ingredient_output_top5_acc: 0.6685 - foodcategory_output_get_f1: 0.9342 - foodcategory_output_top5_acc: 0.9925 - vegan_output_get_f1: 0.9942 - vegan_output_top5_acc: 1.0000 - val_loss: 2.9965 - val_ingredient_output_loss: 0.0300 - val_foodcategory_output_loss: 2.5811 - val_vegan_output_loss: 0.3853 - val_ingredient_output_get_f1: 0.3734 - val_ingredient_output_top5_acc: 0.5898 - val_foodcategory_output_get_f1: 0.6183 - val_foodcategory_output_top5_acc: 0.8111 - val_vegan_output_get_f1: 0.9075 - val_vegan_output_top5_acc: 1.0000\n",
            "Epoch 23/50\n",
            "80000/80000 [==============================] - 53s 656us/step - loss: 0.3050 - ingredient_output_loss: 0.0222 - foodcategory_output_loss: 0.2659 - vegan_output_loss: 0.0169 - ingredient_output_get_f1: 0.4764 - ingredient_output_top5_acc: 0.6744 - foodcategory_output_get_f1: 0.9345 - foodcategory_output_top5_acc: 0.9925 - vegan_output_get_f1: 0.9941 - vegan_output_top5_acc: 1.0000 - val_loss: 3.1344 - val_ingredient_output_loss: 0.0296 - val_foodcategory_output_loss: 2.6386 - val_vegan_output_loss: 0.4662 - val_ingredient_output_get_f1: 0.3753 - val_ingredient_output_top5_acc: 0.5890 - val_foodcategory_output_get_f1: 0.6093 - val_foodcategory_output_top5_acc: 0.8059 - val_vegan_output_get_f1: 0.9040 - val_vegan_output_top5_acc: 1.0000\n",
            "Epoch 24/50\n",
            "80000/80000 [==============================] - 52s 654us/step - loss: 0.3061 - ingredient_output_loss: 0.0219 - foodcategory_output_loss: 0.2675 - vegan_output_loss: 0.0167 - ingredient_output_get_f1: 0.4811 - ingredient_output_top5_acc: 0.6786 - foodcategory_output_get_f1: 0.9359 - foodcategory_output_top5_acc: 0.9916 - vegan_output_get_f1: 0.9944 - vegan_output_top5_acc: 1.0000 - val_loss: 3.1268 - val_ingredient_output_loss: 0.0292 - val_foodcategory_output_loss: 2.5783 - val_vegan_output_loss: 0.5193 - val_ingredient_output_get_f1: 0.3997 - val_ingredient_output_top5_acc: 0.5892 - val_foodcategory_output_get_f1: 0.6220 - val_foodcategory_output_top5_acc: 0.8074 - val_vegan_output_get_f1: 0.9073 - val_vegan_output_top5_acc: 1.0000\n",
            "Epoch 25/50\n",
            "80000/80000 [==============================] - 52s 651us/step - loss: 0.2860 - ingredient_output_loss: 0.0214 - foodcategory_output_loss: 0.2502 - vegan_output_loss: 0.0144 - ingredient_output_get_f1: 0.4922 - ingredient_output_top5_acc: 0.6878 - foodcategory_output_get_f1: 0.9396 - foodcategory_output_top5_acc: 0.9926 - vegan_output_get_f1: 0.9949 - vegan_output_top5_acc: 1.0000 - val_loss: 3.5734 - val_ingredient_output_loss: 0.0295 - val_foodcategory_output_loss: 2.8015 - val_vegan_output_loss: 0.7425 - val_ingredient_output_get_f1: 0.4077 - val_ingredient_output_top5_acc: 0.6004 - val_foodcategory_output_get_f1: 0.6134 - val_foodcategory_output_top5_acc: 0.8068 - val_vegan_output_get_f1: 0.9064 - val_vegan_output_top5_acc: 1.0000\n",
            "Epoch 26/50\n",
            "80000/80000 [==============================] - 52s 652us/step - loss: 0.2968 - ingredient_output_loss: 0.0216 - foodcategory_output_loss: 0.2591 - vegan_output_loss: 0.0161 - ingredient_output_get_f1: 0.4918 - ingredient_output_top5_acc: 0.6855 - foodcategory_output_get_f1: 0.9390 - foodcategory_output_top5_acc: 0.9929 - vegan_output_get_f1: 0.9947 - vegan_output_top5_acc: 1.0000 - val_loss: 3.2457 - val_ingredient_output_loss: 0.0291 - val_foodcategory_output_loss: 2.7515 - val_vegan_output_loss: 0.4651 - val_ingredient_output_get_f1: 0.3848 - val_ingredient_output_top5_acc: 0.5946 - val_foodcategory_output_get_f1: 0.6141 - val_foodcategory_output_top5_acc: 0.8037 - val_vegan_output_get_f1: 0.9073 - val_vegan_output_top5_acc: 1.0000\n",
            "Epoch 27/50\n",
            "80000/80000 [==============================] - 52s 652us/step - loss: 0.2984 - ingredient_output_loss: 0.0212 - foodcategory_output_loss: 0.2623 - vegan_output_loss: 0.0149 - ingredient_output_get_f1: 0.4995 - ingredient_output_top5_acc: 0.6878 - foodcategory_output_get_f1: 0.9390 - foodcategory_output_top5_acc: 0.9924 - vegan_output_get_f1: 0.9952 - vegan_output_top5_acc: 1.0000 - val_loss: 3.3193 - val_ingredient_output_loss: 0.0285 - val_foodcategory_output_loss: 2.7618 - val_vegan_output_loss: 0.5289 - val_ingredient_output_get_f1: 0.4098 - val_ingredient_output_top5_acc: 0.5997 - val_foodcategory_output_get_f1: 0.6239 - val_foodcategory_output_top5_acc: 0.8093 - val_vegan_output_get_f1: 0.9060 - val_vegan_output_top5_acc: 1.0000\n",
            "Epoch 28/50\n",
            "80000/80000 [==============================] - 52s 651us/step - loss: 0.2988 - ingredient_output_loss: 0.0212 - foodcategory_output_loss: 0.2613 - vegan_output_loss: 0.0164 - ingredient_output_get_f1: 0.4966 - ingredient_output_top5_acc: 0.6879 - foodcategory_output_get_f1: 0.9398 - foodcategory_output_top5_acc: 0.9927 - vegan_output_get_f1: 0.9950 - vegan_output_top5_acc: 1.0000 - val_loss: 3.6909 - val_ingredient_output_loss: 0.0288 - val_foodcategory_output_loss: 3.0262 - val_vegan_output_loss: 0.6359 - val_ingredient_output_get_f1: 0.4091 - val_ingredient_output_top5_acc: 0.5881 - val_foodcategory_output_get_f1: 0.6088 - val_foodcategory_output_top5_acc: 0.7979 - val_vegan_output_get_f1: 0.9077 - val_vegan_output_top5_acc: 1.0000\n",
            "Epoch 29/50\n",
            "80000/80000 [==============================] - 52s 652us/step - loss: 0.3115 - ingredient_output_loss: 0.0213 - foodcategory_output_loss: 0.2732 - vegan_output_loss: 0.0170 - ingredient_output_get_f1: 0.4964 - ingredient_output_top5_acc: 0.6864 - foodcategory_output_get_f1: 0.9380 - foodcategory_output_top5_acc: 0.9921 - vegan_output_get_f1: 0.9943 - vegan_output_top5_acc: 1.0000 - val_loss: 3.4994 - val_ingredient_output_loss: 0.0291 - val_foodcategory_output_loss: 3.0304 - val_vegan_output_loss: 0.4399 - val_ingredient_output_get_f1: 0.4014 - val_ingredient_output_top5_acc: 0.5886 - val_foodcategory_output_get_f1: 0.6158 - val_foodcategory_output_top5_acc: 0.8048 - val_vegan_output_get_f1: 0.9059 - val_vegan_output_top5_acc: 1.0000\n",
            "Epoch 30/50\n",
            "80000/80000 [==============================] - 52s 653us/step - loss: 0.2968 - ingredient_output_loss: 0.0207 - foodcategory_output_loss: 0.2614 - vegan_output_loss: 0.0146 - ingredient_output_get_f1: 0.5047 - ingredient_output_top5_acc: 0.6949 - foodcategory_output_get_f1: 0.9402 - foodcategory_output_top5_acc: 0.9928 - vegan_output_get_f1: 0.9952 - vegan_output_top5_acc: 1.0000 - val_loss: 3.4946 - val_ingredient_output_loss: 0.0280 - val_foodcategory_output_loss: 2.9143 - val_vegan_output_loss: 0.5524 - val_ingredient_output_get_f1: 0.4114 - val_ingredient_output_top5_acc: 0.6046 - val_foodcategory_output_get_f1: 0.6221 - val_foodcategory_output_top5_acc: 0.8065 - val_vegan_output_get_f1: 0.9031 - val_vegan_output_top5_acc: 1.0000\n",
            "Epoch 31/50\n",
            "80000/80000 [==============================] - 53s 658us/step - loss: 0.2961 - ingredient_output_loss: 0.0206 - foodcategory_output_loss: 0.2594 - vegan_output_loss: 0.0161 - ingredient_output_get_f1: 0.5093 - ingredient_output_top5_acc: 0.6949 - foodcategory_output_get_f1: 0.9437 - foodcategory_output_top5_acc: 0.9937 - vegan_output_get_f1: 0.9947 - vegan_output_top5_acc: 1.0000 - val_loss: 3.5676 - val_ingredient_output_loss: 0.0279 - val_foodcategory_output_loss: 2.9356 - val_vegan_output_loss: 0.6041 - val_ingredient_output_get_f1: 0.4063 - val_ingredient_output_top5_acc: 0.6026 - val_foodcategory_output_get_f1: 0.6238 - val_foodcategory_output_top5_acc: 0.8066 - val_vegan_output_get_f1: 0.9049 - val_vegan_output_top5_acc: 1.0000\n",
            "Epoch 32/50\n",
            "80000/80000 [==============================] - 52s 653us/step - loss: 0.2819 - ingredient_output_loss: 0.0206 - foodcategory_output_loss: 0.2452 - vegan_output_loss: 0.0162 - ingredient_output_get_f1: 0.5107 - ingredient_output_top5_acc: 0.6935 - foodcategory_output_get_f1: 0.9458 - foodcategory_output_top5_acc: 0.9932 - vegan_output_get_f1: 0.9946 - vegan_output_top5_acc: 1.0000 - val_loss: 3.8156 - val_ingredient_output_loss: 0.0287 - val_foodcategory_output_loss: 3.2445 - val_vegan_output_loss: 0.5423 - val_ingredient_output_get_f1: 0.4013 - val_ingredient_output_top5_acc: 0.5841 - val_foodcategory_output_get_f1: 0.6020 - val_foodcategory_output_top5_acc: 0.7941 - val_vegan_output_get_f1: 0.9044 - val_vegan_output_top5_acc: 1.0000\n",
            "Epoch 33/50\n",
            "80000/80000 [==============================] - 52s 652us/step - loss: 0.3018 - ingredient_output_loss: 0.0206 - foodcategory_output_loss: 0.2637 - vegan_output_loss: 0.0175 - ingredient_output_get_f1: 0.5092 - ingredient_output_top5_acc: 0.6936 - foodcategory_output_get_f1: 0.9426 - foodcategory_output_top5_acc: 0.9925 - vegan_output_get_f1: 0.9943 - vegan_output_top5_acc: 1.0000 - val_loss: 3.5793 - val_ingredient_output_loss: 0.0278 - val_foodcategory_output_loss: 3.1320 - val_vegan_output_loss: 0.4195 - val_ingredient_output_get_f1: 0.4064 - val_ingredient_output_top5_acc: 0.6016 - val_foodcategory_output_get_f1: 0.6138 - val_foodcategory_output_top5_acc: 0.7983 - val_vegan_output_get_f1: 0.9062 - val_vegan_output_top5_acc: 1.0000\n",
            "Epoch 34/50\n",
            "80000/80000 [==============================] - 52s 651us/step - loss: 0.2826 - ingredient_output_loss: 0.0202 - foodcategory_output_loss: 0.2475 - vegan_output_loss: 0.0149 - ingredient_output_get_f1: 0.5185 - ingredient_output_top5_acc: 0.6991 - foodcategory_output_get_f1: 0.9462 - foodcategory_output_top5_acc: 0.9932 - vegan_output_get_f1: 0.9950 - vegan_output_top5_acc: 1.0000 - val_loss: 3.6957 - val_ingredient_output_loss: 0.0280 - val_foodcategory_output_loss: 3.2583 - val_vegan_output_loss: 0.4095 - val_ingredient_output_get_f1: 0.4129 - val_ingredient_output_top5_acc: 0.5844 - val_foodcategory_output_get_f1: 0.6101 - val_foodcategory_output_top5_acc: 0.7968 - val_vegan_output_get_f1: 0.9060 - val_vegan_output_top5_acc: 1.0000\n",
            "Epoch 35/50\n",
            "80000/80000 [==============================] - 52s 652us/step - loss: 0.2970 - ingredient_output_loss: 0.0202 - foodcategory_output_loss: 0.2612 - vegan_output_loss: 0.0156 - ingredient_output_get_f1: 0.5154 - ingredient_output_top5_acc: 0.6979 - foodcategory_output_get_f1: 0.9454 - foodcategory_output_top5_acc: 0.9930 - vegan_output_get_f1: 0.9953 - vegan_output_top5_acc: 1.0000 - val_loss: 3.6464 - val_ingredient_output_loss: 0.0280 - val_foodcategory_output_loss: 3.1441 - val_vegan_output_loss: 0.4742 - val_ingredient_output_get_f1: 0.3995 - val_ingredient_output_top5_acc: 0.5966 - val_foodcategory_output_get_f1: 0.6121 - val_foodcategory_output_top5_acc: 0.7997 - val_vegan_output_get_f1: 0.9089 - val_vegan_output_top5_acc: 1.0000\n",
            "Epoch 36/50\n",
            "80000/80000 [==============================] - 52s 652us/step - loss: 0.3051 - ingredient_output_loss: 0.0203 - foodcategory_output_loss: 0.2686 - vegan_output_loss: 0.0162 - ingredient_output_get_f1: 0.5134 - ingredient_output_top5_acc: 0.6949 - foodcategory_output_get_f1: 0.9439 - foodcategory_output_top5_acc: 0.9928 - vegan_output_get_f1: 0.9953 - vegan_output_top5_acc: 1.0000 - val_loss: 3.7160 - val_ingredient_output_loss: 0.0283 - val_foodcategory_output_loss: 3.2124 - val_vegan_output_loss: 0.4753 - val_ingredient_output_get_f1: 0.3905 - val_ingredient_output_top5_acc: 0.5895 - val_foodcategory_output_get_f1: 0.6110 - val_foodcategory_output_top5_acc: 0.8007 - val_vegan_output_get_f1: 0.9064 - val_vegan_output_top5_acc: 1.0000\n",
            "Epoch 37/50\n",
            "80000/80000 [==============================] - 52s 652us/step - loss: 0.3226 - ingredient_output_loss: 0.0203 - foodcategory_output_loss: 0.2858 - vegan_output_loss: 0.0165 - ingredient_output_get_f1: 0.5136 - ingredient_output_top5_acc: 0.6950 - foodcategory_output_get_f1: 0.9413 - foodcategory_output_top5_acc: 0.9923 - vegan_output_get_f1: 0.9948 - vegan_output_top5_acc: 1.0000 - val_loss: 3.8473 - val_ingredient_output_loss: 0.0277 - val_foodcategory_output_loss: 3.3441 - val_vegan_output_loss: 0.4755 - val_ingredient_output_get_f1: 0.4018 - val_ingredient_output_top5_acc: 0.6094 - val_foodcategory_output_get_f1: 0.6108 - val_foodcategory_output_top5_acc: 0.8000 - val_vegan_output_get_f1: 0.9066 - val_vegan_output_top5_acc: 1.0000\n",
            "Epoch 38/50\n",
            "80000/80000 [==============================] - 52s 650us/step - loss: 0.3143 - ingredient_output_loss: 0.0198 - foodcategory_output_loss: 0.2788 - vegan_output_loss: 0.0158 - ingredient_output_get_f1: 0.5227 - ingredient_output_top5_acc: 0.7038 - foodcategory_output_get_f1: 0.9444 - foodcategory_output_top5_acc: 0.9921 - vegan_output_get_f1: 0.9949 - vegan_output_top5_acc: 1.0000 - val_loss: 3.7447 - val_ingredient_output_loss: 0.0274 - val_foodcategory_output_loss: 3.2619 - val_vegan_output_loss: 0.4555 - val_ingredient_output_get_f1: 0.4138 - val_ingredient_output_top5_acc: 0.6121 - val_foodcategory_output_get_f1: 0.6231 - val_foodcategory_output_top5_acc: 0.8076 - val_vegan_output_get_f1: 0.9075 - val_vegan_output_top5_acc: 1.0000\n",
            "Epoch 39/50\n",
            "80000/80000 [==============================] - 52s 651us/step - loss: 0.2953 - ingredient_output_loss: 0.0196 - foodcategory_output_loss: 0.2594 - vegan_output_loss: 0.0163 - ingredient_output_get_f1: 0.5309 - ingredient_output_top5_acc: 0.7078 - foodcategory_output_get_f1: 0.9493 - foodcategory_output_top5_acc: 0.9933 - vegan_output_get_f1: 0.9950 - vegan_output_top5_acc: 1.0000 - val_loss: 3.9726 - val_ingredient_output_loss: 0.0275 - val_foodcategory_output_loss: 3.3969 - val_vegan_output_loss: 0.5483 - val_ingredient_output_get_f1: 0.4212 - val_ingredient_output_top5_acc: 0.6117 - val_foodcategory_output_get_f1: 0.6135 - val_foodcategory_output_top5_acc: 0.8033 - val_vegan_output_get_f1: 0.9084 - val_vegan_output_top5_acc: 1.0000\n",
            "Epoch 40/50\n",
            "80000/80000 [==============================] - 53s 657us/step - loss: 0.2960 - ingredient_output_loss: 0.0199 - foodcategory_output_loss: 0.2602 - vegan_output_loss: 0.0159 - ingredient_output_get_f1: 0.5247 - ingredient_output_top5_acc: 0.7032 - foodcategory_output_get_f1: 0.9487 - foodcategory_output_top5_acc: 0.9941 - vegan_output_get_f1: 0.9950 - vegan_output_top5_acc: 1.0000 - val_loss: 3.9478 - val_ingredient_output_loss: 0.0276 - val_foodcategory_output_loss: 3.4659 - val_vegan_output_loss: 0.4543 - val_ingredient_output_get_f1: 0.4003 - val_ingredient_output_top5_acc: 0.6094 - val_foodcategory_output_get_f1: 0.6098 - val_foodcategory_output_top5_acc: 0.7958 - val_vegan_output_get_f1: 0.9076 - val_vegan_output_top5_acc: 1.0000\n",
            "Epoch 41/50\n",
            "80000/80000 [==============================] - 52s 655us/step - loss: 0.3220 - ingredient_output_loss: 0.0198 - foodcategory_output_loss: 0.2863 - vegan_output_loss: 0.0160 - ingredient_output_get_f1: 0.5262 - ingredient_output_top5_acc: 0.7037 - foodcategory_output_get_f1: 0.9449 - foodcategory_output_top5_acc: 0.9927 - vegan_output_get_f1: 0.9953 - vegan_output_top5_acc: 1.0000 - val_loss: 3.8100 - val_ingredient_output_loss: 0.0274 - val_foodcategory_output_loss: 3.4034 - val_vegan_output_loss: 0.3792 - val_ingredient_output_get_f1: 0.3964 - val_ingredient_output_top5_acc: 0.6038 - val_foodcategory_output_get_f1: 0.6167 - val_foodcategory_output_top5_acc: 0.7996 - val_vegan_output_get_f1: 0.9071 - val_vegan_output_top5_acc: 1.0000\n",
            "Epoch 42/50\n",
            "80000/80000 [==============================] - 53s 658us/step - loss: 0.3503 - ingredient_output_loss: 0.0198 - foodcategory_output_loss: 0.3140 - vegan_output_loss: 0.0165 - ingredient_output_get_f1: 0.5207 - ingredient_output_top5_acc: 0.7011 - foodcategory_output_get_f1: 0.9410 - foodcategory_output_top5_acc: 0.9917 - vegan_output_get_f1: 0.9946 - vegan_output_top5_acc: 1.0000 - val_loss: 4.0712 - val_ingredient_output_loss: 0.0274 - val_foodcategory_output_loss: 3.5965 - val_vegan_output_loss: 0.4473 - val_ingredient_output_get_f1: 0.4117 - val_ingredient_output_top5_acc: 0.5943 - val_foodcategory_output_get_f1: 0.6114 - val_foodcategory_output_top5_acc: 0.7992 - val_vegan_output_get_f1: 0.9054 - val_vegan_output_top5_acc: 1.0000\n",
            "Epoch 43/50\n",
            "80000/80000 [==============================] - 53s 661us/step - loss: 0.3302 - ingredient_output_loss: 0.0200 - foodcategory_output_loss: 0.2937 - vegan_output_loss: 0.0165 - ingredient_output_get_f1: 0.5220 - ingredient_output_top5_acc: 0.6978 - foodcategory_output_get_f1: 0.9449 - foodcategory_output_top5_acc: 0.9923 - vegan_output_get_f1: 0.9950 - vegan_output_top5_acc: 1.0000 - val_loss: 4.0911 - val_ingredient_output_loss: 0.0270 - val_foodcategory_output_loss: 3.5463 - val_vegan_output_loss: 0.5177 - val_ingredient_output_get_f1: 0.4143 - val_ingredient_output_top5_acc: 0.6096 - val_foodcategory_output_get_f1: 0.6122 - val_foodcategory_output_top5_acc: 0.8012 - val_vegan_output_get_f1: 0.9080 - val_vegan_output_top5_acc: 1.0000\n",
            "Epoch 44/50\n",
            "80000/80000 [==============================] - 53s 662us/step - loss: 0.3310 - ingredient_output_loss: 0.0195 - foodcategory_output_loss: 0.2960 - vegan_output_loss: 0.0155 - ingredient_output_get_f1: 0.5280 - ingredient_output_top5_acc: 0.7070 - foodcategory_output_get_f1: 0.9459 - foodcategory_output_top5_acc: 0.9922 - vegan_output_get_f1: 0.9954 - vegan_output_top5_acc: 1.0000 - val_loss: 4.0057 - val_ingredient_output_loss: 0.0271 - val_foodcategory_output_loss: 3.5259 - val_vegan_output_loss: 0.4528 - val_ingredient_output_get_f1: 0.3962 - val_ingredient_output_top5_acc: 0.6028 - val_foodcategory_output_get_f1: 0.6069 - val_foodcategory_output_top5_acc: 0.7970 - val_vegan_output_get_f1: 0.9068 - val_vegan_output_top5_acc: 1.0000\n",
            "Epoch 45/50\n",
            "80000/80000 [==============================] - 53s 662us/step - loss: 0.3298 - ingredient_output_loss: 0.0194 - foodcategory_output_loss: 0.2951 - vegan_output_loss: 0.0153 - ingredient_output_get_f1: 0.5289 - ingredient_output_top5_acc: 0.7086 - foodcategory_output_get_f1: 0.9466 - foodcategory_output_top5_acc: 0.9926 - vegan_output_get_f1: 0.9950 - vegan_output_top5_acc: 1.0000 - val_loss: 3.9042 - val_ingredient_output_loss: 0.0271 - val_foodcategory_output_loss: 3.4897 - val_vegan_output_loss: 0.3874 - val_ingredient_output_get_f1: 0.3962 - val_ingredient_output_top5_acc: 0.5985 - val_foodcategory_output_get_f1: 0.6092 - val_foodcategory_output_top5_acc: 0.7982 - val_vegan_output_get_f1: 0.9059 - val_vegan_output_top5_acc: 1.0000\n",
            "Epoch 46/50\n",
            "80000/80000 [==============================] - 53s 662us/step - loss: 0.3437 - ingredient_output_loss: 0.0196 - foodcategory_output_loss: 0.3061 - vegan_output_loss: 0.0179 - ingredient_output_get_f1: 0.5280 - ingredient_output_top5_acc: 0.7071 - foodcategory_output_get_f1: 0.9453 - foodcategory_output_top5_acc: 0.9922 - vegan_output_get_f1: 0.9949 - vegan_output_top5_acc: 1.0000 - val_loss: 4.1412 - val_ingredient_output_loss: 0.0274 - val_foodcategory_output_loss: 3.7086 - val_vegan_output_loss: 0.4053 - val_ingredient_output_get_f1: 0.3990 - val_ingredient_output_top5_acc: 0.6072 - val_foodcategory_output_get_f1: 0.6123 - val_foodcategory_output_top5_acc: 0.7929 - val_vegan_output_get_f1: 0.9038 - val_vegan_output_top5_acc: 1.0000\n",
            "Epoch 47/50\n",
            "80000/80000 [==============================] - 53s 662us/step - loss: 0.3114 - ingredient_output_loss: 0.0196 - foodcategory_output_loss: 0.2770 - vegan_output_loss: 0.0149 - ingredient_output_get_f1: 0.5311 - ingredient_output_top5_acc: 0.7055 - foodcategory_output_get_f1: 0.9488 - foodcategory_output_top5_acc: 0.9932 - vegan_output_get_f1: 0.9953 - vegan_output_top5_acc: 1.0000 - val_loss: 4.1694 - val_ingredient_output_loss: 0.0271 - val_foodcategory_output_loss: 3.6831 - val_vegan_output_loss: 0.4592 - val_ingredient_output_get_f1: 0.4046 - val_ingredient_output_top5_acc: 0.6017 - val_foodcategory_output_get_f1: 0.6177 - val_foodcategory_output_top5_acc: 0.7993 - val_vegan_output_get_f1: 0.9067 - val_vegan_output_top5_acc: 1.0000\n",
            "Epoch 48/50\n",
            "80000/80000 [==============================] - 52s 655us/step - loss: 0.3075 - ingredient_output_loss: 0.0193 - foodcategory_output_loss: 0.2741 - vegan_output_loss: 0.0141 - ingredient_output_get_f1: 0.5368 - ingredient_output_top5_acc: 0.7063 - foodcategory_output_get_f1: 0.9522 - foodcategory_output_top5_acc: 0.9935 - vegan_output_get_f1: 0.9959 - vegan_output_top5_acc: 1.0000 - val_loss: 4.2263 - val_ingredient_output_loss: 0.0275 - val_foodcategory_output_loss: 3.7687 - val_vegan_output_loss: 0.4300 - val_ingredient_output_get_f1: 0.3998 - val_ingredient_output_top5_acc: 0.5955 - val_foodcategory_output_get_f1: 0.6084 - val_foodcategory_output_top5_acc: 0.7961 - val_vegan_output_get_f1: 0.9052 - val_vegan_output_top5_acc: 1.0000\n",
            "Epoch 49/50\n",
            "80000/80000 [==============================] - 52s 654us/step - loss: 0.3711 - ingredient_output_loss: 0.0196 - foodcategory_output_loss: 0.3348 - vegan_output_loss: 0.0166 - ingredient_output_get_f1: 0.5321 - ingredient_output_top5_acc: 0.7044 - foodcategory_output_get_f1: 0.9463 - foodcategory_output_top5_acc: 0.9916 - vegan_output_get_f1: 0.9950 - vegan_output_top5_acc: 1.0000 - val_loss: 4.3628 - val_ingredient_output_loss: 0.0273 - val_foodcategory_output_loss: 3.7963 - val_vegan_output_loss: 0.5392 - val_ingredient_output_get_f1: 0.4146 - val_ingredient_output_top5_acc: 0.6071 - val_foodcategory_output_get_f1: 0.6097 - val_foodcategory_output_top5_acc: 0.8019 - val_vegan_output_get_f1: 0.9076 - val_vegan_output_top5_acc: 1.0000\n",
            "Epoch 50/50\n",
            "80000/80000 [==============================] - 52s 654us/step - loss: 0.3645 - ingredient_output_loss: 0.0195 - foodcategory_output_loss: 0.3298 - vegan_output_loss: 0.0152 - ingredient_output_get_f1: 0.5327 - ingredient_output_top5_acc: 0.7059 - foodcategory_output_get_f1: 0.9447 - foodcategory_output_top5_acc: 0.9917 - vegan_output_get_f1: 0.9954 - vegan_output_top5_acc: 1.0000 - val_loss: 4.2717 - val_ingredient_output_loss: 0.0274 - val_foodcategory_output_loss: 3.7993 - val_vegan_output_loss: 0.4450 - val_ingredient_output_get_f1: 0.4036 - val_ingredient_output_top5_acc: 0.5999 - val_foodcategory_output_get_f1: 0.6123 - val_foodcategory_output_top5_acc: 0.7937 - val_vegan_output_get_f1: 0.9074 - val_vegan_output_top5_acc: 1.0000\n"
          ],
          "name": "stdout"
        },
        {
          "output_type": "execute_result",
          "data": {
            "text/plain": [
              "<keras.callbacks.History at 0x7fb8c6e2efd0>"
            ]
          },
          "metadata": {
            "tags": []
          },
          "execution_count": 35
        }
      ]
    },
    {
      "cell_type": "code",
      "metadata": {
        "colab_type": "code",
        "outputId": "dab63f36-f68f-46c5-c74b-ba3db2fdb282",
        "id": "GPhYoXyInPA8",
        "colab": {
          "base_uri": "https://localhost:8080/",
          "height": 101
        }
      },
      "source": [
        "## prediction on test\n",
        "\n",
        "\n",
        "results = model_A1.evaluate(test_X, [test_Y2,test_Y1,test_Y3], batch_size=128)\n",
        "#print(results)\n",
        "print('Ingredient F1:', results[4])\n",
        "print('Food Top5:', results[7])\n",
        "print('Vegan F1:', results[8])\n",
        "\n",
        "print('Generate predictions for all samples')\n",
        "predictions = model_A1.predict(test_X)\n",
        "\n",
        "\n",
        "predictions_ingredients=1*(predictions[0] >= 0.5)\n",
        "predictions_vegan=1*(predictions[2] >= 0.5)\n",
        "#predictions_ingredients"
      ],
      "execution_count": 36,
      "outputs": [
        {
          "output_type": "stream",
          "text": [
            "33154/33154 [==============================] - 9s 270us/step\n",
            "Ingredient F1: 0.3923068691840353\n",
            "Food Top5: 0.792543886107257\n",
            "Vegan F1: 0.8454738966898169\n",
            "Generate predictions for all samples\n"
          ],
          "name": "stdout"
        }
      ]
    },
    {
      "cell_type": "code",
      "metadata": {
        "colab_type": "code",
        "outputId": "de03f05c-4d76-4f77-c27c-26769b468dec",
        "id": "PcaZ9PbbnPA_",
        "colab": {
          "base_uri": "https://localhost:8080/",
          "height": 1000
        }
      },
      "source": [
        "from sklearn.metrics import classification_report\n",
        "print(classification_report(test_Y2, predictions_ingredients))"
      ],
      "execution_count": 37,
      "outputs": [
        {
          "output_type": "stream",
          "text": [
            "              precision    recall  f1-score   support\n",
            "\n",
            "           0       0.75      0.08      0.15      6698\n",
            "           1       0.65      0.20      0.31       666\n",
            "           2       0.00      0.00      0.00       731\n",
            "           3       0.72      0.38      0.49       144\n",
            "           4       0.70      0.47      0.56       435\n",
            "           5       0.00      0.00      0.00        10\n",
            "           6       0.00      0.00      0.00        24\n",
            "           7       0.00      0.00      0.00        46\n",
            "           8       0.66      0.26      0.37       868\n",
            "           9       0.00      0.00      0.00       365\n",
            "          10       0.00      0.00      0.00        41\n",
            "          11       0.71      0.11      0.20       699\n",
            "          12       0.41      0.04      0.08       387\n",
            "          13       0.64      0.07      0.12      1639\n",
            "          14       0.00      0.00      0.00        76\n",
            "          15       0.81      0.10      0.18      4353\n",
            "          16       0.40      0.06      0.10      1138\n",
            "          17       0.72      0.10      0.18      1570\n",
            "          18       0.00      0.00      0.00        41\n",
            "          19       0.17      0.01      0.02        99\n",
            "          20       0.86      0.40      0.55       218\n",
            "          21       0.49      0.00      0.01      3886\n",
            "          22       0.72      0.39      0.51       187\n",
            "          23       0.00      0.00      0.00         7\n",
            "          24       0.96      0.34      0.51       493\n",
            "          25       0.00      0.00      0.00        78\n",
            "          26       0.00      0.00      0.00       213\n",
            "          27       0.64      0.01      0.01      1370\n",
            "          28       0.00      0.00      0.00        49\n",
            "          29       0.89      0.25      0.40       460\n",
            "          30       0.00      0.00      0.00       101\n",
            "          31       0.71      0.50      0.59       267\n",
            "          32       0.00      0.00      0.00       315\n",
            "          33       0.94      0.41      0.57       255\n",
            "          34       0.00      0.00      0.00        18\n",
            "          35       0.00      0.00      0.00         9\n",
            "          36       0.00      0.00      0.00         6\n",
            "          37       0.00      0.00      0.00        17\n",
            "          38       0.00      0.00      0.00        18\n",
            "          39       0.67      0.27      0.39       222\n",
            "          40       0.00      0.00      0.00        48\n",
            "          41       0.94      0.85      0.90       201\n",
            "          42       0.00      0.00      0.00        88\n",
            "          43       0.00      0.00      0.00       303\n",
            "          44       0.00      0.00      0.00        17\n",
            "          45       0.00      0.00      0.00        47\n",
            "          46       0.78      0.26      0.39       970\n",
            "          47       0.60      0.05      0.09        64\n",
            "          48       0.00      0.00      0.00        86\n",
            "          49       0.82      0.27      0.41       361\n",
            "          50       0.00      0.00      0.00        16\n",
            "          51       0.78      0.29      0.42       635\n",
            "          52       0.92      0.89      0.90       221\n",
            "          53       0.66      0.08      0.14       325\n",
            "          54       0.00      0.00      0.00        95\n",
            "          55       0.46      0.21      0.29       269\n",
            "          56       1.00      0.02      0.04       548\n",
            "          57       0.68      0.28      0.40       466\n",
            "          58       0.72      0.09      0.15      3241\n",
            "          59       0.70      0.12      0.20      1103\n",
            "          60       0.72      0.19      0.30       314\n",
            "          61       0.00      0.00      0.00        24\n",
            "          62       0.68      0.13      0.22       202\n",
            "          63       0.77      0.15      0.25      1003\n",
            "          64       0.00      0.00      0.00         5\n",
            "          65       0.00      0.00      0.00       154\n",
            "          66       0.22      0.03      0.05       171\n",
            "          67       0.00      0.00      0.00        39\n",
            "          68       0.83      0.52      0.64      1684\n",
            "          69       0.88      0.11      0.20       125\n",
            "          70       0.33      0.03      0.06        61\n",
            "          71       0.83      0.14      0.24       138\n",
            "          72       0.00      0.00      0.00         5\n",
            "          73       0.65      0.53      0.58       249\n",
            "          74       0.51      0.27      0.35       196\n",
            "          75       0.92      0.86      0.89       221\n",
            "          76       0.94      0.63      0.76       145\n",
            "          77       0.00      0.00      0.00        25\n",
            "          78       0.00      0.00      0.00         9\n",
            "          79       0.00      0.00      0.00        16\n",
            "          80       0.41      0.18      0.25       305\n",
            "          81       0.76      0.41      0.53      1415\n",
            "          82       0.74      0.46      0.57      1147\n",
            "          83       0.75      0.33      0.46      1669\n",
            "          84       0.50      0.15      0.23       795\n",
            "          85       0.69      0.28      0.40       337\n",
            "          86       0.77      0.08      0.14       132\n",
            "          87       0.19      0.19      0.19        36\n",
            "          88       0.00      0.00      0.00        22\n",
            "          89       0.72      0.66      0.69       179\n",
            "          90       0.57      0.10      0.17       680\n",
            "          91       0.00      0.00      0.00        40\n",
            "          92       0.97      0.23      0.37       317\n",
            "          93       0.00      0.00      0.00         5\n",
            "          94       0.37      0.02      0.03       554\n",
            "          95       0.78      0.10      0.18      1936\n",
            "          96       0.62      0.11      0.18        47\n",
            "          97       0.95      0.12      0.21       326\n",
            "          98       0.67      0.02      0.04       209\n",
            "          99       0.00      0.00      0.00        33\n",
            "         100       0.00      0.00      0.00         9\n",
            "         101       0.82      0.05      0.09       197\n",
            "         102       0.71      0.25      0.37       210\n",
            "         103       0.00      0.00      0.00         3\n",
            "         104       0.90      0.16      0.27       120\n",
            "         105       0.98      0.70      0.82        93\n",
            "         106       0.00      0.00      0.00         2\n",
            "         107       0.00      0.00      0.00        17\n",
            "         108       0.81      0.37      0.51       171\n",
            "         109       0.84      0.14      0.24       342\n",
            "         110       0.00      0.00      0.00        13\n",
            "         111       0.00      0.00      0.00         9\n",
            "         112       0.30      0.02      0.04       138\n",
            "         113       0.93      0.44      0.60      1817\n",
            "         114       0.95      0.42      0.58       135\n",
            "         115       0.00      0.00      0.00         4\n",
            "         116       0.00      0.00      0.00         4\n",
            "         117       0.00      0.00      0.00        43\n",
            "         118       0.98      0.70      0.82        93\n",
            "         119       0.00      0.00      0.00        14\n",
            "         120       0.42      0.33      0.37        66\n",
            "         121       0.83      0.53      0.64      1051\n",
            "         122       0.52      0.52      0.52      1130\n",
            "         123       1.00      0.20      0.33       309\n",
            "         124       0.79      0.55      0.65       174\n",
            "         125       0.83      0.35      0.49      1113\n",
            "         126       0.00      0.00      0.00        16\n",
            "         127       0.00      0.00      0.00        11\n",
            "         128       0.62      0.46      0.53       241\n",
            "         129       0.67      0.15      0.25       156\n",
            "         130       0.67      0.41      0.51      1009\n",
            "         131       0.00      0.00      0.00        43\n",
            "         132       0.95      0.79      0.87       281\n",
            "         133       0.50      0.10      0.16       257\n",
            "         134       0.00      0.00      0.00        46\n",
            "         135       0.70      0.51      0.59      2134\n",
            "         136       0.62      0.28      0.38       443\n",
            "         137       0.00      0.00      0.00        33\n",
            "         138       0.68      0.32      0.44       343\n",
            "         139       0.00      0.00      0.00        23\n",
            "         140       0.31      0.03      0.05       289\n",
            "         141       0.92      0.21      0.35       206\n",
            "         142       0.81      0.50      0.62       218\n",
            "         143       0.00      0.00      0.00        85\n",
            "         144       0.96      0.40      0.57       173\n",
            "         145       0.00      0.00      0.00        38\n",
            "         146       0.66      0.43      0.52       419\n",
            "         147       0.00      0.00      0.00         5\n",
            "         148       0.97      0.15      0.26       217\n",
            "         149       0.75      0.63      0.69       193\n",
            "         150       0.85      0.58      0.69       106\n",
            "         151       0.41      0.06      0.11       143\n",
            "         152       0.00      0.00      0.00        39\n",
            "         153       0.00      0.00      0.00         2\n",
            "         154       0.00      0.00      0.00        24\n",
            "         155       0.72      0.60      0.65       163\n",
            "         156       0.78      0.14      0.23       330\n",
            "         157       0.75      0.03      0.06        90\n",
            "         158       0.70      0.46      0.55       848\n",
            "         159       0.96      0.49      0.65       176\n",
            "         160       0.00      0.00      0.00        40\n",
            "         161       0.73      0.47      0.57       300\n",
            "         162       0.99      0.38      0.55       454\n",
            "         163       0.00      0.00      0.00        14\n",
            "         164       0.00      0.00      0.00        31\n",
            "         165       0.00      0.00      0.00         3\n",
            "         166       0.00      0.00      0.00        13\n",
            "         167       0.00      0.00      0.00         2\n",
            "         168       0.00      0.00      0.00        17\n",
            "         169       0.00      0.00      0.00         8\n",
            "         170       0.25      0.16      0.19        57\n",
            "         171       0.92      0.62      0.74       172\n",
            "         172       0.60      0.43      0.50       966\n",
            "         173       0.67      0.46      0.55       503\n",
            "         174       0.57      0.31      0.40       243\n",
            "         175       0.00      0.00      0.00        25\n",
            "         176       0.00      0.00      0.00        14\n",
            "         177       0.70      0.68      0.69       205\n",
            "         178       0.52      0.11      0.18       237\n",
            "         179       0.00      0.00      0.00        25\n",
            "         180       0.69      0.35      0.47       230\n",
            "         181       0.86      0.35      0.49       194\n",
            "         182       0.00      0.00      0.00        26\n",
            "         183       0.00      0.00      0.00        19\n",
            "         184       0.74      0.14      0.23       454\n",
            "         185       0.79      0.10      0.18       109\n",
            "         186       0.00      0.00      0.00         2\n",
            "         187       0.87      0.55      0.68       119\n",
            "         188       0.39      0.35      0.37        74\n",
            "         189       0.83      0.48      0.60       233\n",
            "         190       0.95      0.53      0.68       209\n",
            "         191       0.00      0.00      0.00         3\n",
            "         192       0.35      0.14      0.21       138\n",
            "         193       0.00      0.00      0.00        33\n",
            "         194       0.00      0.00      0.00        38\n",
            "         195       0.45      0.11      0.17       157\n",
            "         196       0.85      0.09      0.16       253\n",
            "         197       0.64      0.07      0.13        99\n",
            "         198       0.85      0.43      0.57       164\n",
            "         199       0.00      0.00      0.00         4\n",
            "         200       0.95      0.53      0.68       304\n",
            "         201       0.71      0.58      0.64       185\n",
            "         202       0.60      0.16      0.25       250\n",
            "         203       0.28      0.05      0.08       110\n",
            "         204       0.65      0.33      0.44       102\n",
            "         205       0.93      0.82      0.87       258\n",
            "         206       0.00      0.00      0.00        27\n",
            "         207       0.86      0.28      0.42       211\n",
            "         208       0.83      0.05      0.09       108\n",
            "         209       0.00      0.00      0.00        25\n",
            "         210       0.84      0.49      0.62       397\n",
            "         211       0.87      0.73      0.79       248\n",
            "         212       0.00      0.00      0.00        16\n",
            "         213       0.92      0.62      0.74       149\n",
            "         214       0.00      0.00      0.00         5\n",
            "         215       0.00      0.00      0.00        12\n",
            "         216       0.94      0.27      0.42       111\n",
            "         217       0.89      0.24      0.38       423\n",
            "         218       0.00      0.00      0.00         4\n",
            "         219       0.85      0.43      0.57       218\n",
            "         220       1.00      0.02      0.03        57\n",
            "         221       0.91      0.63      0.74       199\n",
            "         222       0.00      0.00      0.00        80\n",
            "         223       0.97      0.55      0.71       285\n",
            "         224       0.00      0.00      0.00        51\n",
            "         225       0.00      0.00      0.00         4\n",
            "         226       0.50      0.03      0.06        32\n",
            "         227       0.00      0.00      0.00        13\n",
            "         228       0.00      0.00      0.00         2\n",
            "         229       0.61      0.39      0.48       461\n",
            "         230       0.76      0.54      0.63       169\n",
            "         231       0.00      0.00      0.00        31\n",
            "         232       0.00      0.00      0.00         9\n",
            "         233       0.41      0.17      0.24       243\n",
            "         234       0.00      0.00      0.00         6\n",
            "         235       0.66      0.64      0.65       986\n",
            "         236       0.00      0.00      0.00        36\n",
            "         237       0.68      0.77      0.72       199\n",
            "         238       0.76      0.50      0.60       187\n",
            "         239       0.00      0.00      0.00        20\n",
            "         240       0.00      0.00      0.00        19\n",
            "         241       0.50      0.01      0.02       370\n",
            "         242       0.00      0.00      0.00        17\n",
            "         243       0.00      0.00      0.00         4\n",
            "         244       0.00      0.00      0.00         1\n",
            "         245       0.77      0.07      0.13       138\n",
            "         246       0.77      0.62      0.69       574\n",
            "         247       0.05      0.01      0.02        68\n",
            "         248       0.83      0.62      0.71       751\n",
            "         249       0.00      0.00      0.00        65\n",
            "         250       0.72      0.55      0.62       525\n",
            "         251       0.00      0.00      0.00         7\n",
            "         252       0.56      0.57      0.57       300\n",
            "         253       0.00      0.00      0.00        60\n",
            "         254       0.59      0.36      0.44       354\n",
            "         255       0.87      0.77      0.82       243\n",
            "         256       0.84      0.42      0.56       184\n",
            "         257       0.83      0.52      0.64       283\n",
            "         258       0.00      0.00      0.00       102\n",
            "         259       0.00      0.00      0.00         4\n",
            "         260       0.88      0.31      0.46       205\n",
            "         261       0.00      0.00      0.00        32\n",
            "         262       0.00      0.00      0.00        40\n",
            "         263       0.00      0.00      0.00         7\n",
            "         264       1.00      0.01      0.01       429\n",
            "         265       0.91      0.09      0.17       109\n",
            "         266       0.79      0.10      0.18       107\n",
            "         267       0.67      0.30      0.42       146\n",
            "         268       0.00      0.00      0.00        56\n",
            "         269       0.92      0.35      0.51       156\n",
            "         270       0.00      0.00      0.00        73\n",
            "         271       0.14      0.01      0.02       147\n",
            "         272       0.00      0.00      0.00        34\n",
            "         273       0.92      0.53      0.67       130\n",
            "         274       0.81      0.66      0.73      2078\n",
            "         275       0.00      0.00      0.00        73\n",
            "         276       0.00      0.00      0.00        12\n",
            "         277       0.00      0.00      0.00        68\n",
            "         278       0.55      0.04      0.08      1230\n",
            "         279       0.91      0.41      0.57       124\n",
            "         280       0.00      0.00      0.00         2\n",
            "         281       0.11      0.06      0.08        99\n",
            "         282       0.90      0.17      0.29       103\n",
            "         283       0.00      0.00      0.00        77\n",
            "         284       0.96      0.82      0.88       287\n",
            "         285       0.19      0.46      0.27        67\n",
            "         286       0.69      0.37      0.48       298\n",
            "         287       0.00      0.00      0.00         7\n",
            "         288       0.84      0.66      0.74       256\n",
            "         289       0.21      0.16      0.18        56\n",
            "         290       0.00      0.00      0.00         5\n",
            "         291       0.33      0.02      0.04        54\n",
            "         292       1.00      0.01      0.02        91\n",
            "         293       1.00      0.02      0.04        94\n",
            "         294       0.70      0.26      0.38       427\n",
            "         295       0.83      0.53      0.64       685\n",
            "         296       0.25      0.01      0.02       115\n",
            "         297       0.88      0.62      0.73       152\n",
            "         298       0.00      0.00      0.00         4\n",
            "         299       0.95      0.77      0.85       148\n",
            "         300       0.86      0.61      0.71       137\n",
            "         301       0.47      0.20      0.28       350\n",
            "         302       0.67      0.02      0.04        94\n",
            "         303       0.80      0.44      0.57       187\n",
            "         304       0.00      0.00      0.00        19\n",
            "         305       0.00      0.00      0.00        23\n",
            "         306       0.98      0.78      0.87        60\n",
            "         307       0.00      0.00      0.00         9\n",
            "         308       0.00      0.00      0.00         2\n",
            "         309       0.63      0.38      0.47       176\n",
            "         310       0.00      0.00      0.00         9\n",
            "         311       0.00      0.00      0.00        33\n",
            "         312       0.00      0.00      0.00         9\n",
            "         313       0.00      0.00      0.00         8\n",
            "         314       0.00      0.00      0.00         2\n",
            "         315       0.00      0.00      0.00        76\n",
            "         316       0.00      0.00      0.00         8\n",
            "         317       0.96      0.65      0.77       114\n",
            "         318       0.91      0.67      0.78       159\n",
            "         319       0.00      0.00      0.00         4\n",
            "         320       0.82      0.55      0.66       140\n",
            "         321       0.00      0.00      0.00        29\n",
            "         322       0.96      0.58      0.72       168\n",
            "         323       0.83      0.64      0.72       147\n",
            "         324       0.84      0.51      0.63       286\n",
            "         325       0.49      0.29      0.37       228\n",
            "         326       0.81      0.52      0.63       157\n",
            "         327       0.56      0.16      0.25       267\n",
            "         328       0.71      0.44      0.54       707\n",
            "         329       0.84      0.72      0.78       305\n",
            "         330       0.78      0.59      0.67       238\n",
            "         331       0.81      0.67      0.73       256\n",
            "         332       0.00      0.00      0.00         5\n",
            "         333       0.56      0.26      0.35       262\n",
            "         334       0.00      0.00      0.00        15\n",
            "         335       0.93      0.55      0.69       162\n",
            "         336       0.88      0.61      0.72       300\n",
            "         337       0.00      0.00      0.00        34\n",
            "         338       0.87      0.42      0.57       224\n",
            "         339       0.96      0.43      0.59       175\n",
            "         340       0.72      0.70      0.71       175\n",
            "         341       0.00      0.00      0.00        19\n",
            "         342       0.59      0.40      0.48        92\n",
            "         343       0.25      0.14      0.18        28\n",
            "         344       0.58      0.55      0.56        97\n",
            "         345       0.96      0.80      0.87       219\n",
            "         346       0.00      0.00      0.00        13\n",
            "         347       0.00      0.00      0.00        48\n",
            "         348       0.69      0.54      0.61       191\n",
            "         349       0.63      0.73      0.68       214\n",
            "         350       0.95      0.63      0.76       143\n",
            "         351       0.00      0.00      0.00        25\n",
            "         352       0.00      0.00      0.00         2\n",
            "\n",
            "   micro avg       0.74      0.28      0.40     99692\n",
            "   macro avg       0.44      0.21      0.26     99692\n",
            "weighted avg       0.68      0.28      0.35     99692\n",
            " samples avg       0.46      0.31      0.35     99692\n",
            "\n"
          ],
          "name": "stdout"
        },
        {
          "output_type": "stream",
          "text": [
            "/usr/local/lib/python3.6/dist-packages/sklearn/metrics/classification.py:1437: UndefinedMetricWarning: Precision and F-score are ill-defined and being set to 0.0 in labels with no predicted samples.\n",
            "  'precision', 'predicted', average, warn_for)\n",
            "/usr/local/lib/python3.6/dist-packages/sklearn/metrics/classification.py:1437: UndefinedMetricWarning: Precision and F-score are ill-defined and being set to 0.0 in samples with no predicted labels.\n",
            "  'precision', 'predicted', average, warn_for)\n"
          ],
          "name": "stderr"
        }
      ]
    },
    {
      "cell_type": "code",
      "metadata": {
        "id": "3eFQ6hnSSXPo",
        "colab_type": "code",
        "outputId": "06f167a9-3959-492b-d2ef-924942d4e302",
        "colab": {
          "base_uri": "https://localhost:8080/",
          "height": 168
        }
      },
      "source": [
        "print(classification_report(test_Y3, predictions_vegan))"
      ],
      "execution_count": 38,
      "outputs": [
        {
          "output_type": "stream",
          "text": [
            "              precision    recall  f1-score   support\n",
            "\n",
            "           0       0.81      0.48      0.60      6666\n",
            "           1       0.88      0.97      0.92     26488\n",
            "\n",
            "    accuracy                           0.87     33154\n",
            "   macro avg       0.84      0.73      0.76     33154\n",
            "weighted avg       0.87      0.87      0.86     33154\n",
            "\n"
          ],
          "name": "stdout"
        }
      ]
    },
    {
      "cell_type": "code",
      "metadata": {
        "id": "dp1CEsxl4wOs",
        "colab_type": "code",
        "colab": {}
      },
      "source": [
        ""
      ],
      "execution_count": 0,
      "outputs": []
    }
  ]
}