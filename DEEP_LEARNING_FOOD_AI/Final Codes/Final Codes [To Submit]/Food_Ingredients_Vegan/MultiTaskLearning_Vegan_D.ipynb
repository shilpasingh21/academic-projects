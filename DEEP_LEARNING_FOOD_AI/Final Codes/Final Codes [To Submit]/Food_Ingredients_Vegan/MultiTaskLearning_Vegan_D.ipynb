{
  "nbformat": 4,
  "nbformat_minor": 0,
  "metadata": {
    "colab": {
      "name": "MultiTaskLearning_Vegan_D.ipynb",
      "provenance": [],
      "collapsed_sections": [],
      "machine_shape": "hm"
    },
    "kernelspec": {
      "name": "python3",
      "display_name": "Python 3"
    },
    "accelerator": "GPU"
  },
  "cells": [
    {
      "cell_type": "code",
      "metadata": {
        "id": "MSL_1hddd-Fp",
        "colab_type": "code",
        "colab": {}
      },
      "source": [
        "from google.colab import drive,files"
      ],
      "execution_count": 0,
      "outputs": []
    },
    {
      "cell_type": "code",
      "metadata": {
        "id": "s03xL2HmfQwY",
        "colab_type": "code",
        "outputId": "48e3061a-b23c-4a01-93f7-fd5316851635",
        "colab": {
          "base_uri": "https://localhost:8080/",
          "height": 122
        }
      },
      "source": [
        "drive.mount('/content/gdrive')"
      ],
      "execution_count": 3,
      "outputs": [
        {
          "output_type": "stream",
          "text": [
            "Go to this URL in a browser: https://accounts.google.com/o/oauth2/auth?client_id=947318989803-6bn6qk8qdgf4n4g3pfee6491hc0brc4i.apps.googleusercontent.com&redirect_uri=urn%3aietf%3awg%3aoauth%3a2.0%3aoob&response_type=code&scope=email%20https%3a%2f%2fwww.googleapis.com%2fauth%2fdocs.test%20https%3a%2f%2fwww.googleapis.com%2fauth%2fdrive%20https%3a%2f%2fwww.googleapis.com%2fauth%2fdrive.photos.readonly%20https%3a%2f%2fwww.googleapis.com%2fauth%2fpeopleapi.readonly\n",
            "\n",
            "Enter your authorization code:\n",
            "··········\n",
            "Mounted at /content/gdrive\n"
          ],
          "name": "stdout"
        }
      ]
    },
    {
      "cell_type": "code",
      "metadata": {
        "id": "CaR7YECifYlg",
        "colab_type": "code",
        "colab": {
          "base_uri": "https://localhost:8080/",
          "height": 34
        },
        "outputId": "5dab53f7-c3b2-49d5-cedd-b30ef85abbff"
      },
      "source": [
        "# Imports go here\n",
        "import pickle\n",
        "import numpy as np\n",
        "from keras.utils import plot_model\n",
        "from keras.models import Sequential\n",
        "from keras.models import Model\n",
        "from keras.optimizers import Adam\n",
        "from keras.optimizers import Nadam\n",
        "import matplotlib.pyplot as plt\n",
        "import numpy as np\n",
        "import keras\n",
        "from keras.layers import Dense\n",
        "from keras.layers import Input\n",
        "from keras.layers import Dropout\n",
        "from keras.layers import Flatten\n",
        "from keras.layers import Dense, Activation,BatchNormalization\n",
        "import pandas as pd\n",
        "from keras.layers import Conv2D, MaxPooling2D\n",
        "from keras import backend as K\n",
        "from sklearn.model_selection import GridSearchCV\n",
        "from sklearn.metrics import classification_report"
      ],
      "execution_count": 4,
      "outputs": [
        {
          "output_type": "stream",
          "text": [
            "Using TensorFlow backend.\n"
          ],
          "name": "stderr"
        }
      ]
    },
    {
      "cell_type": "code",
      "metadata": {
        "id": "3fxklw6lQvji",
        "colab_type": "code",
        "colab": {}
      },
      "source": [
        "# dir path\n",
        "datadirpath = 'gdrive/My Drive/DL Project/Data/ready_chinese_food'\n",
        "labeldirpath = 'gdrive/My Drive/DL Project/Data/SplitAndIngreLabel/IngreLabel.txt'\n",
        "IngredientList = 'gdrive/My Drive/DL Project/Data/SplitAndIngreLabel/IngredientList.txt'\n",
        "IngredientTypeSheet = 'gdrive/My Drive/DL Project/Data/SplitAndIngreLabel/IngredientType.xlsx'\n",
        "\n",
        "trainlistpath = 'gdrive/My Drive/DL Project/Data/SplitAndIngreLabel/TR.txt'\n",
        "vallistpath = 'gdrive/My Drive/DL Project/Data/SplitAndIngreLabel/VAL.txt'\n",
        "testlistpath = 'gdrive/My Drive/DL Project/Data/SplitAndIngreLabel/TE.txt'\n",
        "\n",
        "pickletraindata_X = 'gdrive/My Drive/DL Project/PickleFiles/vgg_features_train_full.pkl'\n",
        "picklevaldata_X = 'gdrive/My Drive/DL Project/PickleFiles/vgg_features_val_full.pkl'\n",
        "pickletestdata_X = 'gdrive/My Drive/DL Project/PickleFiles/vgg_features_test_full.pkl'\n",
        "\n",
        "pickletraindata_Y1 = 'gdrive/My Drive/DL Project/PickleFiles/pickleTrainFull_Y1.pkl'\n",
        "picklevaldata_Y1 = 'gdrive/My Drive/DL Project/PickleFiles/pickleValFull_Y1.pkl'\n",
        "pickletestdata_Y1 = 'gdrive/My Drive/DL Project/PickleFiles/pickleTestFull_Y1.pkl'\n",
        "\n",
        "pickletraindata_Y2 = 'gdrive/My Drive/DL Project/PickleFiles/pickleTrainFull_Y2.pkl'\n",
        "picklevaldata_Y2 = 'gdrive/My Drive/DL Project/PickleFiles/pickleValFull_Y2.pkl'\n",
        "pickletestdata_Y2 = 'gdrive/My Drive/DL Project/PickleFiles/pickleTestFull_Y2.pkl'\n",
        "\n",
        "pickletraindata_Y3 = 'gdrive/My Drive/DL Project/PickleFiles/pickleTrainFull_Y3.pkl'\n",
        "picklevaldata_Y3 = 'gdrive/My Drive/DL Project/PickleFiles/pickleValFull_Y3.pkl'\n",
        "pickletestdata_Y3 = 'gdrive/My Drive/DL Project/PickleFiles/pickleTestFull_Y3.pkl'\n",
        "\n",
        "credentialFile = 'gdrive/My Drive/DL Project/Credentials/Food-Ingredient-cred.json'\n",
        "#pickleModelC_IngFood.pkl\n",
        "#Models Pickled\n",
        "pickleModelA1_IngFood = 'gdrive/My Drive/DL Project/PickleFiles/pickleModelA1_IngFood.pkl'\n",
        "\n",
        "pickletraindata_X_new= 'gdrive/My Drive/DL Project/PickleFiles/vgg_features_train_balancedfull.pkl'\n",
        "\n",
        "pickletraindata_Y1_new = 'gdrive/My Drive/DL Project/PickleFiles/pickleTrainBalanced_Y1full.pkl'\n",
        "\n",
        "pickletraindata_Y2_new = 'gdrive/My Drive/DL Project/PickleFiles/pickleTrainBalanced_Y2full.pkl'\n",
        "\n",
        "pickletraindata_Y3_new = 'gdrive/My Drive/DL Project/PickleFiles/pickleTrainBalanced_Y3full.pkl'\n",
        "\n"
      ],
      "execution_count": 0,
      "outputs": []
    },
    {
      "cell_type": "code",
      "metadata": {
        "id": "rGpQVnlxNDwZ",
        "colab_type": "code",
        "outputId": "879fabfb-5638-4550-b88f-22d31b398264",
        "colab": {
          "base_uri": "https://localhost:8080/",
          "height": 54
        }
      },
      "source": [
        "'''train_X = pickle.load(open(pickletraindata_X_new,'rb'))\n",
        "train_Y1 = pickle.load(open(pickletraindata_Y1_new,'rb'))\n",
        "train_Y2 = pickle.load(open(pickletraindata_Y2_new,'rb'))\n",
        "train_Y3 = pickle.load(open(pickletraindata_Y3_new,'rb'))'''"
      ],
      "execution_count": 6,
      "outputs": [
        {
          "output_type": "execute_result",
          "data": {
            "text/plain": [
              "\"train_X = pickle.load(open(pickletraindata_X_new,'rb'))\\ntrain_Y1 = pickle.load(open(pickletraindata_Y1_new,'rb'))\\ntrain_Y2 = pickle.load(open(pickletraindata_Y2_new,'rb'))\\ntrain_Y3 = pickle.load(open(pickletraindata_Y3_new,'rb'))\""
            ]
          },
          "metadata": {
            "tags": []
          },
          "execution_count": 6
        }
      ]
    },
    {
      "cell_type": "code",
      "metadata": {
        "id": "_ciOY68gNj0q",
        "colab_type": "code",
        "colab": {}
      },
      "source": [
        "#len(train_X),len(train_X[0]),len(train_X[0][0]),len(train_X[0][0][0]),len(train_X[0][0][0][0]),len(train_Y1),len(train_Y2),len(train_Y3)"
      ],
      "execution_count": 0,
      "outputs": []
    },
    {
      "cell_type": "markdown",
      "metadata": {
        "id": "7JJ1ntQqZ4fQ",
        "colab_type": "text"
      },
      "source": [
        "Loading train_X"
      ]
    },
    {
      "cell_type": "code",
      "metadata": {
        "id": "RM_eCqAbQx8P",
        "colab_type": "code",
        "outputId": "ab654902-4509-44bd-adf0-03a18834f598",
        "colab": {
          "base_uri": "https://localhost:8080/",
          "height": 34
        }
      },
      "source": [
        "train_X = pickle.load(open(pickletraindata_X_new, 'rb' ))\n",
        "train_X = np.array(train_X)\n",
        "print(train_X.shape)"
      ],
      "execution_count": 8,
      "outputs": [
        {
          "output_type": "stream",
          "text": [
            "(80000, 1, 7, 7, 512)\n"
          ],
          "name": "stdout"
        }
      ]
    },
    {
      "cell_type": "code",
      "metadata": {
        "id": "TYf9o8Tykikg",
        "colab_type": "code",
        "outputId": "324b7fea-7e52-4828-bd02-0402ee561caa",
        "colab": {
          "base_uri": "https://localhost:8080/",
          "height": 34
        }
      },
      "source": [
        "train_X=train_X.reshape(train_X.shape[0],7,7,512)\n",
        "print(train_X.shape)"
      ],
      "execution_count": 9,
      "outputs": [
        {
          "output_type": "stream",
          "text": [
            "(80000, 7, 7, 512)\n"
          ],
          "name": "stdout"
        }
      ]
    },
    {
      "cell_type": "markdown",
      "metadata": {
        "id": "_GhTSUa-Z8qQ",
        "colab_type": "text"
      },
      "source": [
        "Loading train_Y1"
      ]
    },
    {
      "cell_type": "code",
      "metadata": {
        "id": "BJhkgFrmQ4ri",
        "colab_type": "code",
        "outputId": "fbb8f226-a20f-4044-aac3-a13dbde2f5da",
        "colab": {
          "base_uri": "https://localhost:8080/",
          "height": 34
        }
      },
      "source": [
        "train_Y1 = pickle.load(open(pickletraindata_Y1_new, 'rb' ))\n",
        "train_Y1 = np.array(train_Y1)\n",
        "print(train_Y1.shape)"
      ],
      "execution_count": 10,
      "outputs": [
        {
          "output_type": "stream",
          "text": [
            "(80000, 172)\n"
          ],
          "name": "stdout"
        }
      ]
    },
    {
      "cell_type": "markdown",
      "metadata": {
        "id": "kud_Sk7TZ_58",
        "colab_type": "text"
      },
      "source": [
        "Loading train_Y2"
      ]
    },
    {
      "cell_type": "code",
      "metadata": {
        "id": "u7QHo4X7RRnM",
        "colab_type": "code",
        "outputId": "bedca738-861a-49b1-85dc-19d7c73bf91e",
        "colab": {
          "base_uri": "https://localhost:8080/",
          "height": 34
        }
      },
      "source": [
        "train_Y2_list = pickle.load(open(pickletraindata_Y2_new, 'rb' ))\n",
        "train_Y2 = np.array(train_Y2_list)\n",
        "\n",
        "for index in range(train_Y2.shape[0]):\n",
        "  templist = train_Y2[index]\n",
        "  templist_0 = [0 if x==-1 else x for x in templist]\n",
        "  train_Y2[index] = templist_0\n",
        "\n",
        "print(train_Y2.shape)"
      ],
      "execution_count": 11,
      "outputs": [
        {
          "output_type": "stream",
          "text": [
            "(80000, 353)\n"
          ],
          "name": "stdout"
        }
      ]
    },
    {
      "cell_type": "markdown",
      "metadata": {
        "id": "GfiIhMN6aFFP",
        "colab_type": "text"
      },
      "source": [
        "Loading val_X"
      ]
    },
    {
      "cell_type": "code",
      "metadata": {
        "id": "ixzFT6U4RWiB",
        "colab_type": "code",
        "outputId": "06f8398f-b2c9-4b88-99e8-d95e00c499e6",
        "colab": {
          "base_uri": "https://localhost:8080/",
          "height": 34
        }
      },
      "source": [
        "val_X = pickle.load(open(picklevaldata_X, 'rb' ))\n",
        "val_X = np.array(val_X)\n",
        "print(val_X.shape)"
      ],
      "execution_count": 12,
      "outputs": [
        {
          "output_type": "stream",
          "text": [
            "(11016, 1, 7, 7, 512)\n"
          ],
          "name": "stdout"
        }
      ]
    },
    {
      "cell_type": "code",
      "metadata": {
        "id": "AotWJBwxJLOt",
        "colab_type": "code",
        "outputId": "44b20735-378f-47ba-a162-42257df95624",
        "colab": {
          "base_uri": "https://localhost:8080/",
          "height": 34
        }
      },
      "source": [
        "val_X=val_X.reshape(val_X.shape[0],7,7,512)\n",
        "print(val_X.shape)"
      ],
      "execution_count": 13,
      "outputs": [
        {
          "output_type": "stream",
          "text": [
            "(11016, 7, 7, 512)\n"
          ],
          "name": "stdout"
        }
      ]
    },
    {
      "cell_type": "markdown",
      "metadata": {
        "id": "gVyc0KKUaI3H",
        "colab_type": "text"
      },
      "source": [
        "Loading val_Y1"
      ]
    },
    {
      "cell_type": "code",
      "metadata": {
        "id": "bk3orKueRbdx",
        "colab_type": "code",
        "outputId": "727c92fc-b1a4-4539-c210-92d787a89727",
        "colab": {
          "base_uri": "https://localhost:8080/",
          "height": 34
        }
      },
      "source": [
        "val_Y1 = pickle.load(open(picklevaldata_Y1, 'rb' ))\n",
        "val_Y1 = np.array(val_Y1)\n",
        "print(val_Y1.shape)"
      ],
      "execution_count": 14,
      "outputs": [
        {
          "output_type": "stream",
          "text": [
            "(11016, 172)\n"
          ],
          "name": "stdout"
        }
      ]
    },
    {
      "cell_type": "markdown",
      "metadata": {
        "id": "yypiFiEfaLg2",
        "colab_type": "text"
      },
      "source": [
        "Loading val_Y2"
      ]
    },
    {
      "cell_type": "code",
      "metadata": {
        "id": "keJhEX9BRgaZ",
        "colab_type": "code",
        "outputId": "f77e1aa3-aaa1-44c6-9fc3-750d02e769f2",
        "colab": {
          "base_uri": "https://localhost:8080/",
          "height": 34
        }
      },
      "source": [
        "val_Y2_list = pickle.load(open(picklevaldata_Y2, 'rb' ))\n",
        "val_Y2 = np.array(val_Y2_list)\n",
        "\n",
        "for index in range(val_Y2.shape[0]):\n",
        "  templist = val_Y2[index]\n",
        "  templist_0 = [0 if x==-1 else x for x in templist]\n",
        "  val_Y2[index] = templist_0\n",
        "  \n",
        "print(val_Y2.shape)"
      ],
      "execution_count": 15,
      "outputs": [
        {
          "output_type": "stream",
          "text": [
            "(11016, 353)\n"
          ],
          "name": "stdout"
        }
      ]
    },
    {
      "cell_type": "code",
      "metadata": {
        "id": "-aE-Q8SH8xiF",
        "colab_type": "code",
        "outputId": "946494f4-7007-4e48-8201-369e385df76e",
        "colab": {
          "base_uri": "https://localhost:8080/",
          "height": 85
        }
      },
      "source": [
        "# Loading test_X\n",
        "\n",
        "test_X = pickle.load(open(pickletestdata_X, 'rb' ))\n",
        "test_X = np.array(test_X)\n",
        "\n",
        "print(test_X.shape)\n",
        "test_X=test_X.reshape(test_X.shape[0],7,7,512)\n",
        "print(test_X.shape)\n",
        "\n",
        "# Loading test_Y1\n",
        "\n",
        "test_Y1_list = pickle.load(open(pickletestdata_Y1, 'rb' ))\n",
        "test_Y1 = np.array(test_Y1_list)\n",
        "print(test_Y1.shape)\n",
        "\n",
        "test_Y3 = pickle.load(open(pickletestdata_Y3,\"rb\"))\n",
        "# Loading test_Y2\n",
        "\n",
        "test_Y2_list = pickle.load(open(pickletestdata_Y2, 'rb' ))\n",
        "test_Y2 = np.array(test_Y2_list)\n",
        "\n",
        "for index in range(test_Y2.shape[0]):\n",
        "  templist = test_Y2[index]\n",
        "  templist_0 = [0 if x==-1 else x for x in templist]\n",
        "  test_Y2[index] = templist_0\n",
        "  \n",
        "print(test_Y2.shape)"
      ],
      "execution_count": 16,
      "outputs": [
        {
          "output_type": "stream",
          "text": [
            "(33154, 1, 7, 7, 512)\n",
            "(33154, 7, 7, 512)\n",
            "(33154, 172)\n",
            "(33154, 353)\n"
          ],
          "name": "stdout"
        }
      ]
    },
    {
      "cell_type": "code",
      "metadata": {
        "id": "Wai3yhIkNf88",
        "colab_type": "code",
        "colab": {}
      },
      "source": [
        "train_Y3 = np.array(pickle.load(open(pickletraindata_Y3_new,\"rb\")))\n",
        "val_Y3 = pickle.load(open(picklevaldata_Y3,\"rb\"))\n"
      ],
      "execution_count": 0,
      "outputs": []
    },
    {
      "cell_type": "code",
      "metadata": {
        "id": "dP5o6Wxjo3LX",
        "colab_type": "code",
        "colab": {}
      },
      "source": [
        "def get_f1(y_true, y_pred): #https://mc.ai/how-to-add-user-defined-function-get-f1-score-in-keras-metrics/\n",
        "  true_positives = K.sum(K.round(K.clip(y_true * y_pred, 0, 1)))\n",
        "  possible_positives = K.sum(K.round(K.clip(y_true, 0, 1)))\n",
        "  predicted_positives = K.sum(K.round(K.clip(y_pred, 0, 1)))\n",
        "  precision = true_positives / (predicted_positives + K.epsilon())\n",
        "  recall = true_positives / (possible_positives + K.epsilon())\n",
        "  f1_val = 2*(precision*recall)/(precision+recall+K.epsilon())\n",
        "  return f1_val\n",
        "\n"
      ],
      "execution_count": 0,
      "outputs": []
    },
    {
      "cell_type": "markdown",
      "metadata": {
        "id": "ipL1JaxKiGpF",
        "colab_type": "text"
      },
      "source": [
        "**Architecture D**"
      ]
    },
    {
      "cell_type": "code",
      "metadata": {
        "id": "TTddzUMmzY52",
        "colab_type": "code",
        "outputId": "5d8a6f78-bd1f-4711-ab22-d5cc7f3acc20",
        "colab": {
          "base_uri": "https://localhost:8080/",
          "height": 1000
        }
      },
      "source": [
        "import tensorflow as tf\n",
        "inputs = Input(shape=(7,7,512))\n",
        "inputs_1 = Flatten()(inputs)\n",
        " \n",
        "conv2D1 = Conv2D(2048, kernel_size=3, activation='relu',padding='same')(inputs)\n",
        "maxPool2D1 = MaxPooling2D(pool_size=(2,2),padding='same')(conv2D1)\n",
        "dropout1 = Dropout(0.5)(maxPool2D1)\n",
        "\n",
        "conv2D2 = Conv2D(1024, kernel_size=3, activation='relu',padding='same')(dropout1)\n",
        "maxPool2D2 = MaxPooling2D(pool_size=(2,2),padding='same')(conv2D2)\n",
        "dropout2 = Dropout(0.5)(maxPool2D2)\n",
        "\n",
        "conv2D3 = Conv2D(1024, kernel_size=3, activation='relu',padding='same')(dropout2)\n",
        "maxPool2D3 = MaxPooling2D(pool_size=(2,2),padding='same')(conv2D3)\n",
        "dropout3 = Dropout(0.5)(maxPool2D3)\n",
        "\n",
        "\n",
        "\n",
        "conv2D4 = Conv2D(1024, kernel_size=3, activation='relu',padding='same')(dropout3)\n",
        "maxPool2D4 = MaxPooling2D(pool_size=(2,2),padding='same')(conv2D4)\n",
        "dropout4 = Dropout(0.5)(maxPool2D4)\n",
        "\n",
        "conv2D5 = Conv2D(1024, kernel_size=3, activation='relu',padding='same')(dropout4)\n",
        "maxPool2D5 = MaxPooling2D(pool_size=(2,2),padding='same')(conv2D5)\n",
        "dropout5 = Dropout(0.7)(maxPool2D5)\n",
        "\n",
        "conv2D51 = Conv2D(1024, kernel_size=3, activation='relu',padding='same')(dropout5)\n",
        "maxPool2D51 = MaxPooling2D(pool_size=(2,2),padding='same')(conv2D51)\n",
        "dropout51 = Dropout(0.7)(maxPool2D51)\n",
        "\n",
        "\n",
        "\n",
        "conv2D6 = Conv2D(1024, kernel_size=3, activation='relu',padding='same')(dropout3)\n",
        "maxPool2D6 = MaxPooling2D(pool_size=(2,2),padding='same')(conv2D6)\n",
        "dropout6 = Dropout(0.5)(maxPool2D6)\n",
        "\n",
        "conv2D7 = Conv2D(512, kernel_size=3, activation='relu',padding='same')(dropout6)\n",
        "maxPool2D7 = MaxPooling2D(pool_size=(2,2),padding='same')(conv2D7)\n",
        "dropout7 = Dropout(0.5)(maxPool2D7)\n",
        "\n",
        "conv2D71 = Conv2D(512, kernel_size=3, activation='relu',padding='same')(dropout7)\n",
        "maxPool2D71 = MaxPooling2D(pool_size=(2,2),padding='same')(conv2D71)\n",
        "dropout71 = Dropout(0.5)(maxPool2D71)\n",
        "\n",
        "\n",
        "conv2D8 = Conv2D(1024, kernel_size=3, activation='relu',padding='same')(dropout3)\n",
        "maxPool2D8 = MaxPooling2D(pool_size=(2,2),padding='same')(conv2D8)\n",
        "dropout8 = Dropout(0.5)(maxPool2D8)\n",
        "\n",
        "conv2D9 = Conv2D(1024, kernel_size=3, activation='relu',padding='same')(dropout8)\n",
        "maxPool2D9 = MaxPooling2D(pool_size=(2,2),padding='same')(conv2D9)\n",
        "dropout9 = Dropout(0.5)(maxPool2D9)\n",
        "\n",
        "conv2D10 = Conv2D(512, kernel_size=3, activation='relu',padding='same')(dropout9)\n",
        "maxPool2D10 = MaxPooling2D(pool_size=(2,2),padding='same')(conv2D10)\n",
        "dropout10 = Dropout(0.5)(maxPool2D10)\n",
        "\n",
        "flattened1 = Flatten()(dropout51)\n",
        "flattened2 = Flatten()(dropout71)\n",
        "flattened3 = Flatten()(dropout10)\n",
        "\n",
        "output1 = Dense(353,activation='sigmoid',name='ingredient_output')(flattened1)  ##  Ingredient recognition\n",
        "output2 = Dense(172,activation='softmax',name='foodcategory_output')(flattened2) ##  Food categorization\n",
        "output3 = Dense(1,activation='sigmoid',name='vegan_output')(flattened3) ##  Vegan categorization\n",
        "\n",
        "model_C = Model(inputs=inputs, outputs=[output1,output2,output3]) # Defining model with Architecture A3\n",
        "print(model_C.summary()) # summarize layers\n",
        "plot_model(model_C, to_file='gdrive/My Drive/DL Project/Multi-task Vegan Architecture D.png') # plot graph"
      ],
      "execution_count": 28,
      "outputs": [
        {
          "output_type": "stream",
          "text": [
            "WARNING:tensorflow:Large dropout rate: 0.7 (>0.5). In TensorFlow 2.x, dropout() uses dropout rate instead of keep_prob. Please ensure that this is intended.\n",
            "WARNING:tensorflow:Large dropout rate: 0.7 (>0.5). In TensorFlow 2.x, dropout() uses dropout rate instead of keep_prob. Please ensure that this is intended.\n",
            "Model: \"model_2\"\n",
            "__________________________________________________________________________________________________\n",
            "Layer (type)                    Output Shape         Param #     Connected to                     \n",
            "==================================================================================================\n",
            "input_2 (InputLayer)            (None, 7, 7, 512)    0                                            \n",
            "__________________________________________________________________________________________________\n",
            "conv2d_13 (Conv2D)              (None, 7, 7, 2048)   9439232     input_2[0][0]                    \n",
            "__________________________________________________________________________________________________\n",
            "max_pooling2d_13 (MaxPooling2D) (None, 4, 4, 2048)   0           conv2d_13[0][0]                  \n",
            "__________________________________________________________________________________________________\n",
            "dropout_13 (Dropout)            (None, 4, 4, 2048)   0           max_pooling2d_13[0][0]           \n",
            "__________________________________________________________________________________________________\n",
            "conv2d_14 (Conv2D)              (None, 4, 4, 1024)   18875392    dropout_13[0][0]                 \n",
            "__________________________________________________________________________________________________\n",
            "max_pooling2d_14 (MaxPooling2D) (None, 2, 2, 1024)   0           conv2d_14[0][0]                  \n",
            "__________________________________________________________________________________________________\n",
            "dropout_14 (Dropout)            (None, 2, 2, 1024)   0           max_pooling2d_14[0][0]           \n",
            "__________________________________________________________________________________________________\n",
            "conv2d_15 (Conv2D)              (None, 2, 2, 1024)   9438208     dropout_14[0][0]                 \n",
            "__________________________________________________________________________________________________\n",
            "max_pooling2d_15 (MaxPooling2D) (None, 1, 1, 1024)   0           conv2d_15[0][0]                  \n",
            "__________________________________________________________________________________________________\n",
            "dropout_15 (Dropout)            (None, 1, 1, 1024)   0           max_pooling2d_15[0][0]           \n",
            "__________________________________________________________________________________________________\n",
            "conv2d_16 (Conv2D)              (None, 1, 1, 1024)   9438208     dropout_15[0][0]                 \n",
            "__________________________________________________________________________________________________\n",
            "conv2d_19 (Conv2D)              (None, 1, 1, 1024)   9438208     dropout_15[0][0]                 \n",
            "__________________________________________________________________________________________________\n",
            "conv2d_22 (Conv2D)              (None, 1, 1, 1024)   9438208     dropout_15[0][0]                 \n",
            "__________________________________________________________________________________________________\n",
            "max_pooling2d_16 (MaxPooling2D) (None, 1, 1, 1024)   0           conv2d_16[0][0]                  \n",
            "__________________________________________________________________________________________________\n",
            "max_pooling2d_19 (MaxPooling2D) (None, 1, 1, 1024)   0           conv2d_19[0][0]                  \n",
            "__________________________________________________________________________________________________\n",
            "max_pooling2d_22 (MaxPooling2D) (None, 1, 1, 1024)   0           conv2d_22[0][0]                  \n",
            "__________________________________________________________________________________________________\n",
            "dropout_16 (Dropout)            (None, 1, 1, 1024)   0           max_pooling2d_16[0][0]           \n",
            "__________________________________________________________________________________________________\n",
            "dropout_19 (Dropout)            (None, 1, 1, 1024)   0           max_pooling2d_19[0][0]           \n",
            "__________________________________________________________________________________________________\n",
            "dropout_22 (Dropout)            (None, 1, 1, 1024)   0           max_pooling2d_22[0][0]           \n",
            "__________________________________________________________________________________________________\n",
            "conv2d_17 (Conv2D)              (None, 1, 1, 1024)   9438208     dropout_16[0][0]                 \n",
            "__________________________________________________________________________________________________\n",
            "conv2d_20 (Conv2D)              (None, 1, 1, 512)    4719104     dropout_19[0][0]                 \n",
            "__________________________________________________________________________________________________\n",
            "conv2d_23 (Conv2D)              (None, 1, 1, 1024)   9438208     dropout_22[0][0]                 \n",
            "__________________________________________________________________________________________________\n",
            "max_pooling2d_17 (MaxPooling2D) (None, 1, 1, 1024)   0           conv2d_17[0][0]                  \n",
            "__________________________________________________________________________________________________\n",
            "max_pooling2d_20 (MaxPooling2D) (None, 1, 1, 512)    0           conv2d_20[0][0]                  \n",
            "__________________________________________________________________________________________________\n",
            "max_pooling2d_23 (MaxPooling2D) (None, 1, 1, 1024)   0           conv2d_23[0][0]                  \n",
            "__________________________________________________________________________________________________\n",
            "dropout_17 (Dropout)            (None, 1, 1, 1024)   0           max_pooling2d_17[0][0]           \n",
            "__________________________________________________________________________________________________\n",
            "dropout_20 (Dropout)            (None, 1, 1, 512)    0           max_pooling2d_20[0][0]           \n",
            "__________________________________________________________________________________________________\n",
            "dropout_23 (Dropout)            (None, 1, 1, 1024)   0           max_pooling2d_23[0][0]           \n",
            "__________________________________________________________________________________________________\n",
            "conv2d_18 (Conv2D)              (None, 1, 1, 1024)   9438208     dropout_17[0][0]                 \n",
            "__________________________________________________________________________________________________\n",
            "conv2d_21 (Conv2D)              (None, 1, 1, 512)    2359808     dropout_20[0][0]                 \n",
            "__________________________________________________________________________________________________\n",
            "conv2d_24 (Conv2D)              (None, 1, 1, 512)    4719104     dropout_23[0][0]                 \n",
            "__________________________________________________________________________________________________\n",
            "max_pooling2d_18 (MaxPooling2D) (None, 1, 1, 1024)   0           conv2d_18[0][0]                  \n",
            "__________________________________________________________________________________________________\n",
            "max_pooling2d_21 (MaxPooling2D) (None, 1, 1, 512)    0           conv2d_21[0][0]                  \n",
            "__________________________________________________________________________________________________\n",
            "max_pooling2d_24 (MaxPooling2D) (None, 1, 1, 512)    0           conv2d_24[0][0]                  \n",
            "__________________________________________________________________________________________________\n",
            "dropout_18 (Dropout)            (None, 1, 1, 1024)   0           max_pooling2d_18[0][0]           \n",
            "__________________________________________________________________________________________________\n",
            "dropout_21 (Dropout)            (None, 1, 1, 512)    0           max_pooling2d_21[0][0]           \n",
            "__________________________________________________________________________________________________\n",
            "dropout_24 (Dropout)            (None, 1, 1, 512)    0           max_pooling2d_24[0][0]           \n",
            "__________________________________________________________________________________________________\n",
            "flatten_6 (Flatten)             (None, 1024)         0           dropout_18[0][0]                 \n",
            "__________________________________________________________________________________________________\n",
            "flatten_7 (Flatten)             (None, 512)          0           dropout_21[0][0]                 \n",
            "__________________________________________________________________________________________________\n",
            "flatten_8 (Flatten)             (None, 512)          0           dropout_24[0][0]                 \n",
            "__________________________________________________________________________________________________\n",
            "ingredient_output (Dense)       (None, 353)          361825      flatten_6[0][0]                  \n",
            "__________________________________________________________________________________________________\n",
            "foodcategory_output (Dense)     (None, 172)          88236       flatten_7[0][0]                  \n",
            "__________________________________________________________________________________________________\n",
            "vegan_output (Dense)            (None, 1)            513         flatten_8[0][0]                  \n",
            "==================================================================================================\n",
            "Total params: 106,630,670\n",
            "Trainable params: 106,630,670\n",
            "Non-trainable params: 0\n",
            "__________________________________________________________________________________________________\n",
            "None\n"
          ],
          "name": "stdout"
        },
        {
          "output_type": "execute_result",
          "data": {
            "image/png": "[encoded data removed]",
            "text/plain": [
              "<IPython.core.display.Image object>"
            ]
          },
          "metadata": {
            "tags": []
          },
          "execution_count": 28
        }
      ]
    },
    {
      "cell_type": "code",
      "metadata": {
        "colab_type": "code",
        "id": "7ZGOI6FZiIq9",
        "colab": {}
      },
      "source": [
        "import functools\n",
        "top5_acc = functools.partial(keras.metrics.top_k_categorical_accuracy, k=5)\n",
        "\n",
        "top5_acc.__name__ = 'top5_acc'\n",
        "\n",
        "model_C.compile(optimizer=Adam(lr=0.00005),\n",
        "              loss={'ingredient_output': 'binary_crossentropy', 'vegan_output': 'binary_crossentropy', 'foodcategory_output': 'categorical_crossentropy'},\n",
        "              #loss_weights={'ingredient_output': 0.8, 'foodcategory_output': 0.2},\n",
        "              metrics=[get_f1,top5_acc])\n"
      ],
      "execution_count": 0,
      "outputs": []
    },
    {
      "cell_type": "code",
      "metadata": {
        "colab_type": "code",
        "outputId": "e7f81857-e70f-472d-a26e-3791eb0a98fa",
        "id": "evvIs4nUiIrC",
        "colab": {
          "base_uri": "https://localhost:8080/",
          "height": 1000
        }
      },
      "source": [
        "model_C.fit(train_X, [train_Y2,train_Y1,train_Y3], batch_size=256, epochs=50,validation_data = (val_X, [val_Y2, val_Y1, val_Y3]))"
      ],
      "execution_count": 30,
      "outputs": [
        {
          "output_type": "stream",
          "text": [
            "Train on 80000 samples, validate on 11016 samples\n",
            "Epoch 1/50\n",
            "80000/80000 [==============================] - 68s 856us/step - loss: 5.4594 - ingredient_output_loss: 0.1477 - foodcategory_output_loss: 4.9080 - vegan_output_loss: 0.4037 - ingredient_output_get_f1: 0.0232 - ingredient_output_top5_acc: 0.0662 - foodcategory_output_get_f1: 0.0000e+00 - foodcategory_output_top5_acc: 0.0819 - vegan_output_get_f1: 0.7389 - vegan_output_top5_acc: 1.0000 - val_loss: 5.7077 - val_ingredient_output_loss: 0.1310 - val_foodcategory_output_loss: 5.1179 - val_vegan_output_loss: 0.4588 - val_ingredient_output_get_f1: 0.0000e+00 - val_ingredient_output_top5_acc: 0.3829 - val_foodcategory_output_get_f1: 0.0000e+00 - val_foodcategory_output_top5_acc: 0.0707 - val_vegan_output_get_f1: 0.8613 - val_vegan_output_top5_acc: 1.0000\n",
            "Epoch 2/50\n",
            "80000/80000 [==============================] - 65s 815us/step - loss: 4.7293 - ingredient_output_loss: 0.0527 - foodcategory_output_loss: 4.5415 - vegan_output_loss: 0.1351 - ingredient_output_get_f1: 0.0201 - ingredient_output_top5_acc: 0.1480 - foodcategory_output_get_f1: 0.0021 - foodcategory_output_top5_acc: 0.1239 - vegan_output_get_f1: 0.9434 - vegan_output_top5_acc: 1.0000 - val_loss: 5.5396 - val_ingredient_output_loss: 0.1491 - val_foodcategory_output_loss: 4.9305 - val_vegan_output_loss: 0.4600 - val_ingredient_output_get_f1: 0.0000e+00 - val_ingredient_output_top5_acc: 0.4098 - val_foodcategory_output_get_f1: 0.0055 - val_foodcategory_output_top5_acc: 0.0917 - val_vegan_output_get_f1: 0.8713 - val_vegan_output_top5_acc: 1.0000\n",
            "Epoch 3/50\n",
            "80000/80000 [==============================] - 65s 815us/step - loss: 4.2142 - ingredient_output_loss: 0.0478 - foodcategory_output_loss: 4.0644 - vegan_output_loss: 0.1020 - ingredient_output_get_f1: 0.0163 - ingredient_output_top5_acc: 0.2030 - foodcategory_output_get_f1: 0.0431 - foodcategory_output_top5_acc: 0.2702 - vegan_output_get_f1: 0.9585 - vegan_output_top5_acc: 1.0000 - val_loss: 5.3154 - val_ingredient_output_loss: 0.1317 - val_foodcategory_output_loss: 4.6301 - val_vegan_output_loss: 0.5536 - val_ingredient_output_get_f1: 0.0000e+00 - val_ingredient_output_top5_acc: 0.4021 - val_foodcategory_output_get_f1: 0.0141 - val_foodcategory_output_top5_acc: 0.1842 - val_vegan_output_get_f1: 0.8785 - val_vegan_output_top5_acc: 1.0000\n",
            "Epoch 4/50\n",
            "80000/80000 [==============================] - 65s 815us/step - loss: 3.6274 - ingredient_output_loss: 0.0443 - foodcategory_output_loss: 3.5036 - vegan_output_loss: 0.0795 - ingredient_output_get_f1: 0.0253 - ingredient_output_top5_acc: 0.2644 - foodcategory_output_get_f1: 0.1279 - foodcategory_output_top5_acc: 0.4366 - vegan_output_get_f1: 0.9683 - vegan_output_top5_acc: 1.0000 - val_loss: 4.7783 - val_ingredient_output_loss: 0.1037 - val_foodcategory_output_loss: 4.2026 - val_vegan_output_loss: 0.4721 - val_ingredient_output_get_f1: 0.0125 - val_ingredient_output_top5_acc: 0.4213 - val_foodcategory_output_get_f1: 0.0421 - val_foodcategory_output_top5_acc: 0.3105 - val_vegan_output_get_f1: 0.8823 - val_vegan_output_top5_acc: 1.0000\n",
            "Epoch 5/50\n",
            "80000/80000 [==============================] - 65s 815us/step - loss: 3.1671 - ingredient_output_loss: 0.0413 - foodcategory_output_loss: 3.0637 - vegan_output_loss: 0.0620 - ingredient_output_get_f1: 0.0439 - ingredient_output_top5_acc: 0.3168 - foodcategory_output_get_f1: 0.2347 - foodcategory_output_top5_acc: 0.5387 - vegan_output_get_f1: 0.9748 - vegan_output_top5_acc: 1.0000 - val_loss: 4.2712 - val_ingredient_output_loss: 0.0928 - val_foodcategory_output_loss: 3.7610 - val_vegan_output_loss: 0.4174 - val_ingredient_output_get_f1: 0.0367 - val_ingredient_output_top5_acc: 0.4360 - val_foodcategory_output_get_f1: 0.0861 - val_foodcategory_output_top5_acc: 0.4200 - val_vegan_output_get_f1: 0.8856 - val_vegan_output_top5_acc: 1.0000\n",
            "Epoch 6/50\n",
            "80000/80000 [==============================] - 65s 814us/step - loss: 2.8259 - ingredient_output_loss: 0.0386 - foodcategory_output_loss: 2.7422 - vegan_output_loss: 0.0451 - ingredient_output_get_f1: 0.0777 - ingredient_output_top5_acc: 0.3653 - foodcategory_output_get_f1: 0.3151 - foodcategory_output_top5_acc: 0.6053 - vegan_output_get_f1: 0.9825 - vegan_output_top5_acc: 1.0000 - val_loss: 4.1178 - val_ingredient_output_loss: 0.0765 - val_foodcategory_output_loss: 3.5087 - val_vegan_output_loss: 0.5326 - val_ingredient_output_get_f1: 0.0580 - val_ingredient_output_top5_acc: 0.4508 - val_foodcategory_output_get_f1: 0.0965 - val_foodcategory_output_top5_acc: 0.4819 - val_vegan_output_get_f1: 0.8873 - val_vegan_output_top5_acc: 1.0000\n",
            "Epoch 7/50\n",
            "80000/80000 [==============================] - 65s 815us/step - loss: 2.5397 - ingredient_output_loss: 0.0363 - foodcategory_output_loss: 2.4683 - vegan_output_loss: 0.0351 - ingredient_output_get_f1: 0.1123 - ingredient_output_top5_acc: 0.4103 - foodcategory_output_get_f1: 0.3886 - foodcategory_output_top5_acc: 0.6574 - vegan_output_get_f1: 0.9867 - vegan_output_top5_acc: 1.0000 - val_loss: 3.9087 - val_ingredient_output_loss: 0.0732 - val_foodcategory_output_loss: 3.2583 - val_vegan_output_loss: 0.5773 - val_ingredient_output_get_f1: 0.0751 - val_ingredient_output_top5_acc: 0.4680 - val_foodcategory_output_get_f1: 0.1345 - val_foodcategory_output_top5_acc: 0.5374 - val_vegan_output_get_f1: 0.8893 - val_vegan_output_top5_acc: 1.0000\n",
            "Epoch 8/50\n",
            "80000/80000 [==============================] - 65s 815us/step - loss: 2.2997 - ingredient_output_loss: 0.0344 - foodcategory_output_loss: 2.2374 - vegan_output_loss: 0.0280 - ingredient_output_get_f1: 0.1456 - ingredient_output_top5_acc: 0.4468 - foodcategory_output_get_f1: 0.4518 - foodcategory_output_top5_acc: 0.6959 - vegan_output_get_f1: 0.9893 - vegan_output_top5_acc: 1.0000 - val_loss: 3.6237 - val_ingredient_output_loss: 0.0623 - val_foodcategory_output_loss: 3.0316 - val_vegan_output_loss: 0.5298 - val_ingredient_output_get_f1: 0.0953 - val_ingredient_output_top5_acc: 0.4839 - val_foodcategory_output_get_f1: 0.1726 - val_foodcategory_output_top5_acc: 0.5767 - val_vegan_output_get_f1: 0.8952 - val_vegan_output_top5_acc: 1.0000\n",
            "Epoch 9/50\n",
            "80000/80000 [==============================] - 65s 816us/step - loss: 2.0908 - ingredient_output_loss: 0.0326 - foodcategory_output_loss: 2.0361 - vegan_output_loss: 0.0221 - ingredient_output_get_f1: 0.1829 - ingredient_output_top5_acc: 0.4848 - foodcategory_output_get_f1: 0.5063 - foodcategory_output_top5_acc: 0.7304 - vegan_output_get_f1: 0.9911 - vegan_output_top5_acc: 1.0000 - val_loss: 3.6289 - val_ingredient_output_loss: 0.0559 - val_foodcategory_output_loss: 2.8771 - val_vegan_output_loss: 0.6960 - val_ingredient_output_get_f1: 0.1082 - val_ingredient_output_top5_acc: 0.4965 - val_foodcategory_output_get_f1: 0.1988 - val_foodcategory_output_top5_acc: 0.6052 - val_vegan_output_get_f1: 0.8914 - val_vegan_output_top5_acc: 1.0000\n",
            "Epoch 10/50\n",
            "80000/80000 [==============================] - 65s 815us/step - loss: 1.9120 - ingredient_output_loss: 0.0309 - foodcategory_output_loss: 1.8624 - vegan_output_loss: 0.0186 - ingredient_output_get_f1: 0.2207 - ingredient_output_top5_acc: 0.5122 - foodcategory_output_get_f1: 0.5505 - foodcategory_output_top5_acc: 0.7620 - vegan_output_get_f1: 0.9929 - vegan_output_top5_acc: 1.0000 - val_loss: 3.4913 - val_ingredient_output_loss: 0.0517 - val_foodcategory_output_loss: 2.7425 - val_vegan_output_loss: 0.6971 - val_ingredient_output_get_f1: 0.1582 - val_ingredient_output_top5_acc: 0.5053 - val_foodcategory_output_get_f1: 0.2302 - val_foodcategory_output_top5_acc: 0.6382 - val_vegan_output_get_f1: 0.8918 - val_vegan_output_top5_acc: 1.0000\n",
            "Epoch 11/50\n",
            "80000/80000 [==============================] - 65s 815us/step - loss: 1.7487 - ingredient_output_loss: 0.0295 - foodcategory_output_loss: 1.7036 - vegan_output_loss: 0.0155 - ingredient_output_get_f1: 0.2590 - ingredient_output_top5_acc: 0.5385 - foodcategory_output_get_f1: 0.5897 - foodcategory_output_top5_acc: 0.7869 - vegan_output_get_f1: 0.9941 - vegan_output_top5_acc: 1.0000 - val_loss: 3.3177 - val_ingredient_output_loss: 0.0483 - val_foodcategory_output_loss: 2.5771 - val_vegan_output_loss: 0.6923 - val_ingredient_output_get_f1: 0.1755 - val_ingredient_output_top5_acc: 0.5172 - val_foodcategory_output_get_f1: 0.2713 - val_foodcategory_output_top5_acc: 0.6728 - val_vegan_output_get_f1: 0.8956 - val_vegan_output_top5_acc: 1.0000\n",
            "Epoch 12/50\n",
            "80000/80000 [==============================] - 65s 815us/step - loss: 1.6103 - ingredient_output_loss: 0.0283 - foodcategory_output_loss: 1.5686 - vegan_output_loss: 0.0134 - ingredient_output_get_f1: 0.2914 - ingredient_output_top5_acc: 0.5564 - foodcategory_output_get_f1: 0.6192 - foodcategory_output_top5_acc: 0.8102 - vegan_output_get_f1: 0.9948 - vegan_output_top5_acc: 1.0000 - val_loss: 3.2402 - val_ingredient_output_loss: 0.0461 - val_foodcategory_output_loss: 2.4906 - val_vegan_output_loss: 0.7035 - val_ingredient_output_get_f1: 0.2050 - val_ingredient_output_top5_acc: 0.5295 - val_foodcategory_output_get_f1: 0.3008 - val_foodcategory_output_top5_acc: 0.6836 - val_vegan_output_get_f1: 0.8970 - val_vegan_output_top5_acc: 1.0000\n",
            "Epoch 13/50\n",
            "80000/80000 [==============================] - 65s 816us/step - loss: 1.4882 - ingredient_output_loss: 0.0271 - foodcategory_output_loss: 1.4483 - vegan_output_loss: 0.0127 - ingredient_output_get_f1: 0.3205 - ingredient_output_top5_acc: 0.5739 - foodcategory_output_get_f1: 0.6476 - foodcategory_output_top5_acc: 0.8306 - vegan_output_get_f1: 0.9949 - vegan_output_top5_acc: 1.0000 - val_loss: 3.1660 - val_ingredient_output_loss: 0.0426 - val_foodcategory_output_loss: 2.4039 - val_vegan_output_loss: 0.7195 - val_ingredient_output_get_f1: 0.2138 - val_ingredient_output_top5_acc: 0.5332 - val_foodcategory_output_get_f1: 0.3202 - val_foodcategory_output_top5_acc: 0.7030 - val_vegan_output_get_f1: 0.8966 - val_vegan_output_top5_acc: 1.0000\n",
            "Epoch 14/50\n",
            "80000/80000 [==============================] - 65s 816us/step - loss: 1.3759 - ingredient_output_loss: 0.0261 - foodcategory_output_loss: 1.3374 - vegan_output_loss: 0.0124 - ingredient_output_get_f1: 0.3464 - ingredient_output_top5_acc: 0.5920 - foodcategory_output_get_f1: 0.6717 - foodcategory_output_top5_acc: 0.8487 - vegan_output_get_f1: 0.9954 - vegan_output_top5_acc: 1.0000 - val_loss: 3.2564 - val_ingredient_output_loss: 0.0399 - val_foodcategory_output_loss: 2.3217 - val_vegan_output_loss: 0.8948 - val_ingredient_output_get_f1: 0.2312 - val_ingredient_output_top5_acc: 0.5452 - val_foodcategory_output_get_f1: 0.3431 - val_foodcategory_output_top5_acc: 0.7203 - val_vegan_output_get_f1: 0.8951 - val_vegan_output_top5_acc: 1.0000\n",
            "Epoch 15/50\n",
            "80000/80000 [==============================] - 65s 816us/step - loss: 1.2691 - ingredient_output_loss: 0.0252 - foodcategory_output_loss: 1.2325 - vegan_output_loss: 0.0115 - ingredient_output_get_f1: 0.3698 - ingredient_output_top5_acc: 0.6045 - foodcategory_output_get_f1: 0.6939 - foodcategory_output_top5_acc: 0.8660 - vegan_output_get_f1: 0.9957 - vegan_output_top5_acc: 1.0000 - val_loss: 2.9610 - val_ingredient_output_loss: 0.0375 - val_foodcategory_output_loss: 2.2319 - val_vegan_output_loss: 0.6916 - val_ingredient_output_get_f1: 0.2471 - val_ingredient_output_top5_acc: 0.5640 - val_foodcategory_output_get_f1: 0.3699 - val_foodcategory_output_top5_acc: 0.7377 - val_vegan_output_get_f1: 0.8974 - val_vegan_output_top5_acc: 1.0000\n",
            "Epoch 16/50\n",
            "80000/80000 [==============================] - 65s 815us/step - loss: 1.1801 - ingredient_output_loss: 0.0243 - foodcategory_output_loss: 1.1448 - vegan_output_loss: 0.0110 - ingredient_output_get_f1: 0.3897 - ingredient_output_top5_acc: 0.6186 - foodcategory_output_get_f1: 0.7125 - foodcategory_output_top5_acc: 0.8812 - vegan_output_get_f1: 0.9958 - vegan_output_top5_acc: 1.0000 - val_loss: 2.9979 - val_ingredient_output_loss: 0.0364 - val_foodcategory_output_loss: 2.1751 - val_vegan_output_loss: 0.7864 - val_ingredient_output_get_f1: 0.2656 - val_ingredient_output_top5_acc: 0.5764 - val_foodcategory_output_get_f1: 0.3899 - val_foodcategory_output_top5_acc: 0.7472 - val_vegan_output_get_f1: 0.8983 - val_vegan_output_top5_acc: 1.0000\n",
            "Epoch 17/50\n",
            "80000/80000 [==============================] - 65s 816us/step - loss: 1.0996 - ingredient_output_loss: 0.0236 - foodcategory_output_loss: 1.0652 - vegan_output_loss: 0.0108 - ingredient_output_get_f1: 0.4070 - ingredient_output_top5_acc: 0.6299 - foodcategory_output_get_f1: 0.7293 - foodcategory_output_top5_acc: 0.8955 - vegan_output_get_f1: 0.9961 - vegan_output_top5_acc: 1.0000 - val_loss: 2.9136 - val_ingredient_output_loss: 0.0346 - val_foodcategory_output_loss: 2.1265 - val_vegan_output_loss: 0.7526 - val_ingredient_output_get_f1: 0.2845 - val_ingredient_output_top5_acc: 0.5872 - val_foodcategory_output_get_f1: 0.4106 - val_foodcategory_output_top5_acc: 0.7525 - val_vegan_output_get_f1: 0.8981 - val_vegan_output_top5_acc: 1.0000\n",
            "Epoch 18/50\n",
            "80000/80000 [==============================] - 65s 816us/step - loss: 1.0200 - ingredient_output_loss: 0.0229 - foodcategory_output_loss: 0.9856 - vegan_output_loss: 0.0115 - ingredient_output_get_f1: 0.4236 - ingredient_output_top5_acc: 0.6417 - foodcategory_output_get_f1: 0.7444 - foodcategory_output_top5_acc: 0.9073 - vegan_output_get_f1: 0.9958 - vegan_output_top5_acc: 1.0000 - val_loss: 2.8094 - val_ingredient_output_loss: 0.0337 - val_foodcategory_output_loss: 2.0828 - val_vegan_output_loss: 0.6930 - val_ingredient_output_get_f1: 0.3005 - val_ingredient_output_top5_acc: 0.5889 - val_foodcategory_output_get_f1: 0.4330 - val_foodcategory_output_top5_acc: 0.7606 - val_vegan_output_get_f1: 0.8998 - val_vegan_output_top5_acc: 1.0000\n",
            "Epoch 19/50\n",
            "80000/80000 [==============================] - 65s 815us/step - loss: 0.9510 - ingredient_output_loss: 0.0222 - foodcategory_output_loss: 0.9193 - vegan_output_loss: 0.0096 - ingredient_output_get_f1: 0.4383 - ingredient_output_top5_acc: 0.6524 - foodcategory_output_get_f1: 0.7594 - foodcategory_output_top5_acc: 0.9176 - vegan_output_get_f1: 0.9964 - vegan_output_top5_acc: 1.0000 - val_loss: 2.8198 - val_ingredient_output_loss: 0.0321 - val_foodcategory_output_loss: 2.0400 - val_vegan_output_loss: 0.7477 - val_ingredient_output_get_f1: 0.3131 - val_ingredient_output_top5_acc: 0.6038 - val_foodcategory_output_get_f1: 0.4503 - val_foodcategory_output_top5_acc: 0.7657 - val_vegan_output_get_f1: 0.8988 - val_vegan_output_top5_acc: 1.0000\n",
            "Epoch 20/50\n",
            "80000/80000 [==============================] - 65s 815us/step - loss: 0.8877 - ingredient_output_loss: 0.0216 - foodcategory_output_loss: 0.8563 - vegan_output_loss: 0.0099 - ingredient_output_get_f1: 0.4522 - ingredient_output_top5_acc: 0.6625 - foodcategory_output_get_f1: 0.7726 - foodcategory_output_top5_acc: 0.9274 - vegan_output_get_f1: 0.9963 - vegan_output_top5_acc: 1.0000 - val_loss: 2.8743 - val_ingredient_output_loss: 0.0310 - val_foodcategory_output_loss: 2.0250 - val_vegan_output_loss: 0.8182 - val_ingredient_output_get_f1: 0.3312 - val_ingredient_output_top5_acc: 0.6036 - val_foodcategory_output_get_f1: 0.4667 - val_foodcategory_output_top5_acc: 0.7684 - val_vegan_output_get_f1: 0.8975 - val_vegan_output_top5_acc: 1.0000\n",
            "Epoch 21/50\n",
            "80000/80000 [==============================] - 65s 815us/step - loss: 0.8289 - ingredient_output_loss: 0.0210 - foodcategory_output_loss: 0.7988 - vegan_output_loss: 0.0091 - ingredient_output_get_f1: 0.4658 - ingredient_output_top5_acc: 0.6715 - foodcategory_output_get_f1: 0.7842 - foodcategory_output_top5_acc: 0.9372 - vegan_output_get_f1: 0.9969 - vegan_output_top5_acc: 1.0000 - val_loss: 2.7072 - val_ingredient_output_loss: 0.0302 - val_foodcategory_output_loss: 1.9853 - val_vegan_output_loss: 0.6917 - val_ingredient_output_get_f1: 0.3497 - val_ingredient_output_top5_acc: 0.6097 - val_foodcategory_output_get_f1: 0.4831 - val_foodcategory_output_top5_acc: 0.7793 - val_vegan_output_get_f1: 0.8992 - val_vegan_output_top5_acc: 1.0000\n",
            "Epoch 22/50\n",
            "80000/80000 [==============================] - 65s 815us/step - loss: 0.7778 - ingredient_output_loss: 0.0205 - foodcategory_output_loss: 0.7478 - vegan_output_loss: 0.0094 - ingredient_output_get_f1: 0.4789 - ingredient_output_top5_acc: 0.6792 - foodcategory_output_get_f1: 0.7959 - foodcategory_output_top5_acc: 0.9431 - vegan_output_get_f1: 0.9966 - vegan_output_top5_acc: 1.0000 - val_loss: 2.7994 - val_ingredient_output_loss: 0.0296 - val_foodcategory_output_loss: 1.9826 - val_vegan_output_loss: 0.7873 - val_ingredient_output_get_f1: 0.3494 - val_ingredient_output_top5_acc: 0.6154 - val_foodcategory_output_get_f1: 0.4928 - val_foodcategory_output_top5_acc: 0.7717 - val_vegan_output_get_f1: 0.8986 - val_vegan_output_top5_acc: 1.0000\n",
            "Epoch 23/50\n",
            "80000/80000 [==============================] - 65s 815us/step - loss: 0.7266 - ingredient_output_loss: 0.0200 - foodcategory_output_loss: 0.6969 - vegan_output_loss: 0.0097 - ingredient_output_get_f1: 0.4892 - ingredient_output_top5_acc: 0.6876 - foodcategory_output_get_f1: 0.8078 - foodcategory_output_top5_acc: 0.9508 - vegan_output_get_f1: 0.9963 - vegan_output_top5_acc: 1.0000 - val_loss: 2.9131 - val_ingredient_output_loss: 0.0286 - val_foodcategory_output_loss: 1.9611 - val_vegan_output_loss: 0.9233 - val_ingredient_output_get_f1: 0.3627 - val_ingredient_output_top5_acc: 0.6185 - val_foodcategory_output_get_f1: 0.5085 - val_foodcategory_output_top5_acc: 0.7779 - val_vegan_output_get_f1: 0.8968 - val_vegan_output_top5_acc: 1.0000\n",
            "Epoch 24/50\n",
            "80000/80000 [==============================] - 65s 815us/step - loss: 0.6746 - ingredient_output_loss: 0.0195 - foodcategory_output_loss: 0.6467 - vegan_output_loss: 0.0084 - ingredient_output_get_f1: 0.5014 - ingredient_output_top5_acc: 0.6957 - foodcategory_output_get_f1: 0.8192 - foodcategory_output_top5_acc: 0.9568 - vegan_output_get_f1: 0.9966 - vegan_output_top5_acc: 1.0000 - val_loss: 2.8448 - val_ingredient_output_loss: 0.0278 - val_foodcategory_output_loss: 1.9408 - val_vegan_output_loss: 0.8762 - val_ingredient_output_get_f1: 0.3800 - val_ingredient_output_top5_acc: 0.6197 - val_foodcategory_output_get_f1: 0.5242 - val_foodcategory_output_top5_acc: 0.7814 - val_vegan_output_get_f1: 0.8986 - val_vegan_output_top5_acc: 1.0000\n",
            "Epoch 25/50\n",
            "80000/80000 [==============================] - 65s 815us/step - loss: 0.6296 - ingredient_output_loss: 0.0191 - foodcategory_output_loss: 0.6024 - vegan_output_loss: 0.0081 - ingredient_output_get_f1: 0.5121 - ingredient_output_top5_acc: 0.7032 - foodcategory_output_get_f1: 0.8285 - foodcategory_output_top5_acc: 0.9626 - vegan_output_get_f1: 0.9970 - vegan_output_top5_acc: 1.0000 - val_loss: 2.7558 - val_ingredient_output_loss: 0.0274 - val_foodcategory_output_loss: 1.9290 - val_vegan_output_loss: 0.7994 - val_ingredient_output_get_f1: 0.3911 - val_ingredient_output_top5_acc: 0.6216 - val_foodcategory_output_get_f1: 0.5353 - val_foodcategory_output_top5_acc: 0.7864 - val_vegan_output_get_f1: 0.8998 - val_vegan_output_top5_acc: 1.0000\n",
            "Epoch 26/50\n",
            "80000/80000 [==============================] - 65s 815us/step - loss: 0.5916 - ingredient_output_loss: 0.0187 - foodcategory_output_loss: 0.5649 - vegan_output_loss: 0.0080 - ingredient_output_get_f1: 0.5220 - ingredient_output_top5_acc: 0.7085 - foodcategory_output_get_f1: 0.8392 - foodcategory_output_top5_acc: 0.9675 - vegan_output_get_f1: 0.9971 - vegan_output_top5_acc: 1.0000 - val_loss: 2.7591 - val_ingredient_output_loss: 0.0272 - val_foodcategory_output_loss: 1.9394 - val_vegan_output_loss: 0.7925 - val_ingredient_output_get_f1: 0.3936 - val_ingredient_output_top5_acc: 0.6236 - val_foodcategory_output_get_f1: 0.5361 - val_foodcategory_output_top5_acc: 0.7800 - val_vegan_output_get_f1: 0.8983 - val_vegan_output_top5_acc: 1.0000\n",
            "Epoch 27/50\n",
            "80000/80000 [==============================] - 65s 816us/step - loss: 0.5521 - ingredient_output_loss: 0.0183 - foodcategory_output_loss: 0.5258 - vegan_output_loss: 0.0080 - ingredient_output_get_f1: 0.5326 - ingredient_output_top5_acc: 0.7161 - foodcategory_output_get_f1: 0.8474 - foodcategory_output_top5_acc: 0.9721 - vegan_output_get_f1: 0.9969 - vegan_output_top5_acc: 1.0000 - val_loss: 2.8028 - val_ingredient_output_loss: 0.0268 - val_foodcategory_output_loss: 1.9176 - val_vegan_output_loss: 0.8583 - val_ingredient_output_get_f1: 0.4114 - val_ingredient_output_top5_acc: 0.6299 - val_foodcategory_output_get_f1: 0.5534 - val_foodcategory_output_top5_acc: 0.7881 - val_vegan_output_get_f1: 0.9007 - val_vegan_output_top5_acc: 1.0000\n",
            "Epoch 28/50\n",
            "80000/80000 [==============================] - 65s 815us/step - loss: 0.5168 - ingredient_output_loss: 0.0180 - foodcategory_output_loss: 0.4910 - vegan_output_loss: 0.0079 - ingredient_output_get_f1: 0.5423 - ingredient_output_top5_acc: 0.7232 - foodcategory_output_get_f1: 0.8574 - foodcategory_output_top5_acc: 0.9745 - vegan_output_get_f1: 0.9971 - vegan_output_top5_acc: 1.0000 - val_loss: 2.8683 - val_ingredient_output_loss: 0.0264 - val_foodcategory_output_loss: 1.9625 - val_vegan_output_loss: 0.8794 - val_ingredient_output_get_f1: 0.4119 - val_ingredient_output_top5_acc: 0.6329 - val_foodcategory_output_get_f1: 0.5498 - val_foodcategory_output_top5_acc: 0.7866 - val_vegan_output_get_f1: 0.8994 - val_vegan_output_top5_acc: 1.0000\n",
            "Epoch 29/50\n",
            "80000/80000 [==============================] - 65s 816us/step - loss: 0.4846 - ingredient_output_loss: 0.0176 - foodcategory_output_loss: 0.4594 - vegan_output_loss: 0.0076 - ingredient_output_get_f1: 0.5503 - ingredient_output_top5_acc: 0.7273 - foodcategory_output_get_f1: 0.8639 - foodcategory_output_top5_acc: 0.9788 - vegan_output_get_f1: 0.9974 - vegan_output_top5_acc: 1.0000 - val_loss: 3.0350 - val_ingredient_output_loss: 0.0265 - val_foodcategory_output_loss: 1.9595 - val_vegan_output_loss: 1.0491 - val_ingredient_output_get_f1: 0.4230 - val_ingredient_output_top5_acc: 0.6254 - val_foodcategory_output_get_f1: 0.5547 - val_foodcategory_output_top5_acc: 0.7848 - val_vegan_output_get_f1: 0.8959 - val_vegan_output_top5_acc: 1.0000\n",
            "Epoch 30/50\n",
            "80000/80000 [==============================] - 65s 815us/step - loss: 0.4544 - ingredient_output_loss: 0.0173 - foodcategory_output_loss: 0.4295 - vegan_output_loss: 0.0076 - ingredient_output_get_f1: 0.5591 - ingredient_output_top5_acc: 0.7322 - foodcategory_output_get_f1: 0.8729 - foodcategory_output_top5_acc: 0.9809 - vegan_output_get_f1: 0.9972 - vegan_output_top5_acc: 1.0000 - val_loss: 2.7788 - val_ingredient_output_loss: 0.0257 - val_foodcategory_output_loss: 1.9180 - val_vegan_output_loss: 0.8351 - val_ingredient_output_get_f1: 0.4321 - val_ingredient_output_top5_acc: 0.6421 - val_foodcategory_output_get_f1: 0.5682 - val_foodcategory_output_top5_acc: 0.7940 - val_vegan_output_get_f1: 0.8987 - val_vegan_output_top5_acc: 1.0000\n",
            "Epoch 31/50\n",
            "80000/80000 [==============================] - 65s 815us/step - loss: 0.4278 - ingredient_output_loss: 0.0170 - foodcategory_output_loss: 0.4035 - vegan_output_loss: 0.0072 - ingredient_output_get_f1: 0.5665 - ingredient_output_top5_acc: 0.7380 - foodcategory_output_get_f1: 0.8799 - foodcategory_output_top5_acc: 0.9840 - vegan_output_get_f1: 0.9973 - vegan_output_top5_acc: 1.0000 - val_loss: 2.8797 - val_ingredient_output_loss: 0.0256 - val_foodcategory_output_loss: 1.9475 - val_vegan_output_loss: 0.9066 - val_ingredient_output_get_f1: 0.4430 - val_ingredient_output_top5_acc: 0.6405 - val_foodcategory_output_get_f1: 0.5727 - val_foodcategory_output_top5_acc: 0.7941 - val_vegan_output_get_f1: 0.8991 - val_vegan_output_top5_acc: 1.0000\n",
            "Epoch 32/50\n",
            "80000/80000 [==============================] - 65s 815us/step - loss: 0.4062 - ingredient_output_loss: 0.0168 - foodcategory_output_loss: 0.3833 - vegan_output_loss: 0.0062 - ingredient_output_get_f1: 0.5746 - ingredient_output_top5_acc: 0.7419 - foodcategory_output_get_f1: 0.8856 - foodcategory_output_top5_acc: 0.9855 - vegan_output_get_f1: 0.9976 - vegan_output_top5_acc: 1.0000 - val_loss: 2.9074 - val_ingredient_output_loss: 0.0252 - val_foodcategory_output_loss: 1.9556 - val_vegan_output_loss: 0.9266 - val_ingredient_output_get_f1: 0.4503 - val_ingredient_output_top5_acc: 0.6411 - val_foodcategory_output_get_f1: 0.5783 - val_foodcategory_output_top5_acc: 0.7940 - val_vegan_output_get_f1: 0.9005 - val_vegan_output_top5_acc: 1.0000\n",
            "Epoch 33/50\n",
            "80000/80000 [==============================] - 65s 815us/step - loss: 0.3824 - ingredient_output_loss: 0.0165 - foodcategory_output_loss: 0.3592 - vegan_output_loss: 0.0067 - ingredient_output_get_f1: 0.5830 - ingredient_output_top5_acc: 0.7475 - foodcategory_output_get_f1: 0.8932 - foodcategory_output_top5_acc: 0.9871 - vegan_output_get_f1: 0.9974 - vegan_output_top5_acc: 1.0000 - val_loss: 2.8795 - val_ingredient_output_loss: 0.0250 - val_foodcategory_output_loss: 1.9488 - val_vegan_output_loss: 0.9058 - val_ingredient_output_get_f1: 0.4470 - val_ingredient_output_top5_acc: 0.6453 - val_foodcategory_output_get_f1: 0.5772 - val_foodcategory_output_top5_acc: 0.7942 - val_vegan_output_get_f1: 0.9008 - val_vegan_output_top5_acc: 1.0000\n",
            "Epoch 34/50\n",
            "80000/80000 [==============================] - 65s 815us/step - loss: 0.3582 - ingredient_output_loss: 0.0162 - foodcategory_output_loss: 0.3351 - vegan_output_loss: 0.0069 - ingredient_output_get_f1: 0.5885 - ingredient_output_top5_acc: 0.7507 - foodcategory_output_get_f1: 0.8992 - foodcategory_output_top5_acc: 0.9886 - vegan_output_get_f1: 0.9973 - vegan_output_top5_acc: 1.0000 - val_loss: 2.8298 - val_ingredient_output_loss: 0.0247 - val_foodcategory_output_loss: 1.9717 - val_vegan_output_loss: 0.8333 - val_ingredient_output_get_f1: 0.4535 - val_ingredient_output_top5_acc: 0.6416 - val_foodcategory_output_get_f1: 0.5847 - val_foodcategory_output_top5_acc: 0.7934 - val_vegan_output_get_f1: 0.9006 - val_vegan_output_top5_acc: 1.0000\n",
            "Epoch 35/50\n",
            "80000/80000 [==============================] - 65s 815us/step - loss: 0.3454 - ingredient_output_loss: 0.0160 - foodcategory_output_loss: 0.3223 - vegan_output_loss: 0.0070 - ingredient_output_get_f1: 0.5952 - ingredient_output_top5_acc: 0.7526 - foodcategory_output_get_f1: 0.9040 - foodcategory_output_top5_acc: 0.9902 - vegan_output_get_f1: 0.9973 - vegan_output_top5_acc: 1.0000 - val_loss: 2.7781 - val_ingredient_output_loss: 0.0247 - val_foodcategory_output_loss: 1.9473 - val_vegan_output_loss: 0.8060 - val_ingredient_output_get_f1: 0.4546 - val_ingredient_output_top5_acc: 0.6511 - val_foodcategory_output_get_f1: 0.5875 - val_foodcategory_output_top5_acc: 0.7950 - val_vegan_output_get_f1: 0.9014 - val_vegan_output_top5_acc: 1.0000\n",
            "Epoch 36/50\n",
            "80000/80000 [==============================] - 65s 815us/step - loss: 0.3309 - ingredient_output_loss: 0.0158 - foodcategory_output_loss: 0.3084 - vegan_output_loss: 0.0067 - ingredient_output_get_f1: 0.6008 - ingredient_output_top5_acc: 0.7561 - foodcategory_output_get_f1: 0.9068 - foodcategory_output_top5_acc: 0.9911 - vegan_output_get_f1: 0.9976 - vegan_output_top5_acc: 1.0000 - val_loss: 2.8728 - val_ingredient_output_loss: 0.0244 - val_foodcategory_output_loss: 1.9826 - val_vegan_output_loss: 0.8659 - val_ingredient_output_get_f1: 0.4627 - val_ingredient_output_top5_acc: 0.6522 - val_foodcategory_output_get_f1: 0.5905 - val_foodcategory_output_top5_acc: 0.7959 - val_vegan_output_get_f1: 0.9004 - val_vegan_output_top5_acc: 1.0000\n",
            "Epoch 37/50\n",
            "80000/80000 [==============================] - 65s 816us/step - loss: 0.3119 - ingredient_output_loss: 0.0156 - foodcategory_output_loss: 0.2897 - vegan_output_loss: 0.0066 - ingredient_output_get_f1: 0.6069 - ingredient_output_top5_acc: 0.7598 - foodcategory_output_get_f1: 0.9121 - foodcategory_output_top5_acc: 0.9925 - vegan_output_get_f1: 0.9977 - vegan_output_top5_acc: 1.0000 - val_loss: 2.7802 - val_ingredient_output_loss: 0.0243 - val_foodcategory_output_loss: 1.9648 - val_vegan_output_loss: 0.7911 - val_ingredient_output_get_f1: 0.4640 - val_ingredient_output_top5_acc: 0.6567 - val_foodcategory_output_get_f1: 0.5929 - val_foodcategory_output_top5_acc: 0.7971 - val_vegan_output_get_f1: 0.8998 - val_vegan_output_top5_acc: 1.0000\n",
            "Epoch 38/50\n",
            "80000/80000 [==============================] - 65s 815us/step - loss: 0.2925 - ingredient_output_loss: 0.0154 - foodcategory_output_loss: 0.2706 - vegan_output_loss: 0.0065 - ingredient_output_get_f1: 0.6128 - ingredient_output_top5_acc: 0.7634 - foodcategory_output_get_f1: 0.9175 - foodcategory_output_top5_acc: 0.9931 - vegan_output_get_f1: 0.9978 - vegan_output_top5_acc: 1.0000 - val_loss: 2.7843 - val_ingredient_output_loss: 0.0242 - val_foodcategory_output_loss: 1.9853 - val_vegan_output_loss: 0.7747 - val_ingredient_output_get_f1: 0.4660 - val_ingredient_output_top5_acc: 0.6570 - val_foodcategory_output_get_f1: 0.5904 - val_foodcategory_output_top5_acc: 0.7980 - val_vegan_output_get_f1: 0.9003 - val_vegan_output_top5_acc: 1.0000\n",
            "Epoch 39/50\n",
            "80000/80000 [==============================] - 65s 815us/step - loss: 0.2816 - ingredient_output_loss: 0.0152 - foodcategory_output_loss: 0.2606 - vegan_output_loss: 0.0058 - ingredient_output_get_f1: 0.6163 - ingredient_output_top5_acc: 0.7642 - foodcategory_output_get_f1: 0.9205 - foodcategory_output_top5_acc: 0.9937 - vegan_output_get_f1: 0.9979 - vegan_output_top5_acc: 1.0000 - val_loss: 2.9120 - val_ingredient_output_loss: 0.0242 - val_foodcategory_output_loss: 1.9909 - val_vegan_output_loss: 0.8970 - val_ingredient_output_get_f1: 0.4679 - val_ingredient_output_top5_acc: 0.6600 - val_foodcategory_output_get_f1: 0.5928 - val_foodcategory_output_top5_acc: 0.8002 - val_vegan_output_get_f1: 0.9006 - val_vegan_output_top5_acc: 1.0000\n",
            "Epoch 40/50\n",
            "80000/80000 [==============================] - 65s 815us/step - loss: 0.2657 - ingredient_output_loss: 0.0151 - foodcategory_output_loss: 0.2447 - vegan_output_loss: 0.0060 - ingredient_output_get_f1: 0.6224 - ingredient_output_top5_acc: 0.7696 - foodcategory_output_get_f1: 0.9266 - foodcategory_output_top5_acc: 0.9943 - vegan_output_get_f1: 0.9977 - vegan_output_top5_acc: 1.0000 - val_loss: 2.8522 - val_ingredient_output_loss: 0.0240 - val_foodcategory_output_loss: 2.0350 - val_vegan_output_loss: 0.7931 - val_ingredient_output_get_f1: 0.4721 - val_ingredient_output_top5_acc: 0.6547 - val_foodcategory_output_get_f1: 0.5950 - val_foodcategory_output_top5_acc: 0.7983 - val_vegan_output_get_f1: 0.8988 - val_vegan_output_top5_acc: 1.0000\n",
            "Epoch 41/50\n",
            "80000/80000 [==============================] - 65s 815us/step - loss: 0.2546 - ingredient_output_loss: 0.0149 - foodcategory_output_loss: 0.2341 - vegan_output_loss: 0.0056 - ingredient_output_get_f1: 0.6267 - ingredient_output_top5_acc: 0.7706 - foodcategory_output_get_f1: 0.9283 - foodcategory_output_top5_acc: 0.9951 - vegan_output_get_f1: 0.9978 - vegan_output_top5_acc: 1.0000 - val_loss: 2.8001 - val_ingredient_output_loss: 0.0239 - val_foodcategory_output_loss: 2.0030 - val_vegan_output_loss: 0.7732 - val_ingredient_output_get_f1: 0.4710 - val_ingredient_output_top5_acc: 0.6627 - val_foodcategory_output_get_f1: 0.5963 - val_foodcategory_output_top5_acc: 0.8029 - val_vegan_output_get_f1: 0.9001 - val_vegan_output_top5_acc: 1.0000\n",
            "Epoch 42/50\n",
            "80000/80000 [==============================] - 65s 815us/step - loss: 0.2432 - ingredient_output_loss: 0.0147 - foodcategory_output_loss: 0.2230 - vegan_output_loss: 0.0056 - ingredient_output_get_f1: 0.6312 - ingredient_output_top5_acc: 0.7723 - foodcategory_output_get_f1: 0.9323 - foodcategory_output_top5_acc: 0.9955 - vegan_output_get_f1: 0.9978 - vegan_output_top5_acc: 1.0000 - val_loss: 2.9321 - val_ingredient_output_loss: 0.0236 - val_foodcategory_output_loss: 1.9994 - val_vegan_output_loss: 0.9091 - val_ingredient_output_get_f1: 0.4768 - val_ingredient_output_top5_acc: 0.6627 - val_foodcategory_output_get_f1: 0.6040 - val_foodcategory_output_top5_acc: 0.8038 - val_vegan_output_get_f1: 0.8986 - val_vegan_output_top5_acc: 1.0000\n",
            "Epoch 43/50\n",
            "80000/80000 [==============================] - 65s 815us/step - loss: 0.2364 - ingredient_output_loss: 0.0146 - foodcategory_output_loss: 0.2161 - vegan_output_loss: 0.0057 - ingredient_output_get_f1: 0.6346 - ingredient_output_top5_acc: 0.7757 - foodcategory_output_get_f1: 0.9346 - foodcategory_output_top5_acc: 0.9954 - vegan_output_get_f1: 0.9981 - vegan_output_top5_acc: 1.0000 - val_loss: 2.9981 - val_ingredient_output_loss: 0.0237 - val_foodcategory_output_loss: 2.0650 - val_vegan_output_loss: 0.9094 - val_ingredient_output_get_f1: 0.4766 - val_ingredient_output_top5_acc: 0.6645 - val_foodcategory_output_get_f1: 0.5985 - val_foodcategory_output_top5_acc: 0.8025 - val_vegan_output_get_f1: 0.9000 - val_vegan_output_top5_acc: 1.0000\n",
            "Epoch 44/50\n",
            "80000/80000 [==============================] - 65s 815us/step - loss: 0.2224 - ingredient_output_loss: 0.0145 - foodcategory_output_loss: 0.2022 - vegan_output_loss: 0.0057 - ingredient_output_get_f1: 0.6377 - ingredient_output_top5_acc: 0.7769 - foodcategory_output_get_f1: 0.9380 - foodcategory_output_top5_acc: 0.9964 - vegan_output_get_f1: 0.9982 - vegan_output_top5_acc: 1.0000 - val_loss: 2.9425 - val_ingredient_output_loss: 0.0236 - val_foodcategory_output_loss: 2.0534 - val_vegan_output_loss: 0.8654 - val_ingredient_output_get_f1: 0.4803 - val_ingredient_output_top5_acc: 0.6624 - val_foodcategory_output_get_f1: 0.6059 - val_foodcategory_output_top5_acc: 0.8036 - val_vegan_output_get_f1: 0.9014 - val_vegan_output_top5_acc: 1.0000\n",
            "Epoch 45/50\n",
            "80000/80000 [==============================] - 65s 815us/step - loss: 0.2148 - ingredient_output_loss: 0.0144 - foodcategory_output_loss: 0.1954 - vegan_output_loss: 0.0050 - ingredient_output_get_f1: 0.6409 - ingredient_output_top5_acc: 0.7799 - foodcategory_output_get_f1: 0.9398 - foodcategory_output_top5_acc: 0.9969 - vegan_output_get_f1: 0.9981 - vegan_output_top5_acc: 1.0000 - val_loss: 2.9690 - val_ingredient_output_loss: 0.0238 - val_foodcategory_output_loss: 2.0440 - val_vegan_output_loss: 0.9012 - val_ingredient_output_get_f1: 0.4764 - val_ingredient_output_top5_acc: 0.6644 - val_foodcategory_output_get_f1: 0.6027 - val_foodcategory_output_top5_acc: 0.7988 - val_vegan_output_get_f1: 0.9010 - val_vegan_output_top5_acc: 1.0000\n",
            "Epoch 46/50\n",
            "80000/80000 [==============================] - 65s 814us/step - loss: 0.2066 - ingredient_output_loss: 0.0142 - foodcategory_output_loss: 0.1865 - vegan_output_loss: 0.0059 - ingredient_output_get_f1: 0.6464 - ingredient_output_top5_acc: 0.7809 - foodcategory_output_get_f1: 0.9435 - foodcategory_output_top5_acc: 0.9965 - vegan_output_get_f1: 0.9980 - vegan_output_top5_acc: 1.0000 - val_loss: 2.7477 - val_ingredient_output_loss: 0.0237 - val_foodcategory_output_loss: 2.0837 - val_vegan_output_loss: 0.6403 - val_ingredient_output_get_f1: 0.4807 - val_ingredient_output_top5_acc: 0.6594 - val_foodcategory_output_get_f1: 0.6026 - val_foodcategory_output_top5_acc: 0.8065 - val_vegan_output_get_f1: 0.9017 - val_vegan_output_top5_acc: 1.0000\n",
            "Epoch 47/50\n",
            "80000/80000 [==============================] - 65s 815us/step - loss: 0.1944 - ingredient_output_loss: 0.0141 - foodcategory_output_loss: 0.1754 - vegan_output_loss: 0.0050 - ingredient_output_get_f1: 0.6497 - ingredient_output_top5_acc: 0.7831 - foodcategory_output_get_f1: 0.9465 - foodcategory_output_top5_acc: 0.9973 - vegan_output_get_f1: 0.9981 - vegan_output_top5_acc: 1.0000 - val_loss: 2.8570 - val_ingredient_output_loss: 0.0235 - val_foodcategory_output_loss: 2.0607 - val_vegan_output_loss: 0.7728 - val_ingredient_output_get_f1: 0.4826 - val_ingredient_output_top5_acc: 0.6643 - val_foodcategory_output_get_f1: 0.6086 - val_foodcategory_output_top5_acc: 0.8070 - val_vegan_output_get_f1: 0.8998 - val_vegan_output_top5_acc: 1.0000\n",
            "Epoch 48/50\n",
            "80000/80000 [==============================] - 65s 814us/step - loss: 0.1962 - ingredient_output_loss: 0.0140 - foodcategory_output_loss: 0.1770 - vegan_output_loss: 0.0052 - ingredient_output_get_f1: 0.6530 - ingredient_output_top5_acc: 0.7847 - foodcategory_output_get_f1: 0.9470 - foodcategory_output_top5_acc: 0.9972 - vegan_output_get_f1: 0.9981 - vegan_output_top5_acc: 1.0000 - val_loss: 2.8927 - val_ingredient_output_loss: 0.0235 - val_foodcategory_output_loss: 2.0359 - val_vegan_output_loss: 0.8334 - val_ingredient_output_get_f1: 0.4832 - val_ingredient_output_top5_acc: 0.6669 - val_foodcategory_output_get_f1: 0.6088 - val_foodcategory_output_top5_acc: 0.8054 - val_vegan_output_get_f1: 0.9014 - val_vegan_output_top5_acc: 1.0000\n",
            "Epoch 49/50\n",
            "80000/80000 [==============================] - 65s 815us/step - loss: 0.1866 - ingredient_output_loss: 0.0139 - foodcategory_output_loss: 0.1679 - vegan_output_loss: 0.0048 - ingredient_output_get_f1: 0.6542 - ingredient_output_top5_acc: 0.7867 - foodcategory_output_get_f1: 0.9493 - foodcategory_output_top5_acc: 0.9976 - vegan_output_get_f1: 0.9983 - vegan_output_top5_acc: 1.0000 - val_loss: 2.9300 - val_ingredient_output_loss: 0.0234 - val_foodcategory_output_loss: 2.0674 - val_vegan_output_loss: 0.8392 - val_ingredient_output_get_f1: 0.4865 - val_ingredient_output_top5_acc: 0.6662 - val_foodcategory_output_get_f1: 0.6084 - val_foodcategory_output_top5_acc: 0.8057 - val_vegan_output_get_f1: 0.9022 - val_vegan_output_top5_acc: 1.0000\n",
            "Epoch 50/50\n",
            "80000/80000 [==============================] - 65s 815us/step - loss: 0.1814 - ingredient_output_loss: 0.0138 - foodcategory_output_loss: 0.1626 - vegan_output_loss: 0.0050 - ingredient_output_get_f1: 0.6567 - ingredient_output_top5_acc: 0.7872 - foodcategory_output_get_f1: 0.9513 - foodcategory_output_top5_acc: 0.9974 - vegan_output_get_f1: 0.9981 - vegan_output_top5_acc: 1.0000 - val_loss: 2.9155 - val_ingredient_output_loss: 0.0235 - val_foodcategory_output_loss: 2.0869 - val_vegan_output_loss: 0.8051 - val_ingredient_output_get_f1: 0.4878 - val_ingredient_output_top5_acc: 0.6651 - val_foodcategory_output_get_f1: 0.6079 - val_foodcategory_output_top5_acc: 0.8013 - val_vegan_output_get_f1: 0.9007 - val_vegan_output_top5_acc: 1.0000\n"
          ],
          "name": "stdout"
        },
        {
          "output_type": "execute_result",
          "data": {
            "text/plain": [
              "<keras.callbacks.History at 0x7f32ead622e8>"
            ]
          },
          "metadata": {
            "tags": []
          },
          "execution_count": 30
        }
      ]
    },
    {
      "cell_type": "code",
      "metadata": {
        "id": "coXUUopH2JZv",
        "colab_type": "code",
        "colab": {}
      },
      "source": [
        ""
      ],
      "execution_count": 0,
      "outputs": []
    },
    {
      "cell_type": "code",
      "metadata": {
        "colab_type": "code",
        "id": "iFYD_VXpFRD2",
        "colab": {
          "base_uri": "https://localhost:8080/",
          "height": 88
        },
        "outputId": "e0538572-ac8e-443c-fbdd-2b6817951d65"
      },
      "source": [
        "## prediction on test\n",
        "\n",
        "results = model_C.evaluate(test_X, [test_Y2,test_Y1, test_Y3], batch_size=128)\n",
        "print(results)\n",
        "'''print('Ingredient F1:', results[3])\n",
        "print('Ingredient Top5:', results[4])\n",
        "print('Food F1:', results[5])\n",
        "print('Food Top5:', results[6])'''\n",
        "\n",
        "print('Generate predictions for all samples')\n",
        "predictions = model_C.predict(test_X)\n",
        "\n",
        "\n",
        "predictions_ingredients=1*(predictions[0] >= 0.5)\n",
        "predictions_vegan=1*(predictions[2] >= 0.5)\n",
        "#predictions_ingredients"
      ],
      "execution_count": 31,
      "outputs": [
        {
          "output_type": "stream",
          "text": [
            "33154/33154 [==============================] - 9s 273us/step\n",
            "[3.0167337728652703, 0.02361303513098045, 2.137380846254197, 0.8557398923277189, 0.4752681680774706, 0.6534053206249623, 0.5973330308892381, 0.8011401339204922, 0.842111495397358, 1.0]\n",
            "Generate predictions for all samples\n"
          ],
          "name": "stdout"
        }
      ]
    },
    {
      "cell_type": "code",
      "metadata": {
        "id": "qFcw5LAY280S",
        "colab_type": "code",
        "colab": {
          "base_uri": "https://localhost:8080/",
          "height": 119
        },
        "outputId": "eac70435-84a0-469e-9aec-c3fb342a2668"
      },
      "source": [
        "print('Ingredient F1:', results[4])\n",
        "print('Ingredient Top5:', results[5])\n",
        "print('Food F1:', results[6])\n",
        "print('Food Top5:', results[7])\n",
        "print('Vegan F1:', results[8])\n",
        "print('Vegan Top5:', results[9])"
      ],
      "execution_count": 32,
      "outputs": [
        {
          "output_type": "stream",
          "text": [
            "Ingredient F1: 0.4752681680774706\n",
            "Ingredient Top5: 0.6534053206249623\n",
            "Food F1: 0.5973330308892381\n",
            "Food Top5: 0.8011401339204922\n",
            "Vegan F1: 0.842111495397358\n",
            "Vegan Top5: 1.0\n"
          ],
          "name": "stdout"
        }
      ]
    },
    {
      "cell_type": "code",
      "metadata": {
        "colab_type": "code",
        "id": "kXwk44FhFREK",
        "colab": {
          "base_uri": "https://localhost:8080/",
          "height": 1000
        },
        "outputId": "2dcd8adf-24be-4a4c-eea4-b9aeec1de363"
      },
      "source": [
        "from sklearn.metrics import classification_report\n",
        "print(classification_report(test_Y2, predictions_ingredients))"
      ],
      "execution_count": 33,
      "outputs": [
        {
          "output_type": "stream",
          "text": [
            "              precision    recall  f1-score   support\n",
            "\n",
            "           0       0.66      0.35      0.45      6698\n",
            "           1       0.58      0.30      0.40       666\n",
            "           2       0.57      0.02      0.04       731\n",
            "           3       0.69      0.33      0.45       144\n",
            "           4       0.67      0.69      0.68       435\n",
            "           5       0.00      0.00      0.00        10\n",
            "           6       0.00      0.00      0.00        24\n",
            "           7       0.00      0.00      0.00        46\n",
            "           8       0.62      0.63      0.62       868\n",
            "           9       0.00      0.00      0.00       365\n",
            "          10       0.00      0.00      0.00        41\n",
            "          11       0.66      0.22      0.33       699\n",
            "          12       0.48      0.08      0.13       387\n",
            "          13       0.78      0.15      0.25      1639\n",
            "          14       0.00      0.00      0.00        76\n",
            "          15       0.75      0.18      0.30      4353\n",
            "          16       0.42      0.08      0.13      1138\n",
            "          17       0.66      0.32      0.43      1570\n",
            "          18       0.00      0.00      0.00        41\n",
            "          19       0.00      0.00      0.00        99\n",
            "          20       0.88      0.59      0.71       218\n",
            "          21       0.68      0.01      0.03      3886\n",
            "          22       0.74      0.56      0.63       187\n",
            "          23       0.00      0.00      0.00         7\n",
            "          24       0.82      0.44      0.57       493\n",
            "          25       0.00      0.00      0.00        78\n",
            "          26       0.00      0.00      0.00       213\n",
            "          27       0.75      0.00      0.00      1370\n",
            "          28       0.00      0.00      0.00        49\n",
            "          29       0.85      0.58      0.69       460\n",
            "          30       0.00      0.00      0.00       101\n",
            "          31       0.66      0.73      0.69       267\n",
            "          32       0.62      0.09      0.16       315\n",
            "          33       0.74      0.75      0.74       255\n",
            "          34       0.00      0.00      0.00        18\n",
            "          35       0.00      0.00      0.00         9\n",
            "          36       0.00      0.00      0.00         6\n",
            "          37       0.00      0.00      0.00        17\n",
            "          38       0.00      0.00      0.00        18\n",
            "          39       0.65      0.36      0.47       222\n",
            "          40       0.00      0.00      0.00        48\n",
            "          41       0.99      0.82      0.89       201\n",
            "          42       0.00      0.00      0.00        88\n",
            "          43       0.00      0.00      0.00       303\n",
            "          44       0.00      0.00      0.00        17\n",
            "          45       0.00      0.00      0.00        47\n",
            "          46       0.71      0.42      0.53       970\n",
            "          47       0.00      0.00      0.00        64\n",
            "          48       0.00      0.00      0.00        86\n",
            "          49       0.75      0.21      0.33       361\n",
            "          50       0.00      0.00      0.00        16\n",
            "          51       0.71      0.35      0.47       635\n",
            "          52       0.92      0.87      0.89       221\n",
            "          53       0.58      0.18      0.28       325\n",
            "          54       0.00      0.00      0.00        95\n",
            "          55       0.79      0.35      0.48       269\n",
            "          56       0.70      0.12      0.20       548\n",
            "          57       0.74      0.41      0.53       466\n",
            "          58       0.67      0.22      0.33      3241\n",
            "          59       0.64      0.18      0.28      1103\n",
            "          60       0.70      0.46      0.55       314\n",
            "          61       0.00      0.00      0.00        24\n",
            "          62       0.77      0.36      0.49       202\n",
            "          63       0.76      0.33      0.46      1003\n",
            "          64       0.00      0.00      0.00         5\n",
            "          65       0.00      0.00      0.00       154\n",
            "          66       0.50      0.01      0.01       171\n",
            "          67       0.00      0.00      0.00        39\n",
            "          68       0.66      0.78      0.71      1684\n",
            "          69       0.46      0.24      0.32       125\n",
            "          70       0.00      0.00      0.00        61\n",
            "          71       0.73      0.06      0.11       138\n",
            "          72       0.00      0.00      0.00         5\n",
            "          73       0.55      0.50      0.52       249\n",
            "          74       0.84      0.16      0.27       196\n",
            "          75       0.86      0.89      0.87       221\n",
            "          76       0.73      0.72      0.73       145\n",
            "          77       0.00      0.00      0.00        25\n",
            "          78       0.00      0.00      0.00         9\n",
            "          79       0.00      0.00      0.00        16\n",
            "          80       0.58      0.13      0.22       305\n",
            "          81       0.64      0.56      0.59      1415\n",
            "          82       0.71      0.56      0.63      1147\n",
            "          83       0.59      0.53      0.56      1669\n",
            "          84       0.58      0.26      0.36       795\n",
            "          85       0.55      0.40      0.46       337\n",
            "          86       1.00      0.03      0.06       132\n",
            "          87       0.00      0.00      0.00        36\n",
            "          88       0.00      0.00      0.00        22\n",
            "          89       0.80      0.61      0.70       179\n",
            "          90       0.64      0.16      0.25       680\n",
            "          91       0.00      0.00      0.00        40\n",
            "          92       0.64      0.46      0.54       317\n",
            "          93       0.00      0.00      0.00         5\n",
            "          94       0.33      0.01      0.02       554\n",
            "          95       0.65      0.19      0.30      1936\n",
            "          96       0.64      0.30      0.41        47\n",
            "          97       0.83      0.24      0.37       326\n",
            "          98       0.67      0.22      0.33       209\n",
            "          99       0.00      0.00      0.00        33\n",
            "         100       0.00      0.00      0.00         9\n",
            "         101       0.83      0.51      0.63       197\n",
            "         102       0.67      0.34      0.45       210\n",
            "         103       0.00      0.00      0.00         3\n",
            "         104       0.82      0.34      0.48       120\n",
            "         105       0.95      0.77      0.85        93\n",
            "         106       0.00      0.00      0.00         2\n",
            "         107       0.00      0.00      0.00        17\n",
            "         108       0.73      0.35      0.47       171\n",
            "         109       0.71      0.28      0.41       342\n",
            "         110       0.00      0.00      0.00        13\n",
            "         111       0.00      0.00      0.00         9\n",
            "         112       0.49      0.25      0.33       138\n",
            "         113       0.87      0.63      0.73      1817\n",
            "         114       0.85      0.53      0.65       135\n",
            "         115       0.00      0.00      0.00         4\n",
            "         116       0.00      0.00      0.00         4\n",
            "         117       0.00      0.00      0.00        43\n",
            "         118       0.95      0.77      0.85        93\n",
            "         119       0.00      0.00      0.00        14\n",
            "         120       0.00      0.00      0.00        66\n",
            "         121       0.79      0.56      0.66      1051\n",
            "         122       0.66      0.46      0.54      1130\n",
            "         123       0.88      0.26      0.40       309\n",
            "         124       0.57      0.72      0.64       174\n",
            "         125       0.70      0.48      0.57      1113\n",
            "         126       0.00      0.00      0.00        16\n",
            "         127       0.00      0.00      0.00        11\n",
            "         128       0.58      0.42      0.49       241\n",
            "         129       0.49      0.19      0.27       156\n",
            "         130       0.68      0.52      0.59      1009\n",
            "         131       0.00      0.00      0.00        43\n",
            "         132       0.90      0.84      0.87       281\n",
            "         133       0.62      0.16      0.25       257\n",
            "         134       0.00      0.00      0.00        46\n",
            "         135       0.70      0.57      0.63      2134\n",
            "         136       0.56      0.43      0.49       443\n",
            "         137       0.00      0.00      0.00        33\n",
            "         138       0.62      0.44      0.52       343\n",
            "         139       0.00      0.00      0.00        23\n",
            "         140       0.44      0.07      0.12       289\n",
            "         141       0.75      0.32      0.44       206\n",
            "         142       0.81      0.52      0.63       218\n",
            "         143       0.00      0.00      0.00        85\n",
            "         144       0.86      0.57      0.69       173\n",
            "         145       0.00      0.00      0.00        38\n",
            "         146       0.64      0.59      0.61       419\n",
            "         147       0.00      0.00      0.00         5\n",
            "         148       0.83      0.28      0.42       217\n",
            "         149       0.79      0.49      0.61       193\n",
            "         150       0.69      0.77      0.73       106\n",
            "         151       0.65      0.20      0.30       143\n",
            "         152       0.00      0.00      0.00        39\n",
            "         153       0.00      0.00      0.00         2\n",
            "         154       0.00      0.00      0.00        24\n",
            "         155       0.54      0.62      0.58       163\n",
            "         156       0.79      0.57      0.67       330\n",
            "         157       0.00      0.00      0.00        90\n",
            "         158       0.63      0.52      0.57       848\n",
            "         159       0.89      0.61      0.73       176\n",
            "         160       0.00      0.00      0.00        40\n",
            "         161       0.62      0.58      0.60       300\n",
            "         162       0.90      0.54      0.67       454\n",
            "         163       0.00      0.00      0.00        14\n",
            "         164       0.00      0.00      0.00        31\n",
            "         165       0.00      0.00      0.00         3\n",
            "         166       0.00      0.00      0.00        13\n",
            "         167       0.00      0.00      0.00         2\n",
            "         168       0.00      0.00      0.00        17\n",
            "         169       0.00      0.00      0.00         8\n",
            "         170       0.00      0.00      0.00        57\n",
            "         171       0.69      0.67      0.68       172\n",
            "         172       0.60      0.53      0.56       966\n",
            "         173       0.62      0.60      0.61       503\n",
            "         174       0.61      0.31      0.41       243\n",
            "         175       0.00      0.00      0.00        25\n",
            "         176       0.00      0.00      0.00        14\n",
            "         177       0.68      0.55      0.61       205\n",
            "         178       0.49      0.27      0.35       237\n",
            "         179       0.00      0.00      0.00        25\n",
            "         180       0.77      0.76      0.76       230\n",
            "         181       0.87      0.47      0.61       194\n",
            "         182       0.00      0.00      0.00        26\n",
            "         183       0.00      0.00      0.00        19\n",
            "         184       0.69      0.20      0.32       454\n",
            "         185       0.75      0.14      0.23       109\n",
            "         186       0.00      0.00      0.00         2\n",
            "         187       0.89      0.67      0.77       119\n",
            "         188       0.38      0.32      0.35        74\n",
            "         189       0.73      0.53      0.62       233\n",
            "         190       0.90      0.68      0.78       209\n",
            "         191       0.00      0.00      0.00         3\n",
            "         192       0.44      0.37      0.40       138\n",
            "         193       0.00      0.00      0.00        33\n",
            "         194       0.00      0.00      0.00        38\n",
            "         195       1.00      0.01      0.01       157\n",
            "         196       0.77      0.51      0.62       253\n",
            "         197       0.00      0.00      0.00        99\n",
            "         198       0.79      0.55      0.65       164\n",
            "         199       0.00      0.00      0.00         4\n",
            "         200       0.93      0.47      0.62       304\n",
            "         201       0.65      0.54      0.59       185\n",
            "         202       0.50      0.26      0.35       250\n",
            "         203       0.33      0.05      0.09       110\n",
            "         204       0.53      0.38      0.45       102\n",
            "         205       0.89      0.86      0.88       258\n",
            "         206       0.00      0.00      0.00        27\n",
            "         207       0.92      0.27      0.41       211\n",
            "         208       0.49      0.28      0.36       108\n",
            "         209       0.00      0.00      0.00        25\n",
            "         210       0.72      0.59      0.65       397\n",
            "         211       0.68      0.85      0.75       248\n",
            "         212       0.00      0.00      0.00        16\n",
            "         213       0.73      0.69      0.71       149\n",
            "         214       0.00      0.00      0.00         5\n",
            "         215       0.00      0.00      0.00        12\n",
            "         216       0.73      0.32      0.44       111\n",
            "         217       0.81      0.44      0.57       423\n",
            "         218       0.00      0.00      0.00         4\n",
            "         219       0.70      0.55      0.61       218\n",
            "         220       0.00      0.00      0.00        57\n",
            "         221       0.73      0.74      0.73       199\n",
            "         222       0.40      0.51      0.45        80\n",
            "         223       0.94      0.79      0.86       285\n",
            "         224       0.21      0.06      0.09        51\n",
            "         225       0.00      0.00      0.00         4\n",
            "         226       0.00      0.00      0.00        32\n",
            "         227       0.00      0.00      0.00        13\n",
            "         228       0.00      0.00      0.00         2\n",
            "         229       0.54      0.52      0.53       461\n",
            "         230       0.55      0.58      0.57       169\n",
            "         231       0.00      0.00      0.00        31\n",
            "         232       0.00      0.00      0.00         9\n",
            "         233       0.61      0.26      0.37       243\n",
            "         234       0.00      0.00      0.00         6\n",
            "         235       0.64      0.70      0.67       986\n",
            "         236       0.00      0.00      0.00        36\n",
            "         237       0.77      0.71      0.74       199\n",
            "         238       0.82      0.41      0.55       187\n",
            "         239       0.00      0.00      0.00        20\n",
            "         240       0.00      0.00      0.00        19\n",
            "         241       0.00      0.00      0.00       370\n",
            "         242       0.00      0.00      0.00        17\n",
            "         243       0.00      0.00      0.00         4\n",
            "         244       0.00      0.00      0.00         1\n",
            "         245       0.52      0.24      0.33       138\n",
            "         246       0.68      0.71      0.70       574\n",
            "         247       0.00      0.00      0.00        68\n",
            "         248       0.80      0.66      0.72       751\n",
            "         249       0.52      0.18      0.27        65\n",
            "         250       0.71      0.52      0.60       525\n",
            "         251       0.00      0.00      0.00         7\n",
            "         252       0.60      0.56      0.58       300\n",
            "         253       0.00      0.00      0.00        60\n",
            "         254       0.53      0.47      0.50       354\n",
            "         255       0.65      0.88      0.75       243\n",
            "         256       0.68      0.52      0.59       184\n",
            "         257       0.72      0.63      0.67       283\n",
            "         258       0.00      0.00      0.00       102\n",
            "         259       0.00      0.00      0.00         4\n",
            "         260       0.82      0.80      0.81       205\n",
            "         261       0.00      0.00      0.00        32\n",
            "         262       0.00      0.00      0.00        40\n",
            "         263       0.00      0.00      0.00         7\n",
            "         264       0.58      0.18      0.28       429\n",
            "         265       0.00      0.00      0.00       109\n",
            "         266       0.00      0.00      0.00       107\n",
            "         267       0.49      0.25      0.33       146\n",
            "         268       0.00      0.00      0.00        56\n",
            "         269       0.90      0.52      0.66       156\n",
            "         270       0.00      0.00      0.00        73\n",
            "         271       0.00      0.00      0.00       147\n",
            "         272       0.00      0.00      0.00        34\n",
            "         273       0.74      0.65      0.69       130\n",
            "         274       0.79      0.72      0.75      2078\n",
            "         275       0.00      0.00      0.00        73\n",
            "         276       0.00      0.00      0.00        12\n",
            "         277       0.00      0.00      0.00        68\n",
            "         278       0.71      0.01      0.02      1230\n",
            "         279       0.79      0.35      0.49       124\n",
            "         280       0.00      0.00      0.00         2\n",
            "         281       0.00      0.00      0.00        99\n",
            "         282       0.82      0.41      0.55       103\n",
            "         283       0.00      0.00      0.00        77\n",
            "         284       0.85      0.92      0.88       287\n",
            "         285       0.00      0.00      0.00        67\n",
            "         286       0.64      0.43      0.51       298\n",
            "         287       0.00      0.00      0.00         7\n",
            "         288       0.77      0.66      0.71       256\n",
            "         289       0.00      0.00      0.00        56\n",
            "         290       0.00      0.00      0.00         5\n",
            "         291       0.67      0.07      0.13        54\n",
            "         292       0.56      0.36      0.44        91\n",
            "         293       0.81      0.41      0.55        94\n",
            "         294       0.59      0.33      0.42       427\n",
            "         295       0.61      0.67      0.64       685\n",
            "         296       0.29      0.06      0.10       115\n",
            "         297       0.90      0.68      0.77       152\n",
            "         298       0.00      0.00      0.00         4\n",
            "         299       0.84      0.86      0.85       148\n",
            "         300       0.97      0.50      0.66       137\n",
            "         301       0.49      0.53      0.51       350\n",
            "         302       0.00      0.00      0.00        94\n",
            "         303       0.57      0.66      0.61       187\n",
            "         304       0.00      0.00      0.00        19\n",
            "         305       0.00      0.00      0.00        23\n",
            "         306       0.78      0.53      0.63        60\n",
            "         307       0.00      0.00      0.00         9\n",
            "         308       0.00      0.00      0.00         2\n",
            "         309       0.72      0.39      0.51       176\n",
            "         310       0.00      0.00      0.00         9\n",
            "         311       0.00      0.00      0.00        33\n",
            "         312       0.00      0.00      0.00         9\n",
            "         313       0.00      0.00      0.00         8\n",
            "         314       0.00      0.00      0.00         2\n",
            "         315       0.00      0.00      0.00        76\n",
            "         316       0.00      0.00      0.00         8\n",
            "         317       0.94      0.67      0.78       114\n",
            "         318       0.90      0.78      0.84       159\n",
            "         319       0.00      0.00      0.00         4\n",
            "         320       0.68      0.69      0.68       140\n",
            "         321       0.00      0.00      0.00        29\n",
            "         322       0.80      0.71      0.75       168\n",
            "         323       0.85      0.56      0.67       147\n",
            "         324       0.87      0.47      0.61       286\n",
            "         325       0.38      0.42      0.40       228\n",
            "         326       0.67      0.46      0.55       157\n",
            "         327       0.44      0.25      0.32       267\n",
            "         328       0.63      0.56      0.60       707\n",
            "         329       0.73      0.79      0.75       305\n",
            "         330       0.63      0.70      0.66       238\n",
            "         331       0.66      0.71      0.68       256\n",
            "         332       0.00      0.00      0.00         5\n",
            "         333       0.58      0.29      0.39       262\n",
            "         334       0.00      0.00      0.00        15\n",
            "         335       0.82      0.60      0.70       162\n",
            "         336       0.79      0.65      0.71       300\n",
            "         337       0.00      0.00      0.00        34\n",
            "         338       0.88      0.48      0.62       224\n",
            "         339       0.77      0.51      0.61       175\n",
            "         340       0.76      0.62      0.68       175\n",
            "         341       0.00      0.00      0.00        19\n",
            "         342       0.76      0.30      0.43        92\n",
            "         343       0.00      0.00      0.00        28\n",
            "         344       0.60      0.40      0.48        97\n",
            "         345       0.92      0.77      0.84       219\n",
            "         346       0.00      0.00      0.00        13\n",
            "         347       0.00      0.00      0.00        48\n",
            "         348       0.60      0.61      0.61       191\n",
            "         349       0.72      0.63      0.67       214\n",
            "         350       0.84      0.82      0.83       143\n",
            "         351       0.00      0.00      0.00        25\n",
            "         352       0.00      0.00      0.00         2\n",
            "\n",
            "   micro avg       0.69      0.38      0.49     99692\n",
            "   macro avg       0.39      0.26      0.29     99692\n",
            "weighted avg       0.65      0.38      0.44     99692\n",
            " samples avg       0.56      0.41      0.45     99692\n",
            "\n"
          ],
          "name": "stdout"
        },
        {
          "output_type": "stream",
          "text": [
            "/usr/local/lib/python3.6/dist-packages/sklearn/metrics/classification.py:1437: UndefinedMetricWarning: Precision and F-score are ill-defined and being set to 0.0 in labels with no predicted samples.\n",
            "  'precision', 'predicted', average, warn_for)\n",
            "/usr/local/lib/python3.6/dist-packages/sklearn/metrics/classification.py:1437: UndefinedMetricWarning: Precision and F-score are ill-defined and being set to 0.0 in samples with no predicted labels.\n",
            "  'precision', 'predicted', average, warn_for)\n"
          ],
          "name": "stderr"
        }
      ]
    },
    {
      "cell_type": "code",
      "metadata": {
        "id": "123gjUtUv7hy",
        "colab_type": "code",
        "colab": {
          "base_uri": "https://localhost:8080/",
          "height": 170
        },
        "outputId": "964710f3-f5da-4244-e806-cf3d22ef87af"
      },
      "source": [
        "print(classification_report(test_Y3, predictions_vegan))"
      ],
      "execution_count": 34,
      "outputs": [
        {
          "output_type": "stream",
          "text": [
            "              precision    recall  f1-score   support\n",
            "\n",
            "           0       0.82      0.38      0.52      6666\n",
            "           1       0.86      0.98      0.92     26488\n",
            "\n",
            "    accuracy                           0.86     33154\n",
            "   macro avg       0.84      0.68      0.72     33154\n",
            "weighted avg       0.85      0.86      0.84     33154\n",
            "\n"
          ],
          "name": "stdout"
        }
      ]
    },
    {
      "cell_type": "code",
      "metadata": {
        "id": "_3APWcasioM9",
        "colab_type": "code",
        "colab": {}
      },
      "source": [
        ""
      ],
      "execution_count": 0,
      "outputs": []
    }
  ]
}