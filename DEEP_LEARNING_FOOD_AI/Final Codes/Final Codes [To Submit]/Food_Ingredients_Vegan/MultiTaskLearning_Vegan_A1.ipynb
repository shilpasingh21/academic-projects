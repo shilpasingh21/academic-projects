{
  "nbformat": 4,
  "nbformat_minor": 0,
  "metadata": {
    "colab": {
      "name": "MultiTaskLearning_Vegan_A1_TP.ipynb",
      "provenance": [],
      "collapsed_sections": [],
      "machine_shape": "hm"
    },
    "kernelspec": {
      "name": "python3",
      "display_name": "Python 3"
    },
    "accelerator": "GPU"
  },
  "cells": [
    {
      "cell_type": "code",
      "metadata": {
        "id": "MSL_1hddd-Fp",
        "colab_type": "code",
        "colab": {}
      },
      "source": [
        "from google.colab import drive,files"
      ],
      "execution_count": 0,
      "outputs": []
    },
    {
      "cell_type": "code",
      "metadata": {
        "id": "s03xL2HmfQwY",
        "colab_type": "code",
        "outputId": "fb14fd50-233a-4ae1-a0ad-ca20efd39933",
        "colab": {
          "base_uri": "https://localhost:8080/",
          "height": 121
        }
      },
      "source": [
        "drive.mount('/content/gdrive')"
      ],
      "execution_count": 5,
      "outputs": [
        {
          "output_type": "stream",
          "text": [
            "Go to this URL in a browser: https://accounts.google.com/o/oauth2/auth?client_id=947318989803-6bn6qk8qdgf4n4g3pfee6491hc0brc4i.apps.googleusercontent.com&redirect_uri=urn%3aietf%3awg%3aoauth%3a2.0%3aoob&response_type=code&scope=email%20https%3a%2f%2fwww.googleapis.com%2fauth%2fdocs.test%20https%3a%2f%2fwww.googleapis.com%2fauth%2fdrive%20https%3a%2f%2fwww.googleapis.com%2fauth%2fdrive.photos.readonly%20https%3a%2f%2fwww.googleapis.com%2fauth%2fpeopleapi.readonly\n",
            "\n",
            "Enter your authorization code:\n",
            "··········\n",
            "Mounted at /content/gdrive\n"
          ],
          "name": "stdout"
        }
      ]
    },
    {
      "cell_type": "code",
      "metadata": {
        "id": "CaR7YECifYlg",
        "colab_type": "code",
        "outputId": "0c1158eb-98f4-4a48-a564-5574490c856b",
        "colab": {
          "base_uri": "https://localhost:8080/",
          "height": 79
        }
      },
      "source": [
        "# Imports go here\n",
        "import pickle\n",
        "import numpy as np\n",
        "from keras.utils import plot_model\n",
        "from keras.models import Sequential\n",
        "from keras.models import Model\n",
        "from keras.optimizers import Adam\n",
        "from keras.optimizers import Nadam\n",
        "import matplotlib.pyplot as plt\n",
        "import numpy as np\n",
        "import keras\n",
        "from keras.layers import Dense\n",
        "from keras.layers import Input\n",
        "from keras.layers import Dropout\n",
        "from keras.layers import Flatten\n",
        "from keras.layers import Dense, Activation,BatchNormalization\n",
        "import pandas as pd\n",
        "from keras.layers import Conv2D, MaxPooling2D\n",
        "from keras import backend as K\n",
        "from sklearn.model_selection import GridSearchCV\n",
        "from sklearn.metrics import classification_report"
      ],
      "execution_count": 6,
      "outputs": [
        {
          "output_type": "stream",
          "text": [
            "Using TensorFlow backend.\n"
          ],
          "name": "stderr"
        },
        {
          "output_type": "display_data",
          "data": {
            "text/html": [
              "<p style=\"color: red;\">\n",
              "The default version of TensorFlow in Colab will soon switch to TensorFlow 2.x.<br>\n",
              "We recommend you <a href=\"https://www.tensorflow.org/guide/migrate\" target=\"_blank\">upgrade</a> now \n",
              "or ensure your notebook will continue to use TensorFlow 1.x via the <code>%tensorflow_version 1.x</code> magic:\n",
              "<a href=\"https://colab.research.google.com/notebooks/tensorflow_version.ipynb\" target=\"_blank\">more info</a>.</p>\n"
            ],
            "text/plain": [
              "<IPython.core.display.HTML object>"
            ]
          },
          "metadata": {
            "tags": []
          }
        }
      ]
    },
    {
      "cell_type": "code",
      "metadata": {
        "id": "3fxklw6lQvji",
        "colab_type": "code",
        "colab": {}
      },
      "source": [
        "# dir path\n",
        "datadirpath = 'gdrive/My Drive/DL Project/Data/ready_chinese_food'\n",
        "labeldirpath = 'gdrive/My Drive/DL Project/Data/SplitAndIngreLabel/IngreLabel.txt'\n",
        "IngredientList = 'gdrive/My Drive/DL Project/Data/SplitAndIngreLabel/IngredientList.txt'\n",
        "IngredientTypeSheet = 'gdrive/My Drive/DL Project/Data/SplitAndIngreLabel/IngredientType.xlsx'\n",
        "\n",
        "trainlistpath = 'gdrive/My Drive/DL Project/Data/SplitAndIngreLabel/TR.txt'\n",
        "vallistpath = 'gdrive/My Drive/DL Project/Data/SplitAndIngreLabel/VAL.txt'\n",
        "testlistpath = 'gdrive/My Drive/DL Project/Data/SplitAndIngreLabel/TE.txt'\n",
        "\n",
        "pickletraindata_X = 'gdrive/My Drive/DL Project/PickleFiles/vgg_features_train_full.pkl'\n",
        "picklevaldata_X = 'gdrive/My Drive/DL Project/PickleFiles/vgg_features_val_full.pkl'\n",
        "pickletestdata_X = 'gdrive/My Drive/DL Project/PickleFiles/vgg_features_test_full.pkl'\n",
        "\n",
        "pickletraindata_Y1 = 'gdrive/My Drive/DL Project/PickleFiles/pickleTrainFull_Y1.pkl'\n",
        "picklevaldata_Y1 = 'gdrive/My Drive/DL Project/PickleFiles/pickleValFull_Y1.pkl'\n",
        "pickletestdata_Y1 = 'gdrive/My Drive/DL Project/PickleFiles/pickleTestFull_Y1.pkl'\n",
        "\n",
        "pickletraindata_Y2 = 'gdrive/My Drive/DL Project/PickleFiles/pickleTrainFull_Y2.pkl'\n",
        "picklevaldata_Y2 = 'gdrive/My Drive/DL Project/PickleFiles/pickleValFull_Y2.pkl'\n",
        "pickletestdata_Y2 = 'gdrive/My Drive/DL Project/PickleFiles/pickleTestFull_Y2.pkl'\n",
        "\n",
        "pickletraindata_Y3 = 'gdrive/My Drive/DL Project/PickleFiles/pickleTrainFull_Y3.pkl'\n",
        "picklevaldata_Y3 = 'gdrive/My Drive/DL Project/PickleFiles/pickleValFull_Y3.pkl'\n",
        "pickletestdata_Y3 = 'gdrive/My Drive/DL Project/PickleFiles/pickleTestFull_Y3.pkl'\n",
        "\n",
        "credentialFile = 'gdrive/My Drive/DL Project/Credentials/Food-Ingredient-cred.json'\n",
        "#pickleModelC_IngFood.pkl\n",
        "#Models Pickled\n",
        "pickleModelA1_IngFood = 'gdrive/My Drive/DL Project/PickleFiles/pickleModelA1_IngFood.pkl'\n",
        "\n",
        "pickletraindata_X_new= 'gdrive/My Drive/DL Project/PickleFiles/vgg_features_train_balancedfull.pkl'\n",
        "\n",
        "pickletraindata_Y1_new = 'gdrive/My Drive/DL Project/PickleFiles/pickleTrainBalanced_Y1full.pkl'\n",
        "\n",
        "pickletraindata_Y2_new = 'gdrive/My Drive/DL Project/PickleFiles/pickleTrainBalanced_Y2full.pkl'\n",
        "\n",
        "pickletraindata_Y3_new = 'gdrive/My Drive/DL Project/PickleFiles/pickleTrainBalanced_Y3full.pkl'\n",
        "\n"
      ],
      "execution_count": 0,
      "outputs": []
    },
    {
      "cell_type": "code",
      "metadata": {
        "id": "rGpQVnlxNDwZ",
        "colab_type": "code",
        "colab": {
          "base_uri": "https://localhost:8080/",
          "height": 54
        },
        "outputId": "a170ba73-8b2b-426f-9be9-497af236acb7"
      },
      "source": [
        "'''train_X = pickle.load(open(pickletraindata_X_new,'rb'))\n",
        "train_Y1 = pickle.load(open(pickletraindata_Y1_new,'rb'))\n",
        "train_Y2 = pickle.load(open(pickletraindata_Y2_new,'rb'))\n",
        "train_Y3 = pickle.load(open(pickletraindata_Y3_new,'rb'))'''"
      ],
      "execution_count": 8,
      "outputs": [
        {
          "output_type": "execute_result",
          "data": {
            "text/plain": [
              "\"train_X = pickle.load(open(pickletraindata_X_new,'rb'))\\ntrain_Y1 = pickle.load(open(pickletraindata_Y1_new,'rb'))\\ntrain_Y2 = pickle.load(open(pickletraindata_Y2_new,'rb'))\\ntrain_Y3 = pickle.load(open(pickletraindata_Y3_new,'rb'))\""
            ]
          },
          "metadata": {
            "tags": []
          },
          "execution_count": 8
        }
      ]
    },
    {
      "cell_type": "code",
      "metadata": {
        "id": "_ciOY68gNj0q",
        "colab_type": "code",
        "colab": {}
      },
      "source": [
        "#len(train_X),len(train_X[0]),len(train_X[0][0]),len(train_X[0][0][0]),len(train_X[0][0][0][0]),len(train_Y1),len(train_Y2),len(train_Y3)"
      ],
      "execution_count": 0,
      "outputs": []
    },
    {
      "cell_type": "markdown",
      "metadata": {
        "id": "7JJ1ntQqZ4fQ",
        "colab_type": "text"
      },
      "source": [
        "Loading train_X"
      ]
    },
    {
      "cell_type": "code",
      "metadata": {
        "id": "RM_eCqAbQx8P",
        "colab_type": "code",
        "outputId": "1a41a0db-968d-457b-9e48-f351d6e5f769",
        "colab": {
          "base_uri": "https://localhost:8080/",
          "height": 34
        }
      },
      "source": [
        "train_X = pickle.load(open(pickletraindata_X_new, 'rb' ))\n",
        "train_X = np.array(train_X)\n",
        "print(train_X.shape)"
      ],
      "execution_count": 10,
      "outputs": [
        {
          "output_type": "stream",
          "text": [
            "(80000, 1, 7, 7, 512)\n"
          ],
          "name": "stdout"
        }
      ]
    },
    {
      "cell_type": "code",
      "metadata": {
        "id": "TYf9o8Tykikg",
        "colab_type": "code",
        "outputId": "311a32d9-816c-4536-d28d-deb7391e6254",
        "colab": {
          "base_uri": "https://localhost:8080/",
          "height": 34
        }
      },
      "source": [
        "train_X=train_X.reshape(train_X.shape[0],7,7,512)\n",
        "print(train_X.shape)"
      ],
      "execution_count": 11,
      "outputs": [
        {
          "output_type": "stream",
          "text": [
            "(80000, 7, 7, 512)\n"
          ],
          "name": "stdout"
        }
      ]
    },
    {
      "cell_type": "markdown",
      "metadata": {
        "id": "_GhTSUa-Z8qQ",
        "colab_type": "text"
      },
      "source": [
        "Loading train_Y1"
      ]
    },
    {
      "cell_type": "code",
      "metadata": {
        "id": "BJhkgFrmQ4ri",
        "colab_type": "code",
        "outputId": "40cb7ebb-ca05-4fed-b47d-a6e8542da5d0",
        "colab": {
          "base_uri": "https://localhost:8080/",
          "height": 34
        }
      },
      "source": [
        "train_Y1 = pickle.load(open(pickletraindata_Y1_new, 'rb' ))\n",
        "train_Y1 = np.array(train_Y1)\n",
        "print(train_Y1.shape)"
      ],
      "execution_count": 12,
      "outputs": [
        {
          "output_type": "stream",
          "text": [
            "(80000, 172)\n"
          ],
          "name": "stdout"
        }
      ]
    },
    {
      "cell_type": "markdown",
      "metadata": {
        "id": "kud_Sk7TZ_58",
        "colab_type": "text"
      },
      "source": [
        "Loading train_Y2"
      ]
    },
    {
      "cell_type": "code",
      "metadata": {
        "id": "u7QHo4X7RRnM",
        "colab_type": "code",
        "outputId": "f9d6f266-fa4a-4cf8-e8c2-9764ee34e726",
        "colab": {
          "base_uri": "https://localhost:8080/",
          "height": 34
        }
      },
      "source": [
        "train_Y2_list = pickle.load(open(pickletraindata_Y2_new, 'rb' ))\n",
        "train_Y2 = np.array(train_Y2_list)\n",
        "\n",
        "for index in range(train_Y2.shape[0]):\n",
        "  templist = train_Y2[index]\n",
        "  templist_0 = [0 if x==-1 else x for x in templist]\n",
        "  train_Y2[index] = templist_0\n",
        "\n",
        "print(train_Y2.shape)"
      ],
      "execution_count": 13,
      "outputs": [
        {
          "output_type": "stream",
          "text": [
            "(80000, 353)\n"
          ],
          "name": "stdout"
        }
      ]
    },
    {
      "cell_type": "markdown",
      "metadata": {
        "id": "GfiIhMN6aFFP",
        "colab_type": "text"
      },
      "source": [
        "Loading val_X"
      ]
    },
    {
      "cell_type": "code",
      "metadata": {
        "id": "ixzFT6U4RWiB",
        "colab_type": "code",
        "outputId": "4395ac9d-ee22-4e84-b683-54fbc37d91cf",
        "colab": {
          "base_uri": "https://localhost:8080/",
          "height": 34
        }
      },
      "source": [
        "val_X = pickle.load(open(picklevaldata_X, 'rb' ))\n",
        "val_X = np.array(val_X)\n",
        "print(val_X.shape)"
      ],
      "execution_count": 14,
      "outputs": [
        {
          "output_type": "stream",
          "text": [
            "(11016, 1, 7, 7, 512)\n"
          ],
          "name": "stdout"
        }
      ]
    },
    {
      "cell_type": "code",
      "metadata": {
        "id": "AotWJBwxJLOt",
        "colab_type": "code",
        "outputId": "fda9695d-84c7-4d1c-9080-05d4606517b1",
        "colab": {
          "base_uri": "https://localhost:8080/",
          "height": 34
        }
      },
      "source": [
        "val_X=val_X.reshape(val_X.shape[0],7,7,512)\n",
        "print(val_X.shape)"
      ],
      "execution_count": 15,
      "outputs": [
        {
          "output_type": "stream",
          "text": [
            "(11016, 7, 7, 512)\n"
          ],
          "name": "stdout"
        }
      ]
    },
    {
      "cell_type": "markdown",
      "metadata": {
        "id": "gVyc0KKUaI3H",
        "colab_type": "text"
      },
      "source": [
        "Loading val_Y1"
      ]
    },
    {
      "cell_type": "code",
      "metadata": {
        "id": "bk3orKueRbdx",
        "colab_type": "code",
        "outputId": "939f0c4b-8a1d-4ad4-dbbe-c9394a7db7a9",
        "colab": {
          "base_uri": "https://localhost:8080/",
          "height": 34
        }
      },
      "source": [
        "val_Y1 = pickle.load(open(picklevaldata_Y1, 'rb' ))\n",
        "val_Y1 = np.array(val_Y1)\n",
        "print(val_Y1.shape)"
      ],
      "execution_count": 16,
      "outputs": [
        {
          "output_type": "stream",
          "text": [
            "(11016, 172)\n"
          ],
          "name": "stdout"
        }
      ]
    },
    {
      "cell_type": "markdown",
      "metadata": {
        "id": "yypiFiEfaLg2",
        "colab_type": "text"
      },
      "source": [
        "Loading val_Y2"
      ]
    },
    {
      "cell_type": "code",
      "metadata": {
        "id": "keJhEX9BRgaZ",
        "colab_type": "code",
        "outputId": "487434b8-ef03-448d-f03b-eb05ecd880a5",
        "colab": {
          "base_uri": "https://localhost:8080/",
          "height": 34
        }
      },
      "source": [
        "val_Y2_list = pickle.load(open(picklevaldata_Y2, 'rb' ))\n",
        "val_Y2 = np.array(val_Y2_list)\n",
        "\n",
        "for index in range(val_Y2.shape[0]):\n",
        "  templist = val_Y2[index]\n",
        "  templist_0 = [0 if x==-1 else x for x in templist]\n",
        "  val_Y2[index] = templist_0\n",
        "  \n",
        "print(val_Y2.shape)"
      ],
      "execution_count": 17,
      "outputs": [
        {
          "output_type": "stream",
          "text": [
            "(11016, 353)\n"
          ],
          "name": "stdout"
        }
      ]
    },
    {
      "cell_type": "code",
      "metadata": {
        "id": "-aE-Q8SH8xiF",
        "colab_type": "code",
        "outputId": "d88448e4-0d0a-457e-af2c-ae9653779300",
        "colab": {
          "base_uri": "https://localhost:8080/",
          "height": 84
        }
      },
      "source": [
        "# Loading test_X\n",
        "\n",
        "test_X = pickle.load(open(pickletestdata_X, 'rb' ))\n",
        "test_X = np.array(test_X)\n",
        "\n",
        "print(test_X.shape)\n",
        "test_X=test_X.reshape(test_X.shape[0],7,7,512)\n",
        "print(test_X.shape)\n",
        "\n",
        "# Loading test_Y1\n",
        "\n",
        "test_Y1_list = pickle.load(open(pickletestdata_Y1, 'rb' ))\n",
        "test_Y1 = np.array(test_Y1_list)\n",
        "print(test_Y1.shape)\n",
        "\n",
        "test_Y3 = pickle.load(open(pickletestdata_Y3,\"rb\"))\n",
        "# Loading test_Y2\n",
        "\n",
        "test_Y2_list = pickle.load(open(pickletestdata_Y2, 'rb' ))\n",
        "test_Y2 = np.array(test_Y2_list)\n",
        "\n",
        "for index in range(test_Y2.shape[0]):\n",
        "  templist = test_Y2[index]\n",
        "  templist_0 = [0 if x==-1 else x for x in templist]\n",
        "  test_Y2[index] = templist_0\n",
        "  \n",
        "print(test_Y2.shape)"
      ],
      "execution_count": 18,
      "outputs": [
        {
          "output_type": "stream",
          "text": [
            "(33154, 1, 7, 7, 512)\n",
            "(33154, 7, 7, 512)\n",
            "(33154, 172)\n",
            "(33154, 353)\n"
          ],
          "name": "stdout"
        }
      ]
    },
    {
      "cell_type": "code",
      "metadata": {
        "id": "Wai3yhIkNf88",
        "colab_type": "code",
        "colab": {}
      },
      "source": [
        "train_Y3 = np.array(pickle.load(open(pickletraindata_Y3_new,\"rb\")))\n",
        "val_Y3 = pickle.load(open(picklevaldata_Y3,\"rb\"))\n"
      ],
      "execution_count": 0,
      "outputs": []
    },
    {
      "cell_type": "code",
      "metadata": {
        "id": "dP5o6Wxjo3LX",
        "colab_type": "code",
        "colab": {}
      },
      "source": [
        "def get_f1(y_true, y_pred): #https://mc.ai/how-to-add-user-defined-function-get-f1-score-in-keras-metrics/\n",
        "  true_positives = K.sum(K.round(K.clip(y_true * y_pred, 0, 1)))\n",
        "  possible_positives = K.sum(K.round(K.clip(y_true, 0, 1)))\n",
        "  predicted_positives = K.sum(K.round(K.clip(y_pred, 0, 1)))\n",
        "  precision = true_positives / (predicted_positives + K.epsilon())\n",
        "  recall = true_positives / (possible_positives + K.epsilon())\n",
        "  f1_val = 2*(precision*recall)/(precision+recall+K.epsilon())\n",
        "  return f1_val\n",
        "\n"
      ],
      "execution_count": 0,
      "outputs": []
    },
    {
      "cell_type": "markdown",
      "metadata": {
        "id": "JUM9f4xvehC9",
        "colab_type": "text"
      },
      "source": [
        "DCNN for Arichitecture A"
      ]
    },
    {
      "cell_type": "code",
      "metadata": {
        "colab_type": "code",
        "outputId": "ab5882f6-a1c2-4810-fa3f-6cb686248041",
        "id": "EMWXdBkO453M",
        "colab": {
          "base_uri": "https://localhost:8080/",
          "height": 1000
        }
      },
      "source": [
        "# Model_A1 stacking food categorization on top of ingredient recognition \n",
        "\n",
        "inputs = Input(shape=(7,7,512))\n",
        "inputs_1 = Flatten()(inputs)\n",
        " \n",
        "conv2D1 = Conv2D(2048, kernel_size=3, activation='relu',padding='same')(inputs)\n",
        "maxPool2D1 = MaxPooling2D(pool_size=(2,2),padding='same')(conv2D1)\n",
        "\n",
        "conv2D2 = Conv2D(1024, kernel_size=3, activation='relu',padding='same')(conv2D1)\n",
        "maxPool2D2 = MaxPooling2D(pool_size=(2,2),padding='same')(conv2D2)\n",
        "dropout2 = Dropout(0.3)(maxPool2D2)\n",
        "\n",
        "conv2D3 = Conv2D(1024, kernel_size=3, activation='relu',padding='same')(dropout2)\n",
        "maxPool2D3 = MaxPooling2D(pool_size=(2,2),padding='same')(conv2D3)\n",
        "dropout3 = Dropout(0.2)(maxPool2D3)\n",
        "\n",
        "conv2D4 = Conv2D(512, kernel_size=3, activation='relu',padding='same')(dropout3)\n",
        "maxPool2D4 = MaxPooling2D(pool_size=(2,2),padding='same')(conv2D4)\n",
        "dropout4 = Dropout(0.3)(maxPool2D4)\n",
        "\n",
        "conv2D5 = Conv2D(1024, kernel_size=3, activation='relu',padding='same')(dropout4)\n",
        "maxPool2D5 = MaxPooling2D(pool_size=(2,2),padding='same')(conv2D5)\n",
        "dropout5 = Dropout(0.2)(maxPool2D5)\n",
        "\n",
        "conv2D6 = Conv2D(512, kernel_size=3, activation='relu',padding='same')(dropout5)\n",
        "maxPool2D6 = MaxPooling2D(pool_size=(2,2),padding='same')(conv2D6)\n",
        "dropout6 = Dropout(0.3)(maxPool2D6)\n",
        "\n",
        "flattened4 = Flatten()(dropout4)\n",
        "flattened6 = Flatten()(dropout6)\n",
        "\n",
        "output1_without_activation = Dense(353,activation=None,name='output1_without_activation')(flattened6)  ##  Ingredient recognition\n",
        "output1 = keras.layers.Activation(\"sigmoid\",name=\"ingredient_output\")(output1_without_activation)\n",
        "\n",
        "intermediate1 = Dense(512,activation='relu',name='intermediate1')(output1_without_activation) \n",
        "dropout7 = Dropout(0.3)(intermediate1)\n",
        "\n",
        "intermediate2 = Dense(256,activation='relu',name='intermediate2')(dropout7)\n",
        "dropout8 = Dropout(0.2)(intermediate2)\n",
        "\n",
        "intermediate3 = Dense(256,activation='relu',name='intermediate3')(dropout8)\n",
        "dropout9 = Dropout(0.3)(intermediate3)\n",
        "\n",
        "output2_without_activation = Dense(172,activation=None,name='output2_without_activation')(dropout7) ##  Food categorization\n",
        "output2 = keras.layers.Activation(\"softmax\",name=\"foodcategory_output\")(output2_without_activation)\n",
        "\n",
        "intermediate4 = Dense(512,activation='relu',name='intermediate4')(output2_without_activation) \n",
        "dropout10 = Dropout(0.3)(intermediate4)\n",
        "\n",
        "intermediate5 = Dense(256,activation='relu',name='intermediate5')(dropout10)\n",
        "dropout11 = Dropout(0.2)(intermediate5)\n",
        "\n",
        "intermediate6 = Dense(64,activation='relu',name='intermediate6')(dropout11)\n",
        "dropout12 = Dropout(0.3)(intermediate6)\n",
        "\n",
        "output3 = Dense(1,activation=\"sigmoid\",name='vegan_output')(dropout10) ##  Vegan categorization\n",
        "\n",
        "\n",
        "model_A1 = Model(inputs=inputs, outputs=[output1,output2,output3]) # Defining model with Architecture A1\n",
        "print(model_A1.summary()) # summarize layers\n",
        "plot_model(model_A1, to_file='Multi-task Architecture A1.png') # plot graph"
      ],
      "execution_count": 32,
      "outputs": [
        {
          "output_type": "stream",
          "text": [
            "Model: \"model_3\"\n",
            "__________________________________________________________________________________________________\n",
            "Layer (type)                    Output Shape         Param #     Connected to                     \n",
            "==================================================================================================\n",
            "input_3 (InputLayer)            (None, 7, 7, 512)    0                                            \n",
            "__________________________________________________________________________________________________\n",
            "conv2d_13 (Conv2D)              (None, 7, 7, 2048)   9439232     input_3[0][0]                    \n",
            "__________________________________________________________________________________________________\n",
            "conv2d_14 (Conv2D)              (None, 7, 7, 1024)   18875392    conv2d_13[0][0]                  \n",
            "__________________________________________________________________________________________________\n",
            "max_pooling2d_14 (MaxPooling2D) (None, 4, 4, 1024)   0           conv2d_14[0][0]                  \n",
            "__________________________________________________________________________________________________\n",
            "dropout_23 (Dropout)            (None, 4, 4, 1024)   0           max_pooling2d_14[0][0]           \n",
            "__________________________________________________________________________________________________\n",
            "conv2d_15 (Conv2D)              (None, 4, 4, 1024)   9438208     dropout_23[0][0]                 \n",
            "__________________________________________________________________________________________________\n",
            "max_pooling2d_15 (MaxPooling2D) (None, 2, 2, 1024)   0           conv2d_15[0][0]                  \n",
            "__________________________________________________________________________________________________\n",
            "dropout_24 (Dropout)            (None, 2, 2, 1024)   0           max_pooling2d_15[0][0]           \n",
            "__________________________________________________________________________________________________\n",
            "conv2d_16 (Conv2D)              (None, 2, 2, 512)    4719104     dropout_24[0][0]                 \n",
            "__________________________________________________________________________________________________\n",
            "max_pooling2d_16 (MaxPooling2D) (None, 1, 1, 512)    0           conv2d_16[0][0]                  \n",
            "__________________________________________________________________________________________________\n",
            "dropout_25 (Dropout)            (None, 1, 1, 512)    0           max_pooling2d_16[0][0]           \n",
            "__________________________________________________________________________________________________\n",
            "conv2d_17 (Conv2D)              (None, 1, 1, 1024)   4719616     dropout_25[0][0]                 \n",
            "__________________________________________________________________________________________________\n",
            "max_pooling2d_17 (MaxPooling2D) (None, 1, 1, 1024)   0           conv2d_17[0][0]                  \n",
            "__________________________________________________________________________________________________\n",
            "dropout_26 (Dropout)            (None, 1, 1, 1024)   0           max_pooling2d_17[0][0]           \n",
            "__________________________________________________________________________________________________\n",
            "conv2d_18 (Conv2D)              (None, 1, 1, 512)    4719104     dropout_26[0][0]                 \n",
            "__________________________________________________________________________________________________\n",
            "max_pooling2d_18 (MaxPooling2D) (None, 1, 1, 512)    0           conv2d_18[0][0]                  \n",
            "__________________________________________________________________________________________________\n",
            "dropout_27 (Dropout)            (None, 1, 1, 512)    0           max_pooling2d_18[0][0]           \n",
            "__________________________________________________________________________________________________\n",
            "flatten_9 (Flatten)             (None, 512)          0           dropout_27[0][0]                 \n",
            "__________________________________________________________________________________________________\n",
            "output1_without_activation (Den (None, 353)          181089      flatten_9[0][0]                  \n",
            "__________________________________________________________________________________________________\n",
            "intermediate1 (Dense)           (None, 512)          181248      output1_without_activation[0][0] \n",
            "__________________________________________________________________________________________________\n",
            "dropout_28 (Dropout)            (None, 512)          0           intermediate1[0][0]              \n",
            "__________________________________________________________________________________________________\n",
            "output2_without_activation (Den (None, 172)          88236       dropout_28[0][0]                 \n",
            "__________________________________________________________________________________________________\n",
            "intermediate4 (Dense)           (None, 512)          88576       output2_without_activation[0][0] \n",
            "__________________________________________________________________________________________________\n",
            "dropout_31 (Dropout)            (None, 512)          0           intermediate4[0][0]              \n",
            "__________________________________________________________________________________________________\n",
            "ingredient_output (Activation)  (None, 353)          0           output1_without_activation[0][0] \n",
            "__________________________________________________________________________________________________\n",
            "foodcategory_output (Activation (None, 172)          0           output2_without_activation[0][0] \n",
            "__________________________________________________________________________________________________\n",
            "vegan_output (Dense)            (None, 1)            513         dropout_31[0][0]                 \n",
            "==================================================================================================\n",
            "Total params: 52,450,318\n",
            "Trainable params: 52,450,318\n",
            "Non-trainable params: 0\n",
            "__________________________________________________________________________________________________\n",
            "None\n"
          ],
          "name": "stdout"
        },
        {
          "output_type": "execute_result",
          "data": {
            "image/png": "[encoded data removed]",
            "text/plain": [
              "<IPython.core.display.Image object>"
            ]
          },
          "metadata": {
            "tags": []
          },
          "execution_count": 32
        }
      ]
    },
    {
      "cell_type": "code",
      "metadata": {
        "colab_type": "code",
        "id": "Jonk2qKe453v",
        "colab": {}
      },
      "source": [
        "import functools\n",
        "top5_acc = functools.partial(keras.metrics.top_k_categorical_accuracy, k=5)\n",
        "\n",
        "top5_acc.__name__ = 'top5_acc'\n",
        "\n",
        "model_A1.compile(optimizer=Adam(lr=0.0005),\n",
        "              loss={'ingredient_output': 'binary_crossentropy', 'vegan_output': 'binary_crossentropy', 'foodcategory_output': 'categorical_crossentropy'},\n",
        "              #loss_weights={'ingredient_output': 0.8, 'foodcategory_output': 0.2},\n",
        "              metrics=[get_f1,top5_acc])"
      ],
      "execution_count": 0,
      "outputs": []
    },
    {
      "cell_type": "code",
      "metadata": {
        "colab_type": "code",
        "outputId": "42779c02-409f-4945-cd9f-422d86a4a23a",
        "id": "OxhBA3C-4531",
        "colab": {
          "base_uri": "https://localhost:8080/",
          "height": 1000
        }
      },
      "source": [
        "model_A1.fit(train_X, [train_Y2,train_Y1, train_Y3], batch_size=256, epochs=50,validation_data = (val_X, [val_Y2, val_Y1, val_Y3]))"
      ],
      "execution_count": 34,
      "outputs": [
        {
          "output_type": "stream",
          "text": [
            "Train on 80000 samples, validate on 11016 samples\n",
            "Epoch 1/50\n",
            "80000/80000 [==============================] - 58s 725us/step - loss: 4.8421 - ingredient_output_loss: 0.2970 - foodcategory_output_loss: 4.3114 - vegan_output_loss: 0.2337 - ingredient_output_get_f1: 0.0199 - ingredient_output_top5_acc: 0.0503 - foodcategory_output_get_f1: 0.0486 - foodcategory_output_top5_acc: 0.1965 - vegan_output_get_f1: 0.8411 - vegan_output_top5_acc: 1.0000 - val_loss: 5.2784 - val_ingredient_output_loss: 0.0774 - val_foodcategory_output_loss: 4.7168 - val_vegan_output_loss: 0.4843 - val_ingredient_output_get_f1: 0.0059 - val_ingredient_output_top5_acc: 0.3386 - val_foodcategory_output_get_f1: 0.0249 - val_foodcategory_output_top5_acc: 0.1491 - val_vegan_output_get_f1: 0.8856 - val_vegan_output_top5_acc: 1.0000\n",
            "Epoch 2/50\n",
            "80000/80000 [==============================] - 56s 695us/step - loss: 3.3824 - ingredient_output_loss: 0.0716 - foodcategory_output_loss: 3.2053 - vegan_output_loss: 0.1055 - ingredient_output_get_f1: 0.0762 - ingredient_output_top5_acc: 0.1828 - foodcategory_output_get_f1: 0.2345 - foodcategory_output_top5_acc: 0.4822 - vegan_output_get_f1: 0.9653 - vegan_output_top5_acc: 1.0000 - val_loss: 4.6197 - val_ingredient_output_loss: 0.0691 - val_foodcategory_output_loss: 4.0545 - val_vegan_output_loss: 0.4961 - val_ingredient_output_get_f1: 0.0334 - val_ingredient_output_top5_acc: 0.2862 - val_foodcategory_output_get_f1: 0.0854 - val_foodcategory_output_top5_acc: 0.2980 - val_vegan_output_get_f1: 0.8914 - val_vegan_output_top5_acc: 1.0000\n",
            "Epoch 3/50\n",
            "80000/80000 [==============================] - 55s 693us/step - loss: 2.6983 - ingredient_output_loss: 0.0641 - foodcategory_output_loss: 2.5488 - vegan_output_loss: 0.0855 - ingredient_output_get_f1: 0.1501 - ingredient_output_top5_acc: 0.2651 - foodcategory_output_get_f1: 0.4151 - foodcategory_output_top5_acc: 0.6111 - vegan_output_get_f1: 0.9739 - vegan_output_top5_acc: 1.0000 - val_loss: 4.1334 - val_ingredient_output_loss: 0.0627 - val_foodcategory_output_loss: 3.5732 - val_vegan_output_loss: 0.4976 - val_ingredient_output_get_f1: 0.0591 - val_ingredient_output_top5_acc: 0.3664 - val_foodcategory_output_get_f1: 0.1371 - val_foodcategory_output_top5_acc: 0.4246 - val_vegan_output_get_f1: 0.8933 - val_vegan_output_top5_acc: 1.0000\n",
            "Epoch 4/50\n",
            "80000/80000 [==============================] - 55s 692us/step - loss: 2.2377 - ingredient_output_loss: 0.0600 - foodcategory_output_loss: 2.1134 - vegan_output_loss: 0.0643 - ingredient_output_get_f1: 0.2082 - ingredient_output_top5_acc: 0.3273 - foodcategory_output_get_f1: 0.5291 - foodcategory_output_top5_acc: 0.6940 - vegan_output_get_f1: 0.9803 - vegan_output_top5_acc: 1.0000 - val_loss: 3.9583 - val_ingredient_output_loss: 0.0591 - val_foodcategory_output_loss: 3.2302 - val_vegan_output_loss: 0.6690 - val_ingredient_output_get_f1: 0.0791 - val_ingredient_output_top5_acc: 0.4226 - val_foodcategory_output_get_f1: 0.1735 - val_foodcategory_output_top5_acc: 0.5234 - val_vegan_output_get_f1: 0.8959 - val_vegan_output_top5_acc: 1.0000\n",
            "Epoch 5/50\n",
            "80000/80000 [==============================] - 56s 694us/step - loss: 1.9322 - ingredient_output_loss: 0.0547 - foodcategory_output_loss: 1.8211 - vegan_output_loss: 0.0564 - ingredient_output_get_f1: 0.2648 - ingredient_output_top5_acc: 0.3949 - foodcategory_output_get_f1: 0.5941 - foodcategory_output_top5_acc: 0.7521 - vegan_output_get_f1: 0.9831 - vegan_output_top5_acc: 1.0000 - val_loss: 3.5167 - val_ingredient_output_loss: 0.0527 - val_foodcategory_output_loss: 2.9401 - val_vegan_output_loss: 0.5238 - val_ingredient_output_get_f1: 0.1422 - val_ingredient_output_top5_acc: 0.4487 - val_foodcategory_output_get_f1: 0.2445 - val_foodcategory_output_top5_acc: 0.5982 - val_vegan_output_get_f1: 0.9049 - val_vegan_output_top5_acc: 1.0000\n",
            "Epoch 6/50\n",
            "80000/80000 [==============================] - 55s 692us/step - loss: 1.7321 - ingredient_output_loss: 0.0513 - foodcategory_output_loss: 1.6308 - vegan_output_loss: 0.0500 - ingredient_output_get_f1: 0.3124 - ingredient_output_top5_acc: 0.4482 - foodcategory_output_get_f1: 0.6308 - foodcategory_output_top5_acc: 0.7896 - vegan_output_get_f1: 0.9864 - vegan_output_top5_acc: 1.0000 - val_loss: 3.4536 - val_ingredient_output_loss: 0.0561 - val_foodcategory_output_loss: 2.8140 - val_vegan_output_loss: 0.5835 - val_ingredient_output_get_f1: 0.1879 - val_ingredient_output_top5_acc: 0.4720 - val_foodcategory_output_get_f1: 0.2910 - val_foodcategory_output_top5_acc: 0.6403 - val_vegan_output_get_f1: 0.9062 - val_vegan_output_top5_acc: 1.0000\n",
            "Epoch 7/50\n",
            "80000/80000 [==============================] - 55s 694us/step - loss: 1.5470 - ingredient_output_loss: 0.0485 - foodcategory_output_loss: 1.4546 - vegan_output_loss: 0.0439 - ingredient_output_get_f1: 0.3485 - ingredient_output_top5_acc: 0.4838 - foodcategory_output_get_f1: 0.6665 - foodcategory_output_top5_acc: 0.8221 - vegan_output_get_f1: 0.9877 - vegan_output_top5_acc: 1.0000 - val_loss: 3.4601 - val_ingredient_output_loss: 0.0563 - val_foodcategory_output_loss: 2.7455 - val_vegan_output_loss: 0.6584 - val_ingredient_output_get_f1: 0.2345 - val_ingredient_output_top5_acc: 0.4886 - val_foodcategory_output_get_f1: 0.3104 - val_foodcategory_output_top5_acc: 0.6481 - val_vegan_output_get_f1: 0.9025 - val_vegan_output_top5_acc: 1.0000\n",
            "Epoch 8/50\n",
            "80000/80000 [==============================] - 56s 696us/step - loss: 1.3906 - ingredient_output_loss: 0.0462 - foodcategory_output_loss: 1.3054 - vegan_output_loss: 0.0390 - ingredient_output_get_f1: 0.3715 - ingredient_output_top5_acc: 0.5114 - foodcategory_output_get_f1: 0.6990 - foodcategory_output_top5_acc: 0.8487 - vegan_output_get_f1: 0.9896 - vegan_output_top5_acc: 1.0000 - val_loss: 3.1591 - val_ingredient_output_loss: 0.0519 - val_foodcategory_output_loss: 2.5768 - val_vegan_output_loss: 0.5304 - val_ingredient_output_get_f1: 0.2567 - val_ingredient_output_top5_acc: 0.5234 - val_foodcategory_output_get_f1: 0.3655 - val_foodcategory_output_top5_acc: 0.6863 - val_vegan_output_get_f1: 0.9064 - val_vegan_output_top5_acc: 1.0000\n",
            "Epoch 9/50\n",
            "80000/80000 [==============================] - 56s 696us/step - loss: 1.2791 - ingredient_output_loss: 0.0444 - foodcategory_output_loss: 1.1976 - vegan_output_loss: 0.0370 - ingredient_output_get_f1: 0.3913 - ingredient_output_top5_acc: 0.5333 - foodcategory_output_get_f1: 0.7204 - foodcategory_output_top5_acc: 0.8653 - vegan_output_get_f1: 0.9902 - vegan_output_top5_acc: 1.0000 - val_loss: 3.2895 - val_ingredient_output_loss: 0.0501 - val_foodcategory_output_loss: 2.5493 - val_vegan_output_loss: 0.6901 - val_ingredient_output_get_f1: 0.2730 - val_ingredient_output_top5_acc: 0.5369 - val_foodcategory_output_get_f1: 0.3999 - val_foodcategory_output_top5_acc: 0.6974 - val_vegan_output_get_f1: 0.9089 - val_vegan_output_top5_acc: 1.0000\n",
            "Epoch 10/50\n",
            "80000/80000 [==============================] - 56s 696us/step - loss: 1.1679 - ingredient_output_loss: 0.0425 - foodcategory_output_loss: 1.0933 - vegan_output_loss: 0.0322 - ingredient_output_get_f1: 0.4164 - ingredient_output_top5_acc: 0.5565 - foodcategory_output_get_f1: 0.7423 - foodcategory_output_top5_acc: 0.8833 - vegan_output_get_f1: 0.9916 - vegan_output_top5_acc: 1.0000 - val_loss: 3.1315 - val_ingredient_output_loss: 0.0493 - val_foodcategory_output_loss: 2.4652 - val_vegan_output_loss: 0.6170 - val_ingredient_output_get_f1: 0.3083 - val_ingredient_output_top5_acc: 0.5536 - val_foodcategory_output_get_f1: 0.4321 - val_foodcategory_output_top5_acc: 0.7131 - val_vegan_output_get_f1: 0.9089 - val_vegan_output_top5_acc: 1.0000\n",
            "Epoch 11/50\n",
            "80000/80000 [==============================] - 56s 695us/step - loss: 1.0827 - ingredient_output_loss: 0.0407 - foodcategory_output_loss: 1.0113 - vegan_output_loss: 0.0307 - ingredient_output_get_f1: 0.4353 - ingredient_output_top5_acc: 0.5806 - foodcategory_output_get_f1: 0.7573 - foodcategory_output_top5_acc: 0.8992 - vegan_output_get_f1: 0.9915 - vegan_output_top5_acc: 1.0000 - val_loss: 3.0972 - val_ingredient_output_loss: 0.0509 - val_foodcategory_output_loss: 2.3974 - val_vegan_output_loss: 0.6489 - val_ingredient_output_get_f1: 0.3328 - val_ingredient_output_top5_acc: 0.5618 - val_foodcategory_output_get_f1: 0.4475 - val_foodcategory_output_top5_acc: 0.7157 - val_vegan_output_get_f1: 0.9078 - val_vegan_output_top5_acc: 1.0000\n",
            "Epoch 12/50\n",
            "80000/80000 [==============================] - 56s 697us/step - loss: 0.9904 - ingredient_output_loss: 0.0399 - foodcategory_output_loss: 0.9205 - vegan_output_loss: 0.0300 - ingredient_output_get_f1: 0.4519 - ingredient_output_top5_acc: 0.5901 - foodcategory_output_get_f1: 0.7782 - foodcategory_output_top5_acc: 0.9136 - vegan_output_get_f1: 0.9918 - vegan_output_top5_acc: 1.0000 - val_loss: 3.2568 - val_ingredient_output_loss: 0.0464 - val_foodcategory_output_loss: 2.4821 - val_vegan_output_loss: 0.7283 - val_ingredient_output_get_f1: 0.3344 - val_ingredient_output_top5_acc: 0.5822 - val_foodcategory_output_get_f1: 0.4820 - val_foodcategory_output_top5_acc: 0.7269 - val_vegan_output_get_f1: 0.9084 - val_vegan_output_top5_acc: 1.0000\n",
            "Epoch 13/50\n",
            "80000/80000 [==============================] - 56s 697us/step - loss: 0.9373 - ingredient_output_loss: 0.0389 - foodcategory_output_loss: 0.8677 - vegan_output_loss: 0.0307 - ingredient_output_get_f1: 0.4628 - ingredient_output_top5_acc: 0.6051 - foodcategory_output_get_f1: 0.7889 - foodcategory_output_top5_acc: 0.9216 - vegan_output_get_f1: 0.9916 - vegan_output_top5_acc: 1.0000 - val_loss: 3.2312 - val_ingredient_output_loss: 0.0521 - val_foodcategory_output_loss: 2.4913 - val_vegan_output_loss: 0.6878 - val_ingredient_output_get_f1: 0.3592 - val_ingredient_output_top5_acc: 0.5867 - val_foodcategory_output_get_f1: 0.4818 - val_foodcategory_output_top5_acc: 0.7127 - val_vegan_output_get_f1: 0.9074 - val_vegan_output_top5_acc: 1.0000\n",
            "Epoch 14/50\n",
            "80000/80000 [==============================] - 56s 699us/step - loss: 0.8747 - ingredient_output_loss: 0.0380 - foodcategory_output_loss: 0.8070 - vegan_output_loss: 0.0296 - ingredient_output_get_f1: 0.4738 - ingredient_output_top5_acc: 0.6154 - foodcategory_output_get_f1: 0.8003 - foodcategory_output_top5_acc: 0.9325 - vegan_output_get_f1: 0.9922 - vegan_output_top5_acc: 1.0000 - val_loss: 3.0819 - val_ingredient_output_loss: 0.0501 - val_foodcategory_output_loss: 2.4109 - val_vegan_output_loss: 0.6209 - val_ingredient_output_get_f1: 0.3708 - val_ingredient_output_top5_acc: 0.5783 - val_foodcategory_output_get_f1: 0.5146 - val_foodcategory_output_top5_acc: 0.7294 - val_vegan_output_get_f1: 0.9097 - val_vegan_output_top5_acc: 1.0000\n",
            "Epoch 15/50\n",
            "80000/80000 [==============================] - 56s 699us/step - loss: 0.7935 - ingredient_output_loss: 0.0362 - foodcategory_output_loss: 0.7328 - vegan_output_loss: 0.0244 - ingredient_output_get_f1: 0.4920 - ingredient_output_top5_acc: 0.6327 - foodcategory_output_get_f1: 0.8159 - foodcategory_output_top5_acc: 0.9398 - vegan_output_get_f1: 0.9936 - vegan_output_top5_acc: 1.0000 - val_loss: 3.1800 - val_ingredient_output_loss: 0.0518 - val_foodcategory_output_loss: 2.4117 - val_vegan_output_loss: 0.7165 - val_ingredient_output_get_f1: 0.3889 - val_ingredient_output_top5_acc: 0.5988 - val_foodcategory_output_get_f1: 0.5146 - val_foodcategory_output_top5_acc: 0.7319 - val_vegan_output_get_f1: 0.9095 - val_vegan_output_top5_acc: 1.0000\n",
            "Epoch 16/50\n",
            "80000/80000 [==============================] - 56s 700us/step - loss: 0.7560 - ingredient_output_loss: 0.0357 - foodcategory_output_loss: 0.6956 - vegan_output_loss: 0.0246 - ingredient_output_get_f1: 0.4974 - ingredient_output_top5_acc: 0.6400 - foodcategory_output_get_f1: 0.8242 - foodcategory_output_top5_acc: 0.9448 - vegan_output_get_f1: 0.9936 - vegan_output_top5_acc: 1.0000 - val_loss: 3.0341 - val_ingredient_output_loss: 0.0506 - val_foodcategory_output_loss: 2.3646 - val_vegan_output_loss: 0.6189 - val_ingredient_output_get_f1: 0.4096 - val_ingredient_output_top5_acc: 0.6034 - val_foodcategory_output_get_f1: 0.5349 - val_foodcategory_output_top5_acc: 0.7451 - val_vegan_output_get_f1: 0.9113 - val_vegan_output_top5_acc: 1.0000\n",
            "Epoch 17/50\n",
            "80000/80000 [==============================] - 56s 698us/step - loss: 0.7374 - ingredient_output_loss: 0.0355 - foodcategory_output_loss: 0.6768 - vegan_output_loss: 0.0252 - ingredient_output_get_f1: 0.5045 - ingredient_output_top5_acc: 0.6422 - foodcategory_output_get_f1: 0.8293 - foodcategory_output_top5_acc: 0.9487 - vegan_output_get_f1: 0.9937 - vegan_output_top5_acc: 1.0000 - val_loss: 3.2295 - val_ingredient_output_loss: 0.0520 - val_foodcategory_output_loss: 2.4176 - val_vegan_output_loss: 0.7600 - val_ingredient_output_get_f1: 0.4059 - val_ingredient_output_top5_acc: 0.5960 - val_foodcategory_output_get_f1: 0.5391 - val_foodcategory_output_top5_acc: 0.7353 - val_vegan_output_get_f1: 0.9127 - val_vegan_output_top5_acc: 1.0000\n",
            "Epoch 18/50\n",
            "80000/80000 [==============================] - 56s 698us/step - loss: 0.6786 - ingredient_output_loss: 0.0344 - foodcategory_output_loss: 0.6216 - vegan_output_loss: 0.0226 - ingredient_output_get_f1: 0.5131 - ingredient_output_top5_acc: 0.6502 - foodcategory_output_get_f1: 0.8408 - foodcategory_output_top5_acc: 0.9546 - vegan_output_get_f1: 0.9941 - vegan_output_top5_acc: 1.0000 - val_loss: 3.1675 - val_ingredient_output_loss: 0.0526 - val_foodcategory_output_loss: 2.4746 - val_vegan_output_loss: 0.6403 - val_ingredient_output_get_f1: 0.4202 - val_ingredient_output_top5_acc: 0.5999 - val_foodcategory_output_get_f1: 0.5469 - val_foodcategory_output_top5_acc: 0.7353 - val_vegan_output_get_f1: 0.9119 - val_vegan_output_top5_acc: 1.0000\n",
            "Epoch 19/50\n",
            "80000/80000 [==============================] - 56s 698us/step - loss: 0.6425 - ingredient_output_loss: 0.0335 - foodcategory_output_loss: 0.5865 - vegan_output_loss: 0.0225 - ingredient_output_get_f1: 0.5246 - ingredient_output_top5_acc: 0.6630 - foodcategory_output_get_f1: 0.8492 - foodcategory_output_top5_acc: 0.9594 - vegan_output_get_f1: 0.9945 - vegan_output_top5_acc: 1.0000 - val_loss: 3.2624 - val_ingredient_output_loss: 0.0486 - val_foodcategory_output_loss: 2.4723 - val_vegan_output_loss: 0.7415 - val_ingredient_output_get_f1: 0.4193 - val_ingredient_output_top5_acc: 0.6086 - val_foodcategory_output_get_f1: 0.5611 - val_foodcategory_output_top5_acc: 0.7426 - val_vegan_output_get_f1: 0.9119 - val_vegan_output_top5_acc: 1.0000\n",
            "Epoch 20/50\n",
            "80000/80000 [==============================] - 56s 698us/step - loss: 0.6367 - ingredient_output_loss: 0.0333 - foodcategory_output_loss: 0.5781 - vegan_output_loss: 0.0253 - ingredient_output_get_f1: 0.5287 - ingredient_output_top5_acc: 0.6624 - foodcategory_output_get_f1: 0.8522 - foodcategory_output_top5_acc: 0.9617 - vegan_output_get_f1: 0.9934 - vegan_output_top5_acc: 1.0000 - val_loss: 3.2018 - val_ingredient_output_loss: 0.0527 - val_foodcategory_output_loss: 2.4585 - val_vegan_output_loss: 0.6906 - val_ingredient_output_get_f1: 0.4233 - val_ingredient_output_top5_acc: 0.6080 - val_foodcategory_output_get_f1: 0.5575 - val_foodcategory_output_top5_acc: 0.7390 - val_vegan_output_get_f1: 0.9083 - val_vegan_output_top5_acc: 1.0000\n",
            "Epoch 21/50\n",
            "80000/80000 [==============================] - 56s 698us/step - loss: 0.5947 - ingredient_output_loss: 0.0332 - foodcategory_output_loss: 0.5378 - vegan_output_loss: 0.0237 - ingredient_output_get_f1: 0.5321 - ingredient_output_top5_acc: 0.6698 - foodcategory_output_get_f1: 0.8613 - foodcategory_output_top5_acc: 0.9660 - vegan_output_get_f1: 0.9944 - vegan_output_top5_acc: 1.0000 - val_loss: 3.2828 - val_ingredient_output_loss: 0.0538 - val_foodcategory_output_loss: 2.5128 - val_vegan_output_loss: 0.7161 - val_ingredient_output_get_f1: 0.4283 - val_ingredient_output_top5_acc: 0.6004 - val_foodcategory_output_get_f1: 0.5629 - val_foodcategory_output_top5_acc: 0.7428 - val_vegan_output_get_f1: 0.9081 - val_vegan_output_top5_acc: 1.0000\n",
            "Epoch 22/50\n",
            "80000/80000 [==============================] - 56s 697us/step - loss: 0.5921 - ingredient_output_loss: 0.0335 - foodcategory_output_loss: 0.5353 - vegan_output_loss: 0.0234 - ingredient_output_get_f1: 0.5331 - ingredient_output_top5_acc: 0.6658 - foodcategory_output_get_f1: 0.8621 - foodcategory_output_top5_acc: 0.9665 - vegan_output_get_f1: 0.9939 - vegan_output_top5_acc: 1.0000 - val_loss: 3.3694 - val_ingredient_output_loss: 0.0518 - val_foodcategory_output_loss: 2.5966 - val_vegan_output_loss: 0.7210 - val_ingredient_output_get_f1: 0.4277 - val_ingredient_output_top5_acc: 0.6031 - val_foodcategory_output_get_f1: 0.5757 - val_foodcategory_output_top5_acc: 0.7457 - val_vegan_output_get_f1: 0.9119 - val_vegan_output_top5_acc: 1.0000\n",
            "Epoch 23/50\n",
            "80000/80000 [==============================] - 56s 698us/step - loss: 0.5768 - ingredient_output_loss: 0.0330 - foodcategory_output_loss: 0.5195 - vegan_output_loss: 0.0243 - ingredient_output_get_f1: 0.5395 - ingredient_output_top5_acc: 0.6700 - foodcategory_output_get_f1: 0.8672 - foodcategory_output_top5_acc: 0.9675 - vegan_output_get_f1: 0.9938 - vegan_output_top5_acc: 1.0000 - val_loss: 3.4382 - val_ingredient_output_loss: 0.0533 - val_foodcategory_output_loss: 2.6013 - val_vegan_output_loss: 0.7836 - val_ingredient_output_get_f1: 0.4315 - val_ingredient_output_top5_acc: 0.5804 - val_foodcategory_output_get_f1: 0.5721 - val_foodcategory_output_top5_acc: 0.7340 - val_vegan_output_get_f1: 0.9079 - val_vegan_output_top5_acc: 1.0000\n",
            "Epoch 24/50\n",
            "80000/80000 [==============================] - 56s 698us/step - loss: 0.5400 - ingredient_output_loss: 0.0330 - foodcategory_output_loss: 0.4840 - vegan_output_loss: 0.0230 - ingredient_output_get_f1: 0.5434 - ingredient_output_top5_acc: 0.6696 - foodcategory_output_get_f1: 0.8764 - foodcategory_output_top5_acc: 0.9706 - vegan_output_get_f1: 0.9944 - vegan_output_top5_acc: 1.0000 - val_loss: 3.3344 - val_ingredient_output_loss: 0.0531 - val_foodcategory_output_loss: 2.5163 - val_vegan_output_loss: 0.7650 - val_ingredient_output_get_f1: 0.4397 - val_ingredient_output_top5_acc: 0.5810 - val_foodcategory_output_get_f1: 0.5737 - val_foodcategory_output_top5_acc: 0.7431 - val_vegan_output_get_f1: 0.9092 - val_vegan_output_top5_acc: 1.0000\n",
            "Epoch 25/50\n",
            "80000/80000 [==============================] - 56s 699us/step - loss: 0.5080 - ingredient_output_loss: 0.0314 - foodcategory_output_loss: 0.4563 - vegan_output_loss: 0.0203 - ingredient_output_get_f1: 0.5579 - ingredient_output_top5_acc: 0.6868 - foodcategory_output_get_f1: 0.8850 - foodcategory_output_top5_acc: 0.9728 - vegan_output_get_f1: 0.9948 - vegan_output_top5_acc: 1.0000 - val_loss: 3.5650 - val_ingredient_output_loss: 0.0535 - val_foodcategory_output_loss: 2.7285 - val_vegan_output_loss: 0.7830 - val_ingredient_output_get_f1: 0.4498 - val_ingredient_output_top5_acc: 0.5740 - val_foodcategory_output_get_f1: 0.5812 - val_foodcategory_output_top5_acc: 0.7391 - val_vegan_output_get_f1: 0.9096 - val_vegan_output_top5_acc: 1.0000\n",
            "Epoch 26/50\n",
            "80000/80000 [==============================] - 56s 696us/step - loss: 0.5272 - ingredient_output_loss: 0.0337 - foodcategory_output_loss: 0.4706 - vegan_output_loss: 0.0228 - ingredient_output_get_f1: 0.5401 - ingredient_output_top5_acc: 0.6669 - foodcategory_output_get_f1: 0.8840 - foodcategory_output_top5_acc: 0.9732 - vegan_output_get_f1: 0.9942 - vegan_output_top5_acc: 1.0000 - val_loss: 3.4809 - val_ingredient_output_loss: 0.0573 - val_foodcategory_output_loss: 2.6385 - val_vegan_output_loss: 0.7851 - val_ingredient_output_get_f1: 0.4369 - val_ingredient_output_top5_acc: 0.5693 - val_foodcategory_output_get_f1: 0.5826 - val_foodcategory_output_top5_acc: 0.7416 - val_vegan_output_get_f1: 0.9091 - val_vegan_output_top5_acc: 1.0000\n",
            "Epoch 27/50\n",
            "80000/80000 [==============================] - 56s 694us/step - loss: 0.4730 - ingredient_output_loss: 0.0317 - foodcategory_output_loss: 0.4204 - vegan_output_loss: 0.0210 - ingredient_output_get_f1: 0.5579 - ingredient_output_top5_acc: 0.6780 - foodcategory_output_get_f1: 0.8942 - foodcategory_output_top5_acc: 0.9764 - vegan_output_get_f1: 0.9950 - vegan_output_top5_acc: 1.0000 - val_loss: 3.2602 - val_ingredient_output_loss: 0.0606 - val_foodcategory_output_loss: 2.5205 - val_vegan_output_loss: 0.6791 - val_ingredient_output_get_f1: 0.4357 - val_ingredient_output_top5_acc: 0.5683 - val_foodcategory_output_get_f1: 0.5871 - val_foodcategory_output_top5_acc: 0.7444 - val_vegan_output_get_f1: 0.9105 - val_vegan_output_top5_acc: 1.0000\n",
            "Epoch 28/50\n",
            "80000/80000 [==============================] - 56s 695us/step - loss: 0.4701 - ingredient_output_loss: 0.0316 - foodcategory_output_loss: 0.4179 - vegan_output_loss: 0.0206 - ingredient_output_get_f1: 0.5600 - ingredient_output_top5_acc: 0.6789 - foodcategory_output_get_f1: 0.8949 - foodcategory_output_top5_acc: 0.9762 - vegan_output_get_f1: 0.9948 - vegan_output_top5_acc: 1.0000 - val_loss: 3.4355 - val_ingredient_output_loss: 0.0557 - val_foodcategory_output_loss: 2.6363 - val_vegan_output_loss: 0.7436 - val_ingredient_output_get_f1: 0.4405 - val_ingredient_output_top5_acc: 0.5710 - val_foodcategory_output_get_f1: 0.5868 - val_foodcategory_output_top5_acc: 0.7365 - val_vegan_output_get_f1: 0.9098 - val_vegan_output_top5_acc: 1.0000\n",
            "Epoch 29/50\n",
            "80000/80000 [==============================] - 56s 695us/step - loss: 0.4707 - ingredient_output_loss: 0.0313 - foodcategory_output_loss: 0.4159 - vegan_output_loss: 0.0235 - ingredient_output_get_f1: 0.5628 - ingredient_output_top5_acc: 0.6836 - foodcategory_output_get_f1: 0.8982 - foodcategory_output_top5_acc: 0.9765 - vegan_output_get_f1: 0.9946 - vegan_output_top5_acc: 1.0000 - val_loss: 3.4085 - val_ingredient_output_loss: 0.0565 - val_foodcategory_output_loss: 2.6081 - val_vegan_output_loss: 0.7439 - val_ingredient_output_get_f1: 0.4483 - val_ingredient_output_top5_acc: 0.5771 - val_foodcategory_output_get_f1: 0.5935 - val_foodcategory_output_top5_acc: 0.7446 - val_vegan_output_get_f1: 0.9095 - val_vegan_output_top5_acc: 1.0000\n",
            "Epoch 30/50\n",
            "80000/80000 [==============================] - 56s 696us/step - loss: 0.4799 - ingredient_output_loss: 0.0316 - foodcategory_output_loss: 0.4258 - vegan_output_loss: 0.0226 - ingredient_output_get_f1: 0.5631 - ingredient_output_top5_acc: 0.6800 - foodcategory_output_get_f1: 0.8953 - foodcategory_output_top5_acc: 0.9759 - vegan_output_get_f1: 0.9946 - vegan_output_top5_acc: 1.0000 - val_loss: 3.2987 - val_ingredient_output_loss: 0.0578 - val_foodcategory_output_loss: 2.5856 - val_vegan_output_loss: 0.6553 - val_ingredient_output_get_f1: 0.4480 - val_ingredient_output_top5_acc: 0.5593 - val_foodcategory_output_get_f1: 0.5830 - val_foodcategory_output_top5_acc: 0.7390 - val_vegan_output_get_f1: 0.9102 - val_vegan_output_top5_acc: 1.0000\n",
            "Epoch 31/50\n",
            "80000/80000 [==============================] - 56s 695us/step - loss: 0.4867 - ingredient_output_loss: 0.0330 - foodcategory_output_loss: 0.4277 - vegan_output_loss: 0.0260 - ingredient_output_get_f1: 0.5511 - ingredient_output_top5_acc: 0.6654 - foodcategory_output_get_f1: 0.8972 - foodcategory_output_top5_acc: 0.9765 - vegan_output_get_f1: 0.9937 - vegan_output_top5_acc: 1.0000 - val_loss: 3.3842 - val_ingredient_output_loss: 0.0543 - val_foodcategory_output_loss: 2.6690 - val_vegan_output_loss: 0.6608 - val_ingredient_output_get_f1: 0.4536 - val_ingredient_output_top5_acc: 0.5708 - val_foodcategory_output_get_f1: 0.6018 - val_foodcategory_output_top5_acc: 0.7422 - val_vegan_output_get_f1: 0.9101 - val_vegan_output_top5_acc: 1.0000\n",
            "Epoch 32/50\n",
            "80000/80000 [==============================] - 56s 695us/step - loss: 0.4495 - ingredient_output_loss: 0.0322 - foodcategory_output_loss: 0.3960 - vegan_output_loss: 0.0212 - ingredient_output_get_f1: 0.5604 - ingredient_output_top5_acc: 0.6759 - foodcategory_output_get_f1: 0.9044 - foodcategory_output_top5_acc: 0.9791 - vegan_output_get_f1: 0.9948 - vegan_output_top5_acc: 1.0000 - val_loss: 3.2470 - val_ingredient_output_loss: 0.0582 - val_foodcategory_output_loss: 2.6189 - val_vegan_output_loss: 0.5699 - val_ingredient_output_get_f1: 0.4421 - val_ingredient_output_top5_acc: 0.5458 - val_foodcategory_output_get_f1: 0.5972 - val_foodcategory_output_top5_acc: 0.7420 - val_vegan_output_get_f1: 0.9115 - val_vegan_output_top5_acc: 1.0000\n",
            "Epoch 33/50\n",
            "80000/80000 [==============================] - 55s 691us/step - loss: 0.4390 - ingredient_output_loss: 0.0315 - foodcategory_output_loss: 0.3866 - vegan_output_loss: 0.0209 - ingredient_output_get_f1: 0.5655 - ingredient_output_top5_acc: 0.6797 - foodcategory_output_get_f1: 0.9079 - foodcategory_output_top5_acc: 0.9789 - vegan_output_get_f1: 0.9950 - vegan_output_top5_acc: 1.0000 - val_loss: 3.4418 - val_ingredient_output_loss: 0.0572 - val_foodcategory_output_loss: 2.6406 - val_vegan_output_loss: 0.7440 - val_ingredient_output_get_f1: 0.4436 - val_ingredient_output_top5_acc: 0.5547 - val_foodcategory_output_get_f1: 0.6028 - val_foodcategory_output_top5_acc: 0.7458 - val_vegan_output_get_f1: 0.9113 - val_vegan_output_top5_acc: 1.0000\n",
            "Epoch 34/50\n",
            "80000/80000 [==============================] - 55s 688us/step - loss: 0.4393 - ingredient_output_loss: 0.0318 - foodcategory_output_loss: 0.3843 - vegan_output_loss: 0.0232 - ingredient_output_get_f1: 0.5663 - ingredient_output_top5_acc: 0.6805 - foodcategory_output_get_f1: 0.9087 - foodcategory_output_top5_acc: 0.9784 - vegan_output_get_f1: 0.9946 - vegan_output_top5_acc: 1.0000 - val_loss: 3.5136 - val_ingredient_output_loss: 0.0560 - val_foodcategory_output_loss: 2.7468 - val_vegan_output_loss: 0.7108 - val_ingredient_output_get_f1: 0.4468 - val_ingredient_output_top5_acc: 0.5572 - val_foodcategory_output_get_f1: 0.5980 - val_foodcategory_output_top5_acc: 0.7419 - val_vegan_output_get_f1: 0.9123 - val_vegan_output_top5_acc: 1.0000\n",
            "Epoch 35/50\n",
            "80000/80000 [==============================] - 55s 689us/step - loss: 0.4195 - ingredient_output_loss: 0.0319 - foodcategory_output_loss: 0.3664 - vegan_output_loss: 0.0212 - ingredient_output_get_f1: 0.5660 - ingredient_output_top5_acc: 0.6808 - foodcategory_output_get_f1: 0.9136 - foodcategory_output_top5_acc: 0.9800 - vegan_output_get_f1: 0.9950 - vegan_output_top5_acc: 1.0000 - val_loss: 3.5065 - val_ingredient_output_loss: 0.0598 - val_foodcategory_output_loss: 2.6792 - val_vegan_output_loss: 0.7675 - val_ingredient_output_get_f1: 0.4456 - val_ingredient_output_top5_acc: 0.5522 - val_foodcategory_output_get_f1: 0.6071 - val_foodcategory_output_top5_acc: 0.7448 - val_vegan_output_get_f1: 0.9095 - val_vegan_output_top5_acc: 1.0000\n",
            "Epoch 36/50\n",
            "80000/80000 [==============================] - 55s 691us/step - loss: 0.4188 - ingredient_output_loss: 0.0331 - foodcategory_output_loss: 0.3638 - vegan_output_loss: 0.0219 - ingredient_output_get_f1: 0.5570 - ingredient_output_top5_acc: 0.6727 - foodcategory_output_get_f1: 0.9147 - foodcategory_output_top5_acc: 0.9803 - vegan_output_get_f1: 0.9948 - vegan_output_top5_acc: 1.0000 - val_loss: 3.4204 - val_ingredient_output_loss: 0.0592 - val_foodcategory_output_loss: 2.6725 - val_vegan_output_loss: 0.6887 - val_ingredient_output_get_f1: 0.4487 - val_ingredient_output_top5_acc: 0.5499 - val_foodcategory_output_get_f1: 0.6047 - val_foodcategory_output_top5_acc: 0.7450 - val_vegan_output_get_f1: 0.9123 - val_vegan_output_top5_acc: 1.0000\n",
            "Epoch 37/50\n",
            "80000/80000 [==============================] - 55s 688us/step - loss: 0.4204 - ingredient_output_loss: 0.0314 - foodcategory_output_loss: 0.3667 - vegan_output_loss: 0.0223 - ingredient_output_get_f1: 0.5726 - ingredient_output_top5_acc: 0.6871 - foodcategory_output_get_f1: 0.9166 - foodcategory_output_top5_acc: 0.9801 - vegan_output_get_f1: 0.9948 - vegan_output_top5_acc: 1.0000 - val_loss: 3.4929 - val_ingredient_output_loss: 0.0614 - val_foodcategory_output_loss: 2.7787 - val_vegan_output_loss: 0.6528 - val_ingredient_output_get_f1: 0.4479 - val_ingredient_output_top5_acc: 0.5500 - val_foodcategory_output_get_f1: 0.6034 - val_foodcategory_output_top5_acc: 0.7433 - val_vegan_output_get_f1: 0.9093 - val_vegan_output_top5_acc: 1.0000\n",
            "Epoch 38/50\n",
            "80000/80000 [==============================] - 55s 691us/step - loss: 0.3958 - ingredient_output_loss: 0.0307 - foodcategory_output_loss: 0.3437 - vegan_output_loss: 0.0214 - ingredient_output_get_f1: 0.5810 - ingredient_output_top5_acc: 0.6955 - foodcategory_output_get_f1: 0.9209 - foodcategory_output_top5_acc: 0.9814 - vegan_output_get_f1: 0.9950 - vegan_output_top5_acc: 1.0000 - val_loss: 3.9173 - val_ingredient_output_loss: 0.0563 - val_foodcategory_output_loss: 2.9480 - val_vegan_output_loss: 0.9130 - val_ingredient_output_get_f1: 0.4486 - val_ingredient_output_top5_acc: 0.5526 - val_foodcategory_output_get_f1: 0.5995 - val_foodcategory_output_top5_acc: 0.7302 - val_vegan_output_get_f1: 0.9081 - val_vegan_output_top5_acc: 1.0000\n",
            "Epoch 39/50\n",
            "80000/80000 [==============================] - 55s 690us/step - loss: 0.4211 - ingredient_output_loss: 0.0321 - foodcategory_output_loss: 0.3664 - vegan_output_loss: 0.0227 - ingredient_output_get_f1: 0.5732 - ingredient_output_top5_acc: 0.6879 - foodcategory_output_get_f1: 0.9174 - foodcategory_output_top5_acc: 0.9809 - vegan_output_get_f1: 0.9950 - vegan_output_top5_acc: 1.0000 - val_loss: 3.5414 - val_ingredient_output_loss: 0.0612 - val_foodcategory_output_loss: 2.7437 - val_vegan_output_loss: 0.7365 - val_ingredient_output_get_f1: 0.4483 - val_ingredient_output_top5_acc: 0.5461 - val_foodcategory_output_get_f1: 0.6117 - val_foodcategory_output_top5_acc: 0.7397 - val_vegan_output_get_f1: 0.9102 - val_vegan_output_top5_acc: 1.0000\n",
            "Epoch 40/50\n",
            "80000/80000 [==============================] - 55s 691us/step - loss: 0.3976 - ingredient_output_loss: 0.0327 - foodcategory_output_loss: 0.3450 - vegan_output_loss: 0.0198 - ingredient_output_get_f1: 0.5696 - ingredient_output_top5_acc: 0.6836 - foodcategory_output_get_f1: 0.9223 - foodcategory_output_top5_acc: 0.9820 - vegan_output_get_f1: 0.9955 - vegan_output_top5_acc: 1.0000 - val_loss: 3.7425 - val_ingredient_output_loss: 0.0598 - val_foodcategory_output_loss: 2.9487 - val_vegan_output_loss: 0.7340 - val_ingredient_output_get_f1: 0.4435 - val_ingredient_output_top5_acc: 0.5545 - val_foodcategory_output_get_f1: 0.6032 - val_foodcategory_output_top5_acc: 0.7237 - val_vegan_output_get_f1: 0.9101 - val_vegan_output_top5_acc: 1.0000\n",
            "Epoch 41/50\n",
            "80000/80000 [==============================] - 55s 693us/step - loss: 0.4391 - ingredient_output_loss: 0.0321 - foodcategory_output_loss: 0.3826 - vegan_output_loss: 0.0243 - ingredient_output_get_f1: 0.5737 - ingredient_output_top5_acc: 0.6855 - foodcategory_output_get_f1: 0.9182 - foodcategory_output_top5_acc: 0.9798 - vegan_output_get_f1: 0.9948 - vegan_output_top5_acc: 1.0000 - val_loss: 3.6616 - val_ingredient_output_loss: 0.0593 - val_foodcategory_output_loss: 2.8235 - val_vegan_output_loss: 0.7787 - val_ingredient_output_get_f1: 0.4484 - val_ingredient_output_top5_acc: 0.5361 - val_foodcategory_output_get_f1: 0.6108 - val_foodcategory_output_top5_acc: 0.7361 - val_vegan_output_get_f1: 0.9106 - val_vegan_output_top5_acc: 1.0000\n",
            "Epoch 42/50\n",
            "80000/80000 [==============================] - 55s 692us/step - loss: 0.3994 - ingredient_output_loss: 0.0328 - foodcategory_output_loss: 0.3446 - vegan_output_loss: 0.0220 - ingredient_output_get_f1: 0.5702 - ingredient_output_top5_acc: 0.6812 - foodcategory_output_get_f1: 0.9250 - foodcategory_output_top5_acc: 0.9819 - vegan_output_get_f1: 0.9945 - vegan_output_top5_acc: 1.0000 - val_loss: 3.6873 - val_ingredient_output_loss: 0.0622 - val_foodcategory_output_loss: 2.8078 - val_vegan_output_loss: 0.8173 - val_ingredient_output_get_f1: 0.4454 - val_ingredient_output_top5_acc: 0.5283 - val_foodcategory_output_get_f1: 0.6093 - val_foodcategory_output_top5_acc: 0.7354 - val_vegan_output_get_f1: 0.9066 - val_vegan_output_top5_acc: 1.0000\n",
            "Epoch 43/50\n",
            "80000/80000 [==============================] - 55s 693us/step - loss: 0.4298 - ingredient_output_loss: 0.0350 - foodcategory_output_loss: 0.3710 - vegan_output_loss: 0.0238 - ingredient_output_get_f1: 0.5534 - ingredient_output_top5_acc: 0.6700 - foodcategory_output_get_f1: 0.9204 - foodcategory_output_top5_acc: 0.9809 - vegan_output_get_f1: 0.9944 - vegan_output_top5_acc: 1.0000 - val_loss: 3.7505 - val_ingredient_output_loss: 0.0576 - val_foodcategory_output_loss: 2.9283 - val_vegan_output_loss: 0.7646 - val_ingredient_output_get_f1: 0.4467 - val_ingredient_output_top5_acc: 0.5499 - val_foodcategory_output_get_f1: 0.6084 - val_foodcategory_output_top5_acc: 0.7382 - val_vegan_output_get_f1: 0.9092 - val_vegan_output_top5_acc: 1.0000\n",
            "Epoch 44/50\n",
            "80000/80000 [==============================] - 55s 691us/step - loss: 0.3682 - ingredient_output_loss: 0.0306 - foodcategory_output_loss: 0.3183 - vegan_output_loss: 0.0193 - ingredient_output_get_f1: 0.5836 - ingredient_output_top5_acc: 0.7013 - foodcategory_output_get_f1: 0.9296 - foodcategory_output_top5_acc: 0.9839 - vegan_output_get_f1: 0.9953 - vegan_output_top5_acc: 1.0000 - val_loss: 3.9238 - val_ingredient_output_loss: 0.0561 - val_foodcategory_output_loss: 3.0468 - val_vegan_output_loss: 0.8208 - val_ingredient_output_get_f1: 0.4530 - val_ingredient_output_top5_acc: 0.5402 - val_foodcategory_output_get_f1: 0.6027 - val_foodcategory_output_top5_acc: 0.7361 - val_vegan_output_get_f1: 0.9097 - val_vegan_output_top5_acc: 1.0000\n",
            "Epoch 45/50\n",
            "80000/80000 [==============================] - 55s 691us/step - loss: 0.3805 - ingredient_output_loss: 0.0313 - foodcategory_output_loss: 0.3259 - vegan_output_loss: 0.0233 - ingredient_output_get_f1: 0.5806 - ingredient_output_top5_acc: 0.6966 - foodcategory_output_get_f1: 0.9292 - foodcategory_output_top5_acc: 0.9831 - vegan_output_get_f1: 0.9948 - vegan_output_top5_acc: 1.0000 - val_loss: 3.7398 - val_ingredient_output_loss: 0.0631 - val_foodcategory_output_loss: 2.9784 - val_vegan_output_loss: 0.6984 - val_ingredient_output_get_f1: 0.4383 - val_ingredient_output_top5_acc: 0.5253 - val_foodcategory_output_get_f1: 0.6077 - val_foodcategory_output_top5_acc: 0.7276 - val_vegan_output_get_f1: 0.9083 - val_vegan_output_top5_acc: 1.0000\n",
            "Epoch 46/50\n",
            "80000/80000 [==============================] - 55s 690us/step - loss: 0.3901 - ingredient_output_loss: 0.0325 - foodcategory_output_loss: 0.3344 - vegan_output_loss: 0.0231 - ingredient_output_get_f1: 0.5747 - ingredient_output_top5_acc: 0.6880 - foodcategory_output_get_f1: 0.9286 - foodcategory_output_top5_acc: 0.9827 - vegan_output_get_f1: 0.9942 - vegan_output_top5_acc: 1.0000 - val_loss: 3.5846 - val_ingredient_output_loss: 0.0600 - val_foodcategory_output_loss: 2.8532 - val_vegan_output_loss: 0.6714 - val_ingredient_output_get_f1: 0.4546 - val_ingredient_output_top5_acc: 0.5477 - val_foodcategory_output_get_f1: 0.6105 - val_foodcategory_output_top5_acc: 0.7405 - val_vegan_output_get_f1: 0.9129 - val_vegan_output_top5_acc: 1.0000\n",
            "Epoch 47/50\n",
            "80000/80000 [==============================] - 55s 689us/step - loss: 0.3768 - ingredient_output_loss: 0.0307 - foodcategory_output_loss: 0.3229 - vegan_output_loss: 0.0231 - ingredient_output_get_f1: 0.5888 - ingredient_output_top5_acc: 0.7028 - foodcategory_output_get_f1: 0.9305 - foodcategory_output_top5_acc: 0.9833 - vegan_output_get_f1: 0.9950 - vegan_output_top5_acc: 1.0000 - val_loss: 3.6874 - val_ingredient_output_loss: 0.0592 - val_foodcategory_output_loss: 2.9306 - val_vegan_output_loss: 0.6976 - val_ingredient_output_get_f1: 0.4507 - val_ingredient_output_top5_acc: 0.5395 - val_foodcategory_output_get_f1: 0.6168 - val_foodcategory_output_top5_acc: 0.7393 - val_vegan_output_get_f1: 0.9104 - val_vegan_output_top5_acc: 1.0000\n",
            "Epoch 48/50\n",
            "80000/80000 [==============================] - 55s 688us/step - loss: 0.3893 - ingredient_output_loss: 0.0319 - foodcategory_output_loss: 0.3366 - vegan_output_loss: 0.0207 - ingredient_output_get_f1: 0.5810 - ingredient_output_top5_acc: 0.6919 - foodcategory_output_get_f1: 0.9297 - foodcategory_output_top5_acc: 0.9818 - vegan_output_get_f1: 0.9953 - vegan_output_top5_acc: 1.0000 - val_loss: 4.1070 - val_ingredient_output_loss: 0.0588 - val_foodcategory_output_loss: 3.1170 - val_vegan_output_loss: 0.9312 - val_ingredient_output_get_f1: 0.4514 - val_ingredient_output_top5_acc: 0.5483 - val_foodcategory_output_get_f1: 0.6139 - val_foodcategory_output_top5_acc: 0.7336 - val_vegan_output_get_f1: 0.9092 - val_vegan_output_top5_acc: 1.0000\n",
            "Epoch 49/50\n",
            "80000/80000 [==============================] - 55s 687us/step - loss: 0.3696 - ingredient_output_loss: 0.0311 - foodcategory_output_loss: 0.3175 - vegan_output_loss: 0.0210 - ingredient_output_get_f1: 0.5864 - ingredient_output_top5_acc: 0.6990 - foodcategory_output_get_f1: 0.9322 - foodcategory_output_top5_acc: 0.9848 - vegan_output_get_f1: 0.9949 - vegan_output_top5_acc: 1.0000 - val_loss: 3.6600 - val_ingredient_output_loss: 0.0619 - val_foodcategory_output_loss: 2.8705 - val_vegan_output_loss: 0.7276 - val_ingredient_output_get_f1: 0.4459 - val_ingredient_output_top5_acc: 0.5353 - val_foodcategory_output_get_f1: 0.6149 - val_foodcategory_output_top5_acc: 0.7403 - val_vegan_output_get_f1: 0.9068 - val_vegan_output_top5_acc: 1.0000\n",
            "Epoch 50/50\n",
            "80000/80000 [==============================] - 55s 687us/step - loss: 0.3505 - ingredient_output_loss: 0.0318 - foodcategory_output_loss: 0.2989 - vegan_output_loss: 0.0197 - ingredient_output_get_f1: 0.5845 - ingredient_output_top5_acc: 0.7013 - foodcategory_output_get_f1: 0.9358 - foodcategory_output_top5_acc: 0.9846 - vegan_output_get_f1: 0.9954 - vegan_output_top5_acc: 1.0000 - val_loss: 4.0610 - val_ingredient_output_loss: 0.0591 - val_foodcategory_output_loss: 3.1125 - val_vegan_output_loss: 0.8893 - val_ingredient_output_get_f1: 0.4404 - val_ingredient_output_top5_acc: 0.5239 - val_foodcategory_output_get_f1: 0.6091 - val_foodcategory_output_top5_acc: 0.7312 - val_vegan_output_get_f1: 0.9106 - val_vegan_output_top5_acc: 1.0000\n"
          ],
          "name": "stdout"
        },
        {
          "output_type": "execute_result",
          "data": {
            "text/plain": [
              "<keras.callbacks.History at 0x7f4129fe2ba8>"
            ]
          },
          "metadata": {
            "tags": []
          },
          "execution_count": 34
        }
      ]
    },
    {
      "cell_type": "code",
      "metadata": {
        "colab_type": "code",
        "outputId": "462fa33a-c558-4980-cb7d-f3cda07708ff",
        "id": "QNHUEkon4537",
        "colab": {
          "base_uri": "https://localhost:8080/",
          "height": 101
        }
      },
      "source": [
        "## prediction on test\n",
        "\n",
        "\n",
        "results = model_A1.evaluate(test_X, [test_Y2,test_Y1,test_Y3], batch_size=128)\n",
        "#print(results)\n",
        "print('Ingredient F1:', results[4])\n",
        "print('Food Top5:', results[7])\n",
        "print('Vegan F1:', results[8])\n",
        "\n",
        "print('Generate predictions for all samples')\n",
        "predictions = model_A1.predict(test_X)\n",
        "\n",
        "\n",
        "predictions_ingredients=1*(predictions[0] >= 0.5)\n",
        "predictions_vegan=1*(predictions[2] >= 0.5)\n",
        "#predictions_ingredients"
      ],
      "execution_count": 35,
      "outputs": [
        {
          "output_type": "stream",
          "text": [
            "33154/33154 [==============================] - 9s 273us/step\n",
            "Ingredient F1: 0.43276003796494666\n",
            "Food Top5: 0.7303794413947035\n",
            "Vegan F1: 0.8490109932920992\n",
            "Generate predictions for all samples\n"
          ],
          "name": "stdout"
        }
      ]
    },
    {
      "cell_type": "code",
      "metadata": {
        "colab_type": "code",
        "outputId": "36440714-47d7-40b7-b9e3-b5ae494c74cd",
        "id": "QPRCrE0-454C",
        "colab": {
          "base_uri": "https://localhost:8080/",
          "height": 1000
        }
      },
      "source": [
        "from sklearn.metrics import classification_report\n",
        "print(classification_report(test_Y2, predictions_ingredients))"
      ],
      "execution_count": 36,
      "outputs": [
        {
          "output_type": "stream",
          "text": [
            "              precision    recall  f1-score   support\n",
            "\n",
            "           0       0.74      0.04      0.08      6698\n",
            "           1       0.62      0.25      0.35       666\n",
            "           2       0.41      0.03      0.06       731\n",
            "           3       0.63      0.41      0.50       144\n",
            "           4       0.67      0.70      0.69       435\n",
            "           5       0.00      0.00      0.00        10\n",
            "           6       0.00      0.00      0.00        24\n",
            "           7       0.00      0.00      0.00        46\n",
            "           8       0.63      0.25      0.35       868\n",
            "           9       0.07      0.04      0.05       365\n",
            "          10       0.00      0.00      0.00        41\n",
            "          11       0.64      0.24      0.35       699\n",
            "          12       0.45      0.10      0.16       387\n",
            "          13       0.47      0.11      0.18      1639\n",
            "          14       0.07      0.39      0.12        76\n",
            "          15       0.80      0.09      0.16      4353\n",
            "          16       0.40      0.12      0.19      1138\n",
            "          17       0.57      0.33      0.42      1570\n",
            "          18       0.00      0.00      0.00        41\n",
            "          19       0.00      0.00      0.00        99\n",
            "          20       0.78      0.66      0.71       218\n",
            "          21       0.40      0.02      0.05      3886\n",
            "          22       0.74      0.59      0.66       187\n",
            "          23       0.00      0.00      0.00         7\n",
            "          24       0.74      0.51      0.60       493\n",
            "          25       0.00      0.00      0.00        78\n",
            "          26       0.00      0.00      0.00       213\n",
            "          27       0.44      0.06      0.11      1370\n",
            "          28       0.00      0.00      0.00        49\n",
            "          29       0.86      0.55      0.67       460\n",
            "          30       0.17      0.04      0.06       101\n",
            "          31       0.77      0.48      0.59       267\n",
            "          32       0.48      0.24      0.32       315\n",
            "          33       0.73      0.75      0.74       255\n",
            "          34       0.00      0.00      0.00        18\n",
            "          35       0.00      0.00      0.00         9\n",
            "          36       0.00      0.00      0.00         6\n",
            "          37       0.00      0.00      0.00        17\n",
            "          38       0.00      0.00      0.00        18\n",
            "          39       0.00      0.00      0.00       222\n",
            "          40       0.00      0.00      0.00        48\n",
            "          41       0.65      0.82      0.72       201\n",
            "          42       0.00      0.00      0.00        88\n",
            "          43       0.08      0.01      0.02       303\n",
            "          44       0.00      0.00      0.00        17\n",
            "          45       0.00      0.00      0.00        47\n",
            "          46       0.73      0.34      0.47       970\n",
            "          47       0.00      0.00      0.00        64\n",
            "          48       0.00      0.00      0.00        86\n",
            "          49       0.64      0.29      0.39       361\n",
            "          50       0.00      0.00      0.00        16\n",
            "          51       0.56      0.38      0.45       635\n",
            "          52       0.87      0.81      0.84       221\n",
            "          53       0.62      0.16      0.25       325\n",
            "          54       0.00      0.00      0.00        95\n",
            "          55       0.81      0.18      0.29       269\n",
            "          56       0.73      0.09      0.17       548\n",
            "          57       0.64      0.45      0.53       466\n",
            "          58       0.70      0.05      0.10      3241\n",
            "          59       0.54      0.26      0.35      1103\n",
            "          60       0.68      0.39      0.50       314\n",
            "          61       0.00      0.00      0.00        24\n",
            "          62       0.85      0.29      0.43       202\n",
            "          63       0.40      0.45      0.42      1003\n",
            "          64       0.00      0.00      0.00         5\n",
            "          65       0.00      0.00      0.00       154\n",
            "          66       0.00      0.00      0.00       171\n",
            "          67       0.00      0.00      0.00        39\n",
            "          68       0.71      0.72      0.72      1684\n",
            "          69       0.43      0.40      0.41       125\n",
            "          70       0.03      0.15      0.05        61\n",
            "          71       0.73      0.26      0.39       138\n",
            "          72       0.00      0.00      0.00         5\n",
            "          73       0.50      0.57      0.53       249\n",
            "          74       0.70      0.33      0.45       196\n",
            "          75       0.90      0.93      0.92       221\n",
            "          76       0.88      0.65      0.75       145\n",
            "          77       0.00      0.00      0.00        25\n",
            "          78       0.00      0.00      0.00         9\n",
            "          79       0.00      0.00      0.00        16\n",
            "          80       0.35      0.44      0.39       305\n",
            "          81       0.72      0.47      0.57      1415\n",
            "          82       0.55      0.61      0.58      1147\n",
            "          83       0.56      0.54      0.55      1669\n",
            "          84       0.50      0.17      0.25       795\n",
            "          85       0.44      0.44      0.44       337\n",
            "          86       0.58      0.14      0.22       132\n",
            "          87       0.00      0.00      0.00        36\n",
            "          88       0.00      0.00      0.00        22\n",
            "          89       0.88      0.59      0.71       179\n",
            "          90       0.64      0.17      0.28       680\n",
            "          91       0.00      0.00      0.00        40\n",
            "          92       0.94      0.26      0.41       317\n",
            "          93       0.00      0.00      0.00         5\n",
            "          94       0.43      0.02      0.04       554\n",
            "          95       0.77      0.08      0.15      1936\n",
            "          96       0.50      0.45      0.47        47\n",
            "          97       0.90      0.19      0.31       326\n",
            "          98       0.94      0.07      0.13       209\n",
            "          99       0.00      0.00      0.00        33\n",
            "         100       0.00      0.00      0.00         9\n",
            "         101       0.70      0.66      0.68       197\n",
            "         102       0.56      0.29      0.38       210\n",
            "         103       0.00      0.00      0.00         3\n",
            "         104       0.85      0.38      0.53       120\n",
            "         105       0.95      0.68      0.79        93\n",
            "         106       0.00      0.00      0.00         2\n",
            "         107       0.00      0.00      0.00        17\n",
            "         108       0.78      0.41      0.54       171\n",
            "         109       0.91      0.19      0.31       342\n",
            "         110       0.00      0.00      0.00        13\n",
            "         111       0.00      0.00      0.00         9\n",
            "         112       0.41      0.57      0.47       138\n",
            "         113       0.80      0.66      0.73      1817\n",
            "         114       0.94      0.47      0.63       135\n",
            "         115       0.00      0.00      0.00         4\n",
            "         116       0.00      0.00      0.00         4\n",
            "         117       0.00      0.00      0.00        43\n",
            "         118       0.94      0.69      0.80        93\n",
            "         119       0.00      0.00      0.00        14\n",
            "         120       0.35      0.42      0.39        66\n",
            "         121       0.73      0.57      0.64      1051\n",
            "         122       0.56      0.52      0.54      1130\n",
            "         123       0.50      0.45      0.47       309\n",
            "         124       0.24      0.66      0.35       174\n",
            "         125       0.78      0.36      0.49      1113\n",
            "         126       0.00      0.00      0.00        16\n",
            "         127       0.00      0.00      0.00        11\n",
            "         128       0.74      0.43      0.55       241\n",
            "         129       0.36      0.31      0.34       156\n",
            "         130       0.68      0.43      0.53      1009\n",
            "         131       0.00      0.00      0.00        43\n",
            "         132       0.91      0.85      0.88       281\n",
            "         133       0.47      0.13      0.20       257\n",
            "         134       0.00      0.00      0.00        46\n",
            "         135       0.70      0.56      0.62      2134\n",
            "         136       0.55      0.40      0.46       443\n",
            "         137       0.00      0.00      0.00        33\n",
            "         138       0.74      0.43      0.54       343\n",
            "         139       0.00      0.00      0.00        23\n",
            "         140       0.57      0.03      0.05       289\n",
            "         141       0.77      0.35      0.48       206\n",
            "         142       0.81      0.56      0.66       218\n",
            "         143       0.00      0.00      0.00        85\n",
            "         144       0.81      0.58      0.68       173\n",
            "         145       0.00      0.00      0.00        38\n",
            "         146       0.67      0.49      0.57       419\n",
            "         147       0.00      0.00      0.00         5\n",
            "         148       0.94      0.24      0.38       217\n",
            "         149       0.79      0.52      0.63       193\n",
            "         150       0.76      0.69      0.72       106\n",
            "         151       0.39      0.25      0.31       143\n",
            "         152       0.00      0.00      0.00        39\n",
            "         153       0.00      0.00      0.00         2\n",
            "         154       0.00      0.00      0.00        24\n",
            "         155       0.57      0.75      0.65       163\n",
            "         156       0.68      0.57      0.62       330\n",
            "         157       0.20      0.01      0.02        90\n",
            "         158       0.59      0.44      0.50       848\n",
            "         159       0.91      0.61      0.73       176\n",
            "         160       0.00      0.00      0.00        40\n",
            "         161       0.68      0.59      0.63       300\n",
            "         162       0.60      0.52      0.56       454\n",
            "         163       0.00      0.00      0.00        14\n",
            "         164       0.00      0.00      0.00        31\n",
            "         165       0.00      0.00      0.00         3\n",
            "         166       0.00      0.00      0.00        13\n",
            "         167       0.00      0.00      0.00         2\n",
            "         168       0.00      0.00      0.00        17\n",
            "         169       0.00      0.00      0.00         8\n",
            "         170       0.00      0.00      0.00        57\n",
            "         171       0.69      0.74      0.71       172\n",
            "         172       0.66      0.42      0.51       966\n",
            "         173       0.33      0.66      0.44       503\n",
            "         174       0.38      0.51      0.43       243\n",
            "         175       0.00      0.00      0.00        25\n",
            "         176       0.00      0.00      0.00        14\n",
            "         177       0.60      0.60      0.60       205\n",
            "         178       0.45      0.29      0.35       237\n",
            "         179       0.00      0.00      0.00        25\n",
            "         180       0.95      0.63      0.76       230\n",
            "         181       0.88      0.41      0.56       194\n",
            "         182       0.00      0.00      0.00        26\n",
            "         183       0.00      0.00      0.00        19\n",
            "         184       0.70      0.27      0.39       454\n",
            "         185       0.00      0.00      0.00       109\n",
            "         186       0.00      0.00      0.00         2\n",
            "         187       0.88      0.76      0.82       119\n",
            "         188       0.33      0.41      0.36        74\n",
            "         189       0.75      0.54      0.63       233\n",
            "         190       0.90      0.76      0.83       209\n",
            "         191       0.00      0.00      0.00         3\n",
            "         192       1.00      0.01      0.01       138\n",
            "         193       0.00      0.00      0.00        33\n",
            "         194       0.00      0.00      0.00        38\n",
            "         195       0.09      0.03      0.05       157\n",
            "         196       0.82      0.51      0.63       253\n",
            "         197       0.00      0.00      0.00        99\n",
            "         198       0.67      0.77      0.72       164\n",
            "         199       0.00      0.00      0.00         4\n",
            "         200       0.85      0.52      0.65       304\n",
            "         201       0.75      0.58      0.65       185\n",
            "         202       0.41      0.22      0.28       250\n",
            "         203       0.50      0.01      0.02       110\n",
            "         204       0.51      0.41      0.45       102\n",
            "         205       0.96      0.85      0.90       258\n",
            "         206       0.00      0.00      0.00        27\n",
            "         207       0.69      0.40      0.50       211\n",
            "         208       0.00      0.00      0.00       108\n",
            "         209       0.00      0.00      0.00        25\n",
            "         210       0.76      0.57      0.65       397\n",
            "         211       0.79      0.82      0.80       248\n",
            "         212       0.00      0.00      0.00        16\n",
            "         213       0.81      0.64      0.72       149\n",
            "         214       0.00      0.00      0.00         5\n",
            "         215       0.00      0.00      0.00        12\n",
            "         216       0.61      0.42      0.50       111\n",
            "         217       0.74      0.48      0.58       423\n",
            "         218       0.00      0.00      0.00         4\n",
            "         219       0.69      0.49      0.58       218\n",
            "         220       0.00      0.00      0.00        57\n",
            "         221       0.79      0.74      0.77       199\n",
            "         222       0.37      0.44      0.40        80\n",
            "         223       0.94      0.81      0.87       285\n",
            "         224       0.00      0.00      0.00        51\n",
            "         225       0.00      0.00      0.00         4\n",
            "         226       0.00      0.00      0.00        32\n",
            "         227       0.00      0.00      0.00        13\n",
            "         228       0.00      0.00      0.00         2\n",
            "         229       0.57      0.51      0.54       461\n",
            "         230       0.53      0.73      0.61       169\n",
            "         231       0.00      0.00      0.00        31\n",
            "         232       0.00      0.00      0.00         9\n",
            "         233       0.24      0.30      0.27       243\n",
            "         234       0.00      0.00      0.00         6\n",
            "         235       0.66      0.67      0.66       986\n",
            "         236       0.00      0.00      0.00        36\n",
            "         237       0.79      0.72      0.75       199\n",
            "         238       0.75      0.51      0.61       187\n",
            "         239       0.17      0.05      0.08        20\n",
            "         240       0.00      0.00      0.00        19\n",
            "         241       0.43      0.09      0.14       370\n",
            "         242       0.00      0.00      0.00        17\n",
            "         243       0.00      0.00      0.00         4\n",
            "         244       0.00      0.00      0.00         1\n",
            "         245       0.48      0.40      0.43       138\n",
            "         246       0.65      0.78      0.71       574\n",
            "         247       0.00      0.00      0.00        68\n",
            "         248       0.78      0.65      0.71       751\n",
            "         249       0.06      0.02      0.02        65\n",
            "         250       0.73      0.54      0.62       525\n",
            "         251       0.00      0.00      0.00         7\n",
            "         252       0.51      0.58      0.54       300\n",
            "         253       0.00      0.00      0.00        60\n",
            "         254       0.58      0.36      0.44       354\n",
            "         255       0.78      0.87      0.82       243\n",
            "         256       0.81      0.45      0.58       184\n",
            "         257       0.75      0.58      0.65       283\n",
            "         258       0.00      0.00      0.00       102\n",
            "         259       0.00      0.00      0.00         4\n",
            "         260       0.78      0.69      0.74       205\n",
            "         261       0.00      0.00      0.00        32\n",
            "         262       0.10      0.05      0.07        40\n",
            "         263       0.00      0.00      0.00         7\n",
            "         264       0.46      0.30      0.36       429\n",
            "         265       0.00      0.00      0.00       109\n",
            "         266       0.00      0.00      0.00       107\n",
            "         267       0.49      0.37      0.42       146\n",
            "         268       0.00      0.00      0.00        56\n",
            "         269       0.86      0.47      0.61       156\n",
            "         270       0.00      0.00      0.00        73\n",
            "         271       0.00      0.00      0.00       147\n",
            "         272       0.00      0.00      0.00        34\n",
            "         273       0.68      0.55      0.61       130\n",
            "         274       0.81      0.71      0.76      2078\n",
            "         275       0.22      0.05      0.09        73\n",
            "         276       0.00      0.00      0.00        12\n",
            "         277       0.00      0.00      0.00        68\n",
            "         278       0.49      0.02      0.03      1230\n",
            "         279       0.80      0.57      0.67       124\n",
            "         280       0.00      0.00      0.00         2\n",
            "         281       0.00      0.00      0.00        99\n",
            "         282       0.85      0.46      0.59       103\n",
            "         283       0.00      0.00      0.00        77\n",
            "         284       0.91      0.91      0.91       287\n",
            "         285       0.00      0.00      0.00        67\n",
            "         286       0.60      0.36      0.45       298\n",
            "         287       0.00      0.00      0.00         7\n",
            "         288       0.77      0.75      0.76       256\n",
            "         289       0.00      0.00      0.00        56\n",
            "         290       0.00      0.00      0.00         5\n",
            "         291       0.50      0.07      0.13        54\n",
            "         292       0.00      0.00      0.00        91\n",
            "         293       0.93      0.40      0.56        94\n",
            "         294       0.61      0.37      0.46       427\n",
            "         295       0.64      0.62      0.63       685\n",
            "         296       0.14      0.01      0.02       115\n",
            "         297       0.96      0.70      0.81       152\n",
            "         298       0.00      0.00      0.00         4\n",
            "         299       0.89      0.78      0.83       148\n",
            "         300       0.91      0.66      0.76       137\n",
            "         301       0.19      0.50      0.27       350\n",
            "         302       0.18      0.13      0.15        94\n",
            "         303       0.58      0.70      0.63       187\n",
            "         304       0.00      0.00      0.00        19\n",
            "         305       0.00      0.00      0.00        23\n",
            "         306       0.74      0.85      0.79        60\n",
            "         307       0.00      0.00      0.00         9\n",
            "         308       0.00      0.00      0.00         2\n",
            "         309       0.51      0.39      0.45       176\n",
            "         310       0.00      0.00      0.00         9\n",
            "         311       0.00      0.00      0.00        33\n",
            "         312       0.00      0.00      0.00         9\n",
            "         313       0.00      0.00      0.00         8\n",
            "         314       0.00      0.00      0.00         2\n",
            "         315       0.00      0.00      0.00        76\n",
            "         316       0.00      0.00      0.00         8\n",
            "         317       0.90      0.72      0.80       114\n",
            "         318       0.85      0.77      0.81       159\n",
            "         319       0.00      0.00      0.00         4\n",
            "         320       0.74      0.62      0.67       140\n",
            "         321       0.00      0.00      0.00        29\n",
            "         322       0.84      0.64      0.73       168\n",
            "         323       0.73      0.72      0.72       147\n",
            "         324       0.88      0.45      0.59       286\n",
            "         325       0.00      0.00      0.00       228\n",
            "         326       0.63      0.57      0.60       157\n",
            "         327       0.34      0.33      0.34       267\n",
            "         328       0.77      0.41      0.53       707\n",
            "         329       0.92      0.74      0.82       305\n",
            "         330       0.52      0.55      0.54       238\n",
            "         331       0.73      0.77      0.75       256\n",
            "         332       0.00      0.00      0.00         5\n",
            "         333       0.35      0.34      0.34       262\n",
            "         334       0.00      0.00      0.00        15\n",
            "         335       0.84      0.67      0.74       162\n",
            "         336       0.64      0.77      0.70       300\n",
            "         337       0.00      0.00      0.00        34\n",
            "         338       0.58      0.65      0.61       224\n",
            "         339       0.93      0.49      0.64       175\n",
            "         340       0.77      0.63      0.69       175\n",
            "         341       0.00      0.00      0.00        19\n",
            "         342       0.19      0.38      0.26        92\n",
            "         343       0.00      0.00      0.00        28\n",
            "         344       0.58      0.68      0.63        97\n",
            "         345       0.94      0.83      0.88       219\n",
            "         346       0.00      0.00      0.00        13\n",
            "         347       0.00      0.00      0.00        48\n",
            "         348       0.61      0.65      0.63       191\n",
            "         349       0.76      0.59      0.67       214\n",
            "         350       0.86      0.69      0.76       143\n",
            "         351       0.00      0.00      0.00        25\n",
            "         352       0.00      0.00      0.00         2\n",
            "\n",
            "   micro avg       0.61      0.34      0.44     99692\n",
            "   macro avg       0.37      0.26      0.29     99692\n",
            "weighted avg       0.61      0.34      0.39     99692\n",
            " samples avg       0.55      0.38      0.43     99692\n",
            "\n"
          ],
          "name": "stdout"
        },
        {
          "output_type": "stream",
          "text": [
            "/usr/local/lib/python3.6/dist-packages/sklearn/metrics/classification.py:1437: UndefinedMetricWarning: Precision and F-score are ill-defined and being set to 0.0 in labels with no predicted samples.\n",
            "  'precision', 'predicted', average, warn_for)\n",
            "/usr/local/lib/python3.6/dist-packages/sklearn/metrics/classification.py:1437: UndefinedMetricWarning: Precision and F-score are ill-defined and being set to 0.0 in samples with no predicted labels.\n",
            "  'precision', 'predicted', average, warn_for)\n"
          ],
          "name": "stderr"
        }
      ]
    },
    {
      "cell_type": "code",
      "metadata": {
        "colab_type": "code",
        "outputId": "af4bf710-cbe5-4ccb-f756-4d98d69e2de1",
        "id": "p1xdQloV454H",
        "colab": {
          "base_uri": "https://localhost:8080/",
          "height": 168
        }
      },
      "source": [
        "print(classification_report(test_Y3, predictions_vegan))"
      ],
      "execution_count": 37,
      "outputs": [
        {
          "output_type": "stream",
          "text": [
            "              precision    recall  f1-score   support\n",
            "\n",
            "           0       0.83      0.51      0.63      6666\n",
            "           1       0.89      0.97      0.93     26488\n",
            "\n",
            "    accuracy                           0.88     33154\n",
            "   macro avg       0.86      0.74      0.78     33154\n",
            "weighted avg       0.88      0.88      0.87     33154\n",
            "\n"
          ],
          "name": "stdout"
        }
      ]
    },
    {
      "cell_type": "code",
      "metadata": {
        "id": "dp1CEsxl4wOs",
        "colab_type": "code",
        "colab": {}
      },
      "source": [
        ""
      ],
      "execution_count": 0,
      "outputs": []
    }
  ]
}