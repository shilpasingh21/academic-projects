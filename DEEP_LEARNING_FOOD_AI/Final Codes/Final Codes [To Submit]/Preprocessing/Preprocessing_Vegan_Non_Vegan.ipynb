{
  "nbformat": 4,
  "nbformat_minor": 0,
  "metadata": {
    "colab": {
      "name": "Preprocessing_Vegan-Non-Vegan.ipynb",
      "provenance": [],
      "collapsed_sections": []
    },
    "kernelspec": {
      "name": "python3",
      "display_name": "Python 3"
    },
    "accelerator": "GPU"
  },
  "cells": [
    {
      "cell_type": "code",
      "metadata": {
        "id": "8cFbUDAHVfEu",
        "colab_type": "code",
        "colab": {}
      },
      "source": [
        "from google.colab import drive,files"
      ],
      "execution_count": 0,
      "outputs": []
    },
    {
      "cell_type": "code",
      "metadata": {
        "id": "JqpLCQfdV4gG",
        "colab_type": "code",
        "outputId": "ea37af90-ecb1-4901-db74-36a97c914ad3",
        "colab": {
          "base_uri": "https://localhost:8080/",
          "height": 121
        }
      },
      "source": [
        "drive.mount('/content/gdrive')"
      ],
      "execution_count": 2,
      "outputs": [
        {
          "output_type": "stream",
          "text": [
            "Go to this URL in a browser: https://accounts.google.com/o/oauth2/auth?client_id=947318989803-6bn6qk8qdgf4n4g3pfee6491hc0brc4i.apps.googleusercontent.com&redirect_uri=urn%3aietf%3awg%3aoauth%3a2.0%3aoob&response_type=code&scope=email%20https%3a%2f%2fwww.googleapis.com%2fauth%2fdocs.test%20https%3a%2f%2fwww.googleapis.com%2fauth%2fdrive%20https%3a%2f%2fwww.googleapis.com%2fauth%2fdrive.photos.readonly%20https%3a%2f%2fwww.googleapis.com%2fauth%2fpeopleapi.readonly\n",
            "\n",
            "Enter your authorization code:\n",
            "··········\n",
            "Mounted at /content/gdrive\n"
          ],
          "name": "stdout"
        }
      ]
    },
    {
      "cell_type": "code",
      "metadata": {
        "id": "z32PMJ6CcXMj",
        "colab_type": "code",
        "outputId": "6887a686-0bd9-41a7-cea1-8bae8983619e",
        "colab": {
          "base_uri": "https://localhost:8080/",
          "height": 79
        }
      },
      "source": [
        "import numpy as np\n",
        "import matplotlib.pyplot as plt\n",
        "import os\n",
        "import PIL\n",
        "from PIL import Image\n",
        "from keras.preprocessing.image import load_img\n",
        "from keras.preprocessing.image import img_to_array\n",
        "from keras.applications.vgg16 import preprocess_input\n",
        "from keras.applications.vgg16 import VGG16\n",
        "from keras.preprocessing import image\n",
        "import pandas as pd\n",
        "import pickle\n",
        "from numpy import expand_dims\n",
        "from keras.preprocessing.image import load_img\n",
        "from keras.preprocessing.image import img_to_array\n",
        "from keras.preprocessing.image import ImageDataGenerator\n",
        "from matplotlib import pyplot"
      ],
      "execution_count": 3,
      "outputs": [
        {
          "output_type": "stream",
          "text": [
            "Using TensorFlow backend.\n"
          ],
          "name": "stderr"
        },
        {
          "output_type": "display_data",
          "data": {
            "text/html": [
              "<p style=\"color: red;\">\n",
              "The default version of TensorFlow in Colab will soon switch to TensorFlow 2.x.<br>\n",
              "We recommend you <a href=\"https://www.tensorflow.org/guide/migrate\" target=\"_blank\">upgrade</a> now \n",
              "or ensure your notebook will continue to use TensorFlow 1.x via the <code>%tensorflow_version 1.x</code> magic:\n",
              "<a href=\"https://colab.research.google.com/notebooks/tensorflow_version.ipynb\" target=\"_blank\">more info</a>.</p>\n"
            ],
            "text/plain": [
              "<IPython.core.display.HTML object>"
            ]
          },
          "metadata": {
            "tags": []
          }
        }
      ]
    },
    {
      "cell_type": "code",
      "metadata": {
        "id": "6SJzXbU6WFRz",
        "colab_type": "code",
        "colab": {}
      },
      "source": [
        "# dir path\n",
        "datadirpath = 'gdrive/My Drive/DL Project/Data/ready_chinese_food'\n",
        "labeldirpath = 'gdrive/My Drive/DL Project/Data/SplitAndIngreLabel/IngreLabel.txt'\n",
        "IngredientList = 'gdrive/My Drive/DL Project/Data/SplitAndIngreLabel/IngredientList.txt'\n",
        "IngredientTypeSheet = 'gdrive/My Drive/DL Project/Data/SplitAndIngreLabel/IngredientType.xlsx'\n",
        "\n",
        "trainlistpath = 'gdrive/My Drive/DL Project/Data/SplitAndIngreLabel/TR.txt'\n",
        "vallistpath = 'gdrive/My Drive/DL Project/Data/SplitAndIngreLabel/VAL.txt'\n",
        "testlistpath = 'gdrive/My Drive/DL Project/Data/SplitAndIngreLabel/TE.txt'\n",
        "\n",
        "pickletraindata_X = 'gdrive/My Drive/DL Project/PickleFiles/vgg_features_train_full.pkl'\n",
        "picklevaldata_X = 'gdrive/My Drive/DL Project/PickleFiles/vgg_features_val_full.pkl'\n",
        "pickletestdata_X = 'gdrive/My Drive/DL Project/PickleFiles/vgg_features_test_full.pkl'\n",
        "\n",
        "pickletraindata_Y1 = 'gdrive/My Drive/DL Project/PickleFiles/pickleTrainFull_Y1.pkl'\n",
        "picklevaldata_Y1 = 'gdrive/My Drive/DL Project/PickleFiles/pickleValFull_Y1.pkl'\n",
        "pickletestdata_Y1 = 'gdrive/My Drive/DL Project/PickleFiles/pickleTestFull_Y1.pkl'\n",
        "\n",
        "pickletraindata_Y2 = 'gdrive/My Drive/DL Project/PickleFiles/pickleTrainFull_Y2.pkl'\n",
        "picklevaldata_Y2 = 'gdrive/My Drive/DL Project/PickleFiles/pickleValFull_Y2.pkl'\n",
        "pickletestdata_Y2 = 'gdrive/My Drive/DL Project/PickleFiles/pickleTestFull_Y2.pkl'\n",
        "\n",
        "pickletraindata_Y3 = 'gdrive/My Drive/DL Project/PickleFiles/pickleTrainFull_Y3.pkl'\n",
        "picklevaldata_Y3 = 'gdrive/My Drive/DL Project/PickleFiles/pickleValFull_Y3.pkl'\n",
        "pickletestdata_Y3 = 'gdrive/My Drive/DL Project/PickleFiles/pickleTestFull_Y3.pkl'\n",
        "\n",
        "pickletraindata_X_new= 'gdrive/My Drive/DL Project/PickleFiles/vgg_features_train_balanced'\n",
        "picklevaldata_X_new = 'gdrive/My Drive/DL Project/PickleFiles/vgg_features_val_balanced.pkl'\n",
        "pickletestdata_X_new = 'gdrive/My Drive/DL Project/PickleFiles/vgg_features_test_balanced.pkl'\n",
        "\n",
        "pickletraindata_Y1_new = 'gdrive/My Drive/DL Project/PickleFiles/pickleTrainBalanced_Y1'\n",
        "picklevaldata_Y1_new = 'gdrive/My Drive/DL Project/PickleFiles/pickleValBalanced_Y1.pkl'\n",
        "pickletestdata_Y1_new = 'gdrive/My Drive/DL Project/PickleFiles/pickleTestBalanced_Y1.pkl'\n",
        "\n",
        "pickletraindata_Y2_new = 'gdrive/My Drive/DL Project/PickleFiles/pickleTrainBalanced_Y2'\n",
        "picklevaldata_Y2_new = 'gdrive/My Drive/DL Project/PickleFiles/pickleValBalanced_Y2.pkl'\n",
        "pickletestdata_Y2_new = 'gdrive/My Drive/DL Project/PickleFiles/pickleTestBalanced_Y2.pkl'\n",
        "\n",
        "pickletraindata_Y3_new = 'gdrive/My Drive/DL Project/PickleFiles/pickleTrainBalanced_Y3'\n",
        "picklevaldata_Y3_new = 'gdrive/My Drive/DL Project/PickleFiles/pickleValBalanced_Y3.pkl'\n",
        "pickletestdata_Y3_new = 'gdrive/My Drive/DL Project/PickleFiles/pickleTestBalanced_Y3.pkl'\n",
        "\n",
        "credentialFile = 'gdrive/My Drive/DL Project/Credentials/Food-Ingredient-cred.json'\n",
        "#pickleModelC_IngFood.pkl\n",
        "#Models Pickled\n",
        "pickleModelA1_IngFood = 'gdrive/My Drive/DL Project/PickleFiles/pickleModelA1_IngFood.pkl'\n",
        "\n"
      ],
      "execution_count": 0,
      "outputs": []
    },
    {
      "cell_type": "code",
      "metadata": {
        "id": "BJhkgFrmQ4ri",
        "colab_type": "code",
        "outputId": "29e5f339-706e-4049-93f0-7181b592221e",
        "colab": {
          "base_uri": "https://localhost:8080/",
          "height": 34
        }
      },
      "source": [
        "train_Y1_list = pickle.load(open(pickletraindata_Y1, 'rb' ))\n",
        "train_Y1 = np.array(train_Y1_list)\n",
        "print(train_Y1.shape)"
      ],
      "execution_count": 5,
      "outputs": [
        {
          "output_type": "stream",
          "text": [
            "(66071, 172)\n"
          ],
          "name": "stdout"
        }
      ]
    },
    {
      "cell_type": "code",
      "metadata": {
        "id": "u7QHo4X7RRnM",
        "colab_type": "code",
        "outputId": "cf73223c-5b4b-407e-f3a1-fce91d6f701d",
        "colab": {
          "base_uri": "https://localhost:8080/",
          "height": 34
        }
      },
      "source": [
        "train_Y2_list = pickle.load(open(pickletraindata_Y2, 'rb' ))\n",
        "train_Y2 = np.array(train_Y2_list)\n",
        "\n",
        "for index in range(train_Y2.shape[0]):\n",
        "  templist = train_Y2[index]\n",
        "  templist_0 = [0 if x==-1 else x for x in templist]\n",
        "  train_Y2[index] = templist_0\n",
        "\n",
        "print(train_Y2.shape)"
      ],
      "execution_count": 6,
      "outputs": [
        {
          "output_type": "stream",
          "text": [
            "(66071, 353)\n"
          ],
          "name": "stdout"
        }
      ]
    },
    {
      "cell_type": "code",
      "metadata": {
        "id": "bk3orKueRbdx",
        "colab_type": "code",
        "outputId": "492e8ccc-a9e2-4c5e-bfbd-a2e1e9efb8c4",
        "colab": {
          "base_uri": "https://localhost:8080/",
          "height": 34
        }
      },
      "source": [
        "val_Y1_list = pickle.load(open(picklevaldata_Y1, 'rb' ))\n",
        "val_Y1 = np.array(val_Y1_list)\n",
        "print(val_Y1.shape)"
      ],
      "execution_count": 7,
      "outputs": [
        {
          "output_type": "stream",
          "text": [
            "(11016, 172)\n"
          ],
          "name": "stdout"
        }
      ]
    },
    {
      "cell_type": "code",
      "metadata": {
        "id": "keJhEX9BRgaZ",
        "colab_type": "code",
        "outputId": "7b9e07e8-0aef-49c6-9362-83cddbdccea3",
        "colab": {
          "base_uri": "https://localhost:8080/",
          "height": 34
        }
      },
      "source": [
        "val_Y2_list = pickle.load(open(picklevaldata_Y2, 'rb' ))\n",
        "val_Y2 = np.array(val_Y2_list)\n",
        "\n",
        "for index in range(val_Y2.shape[0]):\n",
        "  templist = val_Y2[index]\n",
        "  templist_0 = [0 if x==-1 else x for x in templist]\n",
        "  val_Y2[index] = templist_0\n",
        "  \n",
        "print(val_Y2.shape)"
      ],
      "execution_count": 8,
      "outputs": [
        {
          "output_type": "stream",
          "text": [
            "(11016, 353)\n"
          ],
          "name": "stdout"
        }
      ]
    },
    {
      "cell_type": "code",
      "metadata": {
        "id": "-aE-Q8SH8xiF",
        "colab_type": "code",
        "outputId": "6bb89cc8-4da7-4145-9822-3eb84f1cd7a4",
        "colab": {
          "base_uri": "https://localhost:8080/",
          "height": 50
        }
      },
      "source": [
        "# Loading test_Y1\n",
        "\n",
        "test_Y1_list = pickle.load(open(pickletestdata_Y1, 'rb' ))\n",
        "test_Y1 = np.array(test_Y1_list)\n",
        "print(test_Y1.shape)\n",
        "\n",
        "test_Y3 = pickle.load(open(pickletestdata_Y3,\"rb\"))\n",
        "# Loading test_Y2\n",
        "\n",
        "test_Y2_list = pickle.load(open(pickletestdata_Y2, 'rb' ))\n",
        "test_Y2 = np.array(test_Y2_list)\n",
        "\n",
        "for index in range(test_Y2.shape[0]):\n",
        "  templist = test_Y2[index]\n",
        "  templist_0 = [0 if x==-1 else x for x in templist]\n",
        "  test_Y2[index] = templist_0\n",
        "  \n",
        "print(test_Y2.shape)"
      ],
      "execution_count": 9,
      "outputs": [
        {
          "output_type": "stream",
          "text": [
            "(33154, 172)\n",
            "(33154, 353)\n"
          ],
          "name": "stdout"
        }
      ]
    },
    {
      "cell_type": "code",
      "metadata": {
        "id": "Wai3yhIkNf88",
        "colab_type": "code",
        "colab": {}
      },
      "source": [
        "train_Y3 = pickle.load(open(pickletraindata_Y3,\"rb\"))\n",
        "val_Y3 = pickle.load(open(picklevaldata_Y3,\"rb\"))\n"
      ],
      "execution_count": 0,
      "outputs": []
    },
    {
      "cell_type": "code",
      "metadata": {
        "id": "CKoPCzTjW4vW",
        "colab_type": "code",
        "colab": {}
      },
      "source": [
        "# Reading the image data X,extracting features from it using VGG16 and persisting the consolidated list of features as pickle file\n",
        "\n",
        "file = open(trainlistpath,\"r\")\n",
        "featurelist = []\n",
        "new_train_Y1 = []\n",
        "new_train_Y2 = []\n",
        "new_train_Y3 = []\n",
        "count = 0\n",
        "new_count = 0\n",
        "model = VGG16(weights='imagenet', include_top=False)\n",
        "# create image data augmentation generator\n",
        "datagen = ImageDataGenerator(rotation_range=360)\n",
        "for filename in file:\n",
        "    count = count +1\n",
        "    print(count)\n",
        "    path = datadirpath + filename.strip()\n",
        "    img = load_img(path, target_size=(224 , 224))\n",
        "    #print(\"******type:\",type(img))\n",
        "    x = image.img_to_array(img)\n",
        "    samples = expand_dims(x, 0)\n",
        "    # prepare iterator\n",
        "    it = datagen.flow(samples, batch_size=1)\n",
        "    #print(train_Y3[count])\n",
        "    if train_Y3[count]==0:\n",
        "      for i in range(5):\n",
        "          # define subplot\n",
        "          pyplot.subplot(330 + 1 + i)\n",
        "          # generate batch of images\n",
        "          batch = it.next()\n",
        "          # convert to unsigned integers for viewing\n",
        "          img = batch[0].astype('uint8')\n",
        "          # plot raw pixel data\n",
        "          #pyplot.imshow(img)\n",
        "          x = image.img_to_array(img)\n",
        "          samples = expand_dims(x, 0)\n",
        "          x = preprocess_input(samples)\n",
        "          features = model.predict(x)\n",
        "          featurelist.append(features)\n",
        "          new_train_Y1.append(train_Y1[count])\n",
        "          new_train_Y2.append(train_Y2[count])\n",
        "          new_train_Y3.append(train_Y3[count])\n",
        "\n",
        "    else:\n",
        "        x = preprocess_input(samples)\n",
        "        features = model.predict(x)\n",
        "        featurelist.append(features)\n",
        "        new_train_Y1.append(train_Y1[count])\n",
        "        new_train_Y2.append(train_Y2[count])\n",
        "        new_train_Y3.append(train_Y3[count])\n",
        "    # show the figure\n",
        "    #pyplot.show()\n",
        "    \n",
        "    if count%5000==0:\n",
        "      \n",
        "      pickle.dump(featurelist,open(pickletraindata_X_new+str(count)+\".pkl\",\"wb\"))\n",
        "      pickle.dump(new_train_Y1,open(pickletraindata_Y1_new+str(count)+\".pkl\",\"wb\"))\n",
        "      pickle.dump(new_train_Y2,open(pickletraindata_Y2_new+str(count)+\".pkl\",\"wb\"))\n",
        "      pickle.dump(new_train_Y3,open(pickletraindata_Y3_new+str(count)+\".pkl\",\"wb\"))\n",
        "      featurelist = []\n",
        "      new_train_Y1 = []\n",
        "      new_train_Y2 = []\n",
        "      new_train_Y3 = []\n",
        "\n",
        "#pickle.dump(featurelist, open(pickletraindata_X_new, 'wb'))"
      ],
      "execution_count": 0,
      "outputs": []
    },
    {
      "cell_type": "code",
      "metadata": {
        "id": "YFXweaUzdty9",
        "colab_type": "code",
        "outputId": "6b65f4e9-6beb-4607-9332-c7f28a44c056",
        "colab": {
          "base_uri": "https://localhost:8080/",
          "height": 34
        }
      },
      "source": [
        "len(featurelist),len(new_train_Y1),len(new_train_Y2),len(new_train_Y3)"
      ],
      "execution_count": 0,
      "outputs": [
        {
          "output_type": "execute_result",
          "data": {
            "text/plain": [
              "(4969, 4969, 4969, 4969)"
            ]
          },
          "metadata": {
            "tags": []
          },
          "execution_count": 21
        }
      ]
    },
    {
      "cell_type": "code",
      "metadata": {
        "id": "76sGv_mKgNu9",
        "colab_type": "code",
        "colab": {}
      },
      "source": [
        "pickle.dump(featurelist,open(pickletraindata_X_new+str(count)+\".pkl\",\"wb\"))\n",
        "pickle.dump(new_train_Y1,open(pickletraindata_Y1_new+str(count)+\".pkl\",\"wb\"))\n",
        "pickle.dump(new_train_Y2,open(pickletraindata_Y2_new+str(count)+\".pkl\",\"wb\"))\n",
        "pickle.dump(new_train_Y3,open(pickletraindata_Y3_new+str(count)+\".pkl\",\"wb\"))"
      ],
      "execution_count": 0,
      "outputs": []
    }
  ]
}